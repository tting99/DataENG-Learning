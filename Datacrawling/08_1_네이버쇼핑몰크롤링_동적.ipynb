{
 "cells": [
  {
   "cell_type": "code",
   "execution_count": 1,
   "id": "7ad06cb7",
   "metadata": {},
   "outputs": [],
   "source": [
    "from selenium import webdriver\n",
    "from selenium.webdriver.common.keys import Keys\n",
    "import time\n",
    "import selenium\n",
    "from selenium import webdriver\n",
    "import pandas as pd\n",
    "import numpy as np\n",
    "from bs4 import BeautifulSoup\n",
    "from selenium.webdriver.common.by import By # 셀레니움 4.0부터 포함된 함수(필수)\n",
    "from selenium.webdriver.chrome.service import Service"
   ]
  },
  {
   "cell_type": "code",
   "execution_count": 2,
   "id": "c79c6b44",
   "metadata": {},
   "outputs": [],
   "source": [
    "# 웹 드라이버 생성 함수 구현\n",
    "def create_driver() :\n",
    "    service=Service()\n",
    "    options=webdriver.ChromeOptions()\n",
    "    driver=webdriver.Chrome(service=service, options=options)\n",
    "    return driver"
   ]
  },
  {
   "cell_type": "code",
   "execution_count": 3,
   "id": "123d3bf9",
   "metadata": {},
   "outputs": [],
   "source": [
    "driver=create_driver()"
   ]
  },
  {
   "cell_type": "code",
   "execution_count": 4,
   "id": "882ff64c",
   "metadata": {},
   "outputs": [],
   "source": [
    "# 보통 동적으로 브라우저 핸들링 할때 약간의 지연이 있을 수 있으므로 기라리는것이 일반적\n",
    "driver.get('https://www.naver.com')\n",
    "driver.implicitly_wait(2)"
   ]
  },
  {
   "cell_type": "code",
   "execution_count": 5,
   "id": "7ebd449c",
   "metadata": {},
   "outputs": [],
   "source": [
    "# 네이버사이트는 창 크기에 따라 다른 표현을 진행함:소스코드도 달라짐\n",
    "# 창크기는 고정해놓고 크롤링 하는것이 좋음\n",
    "# max 크기로 브라우저 크기 설정\n",
    "driver.maximize_window()"
   ]
  },
  {
   "cell_type": "code",
   "execution_count": 7,
   "id": "b45f4403",
   "metadata": {},
   "outputs": [],
   "source": [
    "# 쇼핑메뉴 객체를 지칭하는 css selector\n",
    "sel = '#shortcutArea > ul > li:nth-child(4) > a'"
   ]
  },
  {
   "cell_type": "code",
   "execution_count": 8,
   "id": "68d43da9",
   "metadata": {},
   "outputs": [],
   "source": [
    "# 쇼핑메뉴 클릭\n",
    "driver.find_element(By.CSS_SELECTOR,sel).click()"
   ]
  },
  {
   "cell_type": "markdown",
   "id": "2251b44d",
   "metadata": {},
   "source": [
    "#### 클릭을 통해서 쇼핑페이지로 들어가면 브라우저 탭(윈도우)이 하나 더 열림\n",
    "#### driver가 핸들링 할 수 있는 창이 2개가 됨\n",
    "#### 기본 창은 첫번째 접속했던 네이버사이트 창임\n",
    "- 현재 드라이버의 활성창을 쇼핑으로 변경해야 함"
   ]
  },
  {
   "cell_type": "code",
   "execution_count": 9,
   "id": "1f091f96",
   "metadata": {},
   "outputs": [
    {
     "name": "stdout",
     "output_type": "stream",
     "text": [
      "['7700B1B659131B86070B528B8CA5766D', 'D1F483DDD05FFD3CF635DE38A2675233']\n"
     ]
    }
   ],
   "source": [
    "print(driver.window_handles)\n",
    "# 결과 리스트의 0번 index가 제일 먼저 열린 탭\n",
    "# 쇼핑은 1번 index"
   ]
  },
  {
   "cell_type": "code",
   "execution_count": 10,
   "id": "d4c374a8",
   "metadata": {},
   "outputs": [],
   "source": [
    "# 현재 driver의 활성 탭을 변경\n",
    "driver.switch_to.window(driver.window_handles[1])"
   ]
  },
  {
   "cell_type": "code",
   "execution_count": 11,
   "id": "5eda5be4",
   "metadata": {},
   "outputs": [],
   "source": [
    "sel = '#gnb-gnb > div._gnb_header_area_150KE > div > div._gnbLogo_gnb_logo_3eIAf > div > div._gnbSearch_gnb_search_3O1L2 > form > div._gnbSearch_inner_2Zksb > div > input'\n",
    "sel2='._gnbSearch_inner_2Zksb > div > input'"
   ]
  },
  {
   "cell_type": "code",
   "execution_count": 14,
   "id": "5d786b18",
   "metadata": {},
   "outputs": [],
   "source": [
    "search=driver.find_element(By.CSS_SELECTOR,sel2)\n",
    "search.send_keys('아이폰13')"
   ]
  },
  {
   "cell_type": "code",
   "execution_count": 15,
   "id": "cc9edf04",
   "metadata": {},
   "outputs": [],
   "source": [
    "# enter키 전송을 하면 클릭과 같은 효과가 나타남\n",
    "# from selenium.webdriver.common.keys import Keys : Keys 클래스는 키보드 키값을 상수로 저장하고 있음\n",
    "# Keys.ENTER : 키보드의 엔터키값\n",
    "search.send_keys(Keys.ENTER)"
   ]
  },
  {
   "cell_type": "markdown",
   "id": "a129df7e",
   "metadata": {},
   "source": [
    "#### 스크롤을 최대로 진행해서 현재 페이지에서 디스플레이 되는 모든 제품을 전부 표현\n",
    "- 현재 페이지에 대해서 전송된 모든 제품에 대하여 동일 소스코드로 생성하기 위함\n",
    "- 스크롤과 관련된 자바스크립트 코드 사용\n",
    "- 스크립트 객체 window : 브라우저 탭의 프레임을 포함\n",
    "    - window.scrollY : 브라우저탭의 yscroll의 현재 위치를 저장하고 있는 java script 속성"
   ]
  },
  {
   "cell_type": "code",
   "execution_count": 18,
   "id": "72056b64",
   "metadata": {},
   "outputs": [],
   "source": [
    "# 탭안의 스크롤바의 현재 위치를 저장\n",
    "before_h = driver.execute_script('return window.scrollY')"
   ]
  },
  {
   "cell_type": "code",
   "execution_count": 19,
   "id": "e35326cf",
   "metadata": {},
   "outputs": [
    {
     "name": "stdout",
     "output_type": "stream",
     "text": [
      "1612\n",
      "3764\n",
      "5908\n",
      "7854\n",
      "9697\n",
      "9866\n",
      "9866\n"
     ]
    }
   ],
   "source": [
    "# 무한 스크롤 : 키보드의 End키는 스크롤을 진행함\n",
    "# END키는 현재 창의 가장 끝으로 내려감\n",
    "# 숨겨진 창까지 모두 내려가도록 무한스크롤 진행\n",
    "while True : \n",
    "    # 창의 가장 아래로 스크롤 내림, 스크롤이 창 바닦에 닿으면 새로운 창이 확장됨\n",
    "    driver.find_element(By.CSS_SELECTOR,\"body\").send_keys(Keys.END)\n",
    "    # 스크롤 사이 페이지 로딩시간 대기\n",
    "    time.sleep(1)\n",
    "    # 스크롤 후 높이\n",
    "    after_h = driver.execute_script('return window.scrollY')\n",
    "    print(after_h)\n",
    "    if after_h==before_h:\n",
    "        break\n",
    "    before_h = after_h"
   ]
  },
  {
   "cell_type": "code",
   "execution_count": 20,
   "id": "c6125571",
   "metadata": {},
   "outputs": [
    {
     "name": "stdout",
     "output_type": "stream",
     "text": [
      "46\n"
     ]
    }
   ],
   "source": [
    "sel = '#content > div.style_content__xWg5l > div.basicList_list_basis__uNBZx > div > div'\n",
    "sel2 = 'div.basicList_list_basis__uNBZx > div > div'\n",
    "items=driver.find_elements(By.CSS_SELECTOR,sel2)\n",
    "print(len(items))"
   ]
  },
  {
   "cell_type": "code",
   "execution_count": 21,
   "id": "041fd277",
   "metadata": {},
   "outputs": [
    {
     "data": {
      "text/plain": [
       "'<div class=\"product_item__MDtDF\"><div class=\"product_inner__gr8QR\"><div class=\"product_img_area__cUrko\"><div class=\"thumbnail_thumb_wrap__RbcYO _wrapper\"><a target=\"_blank\" rel=\"noopener\" class=\"thumbnail_thumb__Bxb6Z linkAnchor\" data-nclick=\"N=a:lst*C.image,r:15,i:29029192586\" data-i=\"29029192586\" data-ms=\"0\" href=\"https://cr.shopping.naver.com/adcr.nhn?x=uIZpY%2BHte3Ix6BIf3o0Vj%2F%2F%2F%2Fw%3D%3DsT9Lq6xfD6nUSuzLvmevpzEm1kV9eo5X6zTn%2FFGstfrJN4NgkrPIjlczCBjhk2dSMY9bOhLtB3mMizrQOC0Pm56dcvfdl93VC71t8WUudX5WDfUP3whulDFunP657F3PQsQxI0r%2BbPmFsVWLl0g7V3Mv%2BjB2erv%2BZ%2Brrs5VHOiTQgGE7%2BZatKjf5hEf1XctkKwzZoEE1irv0jVFjUiTpIZJbkCnZt3PKDnGtnPfTpWXV9gLRMuJH34gK%2BdKxxm2wLfHX%2FKvLeMRhy2z4sWQA%2F16sJF1TG8DXvuOXRWh2aiSE1QmeK3ZPITzKHcbEnR%2BI8mXpE%2FWYm5Ai0tHt21rYEpkBFUYfhI7uH5Fgl4yiCwH3Ye9CsbWrnsboog%2B94RL%2FI0Xaie43S1ci44hGLx1E05YPk2vryFU100lCcPyTJO%2BBFx37WIyrziE4Ps6WrDu%2FET9Lvfhn9NmZebq06Rt58vUK94HazsIJk%2FjsIwcFBS2bPU6pntGCurhu%2FV8uonTYh5X6MB3JdbnBohOi8QY2mskVuBY5V8KvlWSxQpSde83U81Gi44tUFH1uRUKbnASPQezdPirNIEhU3YcDKwV2g5K6QNQ9yt4scyrUny9Y4h26y5o2wVXHl6Nqb%2FoiWMPZUQdAiJdwXirBRdnaxfvrBbw%3D%3D&amp;nvMid=29029192586&amp;catId=50001519\"><img width=\"140\" height=\"140\" alt=\"아이폰 13 프로 맥스 512GB [자급제]\" src=\"https://shopping-phinf.pstatic.net/main_2902919/29029192586.20220317103426.jpg?type=f140\"></a><div class=\"thumbnail_btn_box____IiP\"><div class=\"thumbnail_btn__3Gjg1\"><button type=\"button\" class=\"thumbnail_save__yu3R_\" data-nclick=\"N=a:lst*C.put\"><span class=\"thumbnail_layer_info__r_5dH\">담기</span></button><div class=\"thumbnail_layer_info__r_5dH\"><div class=\"thumbnail_link_box__fhsB8\"><a href=\"#\" class=\"thumbnail_link__i3ShY\" data-nclick=\"N=a:lst*C.putblog\">내 블로그에 담기</a><a href=\"#\" class=\"thumbnail_link__i3ShY\" data-nclick=\"N=a:lst*C.putcafe\">카페에 담기</a></div></div></div></div></div></div><div class=\"product_info_area__xxCTi\"><div class=\"product_title__Mmw2K\"><a target=\"_blank\" rel=\"noopener\" class=\"product_link__TrAac linkAnchor\" title=\"아이폰 13 프로 맥스 512GB [자급제]\" data-nclick=\"N=a:lst*C.title,i:29029192586,r:15\" data-i=\"29029192586\" data-ms=\"0\" href=\"https://cr.shopping.naver.com/adcr.nhn?x=uIZpY%2BHte3Ix6BIf3o0Vj%2F%2F%2F%2Fw%3D%3DsT9Lq6xfD6nUSuzLvmevpzEm1kV9eo5X6zTn%2FFGstfrJN4NgkrPIjlczCBjhk2dSMY9bOhLtB3mMizrQOC0Pm56dcvfdl93VC71t8WUudX5WDfUP3whulDFunP657F3PQsQxI0r%2BbPmFsVWLl0g7V3Mv%2BjB2erv%2BZ%2Brrs5VHOiTQgGE7%2BZatKjf5hEf1XctkKwzZoEE1irv0jVFjUiTpIZJbkCnZt3PKDnGtnPfTpWXV9gLRMuJH34gK%2BdKxxm2wLfHX%2FKvLeMRhy2z4sWQA%2F16sJF1TG8DXvuOXRWh2aiSE1QmeK3ZPITzKHcbEnR%2BI8mXpE%2FWYm5Ai0tHt21rYEpkBFUYfhI7uH5Fgl4yiCwH3Ye9CsbWrnsboog%2B94RL%2FI0Xaie43S1ci44hGLx1E05YPk2vryFU100lCcPyTJO%2BBFx37WIyrziE4Ps6WrDu%2FET9Lvfhn9NmZebq06Rt58vUK94HazsIJk%2FjsIwcFBS2bPU6pntGCurhu%2FV8uonTYh5X6MB3JdbnBohOi8QY2mskVuBY5V8KvlWSxQpSde83U81Gi44tUFH1uRUKbnASPQezdPirNIEhU3YcDKwV2g5K6QNQ9yt4scyrUny9Y4h26y5o2wVXHl6Nqb%2FoiWMPZUQdAiJdwXirBRdnaxfvrBbw%3D%3D&amp;nvMid=29029192586&amp;catId=50001519\">아이폰 13 프로 맥스 512GB [자급제]</a></div><div class=\"product_price_area__eTg7I\"><strong class=\"product_price__52oO9\"><span class=\"price\"><span class=\"price_low__y_ZUj\">최저</span><span class=\"price_num__S2p_v\"><em>1,932,000</em>원</span></span><a target=\"_blank\" rel=\"noopener\" class=\"product_compare__Kfwlg linkAnchor\" data-nclick=\"N=a:lst*C.compare,i:29029192586,r:15\" data-i=\"29029192586\" data-ms=\"0\" href=\"https://cr.shopping.naver.com/adcr.nhn?x=uIZpY%2BHte3Ix6BIf3o0Vj%2F%2F%2F%2Fw%3D%3DsT9Lq6xfD6nUSuzLvmevpzEm1kV9eo5X6zTn%2FFGstfrJN4NgkrPIjlczCBjhk2dSMY9bOhLtB3mMizrQOC0Pm56dcvfdl93VC71t8WUudX5WDfUP3whulDFunP657F3PQsQxI0r%2BbPmFsVWLl0g7V3Mv%2BjB2erv%2BZ%2Brrs5VHOiTQgGE7%2BZatKjf5hEf1XctkKwzZoEE1irv0jVFjUiTpIZJbkCnZt3PKDnGtnPfTpWXV9gLRMuJH34gK%2BdKxxm2wLfHX%2FKvLeMRhy2z4sWQA%2F16sJF1TG8DXvuOXRWh2aiSE1QmeK3ZPITzKHcbEnR%2BI8mXpE%2FWYm5Ai0tHt21rYEpkBFUYfhI7uH5Fgl4yiCwH3Ye9CsbWrnsboog%2B94RL%2FI0Xaie43S1ci44hGLx1E05YPk2vryFU100lCcPyTJO%2BBFx37WIyrziE4Ps6WrDu%2FET9Lvfhn9NmZebq06Rt58vUK94HazsIJk%2FjsIwcFBS2bPU6pntGCurhu%2FV8uonTYh5X6MB3JdbnBohOi8QY2mskVuBY5V8KvlWSxQpSde83U81Gi44tUFH1uRUKbnASPQezdPirNIEhU3YcDKwV2g5K6QNQ9yt4scyrUny9Y4h26y5o2wVXHl6Nqb%2FoiWMPZUQdAiJdwXirBRdnaxfvrBbw%3D%3D&amp;nvMid=29029192586&amp;catId=50001519\">판매처 7</a></strong></div><div class=\"product_depth__I4SqY\"><span class=\"product_category__l4FWz product_nohover__Z0Muw\">디지털/가전</span><span class=\"product_category__l4FWz product_nohover__Z0Muw\">휴대폰</span><span class=\"product_category__l4FWz product_nohover__Z0Muw\">자급제폰</span></div><div class=\"product_desc__m2mVJ\"><div class=\"product_detail_box__QjZP8\"><a rel=\"noopener\" class=\"product_detail__oWDMs linkAnchor\" data-i=\"29029192586\" data-ms=\"0\" href=\"/search/all?query=%EC%95%84%EC%9D%B4%ED%8F%B013&amp;cat_id=&amp;frm=NVSHATC#\">화면크기 : 17cm(6.7인치)</a><a rel=\"noopener\" class=\"product_detail__oWDMs product_bar__dHjkA linkAnchor\" data-i=\"29029192586\" data-ms=\"0\" href=\"/search/all?query=%EC%95%84%EC%9D%B4%ED%8F%B013&amp;cat_id=&amp;frm=NVSHATC#\">통신규격 : 5G+LTE</a><a rel=\"noopener\" class=\"product_detail__oWDMs product_bar__dHjkA linkAnchor\" data-i=\"29029192586\" data-ms=\"0\" href=\"/search/all?query=%EC%95%84%EC%9D%B4%ED%8F%B013&amp;cat_id=&amp;frm=NVSHATC#\">내장메모리 : 512GB</a><a rel=\"noopener\" class=\"product_detail__oWDMs product_bar__dHjkA linkAnchor\" data-i=\"29029192586\" data-ms=\"0\" href=\"/search/all?query=%EC%95%84%EC%9D%B4%ED%8F%B013&amp;cat_id=&amp;frm=NVSHATC#\">램(RAM) : 6GB</a><a rel=\"noopener\" class=\"product_detail__oWDMs product_bar__dHjkA linkAnchor\" data-i=\"29029192586\" data-ms=\"0\" href=\"/search/all?query=%EC%95%84%EC%9D%B4%ED%8F%B013&amp;cat_id=&amp;frm=NVSHATC#\">해상도 : 2778x1284</a><a rel=\"noopener\" class=\"product_detail__oWDMs product_bar__dHjkA linkAnchor\" data-i=\"29029192586\" data-ms=\"0\" href=\"/search/all?query=%EC%95%84%EC%9D%B4%ED%8F%B013&amp;cat_id=&amp;frm=NVSHATC#\">블루투스버전 : 블루투스5.0LE</a><a rel=\"noopener\" class=\"product_detail__oWDMs product_bar__dHjkA linkAnchor\" data-i=\"29029192586\" data-ms=\"0\" href=\"/search/all?query=%EC%95%84%EC%9D%B4%ED%8F%B013&amp;cat_id=&amp;frm=NVSHATC#\">동영상 : 파노라마</a>, <a rel=\"noopener\" class=\"product_detail__oWDMs linkAnchor\" data-i=\"29029192586\" data-ms=\"0\" href=\"/search/all?query=%EC%95%84%EC%9D%B4%ED%8F%B013&amp;cat_id=&amp;frm=NVSHATC#\">연속</a>, <a rel=\"noopener\" class=\"product_detail__oWDMs linkAnchor\" data-i=\"29029192586\" data-ms=\"0\" href=\"/search/all?query=%EC%95%84%EC%9D%B4%ED%8F%B013&amp;cat_id=&amp;frm=NVSHATC#\">야간</a>, <a rel=\"noopener\" class=\"product_detail__oWDMs linkAnchor\" data-i=\"29029192586\" data-ms=\"0\" href=\"/search/all?query=%EC%95%84%EC%9D%B4%ED%8F%B013&amp;cat_id=&amp;frm=NVSHATC#\">슬로모션</a>, <a rel=\"noopener\" class=\"product_detail__oWDMs linkAnchor\" data-i=\"29029192586\" data-ms=\"0\" href=\"/search/all?query=%EC%95%84%EC%9D%B4%ED%8F%B013&amp;cat_id=&amp;frm=NVSHATC#\">라이브포토</a>, <a rel=\"noopener\" class=\"product_detail__oWDMs linkAnchor\" data-i=\"29029192586\" data-ms=\"0\" href=\"/search/all?query=%EC%95%84%EC%9D%B4%ED%8F%B013&amp;cat_id=&amp;frm=NVSHATC#\">아웃포커스</a>, <a rel=\"noopener\" class=\"product_detail__oWDMs linkAnchor\" data-i=\"29029192586\" data-ms=\"0\" href=\"/search/all?query=%EC%95%84%EC%9D%B4%ED%8F%B013&amp;cat_id=&amp;frm=NVSHATC#\">자동초점</a>, <a rel=\"noopener\" class=\"product_detail__oWDMs linkAnchor\" data-i=\"29029192586\" data-ms=\"0\" href=\"/search/all?query=%EC%95%84%EC%9D%B4%ED%8F%B013&amp;cat_id=&amp;frm=NVSHATC#\">Full-HD동영상</a>, <a rel=\"noopener\" class=\"product_detail__oWDMs linkAnchor\" data-i=\"29029192586\" data-ms=\"0\" href=\"/search/all?query=%EC%95%84%EC%9D%B4%ED%8F%B013&amp;cat_id=&amp;frm=NVSHATC#\">4K UHD동영상</a>, <a rel=\"noopener\" class=\"product_detail__oWDMs linkAnchor\" data-i=\"29029192586\" data-ms=\"0\" href=\"/search/all?query=%EC%95%84%EC%9D%B4%ED%8F%B013&amp;cat_id=&amp;frm=NVSHATC#\">광학식손떨림보정(OIS)</a><a rel=\"noopener\" class=\"product_detail__oWDMs product_bar__dHjkA linkAnchor\" data-i=\"29029192586\" data-ms=\"0\" href=\"/search/all?query=%EC%95%84%EC%9D%B4%ED%8F%B013&amp;cat_id=&amp;frm=NVSHATC#\">후면카메라화소 : 트리플후면(1,200만+1,200만+1,200만)</a><a rel=\"noopener\" class=\"product_detail__oWDMs product_bar__dHjkA linkAnchor\" data-i=\"29029192586\" data-ms=\"0\" href=\"/search/all?query=%EC%95%84%EC%9D%B4%ED%8F%B013&amp;cat_id=&amp;frm=NVSHATC#\">전면카메라화소 : 전면(1200만)</a><a rel=\"noopener\" class=\"product_detail__oWDMs product_bar__dHjkA linkAnchor\" data-i=\"29029192586\" data-ms=\"0\" href=\"/search/all?query=%EC%95%84%EC%9D%B4%ED%8F%B013&amp;cat_id=&amp;frm=NVSHATC#\">화소밀도 : 458ppi</a><a rel=\"noopener\" class=\"product_detail__oWDMs product_bar__dHjkA linkAnchor\" data-i=\"29029192586\" data-ms=\"0\" href=\"/search/all?query=%EC%95%84%EC%9D%B4%ED%8F%B013&amp;cat_id=&amp;frm=NVSHATC#\">화면밝기 : 1000nit</a><a rel=\"noopener\" class=\"product_detail__oWDMs product_bar__dHjkA linkAnchor\" data-i=\"29029192586\" data-ms=\"0\" href=\"/search/all?query=%EC%95%84%EC%9D%B4%ED%8F%B013&amp;cat_id=&amp;frm=NVSHATC#\">화면비율 : 19.5:9</a><a rel=\"noopener\" class=\"product_detail__oWDMs product_bar__dHjkA linkAnchor\" data-i=\"29029192586\" data-ms=\"0\" href=\"/search/all?query=%EC%95%84%EC%9D%B4%ED%8F%B013&amp;cat_id=&amp;frm=NVSHATC#\">화면종류 : 슈퍼레티나 XDR OLED</a><a rel=\"noopener\" class=\"product_detail__oWDMs product_bar__dHjkA linkAnchor\" data-i=\"29029192586\" data-ms=\"0\" href=\"/search/all?query=%EC%95%84%EC%9D%B4%ED%8F%B013&amp;cat_id=&amp;frm=NVSHATC#\">CPU 클럭 : 3.22GHz</a><a rel=\"noopener\" class=\"product_detail__oWDMs product_bar__dHjkA linkAnchor\" data-i=\"29029192586\" data-ms=\"0\" href=\"/search/all?query=%EC%95%84%EC%9D%B4%ED%8F%B013&amp;cat_id=&amp;frm=NVSHATC#\">CPU 코어 : 헥사코어</a><a rel=\"noopener\" class=\"product_detail__oWDMs product_bar__dHjkA linkAnchor\" data-i=\"29029192586\" data-ms=\"0\" href=\"/search/all?query=%EC%95%84%EC%9D%B4%ED%8F%B013&amp;cat_id=&amp;frm=NVSHATC#\">CPU 모델명 : 애플A15</a><a rel=\"noopener\" class=\"product_detail__oWDMs product_bar__dHjkA linkAnchor\" data-i=\"29029192586\" data-ms=\"0\" href=\"/search/all?query=%EC%95%84%EC%9D%B4%ED%8F%B013&amp;cat_id=&amp;frm=NVSHATC#\">품목 : 스마트폰</a><a rel=\"noopener\" class=\"product_detail__oWDMs product_bar__dHjkA linkAnchor\" data-i=\"29029192586\" data-ms=\"0\" href=\"/search/all?query=%EC%95%84%EC%9D%B4%ED%8F%B013&amp;cat_id=&amp;frm=NVSHATC#\">두께 : 7.65mm</a><a rel=\"noopener\" class=\"product_detail__oWDMs product_bar__dHjkA linkAnchor\" data-i=\"29029192586\" data-ms=\"0\" href=\"/search/all?query=%EC%95%84%EC%9D%B4%ED%8F%B013&amp;cat_id=&amp;frm=NVSHATC#\">무게 : 238g</a><a rel=\"noopener\" class=\"product_detail__oWDMs product_bar__dHjkA linkAnchor\" data-i=\"29029192586\" data-ms=\"0\" href=\"/search/all?query=%EC%95%84%EC%9D%B4%ED%8F%B013&amp;cat_id=&amp;frm=NVSHATC#\">배터리(일체형) : 4352mAh</a><a rel=\"noopener\" class=\"product_detail__oWDMs product_bar__dHjkA linkAnchor\" data-i=\"29029192586\" data-ms=\"0\" href=\"/search/all?query=%EC%95%84%EC%9D%B4%ED%8F%B013&amp;cat_id=&amp;frm=NVSHATC#\">단자 : 라이트닝</a>, <a rel=\"noopener\" class=\"product_detail__oWDMs linkAnchor\" data-i=\"29029192586\" data-ms=\"0\" href=\"/search/all?query=%EC%95%84%EC%9D%B4%ED%8F%B013&amp;cat_id=&amp;frm=NVSHATC#\">3.5mm이어폰단자없음</a><a rel=\"noopener\" class=\"product_detail__oWDMs product_bar__dHjkA linkAnchor\" data-i=\"29029192586\" data-ms=\"0\" href=\"/search/all?query=%EC%95%84%EC%9D%B4%ED%8F%B013&amp;cat_id=&amp;frm=NVSHATC#\">보안기능 : 페이스ID(얼굴인식)</a><a rel=\"noopener\" class=\"product_detail__oWDMs product_bar__dHjkA linkAnchor\" data-i=\"29029192586\" data-ms=\"0\" href=\"/search/all?query=%EC%95%84%EC%9D%B4%ED%8F%B013&amp;cat_id=&amp;frm=NVSHATC#\">부가기능 : 기가WiFi(듀얼밴드)</a>, <a rel=\"noopener\" class=\"product_detail__oWDMs linkAnchor\" data-i=\"29029192586\" data-ms=\"0\" href=\"/search/all?query=%EC%95%84%EC%9D%B4%ED%8F%B013&amp;cat_id=&amp;frm=NVSHATC#\">NFC</a>, <a rel=\"noopener\" class=\"product_detail__oWDMs linkAnchor\" data-i=\"29029192586\" data-ms=\"0\" href=\"/search/all?query=%EC%95%84%EC%9D%B4%ED%8F%B013&amp;cat_id=&amp;frm=NVSHATC#\">애플페이</a><a rel=\"noopener\" class=\"product_detail__oWDMs product_bar__dHjkA linkAnchor\" data-i=\"29029192586\" data-ms=\"0\" href=\"/search/all?query=%EC%95%84%EC%9D%B4%ED%8F%B013&amp;cat_id=&amp;frm=NVSHATC#\">아이폰기능 : 애니모티콘</a>, <a rel=\"noopener\" class=\"product_detail__oWDMs linkAnchor\" data-i=\"29029192586\" data-ms=\"0\" href=\"/search/all?query=%EC%95%84%EC%9D%B4%ED%8F%B013&amp;cat_id=&amp;frm=NVSHATC#\">트루뎁스카메라</a>, <a rel=\"noopener\" class=\"product_detail__oWDMs linkAnchor\" data-i=\"29029192586\" data-ms=\"0\" href=\"/search/all?query=%EC%95%84%EC%9D%B4%ED%8F%B013&amp;cat_id=&amp;frm=NVSHATC#\">페이스타임HD</a>, <a rel=\"noopener\" class=\"product_detail__oWDMs linkAnchor\" data-i=\"29029192586\" data-ms=\"0\" href=\"/search/all?query=%EC%95%84%EC%9D%B4%ED%8F%B013&amp;cat_id=&amp;frm=NVSHATC#\">애플앱스토어</a>, <a rel=\"noopener\" class=\"product_detail__oWDMs linkAnchor\" data-i=\"29029192586\" data-ms=\"0\" href=\"/search/all?query=%EC%95%84%EC%9D%B4%ED%8F%B013&amp;cat_id=&amp;frm=NVSHATC#\">아이메시지</a>, <a rel=\"noopener\" class=\"product_detail__oWDMs linkAnchor\" data-i=\"29029192586\" data-ms=\"0\" href=\"/search/all?query=%EC%95%84%EC%9D%B4%ED%8F%B013&amp;cat_id=&amp;frm=NVSHATC#\">아이클라우드</a>, <a rel=\"noopener\" class=\"product_detail__oWDMs linkAnchor\" data-i=\"29029192586\" data-ms=\"0\" href=\"/search/all?query=%EC%95%84%EC%9D%B4%ED%8F%B013&amp;cat_id=&amp;frm=NVSHATC#\">시리</a>, <a rel=\"noopener\" class=\"product_detail__oWDMs linkAnchor\" data-i=\"29029192586\" data-ms=\"0\" href=\"/search/all?query=%EC%95%84%EC%9D%B4%ED%8F%B013&amp;cat_id=&amp;frm=NVSHATC#\">제어센터</a>, <a rel=\"noopener\" class=\"product_detail__oWDMs linkAnchor\" data-i=\"29029192586\" data-ms=\"0\" href=\"/search/all?query=%EC%95%84%EC%9D%B4%ED%8F%B013&amp;cat_id=&amp;frm=NVSHATC#\">에어드롭</a><a rel=\"noopener\" class=\"product_detail__oWDMs product_bar__dHjkA linkAnchor\" data-i=\"29029192586\" data-ms=\"0\" href=\"/search/all?query=%EC%95%84%EC%9D%B4%ED%8F%B013&amp;cat_id=&amp;frm=NVSHATC#\">방수/방진 : 방수</a>, <a rel=\"noopener\" class=\"product_detail__oWDMs linkAnchor\" data-i=\"29029192586\" data-ms=\"0\" href=\"/search/all?query=%EC%95%84%EC%9D%B4%ED%8F%B013&amp;cat_id=&amp;frm=NVSHATC#\">방진</a><a rel=\"noopener\" class=\"product_detail__oWDMs product_bar__dHjkA linkAnchor\" data-i=\"29029192586\" data-ms=\"0\" href=\"/search/all?query=%EC%95%84%EC%9D%B4%ED%8F%B013&amp;cat_id=&amp;frm=NVSHATC#\">음향기능 : 스테레오스피커</a><a rel=\"noopener\" class=\"product_detail__oWDMs product_bar__dHjkA linkAnchor\" data-i=\"29029192586\" data-ms=\"0\" href=\"/search/all?query=%EC%95%84%EC%9D%B4%ED%8F%B013&amp;cat_id=&amp;frm=NVSHATC#\">줌 : 광학줌</a><a rel=\"noopener\" class=\"product_detail__oWDMs product_bar__dHjkA linkAnchor\" data-i=\"29029192586\" data-ms=\"0\" href=\"/search/all?query=%EC%95%84%EC%9D%B4%ED%8F%B013&amp;cat_id=&amp;frm=NVSHATC#\">플래시 : 트루톤플래시</a><a rel=\"noopener\" class=\"product_detail__oWDMs product_bar__dHjkA linkAnchor\" data-i=\"29029192586\" data-ms=\"0\" href=\"/search/all?query=%EC%95%84%EC%9D%B4%ED%8F%B013&amp;cat_id=&amp;frm=NVSHATC#\">무선충전 : 무선충전(QI)</a>, <a rel=\"noopener\" class=\"product_detail__oWDMs linkAnchor\" data-i=\"29029192586\" data-ms=\"0\" href=\"/search/all?query=%EC%95%84%EC%9D%B4%ED%8F%B013&amp;cat_id=&amp;frm=NVSHATC#\">맥세이프</a><a rel=\"noopener\" class=\"product_detail__oWDMs product_bar__dHjkA linkAnchor\" data-i=\"29029192586\" data-ms=\"0\" href=\"/search/all?query=%EC%95%84%EC%9D%B4%ED%8F%B013&amp;cat_id=&amp;frm=NVSHATC#\">고속충전 : 고속충전</a></div><div class=\"product_product_event__LemcX\"></div></div><div class=\"product_etc_box__ElfVA\"><a target=\"_blank\" rel=\"noopener\" class=\"product_etc__LGVaW linkAnchor\" data-nclick=\"N=a:lst*C.comment,r:15,i:29029192586\" data-i=\"29029192586\" data-ms=\"0\" href=\"https://cr.shopping.naver.com/adcr.nhn?x=uIZpY%2BHte3Ix6BIf3o0Vj%2F%2F%2F%2Fw%3D%3DsT9Lq6xfD6nUSuzLvmevpzEm1kV9eo5X6zTn%2FFGstfrJN4NgkrPIjlczCBjhk2dSMY9bOhLtB3mMizrQOC0Pm56dcvfdl93VC71t8WUudX5WDfUP3whulDFunP657F3PQsQxI0r%2BbPmFsVWLl0g7V3Mv%2BjB2erv%2BZ%2Brrs5VHOiTQgGE7%2BZatKjf5hEf1XctkKwzZoEE1irv0jVFjUiTpIZJbkCnZt3PKDnGtnPfTpWXV9gLRMuJH34gK%2BdKxxm2wLfHX%2FKvLeMRhy2z4sWQA%2F16sJF1TG8DXvuOXRWh2aiSE1QmeK3ZPITzKHcbEnR%2BI8mXpE%2FWYm5Ai0tHt21rYEpkBFUYfhI7uH5Fgl4yiCwH3Ye9CsbWrnsboog%2B94RL%2FI0Xaie43S1ci44hGLx1E05YPk2vryFU100lCcPyTJO%2BBFx37WIyrziE4Ps6WrDu%2FET9Lvfhn9NmZebq06Rt58vUK94HazsIJk%2FjsIwcFBS2bPU6pntGCurhu%2FV8uonTYh5X6MB3JdbnBohOi8QY2mskVuBY5V8KvlWSxQpSde83U81Gi44tUFH1uRUKbnASPQezdPirNIEhU3YcDKwV2g5K6QNQ9yt4scyrUny9Y4h26y5o2wVXHl6Nqb%2FoiWMPZUQdAiJdwXirBRdnaxfvrBbw%3D%3D&amp;nvMid=29029192586&amp;catId=50001519\">리뷰<span class=\"product_graph__r2Fse\"><span class=\"product_star__RO7wj\" style=\"width: 98%;\">별점 4.9</span></span><em class=\"product_num__fafe5\">92</em></a><span class=\"product_etc__LGVaW\">등록일 2021.09.</span><span class=\"product_etc__LGVaW\"><a href=\"#\" role=\"button\" class=\"product_btn_zzim__MQ17u N=a:lst*C.mylist,i:29029192586,r:15\" data-nclick=\"N=a:lst*C.mylist,i:29029192586,r:15\" data-i=\"29029192586\"><svg width=\"16\" height=\"14\" fill=\"none\" xmlns=\"http://www.w3.org/2000/svg\" class=\"product_svg_zzim__lyodA\"><path d=\"M6.812 2.02a3.345 3.345 0 0 0-4.81 0C.665 3.381.665 5.601 2 6.966L7.988 13l6.179-6.224c1.167-1.355 1.105-3.455-.168-4.756A3.337 3.337 0 0 0 11.594 1c-.91 0-1.764.361-2.407 1.02L6.543 4.692a1.7 1.7 0 0 0 0 2.424c.676.67 1.778.67 2.456 0l2.577-2.594\" stroke=\"currentcolor\"></path></svg><span class=\"product_text__cTjus\">찜하기<em class=\"product_num__fafe5\">23</em></span></a></span><span class=\"product_etc__LGVaW\"><a href=\"#\" class=\"report_link_report__pkIEk\" data-nclick=\"N=a:lst*C.report,i:29029192586,r:15\"><svg width=\"14\" height=\"14\" fill=\"none\" xmlns=\"http://www.w3.org/2000/svg\" class=\"report_svg_report__xPbmh\"><path clip-rule=\"evenodd\" d=\"M6.999 1A4.999 4.999 0 0 0 2 6v4h10V6a5 5 0 0 0-5.001-5Z\" stroke=\"#999\" stroke-linejoin=\"round\"></path><path d=\"M6.5 3.5a2 2 0 0 0-2 2\" stroke=\"#999\"></path><path clip-rule=\"evenodd\" d=\"M1 13h12v-3H1v3Z\" stroke=\"#999\"></path></svg>정보 수정요청</a></span></div></div><div class=\"product_mall_area___f3wo\"><div class=\"product_mall_title__Xer1m\"><a target=\"_blank\" rel=\"noopener\" class=\" linkAnchor\" data-nclick=\"N=a:lst*C.bcatalog,i:29029192586,r:15\" href=\"https://cr.shopping.naver.com/adcr.nhn?x=uIZpY%2BHte3Ix6BIf3o0Vj%2F%2F%2F%2Fw%3D%3DsT9Lq6xfD6nUSuzLvmevpzEm1kV9eo5X6zTn%2FFGstfrJN4NgkrPIjlczCBjhk2dSMY9bOhLtB3mMizrQOC0Pm56dcvfdl93VC71t8WUudX5WDfUP3whulDFunP657F3PQsQxI0r%2BbPmFsVWLl0g7V3Mv%2BjB2erv%2BZ%2Brrs5VHOiTQgGE7%2BZatKjf5hEf1XctkKwzZoEE1irv0jVFjUiTpIZJbkCnZt3PKDnGtnPfTpWXV9gLRMuJH34gK%2BdKxxm2wLfHX%2FKvLeMRhy2z4sWQA%2F16sJF1TG8DXvuOXRWh2aiSE1QmeK3ZPITzKHcbEnR%2BI8mXpE%2FWYm5Ai0tHt21rYEpkBFUYfhI7uH5Fgl4yiCwH3Ye9CsbWrnsboog%2B94RL%2FI0Xaie43S1ci44hGLx1E05YPk2vryFU100lCcPyTJO%2BBFx37WIyrziE4Ps6WrDu%2FET9Lvfhn9NmZebq06Rt58vUK94HazsIJk%2FjsIwcFBS2bPU6pntGCurhu%2FV8uonTYh5X6MB3JdbnBohOi8QY2mskVuBY5V8KvlWSxQpSde83U81Gi44tUFH1uRUKbnASPQezdPirNIEhU3YcDKwV2g5K6QNQ9yt4scyrUny9Y4h26y5o2wVXHl6Nqb%2FoiWMPZUQdAiJdwXirBRdnaxfvrBbw%3D%3D&amp;nvMid=29029192586&amp;catId=50001519\"><em class=\"product_brand__pj0V0\">브랜드 카탈로그</em></a></div><ul class=\"product_mall_list__RU42O\"><li data-nclick=\"N=a:lst*C.plwbuy,i:29029192586,r:15\"><a class=\"product_mall_item__KUMTJ linkAnchor\" title=\"긱샵\" data-i=\"29029192586\" data-ms=\"0\" href=\"/search/all?query=%EC%95%84%EC%9D%B4%ED%8F%B013&amp;cat_id=&amp;frm=NVSHATC#\"><span class=\"product_mall_info__iWlJ5\"><span class=\"product_mall_name__MbUf3\">긱샵</span><span class=\"product_ico_cell__HMvBw\"><span class=\"product_ico_pay__qdt18\"><span class=\"n_npay_info__xZATR\"><span class=\"n_npay_icon__DxpI2\"><span class=\"blind\">네이버플러스멤버십</span><svg xmlns=\"http://www.w3.org/2000/svg\" height=\"15\" viewBox=\"0 0 52 15\" class=\"n_svg_npay__W8TRW\"><path fill=\"url(#IconCommonNpayPlus_svg__a)\" d=\"M0 7.5A7.5 7.5 0 0 1 7.5 0h37a7.5 7.5 0 0 1 0 15h-37A7.5 7.5 0 0 1 0 7.5Z\"></path><path fill=\"#fff\" fill-rule=\"evenodd\" d=\"M12.073 10.556a5.5 5.5 0 1 0-9.146-6.112 5.5 5.5 0 0 0 9.146 6.112Zm-3.425-2.69V4.669h1.684v5.664H8.595l-2.243-3.2v3.2H4.668V4.667h1.737l2.243 3.199Zm24.677 4.267L37 3.902l-1.712.002-1.693 3.844-1.871-3.844h-1.737l2.811 5.621-1.168 2.608h1.695Zm-5.788-1.91h1.623V3.901h-1.623v.454a2.94 2.94 0 0 0-1.819-.596 3.306 3.306 0 0 0 0 6.606 2.943 2.943 0 0 0 1.82-.598v.454Zm-3.397-3.16c0-1.104.772-1.936 1.794-1.936h.01c1.023 0 1.785.834 1.785 1.936 0 1.102-.772 1.936-1.795 1.936-1.022 0-1.794-.831-1.794-1.936Zm-7.517-3.161H15v8.231h1.68V9.81a2.93 2.93 0 0 0 1.762.556 3.306 3.306 0 0 0 0-6.606 2.94 2.94 0 0 0-1.819.596v-.454Zm1.593 5.097c-1.022 0-1.794-.834-1.794-1.936h.01c0-1.104.762-1.936 1.784-1.936 1.023 0 1.794.834 1.794 1.936C20.01 8.165 19.24 9 18.216 9Z\" clip-rule=\"evenodd\"></path><path fill=\"#fff\" d=\"M45.63 6.37V3h-2.26v3.37H40v2.26h9V6.37h-3.37Zm-2.25 2.557L43.369 12h2.259v-1.422c0-1.072-1.127-1.651-2.246-1.651Z\"></path><defs><linearGradient id=\"IconCommonNpayPlus_svg__a\" x1=\"0\" x2=\"52\" y1=\"0\" y2=\"0\" gradientUnits=\"userSpaceOnUse\"><stop offset=\"0.636\" stop-color=\"#00C05A\"></stop><stop offset=\"0.819\" stop-color=\"#0A9EFA\"></stop></linearGradient></defs></svg></span></span></span></span></span><span class=\"product_price__52oO9\"><span class=\"product_ico_low__lia7H\"></span>1,932,000</span></a></li><li data-nclick=\"N=a:lst*C.plwbuy,i:29029192586,r:15\"><a class=\"product_mall_item__KUMTJ linkAnchor\" title=\"11번가\" data-i=\"29029192586\" data-ms=\"0\" href=\"/search/all?query=%EC%95%84%EC%9D%B4%ED%8F%B013&amp;cat_id=&amp;frm=NVSHATC#\"><span class=\"product_mall_info__iWlJ5\"><span class=\"product_mall_name__MbUf3\">11번가</span><span class=\"product_ico_cell__HMvBw\"></span></span><span class=\"product_price__52oO9\">2,688,000</span></a></li><li data-nclick=\"N=a:lst*C.plwbuy,i:29029192586,r:15\"><a class=\"product_mall_item__KUMTJ linkAnchor\" title=\"주식회사 제이씨엠컴퍼니\" data-i=\"29029192586\" data-ms=\"0\" href=\"/search/all?query=%EC%95%84%EC%9D%B4%ED%8F%B013&amp;cat_id=&amp;frm=NVSHATC#\"><span class=\"product_mall_info__iWlJ5\"><span class=\"product_mall_name__MbUf3\">주식회사 제이씨엠컴퍼니</span><span class=\"product_ico_cell__HMvBw\"><span class=\"product_ico_pay__qdt18\"><span class=\"n_npay_info__xZATR\"><span class=\"n_npay_icon__DxpI2\"><span class=\"blind\">네이버플러스멤버십</span><svg xmlns=\"http://www.w3.org/2000/svg\" height=\"15\" viewBox=\"0 0 52 15\" class=\"n_svg_npay__W8TRW\"><path fill=\"url(#IconCommonNpayPlus_svg__a)\" d=\"M0 7.5A7.5 7.5 0 0 1 7.5 0h37a7.5 7.5 0 0 1 0 15h-37A7.5 7.5 0 0 1 0 7.5Z\"></path><path fill=\"#fff\" fill-rule=\"evenodd\" d=\"M12.073 10.556a5.5 5.5 0 1 0-9.146-6.112 5.5 5.5 0 0 0 9.146 6.112Zm-3.425-2.69V4.669h1.684v5.664H8.595l-2.243-3.2v3.2H4.668V4.667h1.737l2.243 3.199Zm24.677 4.267L37 3.902l-1.712.002-1.693 3.844-1.871-3.844h-1.737l2.811 5.621-1.168 2.608h1.695Zm-5.788-1.91h1.623V3.901h-1.623v.454a2.94 2.94 0 0 0-1.819-.596 3.306 3.306 0 0 0 0 6.606 2.943 2.943 0 0 0 1.82-.598v.454Zm-3.397-3.16c0-1.104.772-1.936 1.794-1.936h.01c1.023 0 1.785.834 1.785 1.936 0 1.102-.772 1.936-1.795 1.936-1.022 0-1.794-.831-1.794-1.936Zm-7.517-3.161H15v8.231h1.68V9.81a2.93 2.93 0 0 0 1.762.556 3.306 3.306 0 0 0 0-6.606 2.94 2.94 0 0 0-1.819.596v-.454Zm1.593 5.097c-1.022 0-1.794-.834-1.794-1.936h.01c0-1.104.762-1.936 1.784-1.936 1.023 0 1.794.834 1.794 1.936C20.01 8.165 19.24 9 18.216 9Z\" clip-rule=\"evenodd\"></path><path fill=\"#fff\" d=\"M45.63 6.37V3h-2.26v3.37H40v2.26h9V6.37h-3.37Zm-2.25 2.557L43.369 12h2.259v-1.422c0-1.072-1.127-1.651-2.246-1.651Z\"></path><defs><linearGradient id=\"IconCommonNpayPlus_svg__a\" x1=\"0\" x2=\"52\" y1=\"0\" y2=\"0\" gradientUnits=\"userSpaceOnUse\"><stop offset=\"0.636\" stop-color=\"#00C05A\"></stop><stop offset=\"0.819\" stop-color=\"#0A9EFA\"></stop></linearGradient></defs></svg></span></span></span></span></span><span class=\"product_price__52oO9\">3,267,000</span></a></li><li data-nclick=\"N=a:lst*C.plwbuy,i:29029192586,r:15\"><a class=\"product_mall_item__KUMTJ linkAnchor\" title=\"Valueone\" data-i=\"29029192586\" data-ms=\"0\" href=\"/search/all?query=%EC%95%84%EC%9D%B4%ED%8F%B013&amp;cat_id=&amp;frm=NVSHATC#\"><span class=\"product_mall_info__iWlJ5\"><span class=\"product_mall_name__MbUf3\">Valueone</span><span class=\"product_ico_cell__HMvBw\"><span class=\"product_ico_pay__qdt18\"><span class=\"n_npay_info__xZATR\"><span class=\"n_npay_icon__DxpI2\"><span class=\"blind\">네이버플러스멤버십</span><svg xmlns=\"http://www.w3.org/2000/svg\" height=\"15\" viewBox=\"0 0 52 15\" class=\"n_svg_npay__W8TRW\"><path fill=\"url(#IconCommonNpayPlus_svg__a)\" d=\"M0 7.5A7.5 7.5 0 0 1 7.5 0h37a7.5 7.5 0 0 1 0 15h-37A7.5 7.5 0 0 1 0 7.5Z\"></path><path fill=\"#fff\" fill-rule=\"evenodd\" d=\"M12.073 10.556a5.5 5.5 0 1 0-9.146-6.112 5.5 5.5 0 0 0 9.146 6.112Zm-3.425-2.69V4.669h1.684v5.664H8.595l-2.243-3.2v3.2H4.668V4.667h1.737l2.243 3.199Zm24.677 4.267L37 3.902l-1.712.002-1.693 3.844-1.871-3.844h-1.737l2.811 5.621-1.168 2.608h1.695Zm-5.788-1.91h1.623V3.901h-1.623v.454a2.94 2.94 0 0 0-1.819-.596 3.306 3.306 0 0 0 0 6.606 2.943 2.943 0 0 0 1.82-.598v.454Zm-3.397-3.16c0-1.104.772-1.936 1.794-1.936h.01c1.023 0 1.785.834 1.785 1.936 0 1.102-.772 1.936-1.795 1.936-1.022 0-1.794-.831-1.794-1.936Zm-7.517-3.161H15v8.231h1.68V9.81a2.93 2.93 0 0 0 1.762.556 3.306 3.306 0 0 0 0-6.606 2.94 2.94 0 0 0-1.819.596v-.454Zm1.593 5.097c-1.022 0-1.794-.834-1.794-1.936h.01c0-1.104.762-1.936 1.784-1.936 1.023 0 1.794.834 1.794 1.936C20.01 8.165 19.24 9 18.216 9Z\" clip-rule=\"evenodd\"></path><path fill=\"#fff\" d=\"M45.63 6.37V3h-2.26v3.37H40v2.26h9V6.37h-3.37Zm-2.25 2.557L43.369 12h2.259v-1.422c0-1.072-1.127-1.651-2.246-1.651Z\"></path><defs><linearGradient id=\"IconCommonNpayPlus_svg__a\" x1=\"0\" x2=\"52\" y1=\"0\" y2=\"0\" gradientUnits=\"userSpaceOnUse\"><stop offset=\"0.636\" stop-color=\"#00C05A\"></stop><stop offset=\"0.819\" stop-color=\"#0A9EFA\"></stop></linearGradient></defs></svg></span></span></span></span></span><span class=\"product_price__52oO9\">3,400,000</span></a></li><li data-nclick=\"N=a:lst*C.plwbuy,i:29029192586,r:15\"><a class=\"product_mall_item__KUMTJ linkAnchor\" title=\"아이씨이\" data-i=\"29029192586\" data-ms=\"0\" href=\"/search/all?query=%EC%95%84%EC%9D%B4%ED%8F%B013&amp;cat_id=&amp;frm=NVSHATC#\"><span class=\"product_mall_info__iWlJ5\"><span class=\"product_mall_name__MbUf3\">아이씨이</span><span class=\"product_ico_cell__HMvBw\"><span class=\"product_ico_pay__qdt18\"><span class=\"n_npay_info__xZATR\"><span class=\"n_npay_icon__DxpI2\"><span class=\"blind\">네이버플러스멤버십</span><svg xmlns=\"http://www.w3.org/2000/svg\" height=\"15\" viewBox=\"0 0 52 15\" class=\"n_svg_npay__W8TRW\"><path fill=\"url(#IconCommonNpayPlus_svg__a)\" d=\"M0 7.5A7.5 7.5 0 0 1 7.5 0h37a7.5 7.5 0 0 1 0 15h-37A7.5 7.5 0 0 1 0 7.5Z\"></path><path fill=\"#fff\" fill-rule=\"evenodd\" d=\"M12.073 10.556a5.5 5.5 0 1 0-9.146-6.112 5.5 5.5 0 0 0 9.146 6.112Zm-3.425-2.69V4.669h1.684v5.664H8.595l-2.243-3.2v3.2H4.668V4.667h1.737l2.243 3.199Zm24.677 4.267L37 3.902l-1.712.002-1.693 3.844-1.871-3.844h-1.737l2.811 5.621-1.168 2.608h1.695Zm-5.788-1.91h1.623V3.901h-1.623v.454a2.94 2.94 0 0 0-1.819-.596 3.306 3.306 0 0 0 0 6.606 2.943 2.943 0 0 0 1.82-.598v.454Zm-3.397-3.16c0-1.104.772-1.936 1.794-1.936h.01c1.023 0 1.785.834 1.785 1.936 0 1.102-.772 1.936-1.795 1.936-1.022 0-1.794-.831-1.794-1.936Zm-7.517-3.161H15v8.231h1.68V9.81a2.93 2.93 0 0 0 1.762.556 3.306 3.306 0 0 0 0-6.606 2.94 2.94 0 0 0-1.819.596v-.454Zm1.593 5.097c-1.022 0-1.794-.834-1.794-1.936h.01c0-1.104.762-1.936 1.784-1.936 1.023 0 1.794.834 1.794 1.936C20.01 8.165 19.24 9 18.216 9Z\" clip-rule=\"evenodd\"></path><path fill=\"#fff\" d=\"M45.63 6.37V3h-2.26v3.37H40v2.26h9V6.37h-3.37Zm-2.25 2.557L43.369 12h2.259v-1.422c0-1.072-1.127-1.651-2.246-1.651Z\"></path><defs><linearGradient id=\"IconCommonNpayPlus_svg__a\" x1=\"0\" x2=\"52\" y1=\"0\" y2=\"0\" gradientUnits=\"userSpaceOnUse\"><stop offset=\"0.636\" stop-color=\"#00C05A\"></stop><stop offset=\"0.819\" stop-color=\"#0A9EFA\"></stop></linearGradient></defs></svg></span></span></span></span></span><span class=\"product_price__52oO9\">3,800,000</span></a></li></ul></div></div></div>'"
      ]
     },
     "execution_count": 21,
     "metadata": {},
     "output_type": "execute_result"
    }
   ],
   "source": [
    "items[17].get_attribute('innerHTML')"
   ]
  },
  {
   "cell_type": "code",
   "execution_count": 24,
   "id": "ba3472f3",
   "metadata": {},
   "outputs": [
    {
     "data": {
      "text/plain": [
       "'아이폰 13 프로 맥스 512GB [자급제]'"
      ]
     },
     "execution_count": 24,
     "metadata": {},
     "output_type": "execute_result"
    }
   ],
   "source": [
    "# 제품명 추출\n",
    "# #content > div.style_content__xWg5l > div.basicList_list_basis__uNBZx > div > div:nth-child(17) > div > div > div.product_info_area__xxCTi > div.product_title__Mmw2K\n",
    "sel='div.product_title__Mmw2K'\n",
    "items[17].find_element(By.CSS_SELECTOR,sel).text"
   ]
  },
  {
   "cell_type": "code",
   "execution_count": 25,
   "id": "e7bec9e8",
   "metadata": {},
   "outputs": [
    {
     "data": {
      "text/plain": [
       "'1,932,000'"
      ]
     },
     "execution_count": 25,
     "metadata": {},
     "output_type": "execute_result"
    }
   ],
   "source": [
    "# 가격 추출\n",
    "items[17].find_element(By.CSS_SELECTOR,'span.price em').text"
   ]
  },
  {
   "cell_type": "code",
   "execution_count": 26,
   "id": "779ee8ff",
   "metadata": {},
   "outputs": [
    {
     "data": {
      "text/plain": [
       "'https://cr.shopping.naver.com/adcr.nhn?x=uIZpY%2BHte3Ix6BIf3o0Vj%2F%2F%2F%2Fw%3D%3DsT9Lq6xfD6nUSuzLvmevpzEm1kV9eo5X6zTn%2FFGstfrJN4NgkrPIjlczCBjhk2dSMY9bOhLtB3mMizrQOC0Pm56dcvfdl93VC71t8WUudX5WDfUP3whulDFunP657F3PQsQxI0r%2BbPmFsVWLl0g7V3Mv%2BjB2erv%2BZ%2Brrs5VHOiTQgGE7%2BZatKjf5hEf1XctkKwzZoEE1irv0jVFjUiTpIZJbkCnZt3PKDnGtnPfTpWXV9gLRMuJH34gK%2BdKxxm2wLfHX%2FKvLeMRhy2z4sWQA%2F16sJF1TG8DXvuOXRWh2aiSE1QmeK3ZPITzKHcbEnR%2BI8mXpE%2FWYm5Ai0tHt21rYEpkBFUYfhI7uH5Fgl4yiCwH3Ye9CsbWrnsboog%2B94RL%2FI0Xaie43S1ci44hGLx1E05YPk2vryFU100lCcPyTJO%2BBFx37WIyrziE4Ps6WrDu%2FET9Lvfhn9NmZebq06Rt58vUK94HazsIJk%2FjsIwcFBS2bPU6pntGCurhu%2FV8uonTYh5X6MB3JdbnBohOi8QY2mskVuBY5V8KvlWSxQpSde83U81Gi44tUFH1uRUKbnASPQezdPirNIEhU3YcDKwV2g5K6QNQ9yt4scyrUny9Y4h26y5o2wVXHl6Nqb%2FoiWMPZUQdAiJdwXirBRdnaxfvrBbw%3D%3D&nvMid=29029192586&catId=50001519'"
      ]
     },
     "execution_count": 26,
     "metadata": {},
     "output_type": "execute_result"
    }
   ],
   "source": [
    "# 제품의 실제 판매처 url\n",
    "sel='div.product_title__Mmw2K > a'\n",
    "items[17].find_element(By.CSS_SELECTOR,sel).get_attribute('href')"
   ]
  },
  {
   "cell_type": "code",
   "execution_count": 29,
   "id": "5de3a01c",
   "metadata": {},
   "outputs": [
    {
     "name": "stdout",
     "output_type": "stream",
     "text": [
      "판매중단 판매중단 판매중단\n",
      "판매중단 판매중단 판매중단\n",
      "판매중단 판매중단 판매중단\n",
      "아이폰 13 256GB [자급제] 1,090,000 https://cr.shopping.naver.com/adcr.nhn?x=RxNcWADSciOgtV%2FsGi8qYv%2F%2F%2Fw%3D%3Dsc3U7SiJHOyi4d2G4%2Fe%2Fit7pQ1Q4D7%2BVlwz0a5mnNpLyGgjNtjvRyY8TaEm3AQ5UwpsniIgIYBYrlvx%2BGvIHMBkqo6n7qF3YPofV6Aa07MyYiIUwXTeY6KaMdFuJ%2FYxPVJ9ydSTe1GkC4ZQID6E0KIN9%2BKy%2Fm0d%2BgYWHtEf61Jo5CNclKwvLyA%2Fys%2F%2FHPPajLymj3I0Ayg2aYacGIsBoPOmNmcbgLr0lu2cCLGgyX7c9vsepmwRk8o%2FCB4DgHhnjVnI5GUgxMf4ORiqZn3C1LBauKWQN4b7WstTXVRp4V%2Fd2Kx7G3krbJiQXzryuwwOqJS6XYwqGx4vHGBp6my58hJLqadzp7FSPm7GuQ5%2FecuMJKjRp2D9pkBhcJdqPQCXkTJTyOtdpNmqs6E%2FnW3NDtTlNCrJpfkPGyKA93w5qrtIQLSv5SYzis5SVdiBAX6a8R%2FCOsDULMzhyS3tcNpyUq6M%2FFIf4yGPCeFlgQd%2BW1h9K7A%2F0vSPti8cHY4o2fastw5nGX4TfzRlG2ahGMx%2BrSF%2F%2BKxsxur5vNCX%2FLomt4deMRpOFzCbaM6OU97uoPifjrcD0oBzKELcJajvyNgOqD7GHbocQTLQf9T5R84DzsDVCFbDf4gHI5rSMJU1BWcIOg&nvMid=29029192591&catId=50001519\n",
      "아이폰 13 미니 128GB [자급제] 689,000 https://cr.shopping.naver.com/adcr.nhn?x=imbWd4IkmeY%2FMrJZPlUttv%2F%2F%2Fw%3D%3DsFWjQGb7DyAteO2%2Fq2q1dvVqhwcrvXz5d1bW2%2F5f%2BegJN4NgkrPIjlczCBjhk2dSMa2va5sOaU3Aq5kuAO5ijlqdcvfdl93VC71t8WUudX5WDfUP3whulDFunP657F3PQsQxI0r%2BbPmFsVWLl0g7V3Mv%2BjB2erv%2BZ%2Brrs5VHOiTQgGE7%2BZatKjf5hEf1XctkK4jabIZo6ulfp1qDHgCN955bkCnZt3PKDnGtnPfTpWXV9gLRMuJH34gK%2BdKxxm2wLfHX%2FKvLeMRhy2z4sWQA%2F16sJF1TG8DXvuOXRWh2aiSE1QmeK3ZPITzKHcbEnR%2BI8roC22%2Fjvijw2tR9CPaT8B5Z1VOiWYtIoyCnC8PzWfwTYe9CsbWrnsboog%2B94RL%2FIB4ThkQICLW%2B6vCSiVkPMQ4Pk2vryFU100lCcPyTJO%2BBFx37WIyrziE4Ps6WrDu%2FEC%2BPCK4hWZVak%2FmlGHuf2bEG1YDduCsIlNU81UtgkO9rL%2FnGINkSYp%2Bd2xAAY7UDnrbUCSSJNv%2FZnYEjEM7BX0GbN8VHJu0Gc4sPB%2F2UQSXsNauEcRynSn%2F8orOK7nc90UKx0wYPIydwPHuMdgpXv%2F7dnRhJ7Hm49%2B2l2C1e6eCPNjqh%2FZemCCOboDhnweAmG&nvMid=29030650586&catId=50001519\n",
      "아이폰 13 미니 256GB [자급제] 1,230,390 https://cr.shopping.naver.com/adcr.nhn?x=WYzlZTPNGkLOkJpQIRv50%2F%2F%2F%2Fw%3D%3DsxG3iCq8OjEUYwqiqk9wqQ8lgtitpVlP0qKOeJIbo%2FFRN4NgkrPIjlczCBjhk2dSMBe5xFwmcw4DiJmpa7lYhEadcvfdl93VC71t8WUudX5WDfUP3whulDFunP657F3PQsQxI0r%2BbPmFsVWLl0g7V3Mv%2BjB2erv%2BZ%2Brrs5VHOiTQgGE7%2BZatKjf5hEf1XctkKH44md2DnHUZj1xMBh7dKLJbkCnZt3PKDnGtnPfTpWXV9gLRMuJH34gK%2BdKxxm2wLfHX%2FKvLeMRhy2z4sWQA%2F16sJF1TG8DXvuOXRWh2aiSE1QmeK3ZPITzKHcbEnR%2BI8AuaobJscO472C8q8If4svY8RMPL5DlLt8n%2BMpGi24SzYe9CsbWrnsboog%2B94RL%2FInkmENQkuyKFe20%2FN7lym3pL9mD5%2BSeM0mpFWNttuOlBFx37WIyrziE4Ps6WrDu%2FEC%2BPCK4hWZVak%2FmlGHuf2bO5jnTGDpKGObFTyhFRkGDTL%2FnGINkSYp%2Bd2xAAY7UDneHSNumWyaFIS3P3jX%2BjABzkC6Qp0Gto5xWaOAZrfMwKdSlPOZBN6V54TTL6u%2FzFsouevLD3ZyBgjIookxqEFBQFUMjMTTb63%2FR40T9GItW%2FHICEQpPL7Rm%2B2fyhjEhHR&nvMid=29030437590&catId=50001519\n",
      "아이폰 13 128GB [자급제] 1,058,150 https://cr.shopping.naver.com/adcr.nhn?x=OdR4Y%2BbNfCAgNiRmqM3nl%2F%2F%2F%2Fw%3D%3DsOq4tnrb%2BFR1uSC1oEwsEmJvLCZE3FkYburAoZafSjmtN4NgkrPIjlczCBjhk2dSMUHuYhB1mgU2sLIawfvyl16dcvfdl93VC71t8WUudX5WDfUP3whulDFunP657F3PQsQxI0r%2BbPmFsVWLl0g7V3Mv%2BjB2erv%2BZ%2Brrs5VHOiTQgGE7%2BZatKjf5hEf1XctkKihdJbsF7mPFDdM7F9nXsoJbkCnZt3PKDnGtnPfTpWXV9gLRMuJH34gK%2BdKxxm2wLfHX%2FKvLeMRhy2z4sWQA%2F16sJF1TG8DXvuOXRWh2aiSE1QmeK3ZPITzKHcbEnR%2BI866qLsBIIhhKiEf4F%2Ba3MEiwJCItbzRwH5pgCq6XP8%2FTYe9CsbWrnsboog%2B94RL%2FIQaKjyn%2Bw2LQk17xXDKGCe4Re7uHgyNF3WXsM9BHB6lpFx37WIyrziE4Ps6WrDu%2FEkQhsK9FrLIaKhTqeCPe5%2BnUjwQMKHmfZEGs9R%2F5gzgFfxr8e8848S4N3UJ7%2FNlg1OljLtTQonU32VFdy%2BtXnDibrzePlXA1CnUBBsh6qskf6C0XXk8ySaOQ0OaLzzIxFlflRXuKy88UpbTXr6QbyDby64rHaVapdf1ykLSxWT4MdHI8FZtQVGFZJxOyBDKc%2B&nvMid=29030374587&catId=50001519\n",
      "아이폰 13 프로 256GB [자급제] 2,376,000 https://cr.shopping.naver.com/adcr.nhn?x=%2Bl6cV3LcKGUy6PvDhoc8t%2F%2F%2F%2Fw%3D%3DsrNa9W7QcQcuae4SrpYO%2BRDm1RE9z2b4yORVj9izZoH6GgjNtjvRyY8TaEm3AQ5UwiqaVGKgMlEFn3Ns9l3BQFkqo6n7qF3YPofV6Aa07MyYiIUwXTeY6KaMdFuJ%2FYxPVJ9ydSTe1GkC4ZQID6E0KIN9%2BKy%2Fm0d%2BgYWHtEf61Jo5CNclKwvLyA%2Fys%2F%2FHPPajL137zj6xS8KLGHM26HEneD2NmcbgLr0lu2cCLGgyX7c9vsepmwRk8o%2FCB4DgHhnjVnI5GUgxMf4ORiqZn3C1LBauKWQN4b7WstTXVRp4V%2Fd2Kx7G3krbJiQXzryuwwOqJ2UnkgD40DwXrbgCbUbBytZA41dJEWyf8yQTEzR23J7dKjRp2D9pkBhcJdqPQCXkTMM1plBQtkhaEWAH4rmffCNi0NhztotYo0jz4rJ1Y4rsLSv5SYzis5SVdiBAX6a8RKlG0H56J6GhRAoCVIyo%2FGe6PVlsDCpHcNo%2FcE9xR15OZZd0C6e2Zyps4U6T5DErBvcQeIaAGIIQRnJcrzv7qxUfi0fGzzoOfZGi7oVAfBEBP4PMPHCnudPTZjGRUD3iUwLzthabm4MU%2BeiRklgYjyjmBdSKIZtXLAwQy7I3GnKFWhZ3SMHTcLlpircdRzUgq1JIslBmdxaTx7xO1%2BPPoWw%3D%3D&nvMid=29030492586&catId=50001519\n",
      "아이폰 13 미니 512GB [자급제] 1,799,890 https://cr.shopping.naver.com/adcr.nhn?x=JPqQ9l0OnAOHoVB6sHJVgv%2F%2F%2Fw%3D%3Dsn4l1LV0RFsAp14PaT9rNXGW2vUDKwI1jcrwR%2F6VYJTlN4NgkrPIjlczCBjhk2dSMDbYMUge9dKCKZnBFtZinU6dcvfdl93VC71t8WUudX5WDfUP3whulDFunP657F3PQsQxI0r%2BbPmFsVWLl0g7V3Mv%2BjB2erv%2BZ%2Brrs5VHOiTQgGE7%2BZatKjf5hEf1XctkKW1JgmOU0IJMP5FlVktOgdpbkCnZt3PKDnGtnPfTpWXV9gLRMuJH34gK%2BdKxxm2wLfHX%2FKvLeMRhy2z4sWQA%2F16sJF1TG8DXvuOXRWh2aiSE1QmeK3ZPITzKHcbEnR%2BI8fvREIQPZPVOZNWxuu3OXS2StaqLTZPkG99I6ZtPjBG3Ye9CsbWrnsboog%2B94RL%2FIQCJs%2BBVHRh5KDWui1lVD8IRe7uHgyNF3WXsM9BHB6lpFx37WIyrziE4Ps6WrDu%2FEC%2BPCK4hWZVak%2FmlGHuf2bNYrmhd6z3mr51lBlAzJFvLL%2FnGINkSYp%2Bd2xAAY7UDnbkvF4WlDWhQobJdwWHNTv8fThdR0EMmGcL5O%2BclluyedSlPOZBN6V54TTL6u%2FzFsvZXn7tjYg97jU7L8buxmbsGexd4g89fsS4TkBOxI93nHICEQpPL7Rm%2B2fyhjEhHR&nvMid=29030296587&catId=50001519\n",
      "아이폰 13 프로 128GB [자급제] 1,925,470 https://cr.shopping.naver.com/adcr.nhn?x=NgY1kWV52b53hsRna9kNKP%2F%2F%2Fw%3D%3DspdVTBmVmb6qX5gWbNzA0%2BgYCz6dEWF29bgROxllVki0CYpaXrkpTZ0FTnmqeb1eBpMYgsmLuCzPanf9bEazvZAq8%2BZJqA7q5TwTs3X6xp5ZYvurdaxDKa8k2yknx5bs9H1Sflk8z7mwUnCrM5qphNVVd6Z%2BmZ5fvTALbBBPmfKL392rcVj5mouEkJq8zyckjthNzFsz8H7UmMGtdlpK05DMYBx1AVSExF%2FJDG79qxZoFypEAKt23XSMWLSN%2F%2BOUvYurnIReBtOrCBxL9xNVBlkPg%2F6PYJW9LpCSumzPJoigK7CtQzZWLlur1%2FFge4%2BEpuKZqSptOfsVq5XLN2L6cTz1nRJ4yoQ1ByXgZXYF4asUr3wpohlrhUETRXnCpgZJOvuaPj4SvXxh8oqqbzjAxAwp3GmZH8572EBGDELnqRN19jr8eNdNYNsPM9vHnSTJRnnWqvcTgee6K%2FhmFYMecO3GwXssWiUWB5AWWes%2FwlZHyNHyBUXwWVD2ki0TxnNzyUPw2RpVJ0eiN7ZPu52BrKnMhc6AsBVsACAos0kQbhvlicchwRNwmJ84TyxvjggzFSgRi8ABTx4Ty22T6fxyGexnu5M5FyJlPVJVseSuBkQDLVWGr8fvvH1mWvUgXPK6j&nvMid=29030420587&catId=50001519\n",
      "아이폰 13 미니 128GB [SKT] 330,000 https://cr.shopping.naver.com/adcr.nhn?x=bawj9MW7%2Fk40gshRyw6aW%2F%2F%2F%2Fw%3D%3Dsbh%2BX0B584qjwDiGONQ4DL%2BSASC2d8bQgDBVZ6I%2FURNpN4NgkrPIjlczCBjhk2dSMcKkvFvDakfJ9nCw5YwXC46dcvfdl93VC71t8WUudX5WDfUP3whulDFunP657F3PQsQxI0r%2BbPmFsVWLl0g7V3Mv%2BjB2erv%2BZ%2Brrs5VHOiTQgGE7%2BZatKjf5hEf1XctkK93Zrej3qYq3yaEzFx0yslJbkCnZt3PKDnGtnPfTpWXV9gLRMuJH34gK%2BdKxxm2wLfHX%2FKvLeMRhy2z4sWQA%2F16sJF1TG8DXvuOXRWh2aiSE1QmeK3ZPITzKHcbEnR%2BI8Tzk3TbqEQrvFXIyaJ1AMIXeemLOJwRTBAtqDKUqHs%2Brlp1VU53fqxlKTBT%2Bu6wKCBDfhREPGGG6lSF5KrzgH8oPk2vryFU100lCcPyTJO%2BBFx37WIyrziE4Ps6WrDu%2FEC%2BPCK4hWZVak%2FmlGHuf2bMAd1loMGnbAg6635fmugIdJm%2F1ne9lUZdiLJ5vX8PmzyxU9yvhNdiCiWLIzAZBc1UFO%2F7ZkAXuYq3uL1QHCP4P6C0XXk8ySaOQ0OaLzzIxFnIpsGWZhEvca0gIBp4sms7y64rHaVapdf1ykLSxWT4MdHI8FZtQVGFZJxOyBDKc%2B&nvMid=29030427586&catId=50000246\n",
      "아이폰 13 프로 1TB [자급제] 1,700,000 https://cr.shopping.naver.com/adcr.nhn?x=XChUYRgETK32Lv8fE9dfHf%2F%2F%2Fw%3D%3Dsvvc%2B0Sf3hOi6tArOYD%2FXB%2BFspVPYqX0t88YZymX8XhSGgjNtjvRyY8TaEm3AQ5Uw5HjeW8H8CS%2B5KGmS%2FFSO50qo6n7qF3YPofV6Aa07MyYiIUwXTeY6KaMdFuJ%2FYxPVJ9ydSTe1GkC4ZQID6E0KIN9%2BKy%2Fm0d%2BgYWHtEf61Jo5CNclKwvLyA%2Fys%2F%2FHPPajLnGSGtfC7HsVtItJ58Wx%2BqWNmcbgLr0lu2cCLGgyX7c9vsepmwRk8o%2FCB4DgHhnjVnI5GUgxMf4ORiqZn3C1LBauKWQN4b7WstTXVRp4V%2Fd2Kx7G3krbJiQXzryuwwOqJP5F7YZWe1ZKQHwNM9hz7GoRtxprh2TzUUNT1PNDWbJdKjRp2D9pkBhcJdqPQCXkTJTyOtdpNmqs6E%2FnW3NDtTp5ENhlNoaBccY7%2BVndAI08LSv5SYzis5SVdiBAX6a8RKlG0H56J6GhRAoCVIyo%2FGb6wTyZTOa8p8nD0SxKNNSAUVxRG4ldwD1%2BkE4NgSPi6NNotVOjABJjx1NK3Vtd%2B89lswoz6vQaNBAPJA2mYQVkBhNg6pO%2F%2Bw6bSRwW%2FduOkKEnegiMwOLZVK0yCf1KDH1%2BRcHBFuuksXXyc3MUp5t%2Fke%2FVP%2BgM94BPZkP5YJ%2Bex&nvMid=29029192588&catId=50001519\n",
      "아이폰 13 프로 맥스 256GB [자급제] 1,920,000 https://cr.shopping.naver.com/adcr.nhn?x=1y3Orl9oZ%2FtpBnb881hfg%2F%2F%2F%2Fw%3D%3DsVtCsA1FxVK9FVrIVvok45VzA7FSP260QOi4y8iV9BnlN4NgkrPIjlczCBjhk2dSMvLxFo7dS4JpOeD59pgu%2Bdadcvfdl93VC71t8WUudX5WDfUP3whulDFunP657F3PQsQxI0r%2BbPmFsVWLl0g7V3Mv%2BjB2erv%2BZ%2Brrs5VHOiTQgGE7%2BZatKjf5hEf1XctkK%2FKNqv4IElur67jOnMrLMW5bkCnZt3PKDnGtnPfTpWXV9gLRMuJH34gK%2BdKxxm2wLfHX%2FKvLeMRhy2z4sWQA%2F16sJF1TG8DXvuOXRWh2aiSE1QmeK3ZPITzKHcbEnR%2BI8SHXBCY4YBRhjk6N0xG%2FpCo%2FV9DLXrN%2BxyWk%2FLwRu6j3Ye9CsbWrnsboog%2B94RL%2FIhabsOu3IHJ1gAvReiRuw%2BINhlwoJ5gfJg5spv6ariDRFx37WIyrziE4Ps6WrDu%2FET9Lvfhn9NmZebq06Rt58vV0fDlSAF91N8n%2FUdh9H9zLPU6pntGCurhu%2FV8uonTYh5X6MB3JdbnBohOi8QY2mst5Jn7HiRIKwP3iT%2BsqV4eE81Gi44tUFH1uRUKbnASPQezdPirNIEhU3YcDKwV2g5GUoG2rYGme89c96IgdWkMWy5o2wVXHl6Nqb%2FoiWMPZUQdAiJdwXirBRdnaxfvrBbw%3D%3D&nvMid=29030294588&catId=50001519\n",
      "아이폰 13 프로 512GB [자급제] 1,895,990 https://cr.shopping.naver.com/adcr.nhn?x=8U7F3vlnrG6p%2BhwhyM2abf%2F%2F%2Fw%3D%3Ds2YJlkgPoSNypBV%2BZksKdMP2682f3Nnf56K2lTQseaFTrlQPyQuHoHFsppYbPEdHaNeWCicMHo%2BW0y2CdBmRQap3cnORBGTJAA4Yv2FatPIkcftp%2FN9DUiqZqkHD4BNgut3RRWGCmZoS%2FKQL60CE8toZnlrSZr8PDPdBCvs8uWtdeJxHcKH4rYUhc5SxvGs%2FQ4JqcN%2FBxxv5wjdahLDrWxyJO7jbxAC%2FhHJnJbE9pD225SET%2FmTh%2Bwr3iKnDGr9FR6WMcVzhunHGcajqoxfsnFduvhaZJBMtBPpV%2BXYtitfLBz7%2BORHa%2BX777%2F5U82WuFPW%2FWhsws%2BmqKZySCwtxb%2F0APtv%2FGbRJmdn8%2FSDFPEJo6JIeyjRJJG8AQSjlBThBKRuaDR2LrEXFDwvTptY5wkWnth110%2FwphIVtZLgttti8iNvEAyH7XT6ObGe95mRdUsw%2FEBFoDxdMAZ4HSpGP%2F1p32zsG5xtq8VV99GPhPX2Qi5HSrzhhCOMWuXdZxvGXvk9L6rt0SOVsUsc5EylGdlXqPfIw2iR3XpAqh%2BevR4l3mHk%2FLTRk%2FwdKd80loFBR7MCx0oZ8VPc5NxzlDo0F4fVuymjZk92UHlbdpJOkp6D7KL7iSRwBgsHdIS39M5KPOBq7h9PA5SrIXrcWPClBGWw%3D%3D&nvMid=29030416587&catId=50001519\n",
      "Apple 아이폰 13 미니 128GB [LG U+] 199,600 https://cr.shopping.naver.com/adcr.nhn?x=MpO6rlxohFNdAoEj5hiuYv%2F%2F%2Fw%3D%3DsYRzJua%2BI2aCDeFXBDX2gCKtAz5eq59fbIlmghK4kx7qGgjNtjvRyY8TaEm3AQ5UwzOJLej%2FXowdxfWzAoBLqsUqo6n7qF3YPofV6Aa07MyYiIUwXTeY6KaMdFuJ%2FYxPVJ9ydSTe1GkC4ZQID6E0KIN9%2BKy%2Fm0d%2BgYWHtEf61Jo5CNclKwvLyA%2Fys%2F%2FHPPajLA3j9XDrRG9Uh1j5Svj4T2WNmcbgLr0lu2cCLGgyX7c9vsepmwRk8o%2FCB4DgHhnjVnI5GUgxMf4ORiqZn3C1LBauKWQN4b7WstTXVRp4V%2Fd2Kx7G3krbJiQXzryuwwOqJAMBwd620oT6%2BeTeUil%2FfrAMUKPmRHQ%2FNjYHdAtebdMRKjRp2D9pkBhcJdqPQCXkTzAmNCrr%2BriilNNms7VBuf%2FG6GGpLrNfEe%2FiN9%2FMtOV8LSv5SYzis5SVdiBAX6a8Rg4OPtThFM2yPBsnrKnNGzyYtkSTd%2BfgelX7xJEAak8CE4FQdvRmo7oxOSvwywmch79yIWUXrUtJVIWs%2FZ1SZVnVPAUN%2FyS5a8rGcAD%2Fk4D%2BIDf9TYDOC4LzgCehLsur5qD1LeuMbDqqLV8wJkXKV1fJLJN1T8VB0EJwDR%2FuP2prNjqh%2FZemCCOboDhnweAmG&nvMid=29030431586&catId=50000248\n",
      "아이폰 13 프로 맥스 1TB [자급제] 1,946,000 https://cr.shopping.naver.com/adcr.nhn?x=UfwvTYaiEGvCTrU%2BaHooA%2F%2F%2F%2Fw%3D%3Ds3wnaf2pFUTGK56ONRCNMWQuX6oWQiFTlb7IMI3kmq0RN4NgkrPIjlczCBjhk2dSMIaMEkoTe8%2F8dwjCJZqVYh6dcvfdl93VC71t8WUudX5WDfUP3whulDFunP657F3PQsQxI0r%2BbPmFsVWLl0g7V3Mv%2BjB2erv%2BZ%2Brrs5VHOiTQgGE7%2BZatKjf5hEf1XctkKaTi1gS9Bk8v8CfyRr5Y7JZbkCnZt3PKDnGtnPfTpWXV9gLRMuJH34gK%2BdKxxm2wLfHX%2FKvLeMRhy2z4sWQA%2F16sJF1TG8DXvuOXRWh2aiSE1QmeK3ZPITzKHcbEnR%2BI899%2FO9SavXJBu3gZiQXH08jbxToecbVUdsYEIUY11fvXYe9CsbWrnsboog%2B94RL%2FI0Xaie43S1ci44hGLx1E05ZL9mD5%2BSeM0mpFWNttuOlBFx37WIyrziE4Ps6WrDu%2FET9Lvfhn9NmZebq06Rt58vdNPF6hKiU3wlJ2GjrPWYdX1JtnyFV8OD7Bngtl8x0Qvfm8I4%2BLwqxkEirhSi8uz%2FNPIu2m18r1qIr6v2YsZxfOUy967mlSa3mZfqZTLi6DqjXh5XLjrT8%2FyXF1Uhdiu44qDQ41wNvh4TP95ogoIt0U6HJZQgjI8VSlbO1R88zJ2DVCYCaeglF2rgr1u2OQIzQ%3D%3D&nvMid=29029192590&catId=50001519\n",
      "아이폰 13 프로 맥스 128GB [자급제] 1,929,000 https://cr.shopping.naver.com/adcr.nhn?x=Y3KdWZt3%2FZZ8NJ1dkYPSSv%2F%2F%2Fw%3D%3DsT85EM5rDEKrf5sFL8OALfZvPbNDKQy49GVsjLByuHDpN4NgkrPIjlczCBjhk2dSMb5h0VYl1zNjflkQp2KbLJadcvfdl93VC71t8WUudX5WDfUP3whulDFunP657F3PQsQxI0r%2BbPmFsVWLl0g7V3Mv%2BjB2erv%2BZ%2Brrs5VHOiTQgGE7%2BZatKjf5hEf1XctkKCjNzjsdpE73XW2e7c9P%2FXJbkCnZt3PKDnGtnPfTpWXV9gLRMuJH34gK%2BdKxxm2wLfHX%2FKvLeMRhy2z4sWQA%2F16sJF1TG8DXvuOXRWh2aiSE1QmeK3ZPITzKHcbEnR%2BI8Aiba%2BOW0xIXjnFBHJzgmAFnxkoN0SeE5IjNLXF5%2B5dnYe9CsbWrnsboog%2B94RL%2FIIJqYij42qzXs9en11iGzhYRe7uHgyNF3WXsM9BHB6lpFx37WIyrziE4Ps6WrDu%2FET9Lvfhn9NmZebq06Rt58vYkgzN6tL5dh4yvsrQ4tB4rPU6pntGCurhu%2FV8uonTYh5X6MB3JdbnBohOi8QY2mslpDxsnahUpJHmoP1tWmJmw81Gi44tUFH1uRUKbnASPQezdPirNIEhU3YcDKwV2g5M8rY2uq1ZxfgByowfehZyyy5o2wVXHl6Nqb%2FoiWMPZUQdAiJdwXirBRdnaxfvrBbw%3D%3D&nvMid=29030367587&catId=50001519\n",
      "아이폰 13 프로 맥스 512GB [자급제] 1,932,000 https://cr.shopping.naver.com/adcr.nhn?x=uIZpY%2BHte3Ix6BIf3o0Vj%2F%2F%2F%2Fw%3D%3DsT9Lq6xfD6nUSuzLvmevpzEm1kV9eo5X6zTn%2FFGstfrJN4NgkrPIjlczCBjhk2dSMY9bOhLtB3mMizrQOC0Pm56dcvfdl93VC71t8WUudX5WDfUP3whulDFunP657F3PQsQxI0r%2BbPmFsVWLl0g7V3Mv%2BjB2erv%2BZ%2Brrs5VHOiTQgGE7%2BZatKjf5hEf1XctkKwzZoEE1irv0jVFjUiTpIZJbkCnZt3PKDnGtnPfTpWXV9gLRMuJH34gK%2BdKxxm2wLfHX%2FKvLeMRhy2z4sWQA%2F16sJF1TG8DXvuOXRWh2aiSE1QmeK3ZPITzKHcbEnR%2BI8mXpE%2FWYm5Ai0tHt21rYEpkBFUYfhI7uH5Fgl4yiCwH3Ye9CsbWrnsboog%2B94RL%2FI0Xaie43S1ci44hGLx1E05YPk2vryFU100lCcPyTJO%2BBFx37WIyrziE4Ps6WrDu%2FET9Lvfhn9NmZebq06Rt58vUK94HazsIJk%2FjsIwcFBS2bPU6pntGCurhu%2FV8uonTYh5X6MB3JdbnBohOi8QY2mskVuBY5V8KvlWSxQpSde83U81Gi44tUFH1uRUKbnASPQezdPirNIEhU3YcDKwV2g5K6QNQ9yt4scyrUny9Y4h26y5o2wVXHl6Nqb%2FoiWMPZUQdAiJdwXirBRdnaxfvrBbw%3D%3D&nvMid=29029192586&catId=50001519\n",
      "아이폰 13 512GB [자급제] 1,200,000 https://cr.shopping.naver.com/adcr.nhn?x=uwt0taOAS8mc0iVwBhEqLv%2F%2F%2Fw%3D%3DsDcOfRcywYYGV48WnOxYf9tsY785PqM0CI76GfEeWQ8tN4NgkrPIjlczCBjhk2dSMKQ6QIa0JUIaFXqFawfG8DKdcvfdl93VC71t8WUudX5WDfUP3whulDFunP657F3PQsQxI0r%2BbPmFsVWLl0g7V3Mv%2BjB2erv%2BZ%2Brrs5VHOiTQgGE7%2BZatKjf5hEf1XctkKd9m%2BLxP%2FPGMcWnBQjed9gpbkCnZt3PKDnGtnPfTpWXV9gLRMuJH34gK%2BdKxxm2wLfHX%2FKvLeMRhy2z4sWQA%2F16sJF1TG8DXvuOXRWh2aiSE1QmeK3ZPITzKHcbEnR%2BI8ECLg%2BRKBikuVCd87CUWG9ppXEh6F%2Be%2FOA2RJIMCu8G%2FYe9CsbWrnsboog%2B94RL%2FIRQYJGnTLx4%2BG2ZBv7FHJroPk2vryFU100lCcPyTJO%2BBFx37WIyrziE4Ps6WrDu%2FEIiAHeBidOvRaPuHnEvX4KXUjwQMKHmfZEGs9R%2F5gzgFfxr8e8848S4N3UJ7%2FNlg1hjB0fF%2B49WjLo5OG0tku42w%2FFEqg7RU7%2FxUxt5EkA%2Fb6C0XXk8ySaOQ0OaLzzIxFaPcxOY2vBzVd7yMwG%2Fa4HhWw2Ajm%2FhO0eIw%2BcJxbnDSCqA6%2BrrPkSkQjk3bFq%2FUy&nvMid=29030496586&catId=50001519\n",
      "Apple 아이폰 13 128GB [LG U+] 147,500 https://cr.shopping.naver.com/adcr.nhn?x=P59Lxa5%2FgttoQau6rdgRGv%2F%2F%2Fw%3D%3Ds7zdUXH79DtxxojHVq%2B%2FLo5bBGmAFwLkfPXwtduFGgnFN4NgkrPIjlczCBjhk2dSMdTu0UyQ835R%2BEWF8yrWdKqdcvfdl93VC71t8WUudX5WDfUP3whulDFunP657F3PQsQxI0r%2BbPmFsVWLl0g7V3Mv%2BjB2erv%2BZ%2Brrs5VHOiTQgGE7%2BZatKjf5hEf1XctkKGll8RgYOXbcr8LPyXLkSgZbkCnZt3PKDnGtnPfTpWXV9gLRMuJH34gK%2BdKxxm2wLfHX%2FKvLeMRhy2z4sWQA%2F16sJF1TG8DXvuOXRWh2aiSE1QmeK3ZPITzKHcbEnR%2BI8OtWnyh7%2FbZJM9zvFQH00giYLcshvCtmSENWePqN7lw3lp1VU53fqxlKTBT%2Bu6wKC4qw%2FDyRJeCcu6nEdcsINZoPk2vryFU100lCcPyTJO%2BBFx37WIyrziE4Ps6WrDu%2FEkQhsK9FrLIaKhTqeCPe5%2BgfIrAwiKexctEjA8ARADhfZSOiGkruxnJjzdI4iP%2FCgS5VP1KK7LXTsRko0n6C7LsLSGId%2BZ%2FOYAjRfVwLnTYrMEdEfu1xvbC4eb7xVsCBpPkmTyFuHZLNBgzqB0pCMCm9TZjqEQTAbFzUBl8432wvhVEAf6wwM5tqtSh0bB5Hx&nvMid=29030372586&catId=50000248\n",
      "Apple 아이폰 13 미니 512GB [LG U+] 448,000 https://cr.shopping.naver.com/adcr.nhn?x=NS44di6hCheYPGW0fIl8s%2F%2F%2F%2Fw%3D%3Dse%2FNalKnIYVm0M%2FD7W0HtLf%2FnsauLYSRZeMH4E925ByZN4NgkrPIjlczCBjhk2dSMpk1izOy0Ys9THlgz0St126dcvfdl93VC71t8WUudX5WDfUP3whulDFunP657F3PQsQxI0r%2BbPmFsVWLl0g7V3Mv%2BjB2erv%2BZ%2Brrs5VHOiTQgGE7%2BZatKjf5hEf1XctkKiUcxJt3KuQoVz4dC4LwqcZbkCnZt3PKDnGtnPfTpWXV9gLRMuJH34gK%2BdKxxm2wLfHX%2FKvLeMRhy2z4sWQA%2F16sJF1TG8DXvuOXRWh2aiSE1QmeK3ZPITzKHcbEnR%2BI8PbT5wiUVYuHlJQnnBMvEMlgpw8Llt1IToBQlXsjDgLflp1VU53fqxlKTBT%2Bu6wKC4G5Q6KKxRauAQl%2F4z4FU5IPk2vryFU100lCcPyTJO%2BBFx37WIyrziE4Ps6WrDu%2FEC%2BPCK4hWZVak%2FmlGHuf2bFIW%2BY6dtkO5I2VlccU6I9W7A%2F0vSPti8cHY4o2fastwTycQASzesqBc71TANuxPl9KBwVXIhLu5Jr9c4Zx4M3USzxwVRNV%2FYRemZK5z1sCE8ViYFR49PBUWZRvfrvzZK%2B%2B374Olj3TPipkAYVzE9uuFbDf4gHI5rSMJU1BWcIOg&nvMid=29030419586&catId=50000248\n"
     ]
    },
    {
     "name": "stdout",
     "output_type": "stream",
     "text": [
      "아이폰 13 프로 128GB [SKT] 1,183,300 https://cr.shopping.naver.com/adcr.nhn?x=Dn9xjiN72whMdnwS7eTYD%2F%2F%2F%2Fw%3D%3Ds37bx7t9GTnHyCxVhBsdQcQ%2Bc1pMeHmWGEnaryb009PHrlQPyQuHoHFsppYbPEdHaFH4nlWBCNH%2BwoOgbM%2B15x%2BjldOx9yz1%2FKxgIAWAWipgcftp%2FN9DUiqZqkHD4BNgut3RRWGCmZoS%2FKQL60CE8toZnlrSZr8PDPdBCvs8uWtdeJxHcKH4rYUhc5SxvGs%2FQ96DW%2BGycTBZMVki5iCCJNyJO7jbxAC%2FhHJnJbE9pD225SET%2FmTh%2Bwr3iKnDGr9FR6WMcVzhunHGcajqoxfsnFduvhaZJBMtBPpV%2BXYtitfLBz7%2BORHa%2BX777%2F5U82WuFRDpykpOqWZgZqWcBmVwRDU7JgJbZICKNejrN5R%2BKAjM6JIeyjRJJG8AQSjlBThBKI4LX2ExoCUK9EE2u%2ByICs0WEh0pNn3CKdGSnP1%2Bc0KciNvEAyH7XT6ObGe95mRdUsw%2FEBFoDxdMAZ4HSpGP%2F1iPyGZXVC4%2BpXxewNqrW%2B3wYe1OqyckzwcdzigJZeXyj8GeP5QCF6mm4B5aN9MhUjBSTRf%2FzNcc6lvtvuIDPb3idSlPOZBN6V54TTL6u%2FzFsRGAH42RQxV7IsHw4AovglV9z4Dnyyu74Bk5nJq6vipnke%2FVP%2BgM94BPZkP5YJ%2Bex&nvMid=29030177588&catId=50000246\n",
      "Apple 아이폰 13 프로 256GB [LG U+] 1,299,200 https://cr.shopping.naver.com/adcr.nhn?x=chpc1nywpQhnn4Prt2uODv%2F%2F%2Fw%3D%3Dsy6%2BaJ1kA6ThSdOP3FP7%2B%2F1FdrQ8kJMaqShlmxB5vJp5N4NgkrPIjlczCBjhk2dSMtSS3OabErBoggWmRuiS9fKdcvfdl93VC71t8WUudX5WDfUP3whulDFunP657F3PQsQxI0r%2BbPmFsVWLl0g7V3Mv%2BjB2erv%2BZ%2Brrs5VHOiTQgGE7%2BZatKjf5hEf1XctkK7oakGQ6eZNyfdOEuH2mX2ZbkCnZt3PKDnGtnPfTpWXV9gLRMuJH34gK%2BdKxxm2wLfHX%2FKvLeMRhy2z4sWQA%2F16sJF1TG8DXvuOXRWh2aiSE1QmeK3ZPITzKHcbEnR%2BI8iRnJHPiZmwH9X%2FHh0oLPGng%2FSyMT59CDjI78UPa3sp%2Flp1VU53fqxlKTBT%2Bu6wKCjYM11EGwxIEmZT58m7el84Pk2vryFU100lCcPyTJO%2BBFx37WIyrziE4Ps6WrDu%2FET9Lvfhn9NmZebq06Rt58vQ6sGfNCfXGE1vlrcjWE3b%2B7A%2F0vSPti8cHY4o2fastwX%2FNJeOjNe%2FfLYEDdQwxXI4Iy10iflHPcAGIOH0bC8%2FQRpOFzCbaM6OU97uoPifjr9x2r4CvQIXr%2BPBAXmyZplJK49MUql8PbHsx2Bd6OsGrLVWGr8fvvH1mWvUgXPK6j&nvMid=29030415586&catId=50000248\n",
      "판매중단 판매중단 판매중단\n",
      "판매중단 판매중단 판매중단\n",
      "판매중단 판매중단 판매중단\n",
      "아이폰 13 256GB [SKT] 1,177,700 https://cr.shopping.naver.com/adcr.nhn?x=cxaBlRRyIEnunBNfEbM%2Fp%2F%2F%2F%2Fw%3D%3Ds%2B1JOKEy3XwM27%2FwBDuHvARjCmGbhmQkpuLyjJBdRXM4CYpaXrkpTZ0FTnmqeb1eBVC%2BvxAUPVUbsp6p5EFgQnQq8%2BZJqA7q5TwTs3X6xp5ZYvurdaxDKa8k2yknx5bs9H1Sflk8z7mwUnCrM5qphNVVd6Z%2BmZ5fvTALbBBPmfKL392rcVj5mouEkJq8zyckjO%2B6tJJldtOQO%2FivU7qDTsjMYBx1AVSExF%2FJDG79qxZoFypEAKt23XSMWLSN%2F%2BOUvYurnIReBtOrCBxL9xNVBlkPg%2F6PYJW9LpCSumzPJoigK7CtQzZWLlur1%2FFge4%2BEp3RGUpejGb7OwJoGMog9stz1nRJ4yoQ1ByXgZXYF4asWGpoKWOXMtXYYrqzm325TqxElSNaNz4UhbaGjb30AYegp3GmZH8572EBGDELnqRN19jr8eNdNYNsPM9vHnSTJRRI3B4lZcne%2FawTaXL7%2Fbtxh7U6rJyTPBx3OKAll5fKOrC%2BhZ7QYEVxDNwCPq%2F4fp64xhNf%2FC28xx9764TztEs51KU85kE3pXnhNMvq7%2FMWyAzUAMLbNCyAX5ShNvVHJCcsMxuIil%2FbEK1jRYq9kfKeR79U%2F6Az3gE9mQ%2Flgn57E%3D&nvMid=29030181591&catId=50000246\n",
      "판매중단 판매중단 판매중단\n",
      "판매중단 판매중단 판매중단\n",
      "판매중단 판매중단 판매중단\n",
      "아이폰13 미니 128GB 공시기준 Apple iPhone13 128G 39,000 https://cr.shopping.naver.com/adcr.nhn?x=pSA94JbozzvVEwTrfcRP6f%2F%2F%2Fw%3D%3DsWrhM28FY%2BfwGciIC73aQdy%2Bqr%2F0Yo0pILrL6Tann2kaGgjNtjvRyY8TaEm3AQ5UwEN0L%2BTapUMPGonRK7cCD10qo6n7qF3YPofV6Aa07MyYiIUwXTeY6KaMdFuJ%2FYxPVzJoOg%2Ba67w6jAsFHudsoNVi393%2FfVqWWsor6vo8eno%2BO%2FsdgQE5FIA0Tw1QMogpFtsLd9dxlQkFynw99rKTzVmM%2FC5%2Bczn9xbnwOyLekqASKTlJ8lcUmkRSohrYRg4DU26%2BFpkkEy0E%2BlX5di2K18sHPv45Edr5fvvv%2FlTzZa4UHkAZmu0QBFfYln4oHS7GvEdj8XLWG4EIn%2B0fSAimeE1hkUshswqQI4dLspz8OD30FMHW5gS42v9M%2BTlphZZaybrWWh2aEEyeLsyBd2JyxQ6GjjtClkoSqwO2YYtmDB4nTjN8i0m64IHsYHlMEa7vMfseAv6YZIZWxWTcVpgKUbDbipPVtyYpPYC5H0y6VpjM7Xyt0PYoXdxQxsEF5Rm%2BDkVYfpRDNTUUOC%2FJlO2s9RNOf4i9zFrBXE2548%2F2S162Valr7tEQQwHHoGkUdyEt2%2FFBCR%2F4NqwytY1aNrA8n0FQoGWGQA3ri34etHWnddbZB0CIl3BeKsFF2drF%2B%2BsFv&nvMid=38665575984&catId=50001519\n",
      "애플 아이폰13mini 미니 128GB 스타라이트 자급제 739,000 https://cr.shopping.naver.com/adcr.nhn?x=HBXm%2FPm%2FcCerQXWkzZLT2%2F%2F%2F%2Fw%3D%3Dsc%2F0DhaJ26ejGf3yVhyJ5l2r9YbO2mZ7WouN4s0Z8hbKGgjNtjvRyY8TaEm3AQ5Uwu0ERPR2edKF71eyDdF39MUqo6n7qF3YPofV6Aa07MyYiIUwXTeY6KaMdFuJ%2FYxPVJ9ydSTe1GkC4ZQID6E0KIES%2BortKzfQDWBF5GV%2FKfqEhJv3ljJo79VVIpj6%2Fm3WO1jvr183%2BCBWJZHQNougRCWLq5yEXgbTqwgcS%2FcTVQZZD4P%2Bj2CVvS6QkrpszyaIoCuwrUM2Vi5bq9fxYHuPhKRwXuqgFDRwhoa9P4Y5H7spkavxZydohLvJWILM7TGz02HvQrG1q57G6KIPveES%2FyFmxbfpTJ0ylR%2B8eqTfxuknS09kVQ7qnPoUVh%2BQr6LOR1N%2BL%2B8ZmM0Nx8bo26nF%2FqC20fZoRxPKOGVk1zbggriOFvz4oa0smIun8neuYoBVS%2Fpqqrwtsg20qGPbeDBeWOV2e%2BiiWQpU2i6IrG8WK0hDClTSnqsCBu0wAaovzoELcPNRouOLVBR9bkVCm5wEj0GSSH%2B756KYinJFvSqFwjJEHvkTS57LRy0p0zSo%2BTCHsWgXbl5xc%2FNrMP9XfcvRL2FaFndIwdNwuWmKtx1HNSCrUkiyUGZ3FpPHvE7X48%2Bhb&nvMid=85266284861&catId=50001519\n",
      "아이폰13 미니 128GB 미개봉 새제품 159,000 https://cr.shopping.naver.com/adcr.nhn?x=9slwthQSNkL0%2B1%2BFsiM0hP%2F%2F%2Fw%3D%3Ds%2BB%2BAXqVYpy4Snmr0k1fEa4gExz%2Fs2Uwntixzeu82oCeGgjNtjvRyY8TaEm3AQ5UwtpinEemDmu5DRatXLEauzkqo6n7qF3YPofV6Aa07MyYiIUwXTeY6KaMdFuJ%2FYxPVzJoOg%2Ba67w6jAsFHudsoNcdGH5KCyVnB8U4SStFY7E%2BvTLzzdgu0YMXaHxkkqXw7BS6DXGlqXXvFOmw%2BEQ4qOXU0mIpA1ycJdA0Yt52j3bkXuHuZfjnh%2BZtCKaLMO%2BcFyc9uKfCopxI8wMEQ2kNr4eXCuTyphDLRqZ8nysmnunmnYSmhsG6%2BJKZGRZux5sVqumu5MYNf82adD%2BYNiroM45zHu6uGrDFvMDwr9PMQLBUUCfWrir2%2F1Up3fO2JbCZ9nIIfrBfZKuZA7osoOFrNe7ngnxQ7ssMZd09T0OjyjIxearTBvydD1LUI3JWpCADI59WOIt%2BWYUPkxt0dMHNdzLv2mQ7p1J4r2pLfn6hlDhwnbizypoO63NYS97zZos5PhqPL4IZNjmd3t2suNDBeXJHCYQVNLk1ucTY4Z7EtU4WVZ93Riz1C%2BjjeP8gxfsH94smKru5PHKWzsSL6qwlpXKw7kvVBHBXiwL%2FWx7WAMJM1Wiy4p5ckplOSs3QYk1YEpnS9Q904alZu1dts9oW%2F73R9INs9ZpxiOekV5%2FkbMXGOX8F3rznOd1dhCtzxXC2jCrttGlO%2BJxMONZNa2OTMmgN%2BQsjK6V0FLd%2Fybx7qcubNSE3OzZUT76KyqzckASmm&nvMid=42320616520&catId=50001519\n",
      "[내일도착] Apple 아이폰 13 mini 자급제 798,000 https://cr.shopping.naver.com/adcr.nhn?x=EzA9zs66Pi2tVEdqMPZzOP%2F%2F%2Fw%3D%3Ds7npvDkiCY4mwKQmfYE7yfLmb7bhM93RiAYWxQf%2FGaHWGgjNtjvRyY8TaEm3AQ5Uw53cPBk7hDLUCgD5H0yWYSEqo6n7qF3YPofV6Aa07MyYiIUwXTeY6KaMdFuJ%2FYxPVJ9ydSTe1GkC4ZQID6E0KIBzWbUP4hsfkDiMh%2FeiprrdhOluJ1tWQQiXRTgst1zfMpht6wuC8Q5gPwch3IHwmw0AgVWmd2pc4ZePq3SVamuhbtJ2V00P6VdPe2H8e9V9Dc6%2F4a2YLjqUbtiqq%2FZOoKePv15MoZGz90Ju%2FgL9pbABh3DMDD7nh%2BSJiAtPKB8AjVOruJOVEnSGcgdhSWbQoTSasP24Lmf1CNPoHH1yWBfjbr4WmSQTLQT6Vfl2LYrXywc%2B%2FjkR2vl%2B%2B%2B%2F%2BVPNlrhSMsabe6Q7d2ww4NeVqsw1NTZGFMU8fh4MDuZCFZzWC%2FhqQvwmR%2FqlT0jQuNbOPrwnVS1cxTGOPYdTm638il1TjycB0ozqO98MDIIqcXP0p%2F5dQtLUuY0e7%2FodvBozZczCRi0%2BD4iPgVEQ%2BZpQUUBy%2B7Jw8ZSYT7%2BQGfbFSZVSXYt%2FaFy%2B3sF%2FfRnjPe25Eg%2FnWBF5cvZDhm8LskrCV8A34YH3%2BJ1jR9PM%2FZRD2VEfJh05%2FiL3MWsFcTbnjz%2FZLXrfoXJz9Ul8Kv3tduIESLm7AEsCcVkK2X2BWaZ8mA83uRPZCeePWzfrzQGoUVtIiqy0HQIiXcF4qwUXZ2sX76wW8%3D&nvMid=44297102257&catId=50001519\n",
      "애플 아이폰13미니 256G 자급제 새제품 공기계 정품 269,000 https://cr.shopping.naver.com/adcr.nhn?x=g07mNBiiQDoE6xz3AH%2F%2BiP%2F%2F%2Fw%3D%3Dso2vhFupiDb6UkiZfhSkiRllLEm9gLfOXvRbVDcYJvWuGgjNtjvRyY8TaEm3AQ5UwlYNF8eoTahWSP9QQEupmNUqo6n7qF3YPofV6Aa07MyYiIUwXTeY6KaMdFuJ%2FYxPVzJoOg%2Ba67w6jAsFHudsoNVi393%2FfVqWWsor6vo8eno%2BO%2FsdgQE5FIA0Tw1QMogpFjba5%2BwYR8LPgFrvc%2B3VpW%2B9NdaW8cB5BkV5gqIcNho%2BKTlJ8lcUmkRSohrYRg4DU26%2BFpkkEy0E%2BlX5di2K18sHPv45Edr5fvvv%2FlTzZa4UNQdWyzrz%2F4%2FolXs7AQv6OtFiF1jmXgibAsEmHqxY44Op2LdD%2BbxXYDmNHXbecDBm%2BpnyGKLmyMo7KkfZnM4y95xCukD0EZXB4q435uKCM8O0O7wm%2B67JkV415rrRl2KkYLrcmdPpAiAuDZVZgUeHtHzZ36F1T4gDgMh356Yb%2BQCtmEu%2BV%2F4gVhOjuIha71wwDeub0otWFwVTA8amlCeWQ9lI7RAcX8AOVulQ2qm0VFkuU0AWrN0FuVRTBoOtCpRNlNzdJFgkoR1MOL3Zb6EWFwI1KSv%2B73XnEONI1z9s5aWGZ%2FK2SoBkHzmHAg55X18ZXc50eBITwugSNPH3Ok09sVpGw61BSdoQRvEGgfFlc5w%3D%3D&nvMid=39992375225&catId=50001519\n",
      "[아이폰] 애플 아이폰13미니 128GB 미개봉 미개통 새상품 정품 58,200 https://cr.shopping.naver.com/adcr.nhn?x=AVxEiQxGSnLm11ERk2u5wP%2F%2F%2Fw%3D%3Ds7AyLubYctF%2BITMEqjrd%2FDLKD04LGaxlC%2BEc6ERt5MLKGgjNtjvRyY8TaEm3AQ5UwAC26e9ykp7kIwX09q5loe0qo6n7qF3YPofV6Aa07MyYiIUwXTeY6KaMdFuJ%2FYxPVJ9ydSTe1GkC4ZQID6E0KIMQfcp7YXkf%2Fu%2FXnNGbHLRRWR7fx5yQI121h3YIs%2BgYPxrgbkemE%2B9flQGh4zPwRSeGXaoj%2BpZeuESWVnHGLXIYcf4E1P7Eu7ExMtHINUslQqC6IfftJ1ok4TummOzGU7iYl%2B1EuneEB2I46kWtDzCkUM896hoKR%2B6V%2B7ZlpQ%2ByiB7P9jx5KZr1oy9qstZx7mzTWSRoZiB3k8XYe%2BXGIzYnrBW0xVTnSAbDtM%2FRBw%2FmUXa1PYAb0zmPF1cRoKRscXUhEek4lIk5IVSGX7lLgf%2F9PN8XTSBiKH9P9uAnL1O9WRJEGEM279dXJHsRwRUYWD3woIi5WCIlKcL9MfdJdHHh6HyF9b%2FxCx7848wRHrcLmqnUc%2FV%2BG4OLhgnhDd%2B%2FrKfuGJJ54ihViGt%2BqpMwpRIOd3f%2BX%2FlDTwdqYpyYP8j65XQuzidsYGTrXUxdWN%2BUqy7PpNdNnRV0gILNf%2FJ%2FQyDYiy8a2hSdRLxkExF4hHd0N2ZVWCwxCaZyPHBegjD0iFkjZEOzApZt6L%2Fp5kB%2F6wiuP%2FeGlZXwNZEe3kSGYQy3qhWw3%2BIByOa0jCVNQVnCDoA%3D%3D&nvMid=39993191428&catId=50001519\n",
      "해외애플 아이폰13미니 128GB 미국판 직구 무음 자급제 공기계 미개봉 1,020,000 https://cr.shopping.naver.com/adcr.nhn?x=FdaQvKP0fIrEphJZ8j9MGv%2F%2F%2Fw%3D%3DsuyZF0OcGO7PbHJ50TPxfmhoIcubsxfYMkGZtlzWaDsHrlQPyQuHoHFsppYbPEdHaxnw%2FqnCPbSchRsA8m5qjAz7F5qKbwCN6rfF3O4oXspQcftp%2FN9DUiqZqkHD4BNgut3RRWGCmZoS%2FKQL60CE8tsmscUZuB%2FB3GA4tAdwd4kJn0E%2B7lsL8Xc%2FJzL4Vwihd9FrHroyJa%2BfyCqdxepyV8Hx1%2Fyry3jEYcts%2BLFkAP9erCRdUxvA177jl0VodmokhNUJnit2TyE8yh3GxJ0fiPJBjU%2Fb%2FbZItVOVUjiG12NwU3dCN8vnMvN1TqjvLlhQQf5S5ycDGuwbfEdv1A6kKwvwKsQXY%2FNQoU5Xulq%2FYy8jZaQwE0nLYodRIJCPa7NyKB3NE5VcqPvQCwJUFU0Myv%2FNsdjnqchz2mZNAcYeusaaZLx9KlrfhklkSueR%2Bxl9aoptF0Zau4gZTLMIfad1mftbYQdvcutSX6Oqxjoc5VLlFW%2BXRnNvU1JQ8KntXNrb6XjgYw4Ltvubria2BvofEMlZVK7CN1MLWcrayhTP0CcBrWNLxRrWHCJoudYzHCivGa279ockzwLRmpTtf0H32p%2B1V8FmR7gPJvspUqsZMoL4HXgNkHIb%2FYba0YwL38ivLaGimR4pR27mrh1IoDTOSgA%3D%3D&nvMid=84830466060&catId=50001519\n",
      "애플 아이폰 13 mini 128GB 그린 미니 코스트코 769,800 https://cr.shopping.naver.com/adcr.nhn?x=mZu%2Ba3jHxrKpHRmt%2BrZHvP%2F%2F%2Fw%3D%3Ds9rLUJADmV%2BMrB1F4HC%2BVnhAMj62K5h5IzqXmI2cHx6JN4NgkrPIjlczCBjhk2dSMF11HpxQU8uaK%2FQQ08xQ2xqdcvfdl93VC71t8WUudX5WDfUP3whulDFunP657F3PQWAQrXzP%2FyK5q9r366WPx6cVIhUTYq2J1wF4XcKD2AOWkOA3ZateG%2FY8eKxwX1E0NKV%2BLgn%2B8RK%2BetuyGqH7PDVChJd%2F%2BGp45pXbiYJEiosbDpmNu2Rs3tEPrV0ZTODsbWqyaFa2xLbpwGCJChqMDquJC9rmeSoiJBJYlnEfwomiudT8iv8v2bZqkA70M%2FKKTG1fUqIZ7CTqeNBeEUiuIjQM6HiTaocqz4lu703au8PvN81WjUpxJVJrN5mDsz4BpfLqDwX4Z8OBT81rUdqGPg19VkulwkE55TjwozC31r4DJC0e2nmcHMhlMvQWQOHT0bApPx3B0bOSOlTVCzMEWa%2BT0V%2Bk7uo3EoNMF9lndVWsnM5uPrVMgAY8jQKkdTylZsQocLEGGa0wsleHc2pFkrWg9bdcV9saS8ame6j2vPwISF6wla%2Fz47KPYQTsB2M29h0U4Yq1AHQPPDu%2FuDfGs18tVYavx%2B%2B8fWZa9SBc8rqM%3D&nvMid=87171287700&catId=50001519\n",
      "애플 아이폰13mini 미니 128GB 핑크 자급제 729,000 https://cr.shopping.naver.com/adcr.nhn?x=5bzA9LJOryQwuUhxHqtRyf%2F%2F%2Fw%3D%3DsHFgW7bO%2Bgu0MrH4p8GqFUCVG9CEiO2pR%2BKZcw4I916ODsR24mGIAJgymJXpdAhTH3c1JLzEC1b2h4zYdeK81sUq%2F1WXL1wDM8%2FHy1cKb2kik5zB0pGKENX0x1nFNaDWry7WsjvL6fGBruqRzbSMBoQdLXoybizBOVFY0bnGAXBuoE6QNMa3g2CTVTt1hrNy0bcK3o6OsbAO%2F6KqiqHy8XMDn8ecZTXPtXXvKQ7KyaqJr6kdrp7BvT8OlwZ7P37YyZp%2FuhVWf5tMOyu5R2EADuyDgJ7ZhcWxuq08dH8yyAWDHvY%2FUzN94OzIr5wG3PfiA2lynx4BVSJwU0bIHfjOurn0t%2Bod4OaOLfabaqfhmmwSKqlKvy042cgqEN3oNYZa7iITOQOKXx2z4FiIejiYtQzjBm4SDUIYAZo7uPadEORA5xgxeGwNvrnqwiTcDO2TyDNH02av5hJu1vkogRFjtho0rp7B85lNmfU6mKxoFjNRrWNLxRrWHCJoudYzHCivGIOzigafXwFAJx9QBBtfbKF9mNNkIOx6X53CpumzsNLUJduM%2BK4cas%2BCYiiUHzd8YaGimR4pR27mrh1IoDTOSgA%3D%3D&nvMid=87091267964&catId=50001519\n"
     ]
    },
    {
     "name": "stdout",
     "output_type": "stream",
     "text": [
      "애플 애플 아이폰13 프로 (13Pro) 256GB 자급제폰 기기변경 KT 직영점 388,000 https://cr.shopping.naver.com/adcr.nhn?x=PGFQcC5EG6WC2k%2FOZsRDFf%2F%2F%2Fw%3D%3Ds%2BKJexHn06TEvU8DwchCC9GIfPByxZkUXZeWoS6P3Jt2GgjNtjvRyY8TaEm3AQ5UwSeSINsdQkhMpCDgM848kaUqo6n7qF3YPofV6Aa07MyYiIUwXTeY6KaMdFuJ%2FYxPVywodAotKjUjRzELemDJMasNHgaylo8oOLD%2BoSlOgwQ0CHQNNLjv%2FUbY4TLZErh461tlHnLGeH66LUwoQyPsAcCicmLKJk6k%2Be6tx6IIlLcicgh%2BsF9kq5kDuiyg4Ws17ueCfFDuywxl3T1PQ6PKMjF5qtMG%2FJ0PUtQjclakIAMgNcCV1xS50IcUo9%2Bq5Y6MQ%2B7jB1VhXzkM0R6YdA6grP%2FXB4m7nCt%2B9FQWAi7AA2KiGHVDOkn7f1QQ95OyVLZv0tAyLH4krdKJGz3Ch%2BOvRWJK%2Fvswp1de1u13FUfBXK7L0X42k%2FBckeZhywkyvb1fDD7kZLB013vW0e14edtQzSet3NUsjkTVb2bXVZECmd%2BVW1PGJRaj7cap0I9XfbYUpXZ76KJZClTaLoisbxYrSEMFROLqvoDSpBs1RWpvH0%2BA81Gi44tUFH1uRUKbnASPQhgL9sQPcYLlZAiSaaH3d7p9XPiLstL23DiVPlV7ExBDG1V%2FGGXE%2B9wKVhJyN3%2FK5DhLBwu%2FFQS5xWYf5w6G3jQ%3D%3D&nvMid=39558601637&catId=50001519\n",
      "아이폰13 Mini 128G 블랙 미개봉 새제품 725,000 https://cr.shopping.naver.com/adcr.nhn?x=lEqH2JI2UjjKP0pBNhNi4f%2F%2F%2Fw%3D%3Ds1%2Bv6GSxwn7VsiPjSFULmIJUAFgFBjJGy2bKNugib%2F1lN4NgkrPIjlczCBjhk2dSMElBk0pIik0sLckbRXv2O2Kdcvfdl93VC71t8WUudX5WDfUP3whulDFunP657F3PQ%2BntE%2B3ZFloOMeWyX7dxQrGC4z2qrZH4UPxz19xmOiyr59rhO1IvbiHiRrb0cKw73VTTe9nqyyGsbLIL8gk8zRz6LmulUqjNvqViheoCdFUInY4VDGw8g7oE%2BEAgZw22qy%2F6MHZ6u%2F5n6uuzlUc6JNEuUiTS4CHUtVxQrWeRhExiR%2Fs1HHb7CtW1fggJFVSmyQmAYH%2FLReUH3OSvpFwwhRQxuHr8vjNd4%2BuFGDp4U8hkVi1CoWZXcOJwAMCjyu1%2BIeiudN4wUxYjvrJTsG8aODuR70eADoa3cFhZWQWG4%2FOiZJYKrgCpx%2BfLl%2BbzlLu3fpD8krg0G%2FH7N1afmyob0dnR26cmXygepuWpxN7vMw00DJELo%2F1QYRYktTJSQUPXB%2FP03NIebATtoYdrJ8LR9ttmVVgsMQmmcjxwXoIw9IhZ%2FStKRk02KOnCQW5HRj31JrTv%2Bk9QYNObXQ2QTYFgSpIVsN%2FiAcjmtIwlTUFZwg6A%3D&nvMid=43167449077&catId=50001519\n",
      "Apple 아이폰 13 mini 128GB 그린 코스트코 728,500 https://cr.shopping.naver.com/adcr.nhn?x=7Gm2hHoUQ2QEe1oBfRupCf%2F%2F%2Fw%3D%3Ds9AGh%2FRbWk%2B4cAPnXLESKJdDKFT8q3UU6xZstv5idaTTrlQPyQuHoHFsppYbPEdHamTYggi2By9e879p2sb00ATuy5chVGAIJKAugrnb6eEscftp%2FN9DUiqZqkHD4BNgut3RRWGCmZoS%2FKQL60CE8tsmscUZuB%2FB3GA4tAdwd4kJn0E%2B7lsL8Xc%2FJzL4VwihdvJwkMmcbkGPtuoqylJ0I63x1%2Fyry3jEYcts%2BLFkAP9erCRdUxvA177jl0VodmokhNUJnit2TyE8yh3GxJ0fiPJ2dCtbfX4ey46r14XuLrQ0uphzsyBYX5Z6ve74R4RORx72P1MzfeDsyK%2BcBtz34gB4KpT8DF1Fdfj3dHgMzq1enZlw1tkcvouA4pNtOm0feFNCmLzeuatWc1YgvmV0N1P6nZ5kfcnIgndZYlkb4HoiApMFubjlc675k86G%2B1AONEP5aupePEpA6M87D%2FLDfszB9p9185j%2BKnOYM9MicHVPXGrtcQNSG%2BXSqpdHUpbyeD%2B1GzYyCQAVsDO6ulMSblnW797vn9WldN1fe3WP9FIk9RmYAFeFmZFszLJA6N6AjicqKBLvk%2B323%2FqXrWetXpw4SwcLvxUEucVmH%2BcOht40%3D&nvMid=87170386265&catId=50001519\n",
      "아이폰13미니 iPhone13 Mini 128GB 256GB 자급제 핑크 728,000 https://cr.shopping.naver.com/adcr.nhn?x=7u%2Bgf8W7IoQAlrZoeJNp9P%2F%2F%2Fw%3D%3DsSjp1hbPVsTEpE721fOD6qjr1CAg%2BLrMeXUH3qFqejU%2FrlQPyQuHoHFsppYbPEdHabOX%2F6Ug1vCC8s2tc%2F6xw%2FUG559mHOpi4MPv%2FaukAHJAcftp%2FN9DUiqZqkHD4BNgut3RRWGCmZoS%2FKQL60CE8tuPYFsKOGABFhj5ZzjFkFAeKjyp0s01e9YG50wI1msUPe8mHh3Kr%2F0HgY%2FX1roQzxH0MFxt87b6Ryq0oWcUkkkQHp1roBp%2FQ%2FeRCbPpe3P%2FKgPtweeoAAyuAqAHlkROkDmN%2BHgCbGXjrO%2Bi3lZ9jVmIOwJwoaFERq%2FTKUOMNfeL2%2BqqhC9KX0serhB3Q13bp3%2FVJhBvFYfTJhpa9xtmXRk7br4WmSQTLQT6Vfl2LYrXywc%2B%2FjkR2vl%2B%2B%2B%2F%2BVPNlrhUQ6cpKTqlmYGalnAZlcEQ1wBmtCmTNsRmp1NovZtNFt3%2BU0ZuHm5HqkeecUzAqVoz1MV%2BdFuGSgLSYuz8zKx8JdiNSY5iEUdKckqownMdEheTxswSpjtmly9xBJ22QymL%2FJXptxW3ePpx8X%2F3%2Bn8h8OwfDpDpvEij7DUjmSSRh4kikrRlFZp6HCwZ%2Bj%2FnjyUQfDql2y87K%2F6ekaOoF%2BQ5C8kONOc0R0flBC19%2BkCEmv01mBSUBt%2FB6VyDgbPLzrT3R9INs9ZpxiOekV5%2FkbMXGI8Ux7Tujv2ZCnd6y3Xw00%2FlubnM7kZdlblt7IyOHq8QN%2BQsjK6V0FLd%2Fybx7qcubNSE3OzZUT76KyqzckASmm&nvMid=44400889656&catId=50001519\n",
      "Apple 아이폰 13 미니 정품 128GB 새상품 143,280 https://cr.shopping.naver.com/adcr.nhn?x=9ZKJbb9OcQuro1SNO60jpv%2F%2F%2Fw%3D%3DscYG4HDJ%2BDz%2BQhZCTe%2BGI%2Fq5yFZ4Eaw4cgaIIEmf%2FetXrlQPyQuHoHFsppYbPEdHaa28cOMFHsEjoT%2BiDCs7TGk%2BPuRSemp4RvdWPPt%2FwXfscftp%2FN9DUiqZqkHD4BNgut3RRWGCmZoS%2FKQL60CE8ti%2BYxcAxQnoCnUx3jjIiOILcAdZDhcUNQhYf4Z7nu%2FXG16jkJuvIqZkI8jPbs1XkqyIT3jcRNLKU%2FKVpqOA%2FXMkhJfWji9Hn%2BPWkS97H0XLT03rkybV29RmTEbb1E%2FDe%2B9uvhaZJBMtBPpV%2BXYtitfLBz7%2BORHa%2BX777%2F5U82WuFRDpykpOqWZgZqWcBmVwRDW3Z1QeeGNnVQzFvbM0xUJ%2BvGfcWCgHnl7rBsTIEcSdEDuh%2B2qN0MQn97kT%2BsFwI1INA1gnbat1ISS%2BC9FzvCXZBBbYLgF%2FlaAuPEUA1EI7LlArQYL2rUkhRRerK7frppQlMBak03zu1gt3w2X7bnf2Gw9JUNCznOm0ti%2F3ZAfl4pcNy6sBySVZZEOFC9je5qfgjupDZsOFsydjZgKd8j4l0fSDbPWacYjnpFef5GzFxWrFXfLfyPZD0I6SN0Eyd74NPNVZzWYYfiCF7HQYYalgDfkLIyuldBS3f8m8e6nLmzUhNzs2VE%2B%2Bisqs3JAEppg%3D%3D&nvMid=43782757866&catId=50001519\n",
      "아이폰13프로맥스 그래파이트 256G (G050196013) 895,000 https://cr.shopping.naver.com/adcr.nhn?x=NhdfzLrp1DhIDWYWxnz9dP%2F%2F%2Fw%3D%3Ds%2BJag1YeXlLlTa47o314u9p5xPi%2Bbgrrpf6CkZjeafCHrlQPyQuHoHFsppYbPEdHaHcsfGH3dVUX%2BTXD7ZozYTOjldOx9yz1%2FKxgIAWAWipgcftp%2FN9DUiqZqkHD4BNgut3RRWGCmZoS%2FKQL60CE8tgv%2FJtDkpQllrQ0DDmqYck7tXY4YrBzjPDubuCrAUqy2qiJgYtBUTeOGR0sp7QIKYWa0GU2oZJYq5EQGkoqncRA0qoz4k3eHqBKLi5%2FSdxJdcU0vL1ZvRDSwRhvxAmid50z0L24sR0LTvNsGt4VqD3gHM1mOvXmD29COAD6mtN2lPE7IAlq0u%2FsyFXdvsc07jydjhUMbDyDugT4QCBnDbarL%2Fowdnq7%2Fmfq67OVRzok0S5SJNLgIdS1XFCtZ5GETGEugaLcxROZTIlk0sd1FRu%2FNNra4tWTrEROJfsxtXKU72HvQrG1q57G6KIPveES%2FyKO0wMts9jyRAt690E32r3V5hqD6H9fv1qgY7RnY5zNVm71W2gW1plBquqXEsFsLH9sLgJgoIFbjuMS5i%2FrBAHf%2Bl%2Fz8LYY23Q%2F5aXGbigoTBO1Ax5gvmH0WAjGO9Qnm2NBTxKsVsEofTHxVdkzVPm8bOjE05ZoD1PnGcScpgEX%2FLoIg4eUvJ%2Fu0XNDHjbs4HbOPEAiw9kJ%2BTTFFnx0r398y8k6M0ifTxJk2r%2FBsB3Kx5Hv1T%2FoDPeAT2ZD%2BWCfnsQ%3D%3D&nvMid=44441902138&catId=50001519\n",
      "아이폰 13 pro 128GB 자급제 미개봉 새상품 1,189,000 https://cr.shopping.naver.com/adcr.nhn?x=CRK3ok4EA0dcv9oIbyh6WP%2F%2F%2Fw%3D%3DsRlyNd9qrhthQ4lmJeZ4zNR59i0Aibe4UjtiKhrJ5LOFN4NgkrPIjlczCBjhk2dSM0Zgf%2F3cOfVKxQYtQbCDD06dcvfdl93VC71t8WUudX5WDfUP3whulDFunP657F3PQfiDgM7YU09ny%2F3imYRQZ9ao5YEmCu22RHk6o03pGxHyr9N9rARz1GwL8SD%2B61y0rk3yUO%2FniAWltixSaTuSZ6CZAroxfgdxXCzQ%2Bd1ONLTBfgWQ%2F3AlpgU3zc6l90fV2%2FOIq6qLqW%2BXB7aAhUB%2FZQCVdN3LpKf%2FbKuiZi7z1XJSihZSoW3XU3il3VD30QFgHsWUaox0XHZ7gTZmb6V%2BjWyvfCmiGWuFQRNFecKmBkk41%2Fm95HnTjnNbafw2dn2BhjB5%2BwQwTWqlzZqCmwHkzL8GECnVO%2BQfskmkZtzrI6e7INT5LLKT%2FKr1DlNA36lH5nV%2F3tTaN3o4%2B0RfveE00nObd7IPwVdH9ThzIlmabD%2FduLXxZBTfUnoJcHr6AAgQo5scgs4IrA2qjDgbtbXle0HwJeXbnU6mZaLN%2BXPYoRZxMHZAQA61RgYe%2BjUZ0rgg2d8z7bffBnAHdP4JAQhMESMcgIRCk8vtGb7Z%2FKGMSEdE%3D&nvMid=32441925414&catId=50001519\n"
     ]
    }
   ],
   "source": [
    "for item in items :\n",
    "    try : \n",
    "        name = item.find_element(By.CSS_SELECTOR,'div.product_title__Mmw2K').text\n",
    "        price = item.find_element(By.CSS_SELECTOR,'span.price em').text\n",
    "        link = item.find_element(By.CSS_SELECTOR,'div.product_title__Mmw2K > a').get_attribute('href')\n",
    "    except :\n",
    "        name='판매중단'\n",
    "        price='판매중단'\n",
    "        link='판매중단'\n",
    "    print(name,price,link)"
   ]
  },
  {
   "cell_type": "code",
   "execution_count": 55,
   "id": "3b8ab16c",
   "metadata": {},
   "outputs": [],
   "source": [
    "### 현재 페이지의 제품정보 df 생성\n",
    "name=[]\n",
    "info=[]\n",
    "link=[]"
   ]
  },
  {
   "cell_type": "code",
   "execution_count": 56,
   "id": "0997f0bf",
   "metadata": {},
   "outputs": [],
   "source": [
    "# 상품정보 전체 추출\n",
    "sel2 = 'div.basicList_list_basis__uNBZx > div > div'\n",
    "items=driver.find_elements(By.CSS_SELECTOR,sel2)\n",
    "\n",
    "for item in items :\n",
    "    try : \n",
    "        name_tmp=item.find_element(By.CSS_SELECTOR,'div.product_title__Mmw2K').text\n",
    "        info_tmp=item.find_element(By.CSS_SELECTOR,'span.price em').text\n",
    "        link_tmp=item.find_element(By.CSS_SELECTOR,'div.product_title__Mmw2K > a').get_attribute('href')\n",
    "\n",
    "    except :\n",
    "        continue\n",
    "    name.append(name_tmp)\n",
    "    info.append(info_tmp)\n",
    "    link.append(link_tmp)"
   ]
  },
  {
   "cell_type": "code",
   "execution_count": 58,
   "id": "27366cb7",
   "metadata": {},
   "outputs": [
    {
     "data": {
      "text/plain": [
       "(37, 37, 37)"
      ]
     },
     "execution_count": 58,
     "metadata": {},
     "output_type": "execute_result"
    }
   ],
   "source": [
    "len(name),len(info),len(link)"
   ]
  },
  {
   "cell_type": "code",
   "execution_count": 60,
   "id": "edccc129",
   "metadata": {},
   "outputs": [],
   "source": [
    "df_fin = pd.DataFrame({'품명':name, '가격':info, 'link':link})"
   ]
  },
  {
   "cell_type": "code",
   "execution_count": 61,
   "id": "8af563c0",
   "metadata": {},
   "outputs": [],
   "source": [
    "df_fin.to_csv('crawl_data/네이버쇼핑_아이폰13.csv')"
   ]
  },
  {
   "cell_type": "markdown",
   "id": "f900506d",
   "metadata": {},
   "source": [
    "- 두개 탭이 열려 있어서 close 두번 진행"
   ]
  },
  {
   "cell_type": "code",
   "execution_count": null,
   "id": "422cce7d",
   "metadata": {},
   "outputs": [],
   "source": [
    "driver.close()"
   ]
  },
  {
   "cell_type": "code",
   "execution_count": 64,
   "id": "2f53d433",
   "metadata": {},
   "outputs": [],
   "source": [
    "driver.switch_to.window(driver.window_handles[0])"
   ]
  },
  {
   "cell_type": "code",
   "execution_count": 65,
   "id": "0b2c8dae",
   "metadata": {},
   "outputs": [],
   "source": [
    "driver.close()"
   ]
  },
  {
   "cell_type": "code",
   "execution_count": null,
   "id": "47645014",
   "metadata": {},
   "outputs": [],
   "source": []
  }
 ],
 "metadata": {
  "kernelspec": {
   "display_name": "Python 3 (ipykernel)",
   "language": "python",
   "name": "python3"
  },
  "language_info": {
   "codemirror_mode": {
    "name": "ipython",
    "version": 3
   },
   "file_extension": ".py",
   "mimetype": "text/x-python",
   "name": "python",
   "nbconvert_exporter": "python",
   "pygments_lexer": "ipython3",
   "version": "3.11.5"
  }
 },
 "nbformat": 4,
 "nbformat_minor": 5
}
