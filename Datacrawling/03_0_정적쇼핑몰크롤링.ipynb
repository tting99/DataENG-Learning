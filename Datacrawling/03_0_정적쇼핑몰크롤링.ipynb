{
 "cells": [
  {
   "cell_type": "markdown",
   "id": "1cf3409a-449c-44b9-8e98-562f0ca9bdfd",
   "metadata": {},
   "source": [
    "### 쇼핑몰 크롤링\n",
    "- 특정 상품의 시세파악을 위해서는 상품을 판매하는 쇼핑몰 데이터를 추출하여 파악하는 것이 일반적임\n",
    "- 특정 사이트를 선정하여 주기적으로 상품의 가격 변화를 확인\n",
    "- 사이트 선정 시 구성이 변화되지 않고, 접속량이 일정 수준 이상인 사이트를 주로 선정\n",
    "- http://jolse.com/category/toners-mists/1019/"
   ]
  },
  {
   "cell_type": "code",
   "execution_count": 1,
   "id": "80375206-6bd9-4c6a-8dd2-0045e863c750",
   "metadata": {},
   "outputs": [],
   "source": [
    "from bs4 import BeautifulSoup\n",
    "import warnings\n",
    "import requests\n",
    "import pandas as pd\n",
    "from urllib.request import urlopen\n",
    "warnings.filterwarnings(action='ignore')\n",
    "# 중간출력 모두 출력\n",
    "from IPython.core.interactiveshell import InteractiveShell\n",
    "InteractiveShell.ast_node_interactivity=\"all\""
   ]
  },
  {
   "cell_type": "markdown",
   "id": "940701df-3a4e-44aa-806a-ab3cfdb27099",
   "metadata": {},
   "source": [
    "### 특정 페이지로 예시 코드 생성\n",
    "- 함수화 진행\n",
    "- 예시코드는 http://jolse.com/category/toners-mists/1019/ 페이지 기준\n",
    "- 모든 페이지가 동일하게 되어 있음"
   ]
  },
  {
   "cell_type": "code",
   "execution_count": 6,
   "id": "b61190c5-f12b-4918-8f72-3de739ed2709",
   "metadata": {},
   "outputs": [],
   "source": [
    "# 1. 특정 페이지 소스 추출\n",
    "url = ' http://jolse.com/category/toners-mists/1019/'\n",
    "htmls = urlopen(url)\n",
    "htmls = htmls.read()"
   ]
  },
  {
   "cell_type": "markdown",
   "id": "ac819474-25e2-4f6d-b740-9da6e6ff01f5",
   "metadata": {},
   "source": [
    "### 쇼핑몰 site 크롤링 시 자주 발생하는 에러\n",
    "- 인증 에러 [SSL:CERTIFICATE_VERIFY_FAILED]\n",
    "- ssl 패키지 활용해서 인증을 전송하면 해결"
   ]
  },
  {
   "cell_type": "code",
   "execution_count": 7,
   "id": "e163b7a0-f69d-4bb4-a032-2018e108c08f",
   "metadata": {},
   "outputs": [],
   "source": [
    "import ssl\n",
    "# 인증을 무력화 시킴\n",
    "# context 객체 활용\n",
    "context = ssl._create_unverified_context() # 인증에 대해 검사하지 않도록 하는 객체\n",
    "url='http://jolse.com/category/toners-mists/1019/'\n",
    "html = urlopen(url, context=context) # url의 서버에 context 전달\n",
    "htmls = html.read()"
   ]
  },
  {
   "cell_type": "code",
   "execution_count": 8,
   "id": "216451e0-6d48-4bbc-9505-806b3801b6e6",
   "metadata": {},
   "outputs": [],
   "source": [
    "# 파싱 객체 생성\n",
    "bs_obj = BeautifulSoup(htmls, 'html.parser')"
   ]
  },
  {
   "cell_type": "markdown",
   "id": "8faae91e-8ea7-47c4-9447-b666a6ea037d",
   "metadata": {},
   "source": [
    "### 크롤링 data 결정\n",
    "- 제품명\n",
    "- 가격\n",
    "- 세일가격\n",
    "- 전시되어있는 상품의 전시구조를 파악한 후 수"
   ]
  },
  {
   "cell_type": "code",
   "execution_count": 17,
   "id": "ac19c9a1-4fe8-4647-884a-6baed19e0f4a",
   "metadata": {},
   "outputs": [
    {
     "data": {
      "text/plain": [
       "1"
      ]
     },
     "execution_count": 17,
     "metadata": {},
     "output_type": "execute_result"
    }
   ],
   "source": [
    "# class 속성의 값을 이용해서 추출 할 때 값이 띄어쓰기가 되어 있으면 맨앞의 값만 이용해도 추출이 됨\n",
    "uls = bs_obj.findAll('ul',{'class':'prdList grid5'})\n",
    "uls = bs_obj.findAll('ul',{'class':'prdList'})\n",
    "len(uls)\n",
    "# 한 페이지당 1개의 ul 20개의 li"
   ]
  },
  {
   "cell_type": "code",
   "execution_count": 18,
   "id": "0befe6fa-a407-46ac-832b-c16dca6916a4",
   "metadata": {},
   "outputs": [
    {
     "data": {
      "text/plain": [
       "131"
      ]
     },
     "execution_count": 18,
     "metadata": {},
     "output_type": "execute_result"
    }
   ],
   "source": [
    "# 상품정보 li 포함 여러개가 추출 이부분에서 계속 추출해보면서 원하는게 뭔지 찾아보는 과정이 있어야함.\n",
    "lis = bs_obj.findAll('li')\n",
    "len(lis)"
   ]
  },
  {
   "cell_type": "code",
   "execution_count": 21,
   "id": "d880187c-f8fd-428e-a191-c0ff4bb26684",
   "metadata": {},
   "outputs": [
    {
     "data": {
      "text/plain": [
       "20"
      ]
     },
     "execution_count": 21,
     "metadata": {},
     "output_type": "execute_result"
    }
   ],
   "source": [
    "# 여기서는 상품정보가 한 페이지에 20개이니까 20개가 나와야한다. 우리는 상품 이미지는 필요없으니 상품 설명부분을\n",
    "# 찾아보면 20개가 나오는 것을 볼 수 있다. 이런 찾아가는 과정이 있을수있다.\n",
    "len(uls[0].findAll('div',{'class':'description'}))\n",
    "boxes = uls[0].findAll('div',{'class':'description'})"
   ]
  },
  {
   "cell_type": "code",
   "execution_count": null,
   "id": "1e4221c6-88ac-46fb-8733-4680ee4ca48c",
   "metadata": {},
   "outputs": [],
   "source": []
  },
  {
   "cell_type": "code",
   "execution_count": null,
   "id": "b7763b22-3514-43f4-b362-b8a8be54cc49",
   "metadata": {},
   "outputs": [],
   "source": []
  },
  {
   "cell_type": "code",
   "execution_count": null,
   "id": "693977b1-daf5-445c-8853-7840e820de4a",
   "metadata": {},
   "outputs": [],
   "source": []
  },
  {
   "cell_type": "code",
   "execution_count": null,
   "id": "a520a1e8-6110-4870-9a30-2dd37341a246",
   "metadata": {},
   "outputs": [],
   "source": []
  },
  {
   "cell_type": "code",
   "execution_count": null,
   "id": "fbfc65b0-2504-415f-b02d-c0f7a88199e1",
   "metadata": {},
   "outputs": [],
   "source": []
  },
  {
   "cell_type": "code",
   "execution_count": null,
   "id": "294df9eb-84ab-40ed-baad-631d6c27bfd8",
   "metadata": {},
   "outputs": [],
   "source": []
  }
 ],
 "metadata": {
  "kernelspec": {
   "display_name": "Python 3 (ipykernel)",
   "language": "python",
   "name": "python3"
  },
  "language_info": {
   "codemirror_mode": {
    "name": "ipython",
    "version": 3
   },
   "file_extension": ".py",
   "mimetype": "text/x-python",
   "name": "python",
   "nbconvert_exporter": "python",
   "pygments_lexer": "ipython3",
   "version": "3.8.10"
  }
 },
 "nbformat": 4,
 "nbformat_minor": 5
}
