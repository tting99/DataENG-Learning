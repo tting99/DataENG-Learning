{
 "cells": [
  {
   "cell_type": "markdown",
   "id": "81870f96-623b-4adb-8b9e-406ec42ac6e6",
   "metadata": {},
   "source": [
    "### 네이버 개발자 센터에서 제공하는 open API 사용\n",
    "- 인증여부(로그인 여부)\n",
    "    - 로그인 방식 오픈 API\n",
    "      - 네이버 아이디로 로그인 인증을 통한 접근 토큰을 획득해야하는 기능을 사용할 때\n",
    "    - 비 로그인 방식 오픈API\n",
    "      - HTTP 헤더에 개발자 등록 id/key값을 전송하면 인증되는 방식\n",
    "      - 검색, 공유, 지도 등의 오픈 api\n",
    "- 개발자 센터에 개발자 등록 후\n",
    "  - Id/key 발급 후 사용\n",
    "  - https://developers.naver.com/main/"
   ]
  },
  {
   "cell_type": "code",
   "execution_count": 72,
   "id": "9b70dc38-ba33-4f66-b48b-5b7dd124f9a0",
   "metadata": {},
   "outputs": [],
   "source": [
    "c_id = 'gVMS9qWBT6phEGla1oue'\n",
    "c_s = 'yLnAQSE9sR'"
   ]
  },
  {
   "cell_type": "code",
   "execution_count": null,
   "id": "0d8c7968-1e3b-45aa-8841-8a1757d4f55d",
   "metadata": {},
   "outputs": [
    {
     "name": "stdout",
     "output_type": "stream",
     "text": [
      "{\n",
      "\t\"lastBuildDate\":\"Wed, 13 Dec 2023 23:21:31 +0900\",\n",
      "\t\"total\":26902645,\n",
      "\t\"start\":1,\n",
      "\t\"display\":10,\n",
      "\t\"items\":[\n",
      "\t\t{\n",
      "\t\t\t\"title\":\"[<b>영화<\\/b>] 괴물\",\n",
      "\t\t\t\"link\":\"https:\\/\\/blog.naver.com\\/gokkal123\\/223291912260\",\n",
      "\t\t\t\"description\":\"줄거리를 알고 보는 <b>영화<\\/b>도 좋지만 줄거리를 알지 못한 채 보는 <b>영화<\\/b>에는 더욱 큰 매력이 있어 아무런 정보도 없이 <b>영화<\\/b>를 보러갔다. 그저 아는 것이라곤 고레에다 히로카즈 감독의 작품이라는 것뿐. 최근에... \",\n",
      "\t\t\t\"bloggername\":\"보잘 것 없는 작은 것들의 합\",\n",
      "\t\t\t\"bloggerlink\":\"blog.naver.com\\/gokkal123\",\n",
      "\t\t\t\"postdate\":\"20231213\"\n",
      "\t\t},\n",
      "\t\t{\n",
      "\t\t\t\"title\":\"넷플릭스 드라마 &amp; <b>영화<\\/b> 추천 요즘 본 것들 위주\",\n",
      "\t\t\t\"link\":\"https:\\/\\/blog.naver.com\\/loona0930\\/223290537253\",\n",
      "\t\t\t\"description\":\"드라마 &amp; <b>영화<\\/b> 내가 직접 본 것들 위주로! 나도 내가 이렇게 넷플릭스 시리즈들을 많이 보고 사는줄은 몰랐던 1인...이지만 은근 모아보니 최근 본 것들이 많아서 직접 시청한 넷플릭스 추천 드라마 &amp; <b>영화<\\/b>들을... \",\n",
      "\t\t\t\"bloggername\":\"Travel Diary, by Loona ♪\",\n",
      "\t\t\t\"bloggerlink\":\"blog.naver.com\\/loona0930\",\n",
      "\t\t\t\"postdate\":\"20231212\"\n",
      "\t\t},\n",
      "\t\t{\n",
      "\t\t\t\"title\":\"[<b>영화<\\/b>] 고레에다히로카즈 감독 '괴물' (스포有)\",\n",
      "\t\t\t\"link\":\"https:\\/\\/blog.naver.com\\/in_flower\\/223289948003\",\n",
      "\t\t\t\"description\":\"고레에다 히로카즈 감독 &lt;괴물&gt; 잔잔한 <b>영화<\\/b> 좋아해요 사건사고 별로 없이 흘러가는 <b>영화<\\/b>요 <b>영화<\\/b>&lt;괴물&gt;도 그런 <b>영화<\\/b>인 줄 알았어요 고레에다 감독의 ‘가족’을 다룬 <b>영화<\\/b> 중 하나일 것이라고만 생각하고 보러... \",\n",
      "\t\t\t\"bloggername\":\"내 마음의 소리\",\n",
      "\t\t\t\"bloggerlink\":\"blog.naver.com\\/in_flower\",\n",
      "\t\t\t\"postdate\":\"20231212\"\n",
      "\t\t},\n",
      "\t\t{\n",
      "\t\t\t\"title\":\"<b>영화<\\/b> 잠 결말 해석 후기 참신하고 쫄깃한 스릴러 추천\",\n",
      "\t\t\t\"link\":\"https:\\/\\/blog.naver.com\\/worldrama\\/223291408367\",\n",
      "\t\t\t\"description\":\"<b>영화<\\/b> 잠 결말 해석 후기 참신하고 쫄깃한 스릴러 추천 <b>영화<\\/b> 잠이 OTT 플랫폼 넷플릭스와 티빙에서 공개되었습니다. <b>영화<\\/b> 잠은 소재가 흥미로워 보여 감상해 봤는데요. 예상대로 미스터리한 작품이었으며 연출과... \",\n",
      "\t\t\t\"bloggername\":\"스크린 관찰자 은빛유니콘\",\n",
      "\t\t\t\"bloggerlink\":\"blog.naver.com\\/worldrama\",\n",
      "\t\t\t\"postdate\":\"20231213\"\n",
      "\t\t},\n",
      "\t\t{\n",
      "\t\t\t\"title\":\"<b>영화<\\/b> 사울의 아들을 보고\",\n",
      "\t\t\t\"link\":\"https:\\/\\/blog.naver.com\\/ravemst\\/223290357421\",\n",
      "\t\t\t\"description\":\"기차역 선별 작업부터 끔찍한 학살장면이 담긴 <b>영화<\\/b> 유대인 학살에 대한 현장감이 담긴 <b>영화<\\/b>, 시대가 재현된 느낌이 끔찍하다. 노루한마리 사울의 아들 감독 라즐로 네메스 출연 게자 뢰리히, 레벤테 몰나르... \",\n",
      "\t\t\t\"bloggername\":\"Frog in Corea\",\n",
      "\t\t\t\"bloggerlink\":\"blog.naver.com\\/ravemst\",\n",
      "\t\t\t\"postdate\":\"20231212\"\n",
      "\t\t},\n",
      "\t\t{\n",
      "\t\t\t\"title\":\"사춘기 자녀가 보면 좋은 중학생 <b>영화<\\/b> 추천\",\n",
      "\t\t\t\"link\":\"https:\\/\\/blog.naver.com\\/sigongedu\\/223290426350\",\n",
      "\t\t\t\"description\":\"일주일에 한번, 어렵다면 격주에 한번이라도 아이와 함께 <b>영화<\\/b>를 보고, 이런저런 이야기를 나누는 시간을 만들어 보는 건 어떨까요? 사춘기 자녀와 함께 보기 좋은 중학생 <b>영화<\\/b> 추천 몇 편 해드릴게요! 중학생... \",\n",
      "\t\t\t\"bloggername\":\"아이스크림 홈런\",\n",
      "\t\t\t\"bloggerlink\":\"blog.naver.com\\/sigongedu\",\n",
      "\t\t\t\"postdate\":\"20231212\"\n",
      "\t\t},\n",
      "\t\t{\n",
      "\t\t\t\"title\":\"<b>영화<\\/b> 서울의봄 스트레스인증 챌린지 진짜 스트레스받네\",\n",
      "\t\t\t\"link\":\"https:\\/\\/blog.naver.com\\/ihyeon_isme\\/223291456960\",\n",
      "\t\t\t\"description\":\"저는 맑은 하늘을 보는 것도 날씨 좋은 날 바깥을 다니는 것도 정말정말 좋아하는 편이라 그런지 컴컴한 <b>영화<\\/b>관에 가는 걸 그리 선호하지 않고 진짜 보고싶은 <b>영화<\\/b>가 있을 때만 종종 <b>영화<\\/b>관을 찾는 편인데요... \",\n",
      "\t\t\t\"bloggername\":\"이현저현 일상기록장\",\n",
      "\t\t\t\"bloggerlink\":\"blog.naver.com\\/ihyeon_isme\",\n",
      "\t\t\t\"postdate\":\"20231213\"\n",
      "\t\t},\n",
      "\t\t{\n",
      "\t\t\t\"title\":\"'잊지 말고 기억해 줘요' 이맘때면 더욱 그리운 배우 그리고 <b>영화<\\/b>\",\n",
      "\t\t\t\"link\":\"https:\\/\\/blog.naver.com\\/cine_play\\/223290293850\",\n",
      "\t\t\t\"description\":\"2023년의 한국 <b>영화<\\/b>를 회고하다 보니 지금은 우리 곁에 없는 하늘의 별이 된 배우들이 생각난다. 한창... 강수연 \\/ 아제아제 바라아제 이미지: 태흥<b>영화<\\/b>㈜ 2022년 5월 하늘의 별이 된 강수연은 ‘월드 스타'라는... \",\n",
      "\t\t\t\"bloggername\":\"씨네플레이\",\n",
      "\t\t\t\"bloggerlink\":\"blog.naver.com\\/cine_play\",\n",
      "\t\t\t\"postdate\":\"20231212\"\n",
      "\t\t},\n",
      "\t\t{\n",
      "\t\t\t\"title\":\"[<b>영화<\\/b>] 서울의 봄\",\n",
      "\t\t\t\"link\":\"https:\\/\\/blog.naver.com\\/tmdgbtkfkd\\/223290477350\",\n",
      "\t\t\t\"description\":\"천만관객을 목전에 두었다는 <b>영화<\\/b> '서울의 봄'을 드디어 보고 왔습니다. 20-30대 관객이 가장 많았다고 하더군요. 그들은 <b>영화<\\/b>를 보고 어땠을까?가 궁금해집니다. 들었던 내용도 있고 전혀 몰랐던 내용도 있었을... \",\n",
      "\t\t\t\"bloggername\":\"삶을 살며 사랑하며\",\n",
      "\t\t\t\"bloggerlink\":\"blog.naver.com\\/tmdgbtkfkd\",\n",
      "\t\t\t\"postdate\":\"20231212\"\n",
      "\t\t},\n",
      "\t\t{\n",
      "\t\t\t\"title\":\"[<b>영화<\\/b>여행] <b>영화<\\/b>&lt;서울의봄&gt;의 완전체 무대인사(feat. 정해인... \",\n",
      "\t\t\t\"link\":\"https:\\/\\/blog.naver.com\\/kk544558\\/223291082640\",\n",
      "\t\t\t\"description\":\"요새 한국에서 가장 핫한 <b>영화<\\/b> &lt;서울의 봄&gt; 무대인사 이야기 지금 시작합니다!!!!!!! https:\\/\\/youtu.be\\/PUy51FYXziU?si=y_th377PD1wx47A5 @내세상 여행을 검색하시고, 팬하기를 눌러주세요^^ 여행 전문블로거 <b>영화<\\/b>여행... \",\n",
      "\t\t\t\"bloggername\":\"내세상 여행 블로그\",\n",
      "\t\t\t\"bloggerlink\":\"blog.naver.com\\/kk544558\",\n",
      "\t\t\t\"postdate\":\"20231213\"\n",
      "\t\t}\n",
      "\t]\n",
      "}\n"
     ]
    }
   ],
   "source": [
    "# 네이버 검색 API 예제 - 블로그 검색API\n",
    "import os\n",
    "import sys\n",
    "import urllib.request\n",
    "client_id = c_id\n",
    "client_secret = c_s\n",
    "encText = urllib.parse.quote(\"영화\")\n",
    "url = \"https://openapi.naver.com/v1/search/blog?query=\" + encText # JSON 결과 json형식은 생략가능.\n",
    "# url = \"https://openapi.naver.com/v1/search/blog.xml?query=\" + encText # XML 결과\n",
    "request = urllib.request.Request(url)\n",
    "request.add_header(\"X-Naver-Client-Id\",client_id)\n",
    "request.add_header(\"X-Naver-Client-Secret\",client_secret)\n",
    "response = urllib.request.urlopen(request)\n",
    "rescode = response.getcode()\n",
    "if(rescode==200):\n",
    "    response_body = response.read()\n",
    "    print(response_body.decode('utf-8'))\n",
    "else:\n",
    "    print(\"Error Code:\" + rescode)"
   ]
  },
  {
   "cell_type": "code",
   "execution_count": 74,
   "id": "113220b6-eb80-42c2-b9cb-aaa13c5776b8",
   "metadata": {},
   "outputs": [],
   "source": [
    "# requests 객체를 이용해서 요청\n",
    "# header 구성이 urllib보다 간단함\n",
    "import requests\n",
    "from urllib.parse import urlparse  # 한글 엔코딩\n",
    "import urllib.parse\n",
    "import pandas as pd\n",
    "import urllib.request\n",
    "import time"
   ]
  },
  {
   "cell_type": "code",
   "execution_count": 75,
   "id": "0402d919-e805-4f40-b3e8-00f7dacbfed0",
   "metadata": {},
   "outputs": [
    {
     "data": {
      "text/plain": [
       "'%EC%B2%AD%EB%9D%BC%EC%96%B8%EB%8D%95%EC%97%AD'"
      ]
     },
     "execution_count": 75,
     "metadata": {},
     "output_type": "execute_result"
    }
   ],
   "source": [
    "client_id = c_id\n",
    "client_secret = c_s\n",
    "\n",
    "# 서버측으로 검색어 전송 시 한글 검색어는 2바이트 한글을 1바이트씩 분리해서 전달해야함\n",
    "# urllib.parse.quote 함수 한글을 변경하는 역할\n",
    "\n",
    "keyword = urllib.parse.quote('청라언덕역')\n",
    "keyword"
   ]
  },
  {
   "cell_type": "code",
   "execution_count": 76,
   "id": "d8e2871f-8d60-4270-ba42-c412fc68c955",
   "metadata": {},
   "outputs": [
    {
     "data": {
      "text/plain": [
       "'https://openapi.naver.com/v1/search/blog.json?query=%EC%B2%AD%EB%9D%BC%EC%96%B8%EB%8D%95%EC%97%AD'"
      ]
     },
     "execution_count": 76,
     "metadata": {},
     "output_type": "execute_result"
    }
   ],
   "source": [
    "# 요청 url :json 형식으로 반환\n",
    "base_url = 'https://openapi.naver.com/v1/search/blog.json'\n",
    "param = '?query=' + keyword # 파라미터 생성 시 공백이 있으면 안됨\n",
    "url = base_url + param\n",
    "url"
   ]
  },
  {
   "cell_type": "code",
   "execution_count": 77,
   "id": "bf024ffb-7aea-4379-9db6-9fcc878b88d5",
   "metadata": {},
   "outputs": [],
   "source": [
    "# 헤더 : 인증정보이므로 가이드 문서에서 확인 후 사용, 대소문자 구분\n",
    "headers = {\"X-Naver-Client-Id\" : client_id, \n",
    "           \"X-Naver-Client-Secret\" : client_secret}"
   ]
  },
  {
   "cell_type": "code",
   "execution_count": 78,
   "id": "ab5e937c-1244-4f4c-9f37-5289eee52253",
   "metadata": {},
   "outputs": [
    {
     "data": {
      "text/plain": [
       "<Response [200]>"
      ]
     },
     "execution_count": 78,
     "metadata": {},
     "output_type": "execute_result"
    }
   ],
   "source": [
    "# 요청 후 응답\n",
    "result = requests.get(url=url, headers=headers)\n",
    "result"
   ]
  },
  {
   "cell_type": "code",
   "execution_count": 79,
   "id": "35f9d064-927f-44c6-ab67-b1b771957b5e",
   "metadata": {},
   "outputs": [
    {
     "data": {
      "text/plain": [
       "{'lastBuildDate': 'Wed, 13 Dec 2023 23:21:31 +0900',\n",
       " 'total': 17690,\n",
       " 'start': 1,\n",
       " 'display': 10,\n",
       " 'items': [{'title': '대구 남산동 맛집 <b>청라언덕역</b> 앞 옛날통닭 김종구식맛치킨',\n",
       "   'link': 'https://blog.naver.com/ckdbs1914/223239551030',\n",
       "   'description': '신랑이랑 우뤼 산책하다가 냄새에 이끌려 들어가게 된 <b>청라언덕역</b> 앞에 있는 옛날통닭집 &gt;&lt; 사실... 라스트오더 <b>청라언덕역</b> 앞에 바로 보이는 위치인데요 4번 출구로 나오면 있답니다 항상 손님으로 가득차있는... ',\n",
       "   'bloggername': \"샤샤밍밍's 도란도란 하루들_♥️\",\n",
       "   'bloggerlink': 'blog.naver.com/ckdbs1914',\n",
       "   'postdate': '20231203'},\n",
       "  {'title': '<b>청라언덕역</b> 임신중절수술 간단하고 편하게',\n",
       "   'link': 'https://blog.naver.com/dhdlrb4520/223286418373',\n",
       "   'description': '<b>청라언덕역</b> 임신중절수술 간단하고 편하게 <b>청라언덕역</b> 임신중절수술 간단하고 편하게 <b>청라언덕역</b> 임신중절수술 간단하고 편하게 <b>청라언덕역</b> 임신중절수술 간단하고 편하게 <b>청라언덕역</b> 임신중절수술 간단하고... ',\n",
       "   'bloggername': '여성을 위한 공간 ➡️쉬즈톡⬅️',\n",
       "   'bloggerlink': 'blog.naver.com/dhdlrb4520',\n",
       "   'postdate': '20231208'},\n",
       "  {'title': '누구나 쉽게 찾아갈 수 있는 곳 <b>청라언덕역</b> 명상센터',\n",
       "   'link': 'https://blog.naver.com/meditationlife/223253890983',\n",
       "   'description': '☎ 명상센터 오시는 길 주소 : 대구 중구 남산로 73 122호 전화번호 : 0507-1327-7254 지하철역 : <b>청라언덕역</b> 3호선 4번 출구로 내려오셔서 건널목을 건너면 바로 보이는 건물이 있어요. 청라힐스자이 상가가... ',\n",
       "   'bloggername': '마음수련 공식블로그',\n",
       "   'bloggerlink': 'blog.naver.com/meditationlife',\n",
       "   'postdate': '20231102'},\n",
       "  {'title': \"대구 <b>청라언덕역</b> 맛집 '강씨목삼 남산점' 다 구워주는 고깃집... \",\n",
       "   'link': 'https://blog.naver.com/myhaebin12/223291588071',\n",
       "   'description': '대구 <b>청라언덕역</b> 맛집 강씨목삼 남산점 둘둘세트, 청어알볶음밥 SURELY 내돈내산  TEL. 0507-1377-5655  주소 : 대구 중구 달구벌대로 2009, 1층 (<b>청라언덕역</b> 9번출구에서 91M) ⏰ 영업시간 : 매일 오후 4시 - 밤 12시... ',\n",
       "   'bloggername': 'ʜᴀᴘᴘʏ ʜʏᴇʙɪɴ-ᴅᴀʏ',\n",
       "   'bloggerlink': 'blog.naver.com/myhaebin12',\n",
       "   'postdate': '20231213'},\n",
       "  {'title': '<b>청라언덕역</b>서한포레스트 거실 전동 우드블라인드 설치',\n",
       "   'link': 'https://blog.naver.com/ncu1260/223055220077',\n",
       "   'description': '<b>청라언덕역</b>서한포레스트 입주 하면서 그동안 꼭 사용해 보고 싶었던 자동~ 드디어 저희 집에 설치를... <b>청라언덕역</b>서한포레스트 입주를 앞두고 블라인드 전문점을 알아봤어요. 1년 전부터 관심이 갔었던 거실... ',\n",
       "   'bloggername': '가나데코',\n",
       "   'bloggerlink': 'blog.naver.com/ncu1260',\n",
       "   'postdate': '20230326'},\n",
       "  {'title': '대구 중구 맛집 <b>청라언덕역</b>맛집 강씨목삼 남산점 :: 육습이... ',\n",
       "   'link': 'https://blog.naver.com/woalstmdgp1/223289241799',\n",
       "   'description': '안녕하세요~~~ 대구중구맛집 <b>청라언덕역</b>맛집 고깃집을 소개해 드리는 재활운동하는악어입니다!! 이번... 여기 <b>청라언덕역</b>맛집 강씨목삼 남산점은 세팅을 딱 끝내고 입장할 수 있게 되어있었습니다 밑반찬은... ',\n",
       "   'bloggername': '재활운동하는악어의 일상',\n",
       "   'bloggerlink': 'blog.naver.com/woalstmdgp1',\n",
       "   'postdate': '20231211'},\n",
       "  {'title': '대구 남산동 <b>청라언덕역</b> 임대아파트 10년 확정 경남아너스빌... ',\n",
       "   'link': 'https://blog.naver.com/iraven2015/222615873489',\n",
       "   'description': '대구 <b>청라언덕역</b> 트러플역세권 위치하고있는 남산동 경남 아너스빌 단지가 급부상하는 이유 중... 대구 남산동 임대아파트 투자 또는 거주 목적으로 찾으시는분께는 <b>청라언덕역</b> 경남아너스빌 단지 소식이... ',\n",
       "   'bloggername': '좋은집찾기',\n",
       "   'bloggerlink': 'blog.naver.com/iraven2015',\n",
       "   'postdate': '20220107'},\n",
       "  {'title': '<b>청라언덕역</b> 서한포레스트 단지내상가 공급소식',\n",
       "   'link': 'https://blog.naver.com/kya7702/222993531861',\n",
       "   'description': '&lt;청라서한포레스트 길 건너편 이편한세상 남산&gt; 해당 상가는 1,2호선 반월당역과 2,3호선 <b>청라언덕역</b> 사이에 들어가기에 더블환승역세권 상가가 되겠습니다. 그리고 대구에서 가장 큰 도로이자 중심인... ',\n",
       "   'bloggername': '정보주는누나',\n",
       "   'bloggerlink': 'blog.naver.com/kya7702',\n",
       "   'postdate': '20230125'},\n",
       "  {'title': 'UP 서비스 6 :: 국내 최장! 9년 무사고! <b>청라언덕역</b> 에스컬레이터',\n",
       "   'link': 'https://blog.naver.com/dtroblog/223203958333',\n",
       "   'description': '길이만 무려 57m인 <b>청라언덕역</b>의 3호선 ~ 2호선 환승 구간 에스컬레이터! 수직 높이로 세운다면, 아파트 10층과 맞먹는 길이라고 합니다. 보통 에스컬레이터에는 1개만 설치되어 있는 전동기도 청라언덕... ',\n",
       "   'bloggername': '대구교통공사 공식 블로그',\n",
       "   'bloggerlink': 'blog.naver.com/dtroblog',\n",
       "   'postdate': '20230906'},\n",
       "  {'title': '남산동 고기집 <b>청라언덕역</b> 빗살',\n",
       "   'link': 'https://blog.naver.com/0216nayun/223248657866',\n",
       "   'description': '지하철3호선 <b>청라언덕역</b> 4번출구로 나오면 2분?도 채 안걸리는 청라힐스자이 상가에 위치하고 있는 빗살 매장이에요 이른저녁에 방문했는데 벌써 손님이 많더라구요 홀 중앙에는 원형테이블이 배치되어 있고... ',\n",
       "   'bloggername': '유나기록',\n",
       "   'bloggerlink': 'blog.naver.com/0216nayun',\n",
       "   'postdate': '20231028'}]}"
      ]
     },
     "execution_count": 79,
     "metadata": {},
     "output_type": "execute_result"
    }
   ],
   "source": [
    "# 응답된 data : json으로 요청했으므로 json 객체 반환\n",
    "# requests 모듈의 response 객체는 .json() 모듈 사용 가능\n",
    "json_obj = result.json()\n",
    "json_obj \n",
    "# json 객체는 dict 처럼 사용 가능"
   ]
  },
  {
   "cell_type": "code",
   "execution_count": 80,
   "id": "e907387b-b47d-40a0-b70d-f2f486fb6c24",
   "metadata": {},
   "outputs": [
    {
     "data": {
      "text/plain": [
       "10"
      ]
     },
     "execution_count": 80,
     "metadata": {},
     "output_type": "execute_result"
    }
   ],
   "source": [
    "json_obj['total'] # 전체 검색 결과\n",
    "json_obj['lastBuildDate'] # 응답 생성 시간\n",
    "json_obj['display'] # 결과 수\n",
    "len(json_obj['items'])"
   ]
  },
  {
   "cell_type": "code",
   "execution_count": 81,
   "id": "86053379-dda9-4abd-af1f-c5e08f71d9fc",
   "metadata": {},
   "outputs": [
    {
     "data": {
      "text/plain": [
       "dict_keys(['title', 'link', 'description', 'bloggername', 'bloggerlink', 'postdate'])"
      ]
     },
     "execution_count": 81,
     "metadata": {},
     "output_type": "execute_result"
    }
   ],
   "source": [
    "# 블로그에서 검색해 온 값들의 종류 items에 들어있음\n",
    "json_obj['items'][0].keys()\n"
   ]
  },
  {
   "cell_type": "code",
   "execution_count": 82,
   "id": "7190b657-9a53-49a9-9363-fd893e2e4080",
   "metadata": {},
   "outputs": [
    {
     "name": "stdout",
     "output_type": "stream",
     "text": [
      "대구 남산동 맛집 청라언덕역 앞 옛날통닭 김종구식맛치킨  :  https://blog.naver.com/ckdbs1914/223239551030\n",
      "청라언덕역 임신중절수술 간단하고 편하게  :  https://blog.naver.com/dhdlrb4520/223286418373\n",
      "누구나 쉽게 찾아갈 수 있는 곳 청라언덕역 명상센터  :  https://blog.naver.com/meditationlife/223253890983\n",
      "대구 청라언덕역 맛집 '강씨목삼 남산점' 다 구워주는 고깃집...   :  https://blog.naver.com/myhaebin12/223291588071\n",
      "청라언덕역서한포레스트 거실 전동 우드블라인드 설치  :  https://blog.naver.com/ncu1260/223055220077\n",
      "대구 중구 맛집 청라언덕역맛집 강씨목삼 남산점 :: 육습이...   :  https://blog.naver.com/woalstmdgp1/223289241799\n",
      "대구 남산동 청라언덕역 임대아파트 10년 확정 경남아너스빌...   :  https://blog.naver.com/iraven2015/222615873489\n",
      "청라언덕역 서한포레스트 단지내상가 공급소식  :  https://blog.naver.com/kya7702/222993531861\n",
      "UP 서비스 6 :: 국내 최장! 9년 무사고! 청라언덕역 에스컬레이터  :  https://blog.naver.com/dtroblog/223203958333\n",
      "남산동 고기집 청라언덕역 빗살  :  https://blog.naver.com/0216nayun/223248657866\n"
     ]
    }
   ],
   "source": [
    "# item에서 특정 속성값만 추출\n",
    "for item in json_obj['items'] :\n",
    "    print(item['title'].replace(\"<b>\",\"\").replace(\"</b>\",\"\"), \" : \" , item['link'] )"
   ]
  },
  {
   "cell_type": "markdown",
   "id": "1c6bfdb8-1eaf-4f47-9936-41875758c1bb",
   "metadata": {},
   "source": [
    "### 검색 결과를 100개로\n",
    "- 기본 검색결과 : 10\n",
    "- 관련 요청 파라미터 : display(최대값 : 100)"
   ]
  },
  {
   "cell_type": "code",
   "execution_count": 83,
   "id": "64b2eaf7-0433-4dc0-a99f-143b4c79b866",
   "metadata": {},
   "outputs": [],
   "source": [
    "client_id = c_id\n",
    "client_secret = c_s"
   ]
  },
  {
   "cell_type": "code",
   "execution_count": 84,
   "id": "804fb22a-1f88-417a-a1d7-7854cd1ab9b5",
   "metadata": {},
   "outputs": [],
   "source": [
    "# 헤더 : 인증정보이므로 가이드 문서에서 확인 후 사용, 대소문자 구분\n",
    "headers = {\"X-Naver-Client-Id\" : client_id, \n",
    "           \"X-Naver-Client-Secret\" : client_secret}"
   ]
  },
  {
   "cell_type": "code",
   "execution_count": 85,
   "id": "5c7dfb89-3add-47be-93e9-53973f4284f0",
   "metadata": {},
   "outputs": [],
   "source": [
    "# 요청 url 생성 함수 :json 형식으로 반환\n",
    "def create_url(b_url, keyword, display=10, start=1) :\n",
    "    base_url = b_url #'https://openapi.naver.com/v1/search/blog.json'\n",
    "    param = '?query=' + keyword + '&display=' + display + '&start=' + start # 파라미터 생성 시 공백이 있으면 안됨, 파라미터간의 구분 &\n",
    "    url = base_url + param\n",
    "    return url"
   ]
  },
  {
   "cell_type": "code",
   "execution_count": 86,
   "id": "7b5dba3f-1db3-46dd-998b-9fe5596ffd2d",
   "metadata": {},
   "outputs": [
    {
     "data": {
      "text/plain": [
       "'https://openapi.naver.com/v1/search/blog.json?query=%EC%B2%AD%EB%9D%BC%EC%96%B8%EB%8D%95%EC%97%AD&display=100&start=1'"
      ]
     },
     "execution_count": 86,
     "metadata": {},
     "output_type": "execute_result"
    }
   ],
   "source": [
    "# 서버측으로 검색어 전송 시 한글 검색어는 2바이트 한글을 1바이트씩 분리해서 전달해야함\n",
    "# urllib.parse.quote 함수 한글을 변경하는 역할\n",
    "\n",
    "keyword = urllib.parse.quote('청라언덕역')\n",
    "url = 'https://openapi.naver.com/v1/search/blog.json'\n",
    "url = create_url(url, keyword,str(100),str(1))\n",
    "url"
   ]
  },
  {
   "cell_type": "code",
   "execution_count": 87,
   "id": "7a314bd4-2df8-47eb-8237-ecd57952dfb7",
   "metadata": {},
   "outputs": [
    {
     "data": {
      "text/plain": [
       "100"
      ]
     },
     "execution_count": 87,
     "metadata": {},
     "output_type": "execute_result"
    }
   ],
   "source": [
    "res = requests.get(url, headers=headers)\n",
    "res_obj = res.json()\n",
    "len(res_obj['items'])"
   ]
  },
  {
   "cell_type": "code",
   "execution_count": 88,
   "id": "a4256de9-0858-43a0-b61e-340f1abd7420",
   "metadata": {},
   "outputs": [
    {
     "data": {
      "text/plain": [
       "100"
      ]
     },
     "execution_count": 88,
     "metadata": {},
     "output_type": "execute_result"
    }
   ],
   "source": [
    "# 결과 요청 item수는 100개가 최대, 더 많이 요청해도 100개만 반환 \n",
    "url = create_url(url, keyword, str(200), str(1))\n",
    "res = requests.get(url, headers=headers)\n",
    "len(res.json()['items'])"
   ]
  },
  {
   "cell_type": "code",
   "execution_count": 89,
   "id": "b431ec17-4fcb-44db-8c54-3c07debe7cab",
   "metadata": {},
   "outputs": [
    {
     "data": {
      "text/plain": [
       "100"
      ]
     },
     "execution_count": 89,
     "metadata": {},
     "output_type": "execute_result"
    }
   ],
   "source": [
    "# 결과 요청 item수는 100개가 최대, 100개 이후 data 추출하려면 start 파라미터 변경\n",
    "# start 파라미터 : item 번호\n",
    "url = create_url(url, keyword, str(100), str(101))\n",
    "res = requests.get(url, headers=headers)\n",
    "len(res.json()['items']) # 반환된 item은 101번부터 200번까지의 item이 반환됨"
   ]
  },
  {
   "cell_type": "markdown",
   "id": "a4096009-20f6-44a2-b1fb-d46b25cb9bc4",
   "metadata": {},
   "source": [
    "### 추출 코드 함수화"
   ]
  },
  {
   "cell_type": "code",
   "execution_count": null,
   "id": "bf885edc-3c7b-4edc-af66-7467e64e1c7f",
   "metadata": {},
   "outputs": [],
   "source": []
  },
  {
   "cell_type": "code",
   "execution_count": null,
   "id": "0cd61a16-5b6c-4cd3-80d9-77c8964abbb0",
   "metadata": {},
   "outputs": [],
   "source": []
  },
  {
   "cell_type": "code",
   "execution_count": null,
   "id": "0c1ab68a-fd01-4a4c-a45d-b36407417486",
   "metadata": {},
   "outputs": [],
   "source": []
  },
  {
   "cell_type": "code",
   "execution_count": null,
   "id": "15552b27-856c-4fcc-bed7-a4f615e78b4a",
   "metadata": {},
   "outputs": [],
   "source": []
  }
 ],
 "metadata": {
  "kernelspec": {
   "display_name": "Python 3 (ipykernel)",
   "language": "python",
   "name": "python3"
  },
  "language_info": {
   "codemirror_mode": {
    "name": "ipython",
    "version": 3
   },
   "file_extension": ".py",
   "mimetype": "text/x-python",
   "name": "python",
   "nbconvert_exporter": "python",
   "pygments_lexer": "ipython3",
   "version": "3.8.10"
  }
 },
 "nbformat": 4,
 "nbformat_minor": 5
}
