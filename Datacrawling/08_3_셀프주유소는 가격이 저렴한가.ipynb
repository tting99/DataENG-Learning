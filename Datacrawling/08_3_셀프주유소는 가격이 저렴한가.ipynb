{
 "cells": [
  {
   "cell_type": "markdown",
   "id": "2e18343e",
   "metadata": {},
   "source": [
    "### 현재 위치의 광역시도내 셀프 주유소의 가격은 저렴한가?\n",
    "- 셀레니움을 통해서 객체에 명령을 내리고 파일 다운 받기\n",
    "- 사이트내에서 제공하는 excel 파일 다운 버튼을 클릭\n",
    "    - 광역시도내 시군구 정보를 변경해 가면서 다운을 진행\n",
    "- https://www.opinet.co.kr/user/main/mainView.do"
   ]
  },
  {
   "cell_type": "code",
   "execution_count": 1,
   "id": "39392383",
   "metadata": {},
   "outputs": [],
   "source": [
    "from selenium import webdriver\n",
    "from selenium.webdriver.common.keys import Keys\n",
    "import time\n",
    "import selenium\n",
    "from selenium import webdriver\n",
    "import pandas as pd\n",
    "import numpy as np\n",
    "from bs4 import BeautifulSoup\n",
    "from selenium.webdriver.common.by import By # 셀레니움 4.0부터 포함된 함수(필수)\n",
    "from selenium.webdriver.chrome.service import Service"
   ]
  },
  {
   "cell_type": "code",
   "execution_count": 3,
   "id": "c9d4fe1a",
   "metadata": {},
   "outputs": [],
   "source": [
    "# 오피넷 메인페이지\n",
    "url='https://www.opinet.co.kr/user/main/mainView.do'"
   ]
  },
  {
   "cell_type": "code",
   "execution_count": 4,
   "id": "d2828a69",
   "metadata": {},
   "outputs": [],
   "source": [
    "# 웹 드라이버 생성 함수 구현\n",
    "def create_driver() :\n",
    "    service=Service()\n",
    "    options=webdriver.ChromeOptions()\n",
    "    driver=webdriver.Chrome(service=service, options=options)\n",
    "    return driver"
   ]
  },
  {
   "cell_type": "code",
   "execution_count": 6,
   "id": "51803e19",
   "metadata": {},
   "outputs": [],
   "source": [
    "driver = create_driver()\n",
    "driver.get(url)"
   ]
  },
  {
   "cell_type": "code",
   "execution_count": 7,
   "id": "b6930b94",
   "metadata": {},
   "outputs": [],
   "source": [
    "# 메뉴 싼주유소찾기>지역별메뉴추출>클릭\n",
    "xpath='//*[@id=\"header\"]/div/ul/li[1]/ul/li[1]/a'\n",
    "menu=driver.find_element(By.XPATH, xpath)\n",
    "# 스크립트 동작으로 클릭 전송\n",
    "driver.execute_script(\"arguments[0].click();\",menu)"
   ]
  },
  {
   "cell_type": "code",
   "execution_count": null,
   "id": "1d046bc3",
   "metadata": {},
   "outputs": [],
   "source": [
    "# 광역시도의 각 구를 선택할 수 있는 drop-box(select tag)에 접근\n",
    "xpath='//*[@id=\"SIGUNGU_NM0\"]'\n",
    "gu_list_raw = driver.find_element(By.XPATH, xpath) # elem 객체"
   ]
  },
  {
   "cell_type": "code",
   "execution_count": 13,
   "id": "52ef9188",
   "metadata": {},
   "outputs": [
    {
     "data": {
      "text/plain": [
       "'\\n\\t\\t\\t\\t\\t\\t\\t\\t\\t\\t\\t\\t<option value=\"\">시/군/구</option>\\n\\t\\t\\t\\t\\t\\t\\t\\t\\t\\t\\t\\t\\n\\t\\t\\t\\t\\t\\t\\t\\t\\t\\t\\t\\t\\t\\n\\t\\t\\t\\t\\t\\t\\t\\t\\t\\t\\t\\t\\t\\n\\t\\t\\t\\t\\t\\t\\t\\t\\t\\t\\t\\t\\t\\t<option value=\"가평군\" data-gis=\"\">가평군</option>\\n\\t\\t\\t\\t\\t\\t\\t\\t\\t\\t\\t\\t\\t\\n\\t\\t\\t\\t\\t\\t\\t\\t\\t\\t\\t\\t\\n\\t\\t\\t\\t\\t\\t\\t\\t\\t\\t\\t\\t\\t\\n\\t\\t\\t\\t\\t\\t\\t\\t\\t\\t\\t\\t\\t\\n\\t\\t\\t\\t\\t\\t\\t\\t\\t\\t\\t\\t\\t\\t<option value=\"고양시\" data-gis=\"\">고양시</option>\\n\\t\\t\\t\\t\\t\\t\\t\\t\\t\\t\\t\\t\\t\\n\\t\\t\\t\\t\\t\\t\\t\\t\\t\\t\\t\\t\\n\\t\\t\\t\\t\\t\\t\\t\\t\\t\\t\\t\\t\\t\\n\\t\\t\\t\\t\\t\\t\\t\\t\\t\\t\\t\\t\\t\\n\\t\\t\\t\\t\\t\\t\\t\\t\\t\\t\\t\\t\\t\\t<option value=\"고양시덕양구\" data-gis=\"\">고양시덕양구</option>\\n\\t\\t\\t\\t\\t\\t\\t\\t\\t\\t\\t\\t\\t\\n\\t\\t\\t\\t\\t\\t\\t\\t\\t\\t\\t\\t\\n\\t\\t\\t\\t\\t\\t\\t\\t\\t\\t\\t\\t\\t\\n\\t\\t\\t\\t\\t\\t\\t\\t\\t\\t\\t\\t\\t\\n\\t\\t\\t\\t\\t\\t\\t\\t\\t\\t\\t\\t\\t\\t<option value=\"고양시일산동구\" data-gis=\"\">고양시일산동구</option>\\n\\t\\t\\t\\t\\t\\t\\t\\t\\t\\t\\t\\t\\t\\n\\t\\t\\t\\t\\t\\t\\t\\t\\t\\t\\t\\t\\n\\t\\t\\t\\t\\t\\t\\t\\t\\t\\t\\t\\t\\t\\n\\t\\t\\t\\t\\t\\t\\t\\t\\t\\t\\t\\t\\t\\n\\t\\t\\t\\t\\t\\t\\t\\t\\t\\t\\t\\t\\t\\t<option value=\"고양시일산서구\" data-gis=\"\">고양시일산서구</option>\\n\\t\\t\\t\\t\\t\\t\\t\\t\\t\\t\\t\\t\\t\\n\\t\\t\\t\\t\\t\\t\\t\\t\\t\\t\\t\\t\\n\\t\\t\\t\\t\\t\\t\\t\\t\\t\\t\\t\\t\\t\\n\\t\\t\\t\\t\\t\\t\\t\\t\\t\\t\\t\\t\\t\\n\\t\\t\\t\\t\\t\\t\\t\\t\\t\\t\\t\\t\\t\\t<option value=\"과천시\" data-gis=\"\">과천시</option>\\n\\t\\t\\t\\t\\t\\t\\t\\t\\t\\t\\t\\t\\t\\n\\t\\t\\t\\t\\t\\t\\t\\t\\t\\t\\t\\t\\n\\t\\t\\t\\t\\t\\t\\t\\t\\t\\t\\t\\t\\t\\n\\t\\t\\t\\t\\t\\t\\t\\t\\t\\t\\t\\t\\t\\n\\t\\t\\t\\t\\t\\t\\t\\t\\t\\t\\t\\t\\t\\t<option value=\"광명시\" data-gis=\"\">광명시</option>\\n\\t\\t\\t\\t\\t\\t\\t\\t\\t\\t\\t\\t\\t\\n\\t\\t\\t\\t\\t\\t\\t\\t\\t\\t\\t\\t\\n\\t\\t\\t\\t\\t\\t\\t\\t\\t\\t\\t\\t\\t\\n\\t\\t\\t\\t\\t\\t\\t\\t\\t\\t\\t\\t\\t\\n\\t\\t\\t\\t\\t\\t\\t\\t\\t\\t\\t\\t\\t\\t<option value=\"광주시\" data-gis=\"\">광주시</option>\\n\\t\\t\\t\\t\\t\\t\\t\\t\\t\\t\\t\\t\\t\\n\\t\\t\\t\\t\\t\\t\\t\\t\\t\\t\\t\\t\\n\\t\\t\\t\\t\\t\\t\\t\\t\\t\\t\\t\\t\\t\\n\\t\\t\\t\\t\\t\\t\\t\\t\\t\\t\\t\\t\\t\\n\\t\\t\\t\\t\\t\\t\\t\\t\\t\\t\\t\\t\\t\\t<option value=\"구리시\" data-gis=\"\">구리시</option>\\n\\t\\t\\t\\t\\t\\t\\t\\t\\t\\t\\t\\t\\t\\n\\t\\t\\t\\t\\t\\t\\t\\t\\t\\t\\t\\t\\n\\t\\t\\t\\t\\t\\t\\t\\t\\t\\t\\t\\t\\t\\n\\t\\t\\t\\t\\t\\t\\t\\t\\t\\t\\t\\t\\t\\n\\t\\t\\t\\t\\t\\t\\t\\t\\t\\t\\t\\t\\t\\t<option value=\"군포시\" data-gis=\"\">군포시</option>\\n\\t\\t\\t\\t\\t\\t\\t\\t\\t\\t\\t\\t\\t\\n\\t\\t\\t\\t\\t\\t\\t\\t\\t\\t\\t\\t\\n\\t\\t\\t\\t\\t\\t\\t\\t\\t\\t\\t\\t\\t\\n\\t\\t\\t\\t\\t\\t\\t\\t\\t\\t\\t\\t\\t\\n\\t\\t\\t\\t\\t\\t\\t\\t\\t\\t\\t\\t\\t\\t<option value=\"김포시\" data-gis=\"\">김포시</option>\\n\\t\\t\\t\\t\\t\\t\\t\\t\\t\\t\\t\\t\\t\\n\\t\\t\\t\\t\\t\\t\\t\\t\\t\\t\\t\\t\\n\\t\\t\\t\\t\\t\\t\\t\\t\\t\\t\\t\\t\\t\\n\\t\\t\\t\\t\\t\\t\\t\\t\\t\\t\\t\\t\\t\\n\\t\\t\\t\\t\\t\\t\\t\\t\\t\\t\\t\\t\\t\\t<option value=\"남양주시\" data-gis=\"\">남양주시</option>\\n\\t\\t\\t\\t\\t\\t\\t\\t\\t\\t\\t\\t\\t\\n\\t\\t\\t\\t\\t\\t\\t\\t\\t\\t\\t\\t\\n\\t\\t\\t\\t\\t\\t\\t\\t\\t\\t\\t\\t\\t\\n\\t\\t\\t\\t\\t\\t\\t\\t\\t\\t\\t\\t\\t\\n\\t\\t\\t\\t\\t\\t\\t\\t\\t\\t\\t\\t\\t\\t<option value=\"동두천시\" data-gis=\"\">동두천시</option>\\n\\t\\t\\t\\t\\t\\t\\t\\t\\t\\t\\t\\t\\t\\n\\t\\t\\t\\t\\t\\t\\t\\t\\t\\t\\t\\t\\n\\t\\t\\t\\t\\t\\t\\t\\t\\t\\t\\t\\t\\t\\n\\t\\t\\t\\t\\t\\t\\t\\t\\t\\t\\t\\t\\t\\n\\t\\t\\t\\t\\t\\t\\t\\t\\t\\t\\t\\t\\t\\t<option value=\"부천시\" data-gis=\"\">부천시</option>\\n\\t\\t\\t\\t\\t\\t\\t\\t\\t\\t\\t\\t\\t\\n\\t\\t\\t\\t\\t\\t\\t\\t\\t\\t\\t\\t\\n\\t\\t\\t\\t\\t\\t\\t\\t\\t\\t\\t\\t\\t\\n\\t\\t\\t\\t\\t\\t\\t\\t\\t\\t\\t\\t\\t\\n\\t\\t\\t\\t\\t\\t\\t\\t\\t\\t\\t\\t\\t\\t<option value=\"성남시\" data-gis=\"\">성남시</option>\\n\\t\\t\\t\\t\\t\\t\\t\\t\\t\\t\\t\\t\\t\\n\\t\\t\\t\\t\\t\\t\\t\\t\\t\\t\\t\\t\\n\\t\\t\\t\\t\\t\\t\\t\\t\\t\\t\\t\\t\\t\\n\\t\\t\\t\\t\\t\\t\\t\\t\\t\\t\\t\\t\\t\\n\\t\\t\\t\\t\\t\\t\\t\\t\\t\\t\\t\\t\\t\\t<option value=\"성남시분당구\" data-gis=\"\">성남시분당구</option>\\n\\t\\t\\t\\t\\t\\t\\t\\t\\t\\t\\t\\t\\t\\n\\t\\t\\t\\t\\t\\t\\t\\t\\t\\t\\t\\t\\n\\t\\t\\t\\t\\t\\t\\t\\t\\t\\t\\t\\t\\t\\n\\t\\t\\t\\t\\t\\t\\t\\t\\t\\t\\t\\t\\t\\n\\t\\t\\t\\t\\t\\t\\t\\t\\t\\t\\t\\t\\t\\t<option value=\"성남시수정구\" data-gis=\"\">성남시수정구</option>\\n\\t\\t\\t\\t\\t\\t\\t\\t\\t\\t\\t\\t\\t\\n\\t\\t\\t\\t\\t\\t\\t\\t\\t\\t\\t\\t\\n\\t\\t\\t\\t\\t\\t\\t\\t\\t\\t\\t\\t\\t\\n\\t\\t\\t\\t\\t\\t\\t\\t\\t\\t\\t\\t\\t\\n\\t\\t\\t\\t\\t\\t\\t\\t\\t\\t\\t\\t\\t\\t<option value=\"성남시중원구\" data-gis=\"\">성남시중원구</option>\\n\\t\\t\\t\\t\\t\\t\\t\\t\\t\\t\\t\\t\\t\\n\\t\\t\\t\\t\\t\\t\\t\\t\\t\\t\\t\\t\\n\\t\\t\\t\\t\\t\\t\\t\\t\\t\\t\\t\\t\\t\\n\\t\\t\\t\\t\\t\\t\\t\\t\\t\\t\\t\\t\\t\\n\\t\\t\\t\\t\\t\\t\\t\\t\\t\\t\\t\\t\\t\\t<option value=\"수원시\" data-gis=\"\">수원시</option>\\n\\t\\t\\t\\t\\t\\t\\t\\t\\t\\t\\t\\t\\t\\n\\t\\t\\t\\t\\t\\t\\t\\t\\t\\t\\t\\t\\n\\t\\t\\t\\t\\t\\t\\t\\t\\t\\t\\t\\t\\t\\n\\t\\t\\t\\t\\t\\t\\t\\t\\t\\t\\t\\t\\t\\n\\t\\t\\t\\t\\t\\t\\t\\t\\t\\t\\t\\t\\t\\t<option value=\"수원시권선구\" data-gis=\"\">수원시권선구</option>\\n\\t\\t\\t\\t\\t\\t\\t\\t\\t\\t\\t\\t\\t\\n\\t\\t\\t\\t\\t\\t\\t\\t\\t\\t\\t\\t\\n\\t\\t\\t\\t\\t\\t\\t\\t\\t\\t\\t\\t\\t\\n\\t\\t\\t\\t\\t\\t\\t\\t\\t\\t\\t\\t\\t\\n\\t\\t\\t\\t\\t\\t\\t\\t\\t\\t\\t\\t\\t\\t<option value=\"수원시영통구\" data-gis=\"\">수원시영통구</option>\\n\\t\\t\\t\\t\\t\\t\\t\\t\\t\\t\\t\\t\\t\\n\\t\\t\\t\\t\\t\\t\\t\\t\\t\\t\\t\\t\\n\\t\\t\\t\\t\\t\\t\\t\\t\\t\\t\\t\\t\\t\\n\\t\\t\\t\\t\\t\\t\\t\\t\\t\\t\\t\\t\\t\\n\\t\\t\\t\\t\\t\\t\\t\\t\\t\\t\\t\\t\\t\\t<option value=\"수원시장안구\" data-gis=\"\">수원시장안구</option>\\n\\t\\t\\t\\t\\t\\t\\t\\t\\t\\t\\t\\t\\t\\n\\t\\t\\t\\t\\t\\t\\t\\t\\t\\t\\t\\t\\n\\t\\t\\t\\t\\t\\t\\t\\t\\t\\t\\t\\t\\t\\n\\t\\t\\t\\t\\t\\t\\t\\t\\t\\t\\t\\t\\t\\n\\t\\t\\t\\t\\t\\t\\t\\t\\t\\t\\t\\t\\t\\t<option value=\"수원시팔달구\" data-gis=\"\">수원시팔달구</option>\\n\\t\\t\\t\\t\\t\\t\\t\\t\\t\\t\\t\\t\\t\\n\\t\\t\\t\\t\\t\\t\\t\\t\\t\\t\\t\\t\\n\\t\\t\\t\\t\\t\\t\\t\\t\\t\\t\\t\\t\\t\\n\\t\\t\\t\\t\\t\\t\\t\\t\\t\\t\\t\\t\\t\\n\\t\\t\\t\\t\\t\\t\\t\\t\\t\\t\\t\\t\\t\\t<option value=\"시흥시\" data-gis=\"\">시흥시</option>\\n\\t\\t\\t\\t\\t\\t\\t\\t\\t\\t\\t\\t\\t\\n\\t\\t\\t\\t\\t\\t\\t\\t\\t\\t\\t\\t\\n\\t\\t\\t\\t\\t\\t\\t\\t\\t\\t\\t\\t\\t\\n\\t\\t\\t\\t\\t\\t\\t\\t\\t\\t\\t\\t\\t\\n\\t\\t\\t\\t\\t\\t\\t\\t\\t\\t\\t\\t\\t\\t<option value=\"안산시\" data-gis=\"\">안산시</option>\\n\\t\\t\\t\\t\\t\\t\\t\\t\\t\\t\\t\\t\\t\\n\\t\\t\\t\\t\\t\\t\\t\\t\\t\\t\\t\\t\\n\\t\\t\\t\\t\\t\\t\\t\\t\\t\\t\\t\\t\\t\\n\\t\\t\\t\\t\\t\\t\\t\\t\\t\\t\\t\\t\\t\\n\\t\\t\\t\\t\\t\\t\\t\\t\\t\\t\\t\\t\\t\\t<option value=\"안산시단원구\" data-gis=\"\">안산시단원구</option>\\n\\t\\t\\t\\t\\t\\t\\t\\t\\t\\t\\t\\t\\t\\n\\t\\t\\t\\t\\t\\t\\t\\t\\t\\t\\t\\t\\n\\t\\t\\t\\t\\t\\t\\t\\t\\t\\t\\t\\t\\t\\n\\t\\t\\t\\t\\t\\t\\t\\t\\t\\t\\t\\t\\t\\n\\t\\t\\t\\t\\t\\t\\t\\t\\t\\t\\t\\t\\t\\t<option value=\"안산시상록구\" data-gis=\"\">안산시상록구</option>\\n\\t\\t\\t\\t\\t\\t\\t\\t\\t\\t\\t\\t\\t\\n\\t\\t\\t\\t\\t\\t\\t\\t\\t\\t\\t\\t\\n\\t\\t\\t\\t\\t\\t\\t\\t\\t\\t\\t\\t\\t\\n\\t\\t\\t\\t\\t\\t\\t\\t\\t\\t\\t\\t\\t\\n\\t\\t\\t\\t\\t\\t\\t\\t\\t\\t\\t\\t\\t\\t<option value=\"안성시\" data-gis=\"\">안성시</option>\\n\\t\\t\\t\\t\\t\\t\\t\\t\\t\\t\\t\\t\\t\\n\\t\\t\\t\\t\\t\\t\\t\\t\\t\\t\\t\\t\\n\\t\\t\\t\\t\\t\\t\\t\\t\\t\\t\\t\\t\\t\\n\\t\\t\\t\\t\\t\\t\\t\\t\\t\\t\\t\\t\\t\\n\\t\\t\\t\\t\\t\\t\\t\\t\\t\\t\\t\\t\\t\\t<option value=\"안양시\" data-gis=\"\">안양시</option>\\n\\t\\t\\t\\t\\t\\t\\t\\t\\t\\t\\t\\t\\t\\n\\t\\t\\t\\t\\t\\t\\t\\t\\t\\t\\t\\t\\n\\t\\t\\t\\t\\t\\t\\t\\t\\t\\t\\t\\t\\t\\n\\t\\t\\t\\t\\t\\t\\t\\t\\t\\t\\t\\t\\t\\n\\t\\t\\t\\t\\t\\t\\t\\t\\t\\t\\t\\t\\t\\t<option value=\"안양시동안구\" data-gis=\"\">안양시동안구</option>\\n\\t\\t\\t\\t\\t\\t\\t\\t\\t\\t\\t\\t\\t\\n\\t\\t\\t\\t\\t\\t\\t\\t\\t\\t\\t\\t\\n\\t\\t\\t\\t\\t\\t\\t\\t\\t\\t\\t\\t\\t\\n\\t\\t\\t\\t\\t\\t\\t\\t\\t\\t\\t\\t\\t\\n\\t\\t\\t\\t\\t\\t\\t\\t\\t\\t\\t\\t\\t\\t<option value=\"안양시만안구\" data-gis=\"\">안양시만안구</option>\\n\\t\\t\\t\\t\\t\\t\\t\\t\\t\\t\\t\\t\\t\\n\\t\\t\\t\\t\\t\\t\\t\\t\\t\\t\\t\\t\\n\\t\\t\\t\\t\\t\\t\\t\\t\\t\\t\\t\\t\\t\\n\\t\\t\\t\\t\\t\\t\\t\\t\\t\\t\\t\\t\\t\\n\\t\\t\\t\\t\\t\\t\\t\\t\\t\\t\\t\\t\\t\\t<option value=\"양주시\" data-gis=\"\">양주시</option>\\n\\t\\t\\t\\t\\t\\t\\t\\t\\t\\t\\t\\t\\t\\n\\t\\t\\t\\t\\t\\t\\t\\t\\t\\t\\t\\t\\n\\t\\t\\t\\t\\t\\t\\t\\t\\t\\t\\t\\t\\t\\n\\t\\t\\t\\t\\t\\t\\t\\t\\t\\t\\t\\t\\t\\n\\t\\t\\t\\t\\t\\t\\t\\t\\t\\t\\t\\t\\t\\t<option value=\"양평군\" data-gis=\"\">양평군</option>\\n\\t\\t\\t\\t\\t\\t\\t\\t\\t\\t\\t\\t\\t\\n\\t\\t\\t\\t\\t\\t\\t\\t\\t\\t\\t\\t\\n\\t\\t\\t\\t\\t\\t\\t\\t\\t\\t\\t\\t\\t\\n\\t\\t\\t\\t\\t\\t\\t\\t\\t\\t\\t\\t\\t\\n\\t\\t\\t\\t\\t\\t\\t\\t\\t\\t\\t\\t\\t\\t<option value=\"여주시\" data-gis=\"\">여주시</option>\\n\\t\\t\\t\\t\\t\\t\\t\\t\\t\\t\\t\\t\\t\\n\\t\\t\\t\\t\\t\\t\\t\\t\\t\\t\\t\\t\\n\\t\\t\\t\\t\\t\\t\\t\\t\\t\\t\\t\\t\\t\\n\\t\\t\\t\\t\\t\\t\\t\\t\\t\\t\\t\\t\\t\\n\\t\\t\\t\\t\\t\\t\\t\\t\\t\\t\\t\\t\\t\\t<option value=\"연천군\" data-gis=\"\">연천군</option>\\n\\t\\t\\t\\t\\t\\t\\t\\t\\t\\t\\t\\t\\t\\n\\t\\t\\t\\t\\t\\t\\t\\t\\t\\t\\t\\t\\n\\t\\t\\t\\t\\t\\t\\t\\t\\t\\t\\t\\t\\t\\n\\t\\t\\t\\t\\t\\t\\t\\t\\t\\t\\t\\t\\t\\n\\t\\t\\t\\t\\t\\t\\t\\t\\t\\t\\t\\t\\t\\t<option value=\"오산시\" data-gis=\"\">오산시</option>\\n\\t\\t\\t\\t\\t\\t\\t\\t\\t\\t\\t\\t\\t\\n\\t\\t\\t\\t\\t\\t\\t\\t\\t\\t\\t\\t\\n\\t\\t\\t\\t\\t\\t\\t\\t\\t\\t\\t\\t\\t\\n\\t\\t\\t\\t\\t\\t\\t\\t\\t\\t\\t\\t\\t\\n\\t\\t\\t\\t\\t\\t\\t\\t\\t\\t\\t\\t\\t\\t<option value=\"용인시\" data-gis=\"\">용인시</option>\\n\\t\\t\\t\\t\\t\\t\\t\\t\\t\\t\\t\\t\\t\\n\\t\\t\\t\\t\\t\\t\\t\\t\\t\\t\\t\\t\\n\\t\\t\\t\\t\\t\\t\\t\\t\\t\\t\\t\\t\\t\\n\\t\\t\\t\\t\\t\\t\\t\\t\\t\\t\\t\\t\\t\\t<option value=\"용인시기흥구\" selected=\"selected\" data-gis=\"\">용인시기흥구</option>\\n\\t\\t\\t\\t\\t\\t\\t\\t\\t\\t\\t\\t\\t\\n\\t\\t\\t\\t\\t\\t\\t\\t\\t\\t\\t\\t\\t\\n\\t\\t\\t\\t\\t\\t\\t\\t\\t\\t\\t\\t\\n\\t\\t\\t\\t\\t\\t\\t\\t\\t\\t\\t\\t\\t\\n\\t\\t\\t\\t\\t\\t\\t\\t\\t\\t\\t\\t\\t\\n\\t\\t\\t\\t\\t\\t\\t\\t\\t\\t\\t\\t\\t\\t<option value=\"용인시수지구\" data-gis=\"\">용인시수지구</option>\\n\\t\\t\\t\\t\\t\\t\\t\\t\\t\\t\\t\\t\\t\\n\\t\\t\\t\\t\\t\\t\\t\\t\\t\\t\\t\\t\\n\\t\\t\\t\\t\\t\\t\\t\\t\\t\\t\\t\\t\\t\\n\\t\\t\\t\\t\\t\\t\\t\\t\\t\\t\\t\\t\\t\\n\\t\\t\\t\\t\\t\\t\\t\\t\\t\\t\\t\\t\\t\\t<option value=\"용인시처인구\" data-gis=\"\">용인시처인구</option>\\n\\t\\t\\t\\t\\t\\t\\t\\t\\t\\t\\t\\t\\t\\n\\t\\t\\t\\t\\t\\t\\t\\t\\t\\t\\t\\t\\n\\t\\t\\t\\t\\t\\t\\t\\t\\t\\t\\t\\t\\t\\n\\t\\t\\t\\t\\t\\t\\t\\t\\t\\t\\t\\t\\t\\n\\t\\t\\t\\t\\t\\t\\t\\t\\t\\t\\t\\t\\t\\t<option value=\"의왕시\" data-gis=\"\">의왕시</option>\\n\\t\\t\\t\\t\\t\\t\\t\\t\\t\\t\\t\\t\\t\\n\\t\\t\\t\\t\\t\\t\\t\\t\\t\\t\\t\\t\\n\\t\\t\\t\\t\\t\\t\\t\\t\\t\\t\\t\\t\\t\\n\\t\\t\\t\\t\\t\\t\\t\\t\\t\\t\\t\\t\\t\\n\\t\\t\\t\\t\\t\\t\\t\\t\\t\\t\\t\\t\\t\\t<option value=\"의정부시\" data-gis=\"\">의정부시</option>\\n\\t\\t\\t\\t\\t\\t\\t\\t\\t\\t\\t\\t\\t\\n\\t\\t\\t\\t\\t\\t\\t\\t\\t\\t\\t\\t\\n\\t\\t\\t\\t\\t\\t\\t\\t\\t\\t\\t\\t\\t\\n\\t\\t\\t\\t\\t\\t\\t\\t\\t\\t\\t\\t\\t\\n\\t\\t\\t\\t\\t\\t\\t\\t\\t\\t\\t\\t\\t\\t<option value=\"이천시\" data-gis=\"\">이천시</option>\\n\\t\\t\\t\\t\\t\\t\\t\\t\\t\\t\\t\\t\\t\\n\\t\\t\\t\\t\\t\\t\\t\\t\\t\\t\\t\\t\\n\\t\\t\\t\\t\\t\\t\\t\\t\\t\\t\\t\\t\\t\\n\\t\\t\\t\\t\\t\\t\\t\\t\\t\\t\\t\\t\\t\\n\\t\\t\\t\\t\\t\\t\\t\\t\\t\\t\\t\\t\\t\\t<option value=\"파주시\" data-gis=\"\">파주시</option>\\n\\t\\t\\t\\t\\t\\t\\t\\t\\t\\t\\t\\t\\t\\n\\t\\t\\t\\t\\t\\t\\t\\t\\t\\t\\t\\t\\n\\t\\t\\t\\t\\t\\t\\t\\t\\t\\t\\t\\t\\t\\n\\t\\t\\t\\t\\t\\t\\t\\t\\t\\t\\t\\t\\t\\n\\t\\t\\t\\t\\t\\t\\t\\t\\t\\t\\t\\t\\t\\t<option value=\"평택시\" data-gis=\"\">평택시</option>\\n\\t\\t\\t\\t\\t\\t\\t\\t\\t\\t\\t\\t\\t\\n\\t\\t\\t\\t\\t\\t\\t\\t\\t\\t\\t\\t\\n\\t\\t\\t\\t\\t\\t\\t\\t\\t\\t\\t\\t\\t\\n\\t\\t\\t\\t\\t\\t\\t\\t\\t\\t\\t\\t\\t\\n\\t\\t\\t\\t\\t\\t\\t\\t\\t\\t\\t\\t\\t\\t<option value=\"포천시\" data-gis=\"\">포천시</option>\\n\\t\\t\\t\\t\\t\\t\\t\\t\\t\\t\\t\\t\\t\\n\\t\\t\\t\\t\\t\\t\\t\\t\\t\\t\\t\\t\\n\\t\\t\\t\\t\\t\\t\\t\\t\\t\\t\\t\\t\\t\\n\\t\\t\\t\\t\\t\\t\\t\\t\\t\\t\\t\\t\\t\\n\\t\\t\\t\\t\\t\\t\\t\\t\\t\\t\\t\\t\\t\\t<option value=\"하남시\" data-gis=\"\">하남시</option>\\n\\t\\t\\t\\t\\t\\t\\t\\t\\t\\t\\t\\t\\t\\n\\t\\t\\t\\t\\t\\t\\t\\t\\t\\t\\t\\t\\n\\t\\t\\t\\t\\t\\t\\t\\t\\t\\t\\t\\t\\t\\n\\t\\t\\t\\t\\t\\t\\t\\t\\t\\t\\t\\t\\t\\n\\t\\t\\t\\t\\t\\t\\t\\t\\t\\t\\t\\t\\t\\t<option value=\"화성시\" data-gis=\"\">화성시</option>\\n\\t\\t\\t\\t\\t\\t\\t\\t\\t\\t\\t\\t\\t\\n\\t\\t\\t\\t\\t\\t\\t\\t\\t\\t\\t\\t\\t\\t\\t\\t\\t\\t\\t\\t\\t\\t\\n\\t\\t\\t\\t\\t\\t\\t\\t\\t\\t\\t'"
      ]
     },
     "execution_count": 13,
     "metadata": {},
     "output_type": "execute_result"
    }
   ],
   "source": [
    "gu_list_raw.get_attribute('innerHTML')"
   ]
  },
  {
   "cell_type": "code",
   "execution_count": 12,
   "id": "ca9c3b77",
   "metadata": {},
   "outputs": [
    {
     "data": {
      "text/plain": [
       "[<selenium.webdriver.remote.webelement.WebElement (session=\"d96169c123012796931b2dbfbd4a4670\", element=\"01E6B57710969B8B002DC94FACD27632_element_3632\")>,\n",
       " <selenium.webdriver.remote.webelement.WebElement (session=\"d96169c123012796931b2dbfbd4a4670\", element=\"01E6B57710969B8B002DC94FACD27632_element_3634\")>,\n",
       " <selenium.webdriver.remote.webelement.WebElement (session=\"d96169c123012796931b2dbfbd4a4670\", element=\"01E6B57710969B8B002DC94FACD27632_element_3636\")>,\n",
       " <selenium.webdriver.remote.webelement.WebElement (session=\"d96169c123012796931b2dbfbd4a4670\", element=\"01E6B57710969B8B002DC94FACD27632_element_3638\")>,\n",
       " <selenium.webdriver.remote.webelement.WebElement (session=\"d96169c123012796931b2dbfbd4a4670\", element=\"01E6B57710969B8B002DC94FACD27632_element_3640\")>,\n",
       " <selenium.webdriver.remote.webelement.WebElement (session=\"d96169c123012796931b2dbfbd4a4670\", element=\"01E6B57710969B8B002DC94FACD27632_element_3642\")>,\n",
       " <selenium.webdriver.remote.webelement.WebElement (session=\"d96169c123012796931b2dbfbd4a4670\", element=\"01E6B57710969B8B002DC94FACD27632_element_3644\")>,\n",
       " <selenium.webdriver.remote.webelement.WebElement (session=\"d96169c123012796931b2dbfbd4a4670\", element=\"01E6B57710969B8B002DC94FACD27632_element_3646\")>,\n",
       " <selenium.webdriver.remote.webelement.WebElement (session=\"d96169c123012796931b2dbfbd4a4670\", element=\"01E6B57710969B8B002DC94FACD27632_element_3648\")>,\n",
       " <selenium.webdriver.remote.webelement.WebElement (session=\"d96169c123012796931b2dbfbd4a4670\", element=\"01E6B57710969B8B002DC94FACD27632_element_3650\")>,\n",
       " <selenium.webdriver.remote.webelement.WebElement (session=\"d96169c123012796931b2dbfbd4a4670\", element=\"01E6B57710969B8B002DC94FACD27632_element_3652\")>,\n",
       " <selenium.webdriver.remote.webelement.WebElement (session=\"d96169c123012796931b2dbfbd4a4670\", element=\"01E6B57710969B8B002DC94FACD27632_element_3654\")>,\n",
       " <selenium.webdriver.remote.webelement.WebElement (session=\"d96169c123012796931b2dbfbd4a4670\", element=\"01E6B57710969B8B002DC94FACD27632_element_3656\")>,\n",
       " <selenium.webdriver.remote.webelement.WebElement (session=\"d96169c123012796931b2dbfbd4a4670\", element=\"01E6B57710969B8B002DC94FACD27632_element_3658\")>,\n",
       " <selenium.webdriver.remote.webelement.WebElement (session=\"d96169c123012796931b2dbfbd4a4670\", element=\"01E6B57710969B8B002DC94FACD27632_element_3660\")>,\n",
       " <selenium.webdriver.remote.webelement.WebElement (session=\"d96169c123012796931b2dbfbd4a4670\", element=\"01E6B57710969B8B002DC94FACD27632_element_3662\")>,\n",
       " <selenium.webdriver.remote.webelement.WebElement (session=\"d96169c123012796931b2dbfbd4a4670\", element=\"01E6B57710969B8B002DC94FACD27632_element_3664\")>,\n",
       " <selenium.webdriver.remote.webelement.WebElement (session=\"d96169c123012796931b2dbfbd4a4670\", element=\"01E6B57710969B8B002DC94FACD27632_element_3666\")>,\n",
       " <selenium.webdriver.remote.webelement.WebElement (session=\"d96169c123012796931b2dbfbd4a4670\", element=\"01E6B57710969B8B002DC94FACD27632_element_3668\")>,\n",
       " <selenium.webdriver.remote.webelement.WebElement (session=\"d96169c123012796931b2dbfbd4a4670\", element=\"01E6B57710969B8B002DC94FACD27632_element_3670\")>,\n",
       " <selenium.webdriver.remote.webelement.WebElement (session=\"d96169c123012796931b2dbfbd4a4670\", element=\"01E6B57710969B8B002DC94FACD27632_element_3672\")>,\n",
       " <selenium.webdriver.remote.webelement.WebElement (session=\"d96169c123012796931b2dbfbd4a4670\", element=\"01E6B57710969B8B002DC94FACD27632_element_3674\")>,\n",
       " <selenium.webdriver.remote.webelement.WebElement (session=\"d96169c123012796931b2dbfbd4a4670\", element=\"01E6B57710969B8B002DC94FACD27632_element_3676\")>,\n",
       " <selenium.webdriver.remote.webelement.WebElement (session=\"d96169c123012796931b2dbfbd4a4670\", element=\"01E6B57710969B8B002DC94FACD27632_element_3678\")>,\n",
       " <selenium.webdriver.remote.webelement.WebElement (session=\"d96169c123012796931b2dbfbd4a4670\", element=\"01E6B57710969B8B002DC94FACD27632_element_3680\")>,\n",
       " <selenium.webdriver.remote.webelement.WebElement (session=\"d96169c123012796931b2dbfbd4a4670\", element=\"01E6B57710969B8B002DC94FACD27632_element_3682\")>,\n",
       " <selenium.webdriver.remote.webelement.WebElement (session=\"d96169c123012796931b2dbfbd4a4670\", element=\"01E6B57710969B8B002DC94FACD27632_element_3684\")>,\n",
       " <selenium.webdriver.remote.webelement.WebElement (session=\"d96169c123012796931b2dbfbd4a4670\", element=\"01E6B57710969B8B002DC94FACD27632_element_3686\")>,\n",
       " <selenium.webdriver.remote.webelement.WebElement (session=\"d96169c123012796931b2dbfbd4a4670\", element=\"01E6B57710969B8B002DC94FACD27632_element_3688\")>,\n",
       " <selenium.webdriver.remote.webelement.WebElement (session=\"d96169c123012796931b2dbfbd4a4670\", element=\"01E6B57710969B8B002DC94FACD27632_element_3690\")>,\n",
       " <selenium.webdriver.remote.webelement.WebElement (session=\"d96169c123012796931b2dbfbd4a4670\", element=\"01E6B57710969B8B002DC94FACD27632_element_3692\")>,\n",
       " <selenium.webdriver.remote.webelement.WebElement (session=\"d96169c123012796931b2dbfbd4a4670\", element=\"01E6B57710969B8B002DC94FACD27632_element_3694\")>,\n",
       " <selenium.webdriver.remote.webelement.WebElement (session=\"d96169c123012796931b2dbfbd4a4670\", element=\"01E6B57710969B8B002DC94FACD27632_element_3696\")>,\n",
       " <selenium.webdriver.remote.webelement.WebElement (session=\"d96169c123012796931b2dbfbd4a4670\", element=\"01E6B57710969B8B002DC94FACD27632_element_3698\")>,\n",
       " <selenium.webdriver.remote.webelement.WebElement (session=\"d96169c123012796931b2dbfbd4a4670\", element=\"01E6B57710969B8B002DC94FACD27632_element_3700\")>,\n",
       " <selenium.webdriver.remote.webelement.WebElement (session=\"d96169c123012796931b2dbfbd4a4670\", element=\"01E6B57710969B8B002DC94FACD27632_element_3702\")>,\n",
       " <selenium.webdriver.remote.webelement.WebElement (session=\"d96169c123012796931b2dbfbd4a4670\", element=\"01E6B57710969B8B002DC94FACD27632_element_3704\")>,\n",
       " <selenium.webdriver.remote.webelement.WebElement (session=\"d96169c123012796931b2dbfbd4a4670\", element=\"01E6B57710969B8B002DC94FACD27632_element_3706\")>,\n",
       " <selenium.webdriver.remote.webelement.WebElement (session=\"d96169c123012796931b2dbfbd4a4670\", element=\"01E6B57710969B8B002DC94FACD27632_element_3708\")>,\n",
       " <selenium.webdriver.remote.webelement.WebElement (session=\"d96169c123012796931b2dbfbd4a4670\", element=\"01E6B57710969B8B002DC94FACD27632_element_3710\")>,\n",
       " <selenium.webdriver.remote.webelement.WebElement (session=\"d96169c123012796931b2dbfbd4a4670\", element=\"01E6B57710969B8B002DC94FACD27632_element_3712\")>,\n",
       " <selenium.webdriver.remote.webelement.WebElement (session=\"d96169c123012796931b2dbfbd4a4670\", element=\"01E6B57710969B8B002DC94FACD27632_element_3714\")>,\n",
       " <selenium.webdriver.remote.webelement.WebElement (session=\"d96169c123012796931b2dbfbd4a4670\", element=\"01E6B57710969B8B002DC94FACD27632_element_3716\")>,\n",
       " <selenium.webdriver.remote.webelement.WebElement (session=\"d96169c123012796931b2dbfbd4a4670\", element=\"01E6B57710969B8B002DC94FACD27632_element_3718\")>,\n",
       " <selenium.webdriver.remote.webelement.WebElement (session=\"d96169c123012796931b2dbfbd4a4670\", element=\"01E6B57710969B8B002DC94FACD27632_element_3720\")>,\n",
       " <selenium.webdriver.remote.webelement.WebElement (session=\"d96169c123012796931b2dbfbd4a4670\", element=\"01E6B57710969B8B002DC94FACD27632_element_3722\")>,\n",
       " <selenium.webdriver.remote.webelement.WebElement (session=\"d96169c123012796931b2dbfbd4a4670\", element=\"01E6B57710969B8B002DC94FACD27632_element_3724\")>,\n",
       " <selenium.webdriver.remote.webelement.WebElement (session=\"d96169c123012796931b2dbfbd4a4670\", element=\"01E6B57710969B8B002DC94FACD27632_element_3726\")>,\n",
       " <selenium.webdriver.remote.webelement.WebElement (session=\"d96169c123012796931b2dbfbd4a4670\", element=\"01E6B57710969B8B002DC94FACD27632_element_3728\")>]"
      ]
     },
     "execution_count": 12,
     "metadata": {},
     "output_type": "execute_result"
    }
   ],
   "source": [
    "# select tag의 내부 값은 option 태그로 설정하게 됨\n",
    "gu_list=gu_list_raw.find_elements(By.TAG_NAME,'option')\n",
    "gu_list"
   ]
  },
  {
   "cell_type": "code",
   "execution_count": 22,
   "id": "f304c4b3",
   "metadata": {},
   "outputs": [],
   "source": [
    "# 구 리스트 추출\n",
    "gu_name=[option.get_attribute('value') for option in gu_list]  #.remove('')\n",
    "guname=gu_name[1:]"
   ]
  },
  {
   "cell_type": "code",
   "execution_count": 23,
   "id": "b5b715c2",
   "metadata": {},
   "outputs": [
    {
     "data": {
      "text/plain": [
       "['가평군',\n",
       " '고양시',\n",
       " '고양시덕양구',\n",
       " '고양시일산동구',\n",
       " '고양시일산서구',\n",
       " '과천시',\n",
       " '광명시',\n",
       " '광주시',\n",
       " '구리시',\n",
       " '군포시',\n",
       " '김포시',\n",
       " '남양주시',\n",
       " '동두천시',\n",
       " '부천시',\n",
       " '성남시',\n",
       " '성남시분당구',\n",
       " '성남시수정구',\n",
       " '성남시중원구',\n",
       " '수원시',\n",
       " '수원시권선구',\n",
       " '수원시영통구',\n",
       " '수원시장안구',\n",
       " '수원시팔달구',\n",
       " '시흥시',\n",
       " '안산시',\n",
       " '안산시단원구',\n",
       " '안산시상록구',\n",
       " '안성시',\n",
       " '안양시',\n",
       " '안양시동안구',\n",
       " '안양시만안구',\n",
       " '양주시',\n",
       " '양평군',\n",
       " '여주시',\n",
       " '연천군',\n",
       " '오산시',\n",
       " '용인시',\n",
       " '용인시기흥구',\n",
       " '용인시수지구',\n",
       " '용인시처인구',\n",
       " '의왕시',\n",
       " '의정부시',\n",
       " '이천시',\n",
       " '파주시',\n",
       " '평택시',\n",
       " '포천시',\n",
       " '하남시',\n",
       " '화성시']"
      ]
     },
     "execution_count": 23,
     "metadata": {},
     "output_type": "execute_result"
    }
   ],
   "source": [
    "guname"
   ]
  },
  {
   "cell_type": "code",
   "execution_count": 24,
   "id": "51e00e0a",
   "metadata": {},
   "outputs": [],
   "source": [
    "driver.close()"
   ]
  },
  {
   "cell_type": "code",
   "execution_count": null,
   "id": "f3da1de1",
   "metadata": {},
   "outputs": [],
   "source": []
  }
 ],
 "metadata": {
  "kernelspec": {
   "display_name": "Python 3 (ipykernel)",
   "language": "python",
   "name": "python3"
  },
  "language_info": {
   "codemirror_mode": {
    "name": "ipython",
    "version": 3
   },
   "file_extension": ".py",
   "mimetype": "text/x-python",
   "name": "python",
   "nbconvert_exporter": "python",
   "pygments_lexer": "ipython3",
   "version": "3.11.5"
  }
 },
 "nbformat": 4,
 "nbformat_minor": 5
}
