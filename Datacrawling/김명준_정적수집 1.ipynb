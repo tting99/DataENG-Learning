{
 "cells": [
  {
   "cell_type": "code",
   "execution_count": 4,
   "id": "c835884a-5cc7-4fb3-952e-68157d3726e6",
   "metadata": {},
   "outputs": [],
   "source": [
    "import bs4\n",
    "import warnings\n",
    "import requests\n",
    "import pandas as pd\n",
    "from urllib.request import urlopen\n",
    "warnings.filterwarnings(action='ignore')\n",
    "# 중간출력 모두 출력\n",
    "from IPython.core.interactiveshell import InteractiveShell\n",
    "InteractiveShell.ast_node_interactivity=\"all\""
   ]
  },
  {
   "cell_type": "code",
   "execution_count": 13,
   "id": "b9b752aa-b1cc-442f-a26a-18604ea8e33a",
   "metadata": {},
   "outputs": [],
   "source": [
    "url = 'http://unico2013.dothome.co.kr/crawling/exercise_bs.html'\n",
    "html = urlopen(url)\n",
    "html_text = html.read()\n",
    "bs_obj = bs4.BeautifulSoup(html_text, 'html.parser')"
   ]
  },
  {
   "cell_type": "code",
   "execution_count": 7,
   "id": "44f42f04-bd56-4a05-905c-4426490d3fd9",
   "metadata": {},
   "outputs": [
    {
     "data": {
      "text/plain": [
       "<bound method Tag.prettify of <!DOCTYPE html>\n",
       "\n",
       "<html>\n",
       "<head>\n",
       "<meta content=\"text/html; charset=utf-8\" http-equiv=\"Content-Type\"/>\n",
       "<title>HTML 학습</title>\n",
       "</head>\n",
       "<body>\n",
       "<h1>HTML의 링크 태그</h1>\n",
       "<hr/>\n",
       "<a href=\"http://www.w3.org/\">World Wide Consortium</a>\n",
       "<a href=\"http://java.sun.com/\">Java Page</a>\n",
       "<a href=\"http://www.python.org/\">Python Page</a>\n",
       "<a href=\"http://www.w3schools.com/\">Web Client 기술 학습</a>\n",
       "<hr/>\n",
       "<a href=\"http://java.sun.com/\">\n",
       "<img src=\"http://unico2013.dothome.co.kr/image/duke.jpg\" width=\"100\"/></a>\n",
       "<h2>좋아하는 색</h2>\n",
       "<ul>\n",
       "<li style=\"color:blue\">파란색</li>\n",
       "<li style=\"color:yellow\">노란색</li>\n",
       "<li style=\"color:green\">녹색</li>\n",
       "<li style=\"color:orange\">주황색</li>\n",
       "</ul>\n",
       "<h2>먹고싶은 음식</h2>\n",
       "<ol>\n",
       "<li>짜장면</li>\n",
       "<li>냉면</li>\n",
       "<li>돈까스</li>\n",
       "<li>갈비</li>\n",
       "</ol>\n",
       "<table border=\"1\">\n",
       "<tr class=\"name\"><th>둘리</th><th>또치</th><th>도우너</th></tr>\n",
       "<tr><td>케라토사우루스</td><td>타조</td><td>외계인</td></tr>\n",
       "<tr><td>도봉구 쌍문동</td><td id=\"target\">아프리카</td><td>깐따삐아 별</td></tr>\n",
       "</table>\n",
       "</body>\n",
       "</html>\n",
       ">"
      ]
     },
     "execution_count": 7,
     "metadata": {},
     "output_type": "execute_result"
    }
   ],
   "source": [
    "bs_obj.prettify"
   ]
  },
  {
   "cell_type": "code",
   "execution_count": 11,
   "id": "e908f319-1f95-4ff7-9346-ae734476e935",
   "metadata": {},
   "outputs": [
    {
     "data": {
      "text/plain": [
       "'HTML의 링크 태그'"
      ]
     },
     "execution_count": 11,
     "metadata": {},
     "output_type": "execute_result"
    }
   ],
   "source": [
    "# <h1> 태그의 컨텐츠\n",
    "bs_obj.select('body > h1')[0].text"
   ]
  },
  {
   "cell_type": "code",
   "execution_count": 35,
   "id": "8c38f0ca-10b8-4d52-92a9-bfbd39174e27",
   "metadata": {},
   "outputs": [
    {
     "name": "stdout",
     "output_type": "stream",
     "text": [
      "World Wide Consortium : http://www.w3.org/\n",
      "Java Page : http://java.sun.com/\n",
      "Python Page : http://www.python.org/\n",
      "Web Client 기술 학습 : http://www.w3schools.com/\n",
      "\n",
      " : http://java.sun.com/\n"
     ]
    }
   ],
   "source": [
    "# <a> 태그의 컨텐츠와 href속성값\n",
    "a_tag = bs_obj.find('body').findAll('a')\n",
    "a_text = []\n",
    "a_link = []\n",
    "for tag in a_tag:\n",
    "    a_text.append(tag.text)\n",
    "    a_link.append(tag['href'])\n",
    "    print(tag.text, ':', tag['href'])"
   ]
  },
  {
   "cell_type": "code",
   "execution_count": 54,
   "id": "c13f355f-46b8-45c8-8895-93a97fee1b53",
   "metadata": {},
   "outputs": [
    {
     "data": {
      "text/plain": [
       "'http://unico2013.dothome.co.kr/image/duke.jpg'"
      ]
     },
     "execution_count": 54,
     "metadata": {},
     "output_type": "execute_result"
    }
   ],
   "source": [
    "# <img> 태그의 src속성값\n",
    "src_val = bs_obj.select('img')[0]['src']\n",
    "src_val"
   ]
  },
  {
   "cell_type": "code",
   "execution_count": 57,
   "id": "28930fca-8800-47ea-87cd-0dd0f0897520",
   "metadata": {},
   "outputs": [
    {
     "data": {
      "text/plain": [
       "'좋아하는 색'"
      ]
     },
     "execution_count": 57,
     "metadata": {},
     "output_type": "execute_result"
    }
   ],
   "source": [
    "# 첫 번째 <h2> 태그의 컨텐츠\n",
    "first_h2 = bs_obj.find('h2').text\n",
    "first_h2"
   ]
  },
  {
   "cell_type": "code",
   "execution_count": 91,
   "id": "d1a2583b-311f-4b90-9b32-e63d7334188e",
   "metadata": {},
   "outputs": [
    {
     "name": "stdout",
     "output_type": "stream",
     "text": [
      "녹색\n"
     ]
    }
   ],
   "source": [
    "# <ul> 태그의 자식 태그들 중 style 속성의 값이 green으로 끝나는 태그의 컨텐츠\n",
    "green_from_ul = bs_obj.select('ul > li')\n",
    "for tag in green_from_ul:\n",
    "    if tag['style'].endswith('green'):\n",
    "        print(tag.text)\n",
    "        "
   ]
  },
  {
   "cell_type": "code",
   "execution_count": 95,
   "id": "15fc0fb5-87bd-43f1-afc1-1fc7b0fed9ed",
   "metadata": {},
   "outputs": [
    {
     "data": {
      "text/plain": [
       "'먹고싶은 음식'"
      ]
     },
     "execution_count": 95,
     "metadata": {},
     "output_type": "execute_result"
    }
   ],
   "source": [
    "# 두 번쨰 <h2> 태그의 컨텐츠\n",
    "second_h2 = bs_obj.findAll('h2')[1].text\n",
    "second_h2"
   ]
  },
  {
   "cell_type": "code",
   "execution_count": 109,
   "id": "8e19f827-215c-4ba8-80f1-b17b0a44c7eb",
   "metadata": {},
   "outputs": [
    {
     "name": "stdout",
     "output_type": "stream",
     "text": [
      "\n",
      "짜장면\n",
      "냉면\n",
      "돈까스\n",
      "갈비\n",
      "\n"
     ]
    }
   ],
   "source": [
    "# <Ol> 태그의 모든 자식 태그들의 컨텐츠\n",
    "all_ol = bs_obj.select('ol')\n",
    "for _ in all_ol:\n",
    "    print(_.text)"
   ]
  },
  {
   "cell_type": "code",
   "execution_count": 114,
   "id": "bc7e93a0-483a-4ec1-9836-c276db8bb568",
   "metadata": {},
   "outputs": [
    {
     "name": "stdout",
     "output_type": "stream",
     "text": [
      "\n",
      "둘리또치도우너\n",
      "케라토사우루스타조외계인\n",
      "도봉구 쌍문동아프리카깐따삐아 별\n",
      "\n"
     ]
    }
   ],
   "source": [
    "# <table> 태그의 모든 자손 태그들의 컨텐츠 \n",
    "table_cild = bs_obj.select('table')\n",
    "for _ in table_cild:\n",
    "    print(_.text)"
   ]
  },
  {
   "cell_type": "code",
   "execution_count": 127,
   "id": "f9caa7e2-ecbf-4c6b-9fcc-26b86aa1a39f",
   "metadata": {},
   "outputs": [
    {
     "data": {
      "text/plain": [
       "'둘리또치도우너'"
      ]
     },
     "execution_count": 127,
     "metadata": {},
     "output_type": "execute_result"
    }
   ],
   "source": [
    "# name 이라는 클래스 속성을 갖는 <tr> 태그의 컨텐츠\n",
    "tr_tag = bs_obj.select('tr' '.name')[0].text\n",
    "tr_tag"
   ]
  },
  {
   "cell_type": "code",
   "execution_count": null,
   "id": "be6ea551-dca1-42d7-94c6-8310a551ea5d",
   "metadata": {},
   "outputs": [],
   "source": []
  },
  {
   "cell_type": "code",
   "execution_count": null,
   "id": "2a10ca53-119e-4b69-aea9-4c22d7c6ca54",
   "metadata": {},
   "outputs": [],
   "source": []
  },
  {
   "cell_type": "code",
   "execution_count": null,
   "id": "aed16b07-7d88-4e5a-8226-f3a66cfa7ca9",
   "metadata": {},
   "outputs": [],
   "source": []
  }
 ],
 "metadata": {
  "kernelspec": {
   "display_name": "Python 3 (ipykernel)",
   "language": "python",
   "name": "python3"
  },
  "language_info": {
   "codemirror_mode": {
    "name": "ipython",
    "version": 3
   },
   "file_extension": ".py",
   "mimetype": "text/x-python",
   "name": "python",
   "nbconvert_exporter": "python",
   "pygments_lexer": "ipython3",
   "version": "3.8.10"
  }
 },
 "nbformat": 4,
 "nbformat_minor": 5
}
