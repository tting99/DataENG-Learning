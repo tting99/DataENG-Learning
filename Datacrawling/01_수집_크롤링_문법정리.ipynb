{
 "cells": [
  {
   "cell_type": "markdown",
   "metadata": {
    "collapsed": true,
    "jupyter": {
     "outputs_hidden": true
    }
   },
   "source": [
    "### 파이썬을 이용한  웹 데이터 수집(크롤링)\n",
    "\n",
    "1. 문서 내용 요청 후 읽어오기 urllib 패키지 \n",
    "    -  urlopen() 접속 \n",
    "    - read() 데이터 읽어오기\n",
    "    - text 속성을 사용해서 데이터 읽어올 수도 있음    \n",
    "      \n",
    "    \n",
    "\n",
    "2. 문서에서 원하는 내용 추출하기(파싱)  \n",
    " \n",
    " \n",
    "#### BeautifulSoup 패키지 사용 - find()/findAll()"
   ]
  },
  {
   "cell_type": "markdown",
   "metadata": {
    "collapsed": true,
    "jupyter": {
     "outputs_hidden": true
    }
   },
   "source": [
    "#### urllib 패키지 - url을 넘겨주면 데이터를 텍스트 형태로 반환(기본 내장 패키지)  \n",
    "\n",
    "\n",
    "- urllib2, urllib3 다른 버전 사용\n",
    "- requests 패키지를 사용할 수도 있음"
   ]
  },
  {
   "cell_type": "code",
   "execution_count": 2,
   "metadata": {},
   "outputs": [],
   "source": [
    "import requests\n",
    "# 파이썬 기본 패키지 : HTTP 요청을 보내는 모듈"
   ]
  },
  {
   "cell_type": "code",
   "execution_count": 3,
   "metadata": {},
   "outputs": [],
   "source": [
    "url = 'http://www.tistory.com'\n",
    "\n",
    "# request 패키지의 get(url) 함수 사용 : urllib의 open()과 read() 를 한번에 진행\n",
    "response = requests.get(url)\n",
    "# URL 변수에 저장되어 있는 웹주소로 요청신호를 보냄\n",
    "# 서버(tistory)는 해당 페이지의 소스코드를 클라이언트(현재 프로그램)로 전송하면서 응답하게 됨\n",
    "# response 변수에는 http://www.tistory.com의 소스코드(html)가 저장되어 있음"
   ]
  },
  {
   "cell_type": "code",
   "execution_count": 4,
   "metadata": {},
   "outputs": [
    {
     "data": {
      "text/plain": [
       "200"
      ]
     },
     "execution_count": 4,
     "metadata": {},
     "output_type": "execute_result"
    }
   ],
   "source": [
    "# 정상 응답인지 확인\n",
    "response.status_code\n",
    "# 응답에대한 상태코드\n",
    "# 200은 정상응답\n",
    "# 400번대 코드 : 클라이언트의 요청이 잘못되었다의 의미(url주소가 틀렸거나 권한이 없는 페이지를 요청했거나...)\n",
    "# 500번태 코드 : 클라이언트는 문법에 맞게 요청을 했는데 서버측에서 인증이 안되었거나, 서버가 망가졌거나의 상태"
   ]
  },
  {
   "cell_type": "code",
   "execution_count": 5,
   "metadata": {},
   "outputs": [
    {
     "data": {
      "text/plain": [
       "'\\n\\t<!doctype html>\\n\\t<html lang=\"ko\">\\n\\t<head>\\n\\t\\t<meta charset=\"utf-8\">\\n\\t\\t<meta name=\"google-site-verification\" content=\"Djy29naX64H0z8fGEOEOd-k40Sp65VRnz1sm_thWPhw\" />\\n<meta property=\"og:url\" content=\"https://www.tistory.com\">\\n<meta property=\"og:site_name\" content=\"Tistory\">\\n<meta property=\"og:title\" content=\"Tistory\">\\n<meta property=\"og:description\" content=\"좀 아는 블로거들의 유용한 이야기\">\\n<meta property=\"og:image\" content=\"//t1.daumcdn.net/tistory_admin/static/images/openGraph/tistoryOpengraph.png\">\\n<meta name=\"description\" content=\"좀 아는 블로거들의 유용한 이야기\">\\n\\t\\t<title>TISTORY</title>\\n<link rel=\"icon\" href=\"https://t1.daumcdn.net/tistory_admin/favicon/tistory_favicon_32x32.ico\" sizes=\"any\">\\n<link rel=\"icon\" type=\"image/svg+xml\" href=\"https://t1.daumcdn.net/tistory_admin/top_v2/bi-tistory-favicon.svg\" />\\n<link rel=\"apple-touch-icon\" href=\"https://t1.daumcdn.net/tistory_admin/top_v2/tistory-apple-touch-favicon.png\">\\t\\t<link rel=\"stylesheet\" type=\"text/css\" href=\"//t1.daumcdn.net/tistory_admin/assets/tistory-web-top/1702273660/static/css/ext/swiper.min.css\">\\n\\t\\t<link rel=\"stylesheet\" type=\"text/css\" href=\"//t1.daumcdn.net/tistory_admin/www/style/top/font.css\">\\n\\t\\t<link rel=\"stylesheet\" type=\"text/css\" href=\"//t1.daumcdn.net/tistory_admin/assets/tistory-gnb/3.3.3/gnb.min.css\">\\n\\t\\t<link rel=\"stylesheet\" type=\"text/css\" href=\"//t1.daumcdn.net/tistory_admin/assets/tistory-web-top/1702273660/static/css/pc/top.css\">\\n\\t\\t<script type=\"text/javascript\" src=\"https://t1.kakaocdn.net/kakao_js_sdk/v1/kakao.min.js\" ></script>\\n<!--[if lt IE 9]>\\n<script src=\"https://t1.daumcdn.net/tistory_admin/lib/jquery-1.12.4.min.js\"></script>\\n<![endif]-->\\n<!--[if gte IE 9]><!-->\\n<script src=\"https://t1.daumcdn.net/tistory_admin/lib/jquery-3.1.0.min.js\"></script>\\n<!--<![endif]-->\\n<script src=\"https://t1.daumcdn.net/tistory_admin/lib/fingerprint2-1.4.2.min.js\"></script>\\n<script type=\"text/javascript\" src=\"//m1.daumcdn.net/svc/original/U03/cssjs/jquery/plugin/jquery.cookie-1.4.0.min.js\"></script>\\n<script type=\"text/javascript\" src=\"//s1.daumcdn.net/svc/original/U03/cssjs/userAgent/userAgent-1.0.14.min.js\"></script>\\n\\t</head>\\n\\t<body>\\n\\t\\t<div id=\"kakaoIndex\"><!-- 웹접근성용 바로가기 링크 모음 -->\\n\\t\\t\\t<a href=\"#kakaoBody\">본문 바로가기</a>\\n\\t\\t\\t<a href=\"#kakaoLnb\">메뉴 바로가기</a> <!-- 2017-05-31 수정 : href 값 kakaoGnb -> kakaoLnb 로 변경 -->\\n\\t\\t</div>\\n\\t\\t\\n\\t\\t<div id=\"kakaoWrap\" class=\"tistory_type1\">\\n\\t\\t\\t<div id=\"kakaoHead\" role=\"banner\" class=\"#GNB kakao_head\"><!-- head_type1 : 추가타입 -->\\n<div class=\"inner_header\">\\n\\t<h1>\\n\\t\\t<a href=\"/\" id=\"kakaoServiceLogo\" class=\"#logo img_common_tistory tit_tistory\">티스토리</a>\\n\\t</h1>\\n\\t<div id=\"kakaoGnb\" role=\"navigation\" class=\"gnb_tistory\">\\n\\t\\t<h2 class=\"screen_out\">서비스 주요 메뉴</h2>\\n\\t\\t<ul class=\"list_gnb\">\\n\\t\\t\\t<li ><a href=\"/feed\" class=\"link_gnb\">피드</a></li>\\n\\t\\t\\t<li ><a href=\"/category\" class=\"link_gnb\">스토리</a></li>\\n\\t\\t\\t<li ><a href=\"/skin\" class=\"link_gnb\">스킨</a></li>\\n\\t\\t\\t<li ><a href=\"/community\" class=\"link_gnb\">포럼</a></li>\\n\\t\\t</ul>\\n\\t</div>\\n\\t<div class=\"info_tistory\">\\n\\t\\t<div class=\"logn_tistory\" style=\"display:none\">\\n\\t\\t\\t<h2 class=\"screen_out\">로그인정보</h2>\\n\\t\\t\\t<a href=\"/auth/login?redirectUrl=http%3A%2F%2Fwww.tistory.com%2F\" class=\"link_log_info\">로그인하기</a>\\n\\t\\t\\t<a href=\"/member/join\" class=\"btn_tistory btn_log_info\">가입하기</a>\\n\\t\\t</div>\\n\\t</div>\\n</div>\\n\\t\\t\\t</div>\\n\\t\\t\\t<hr class=\"hide\">\\n\\t\\t\\t<div id=\"kakaoContent\" role=\"main\">\\n\\t\\t\\t\\t<div id=\"cMain\">\\n\\t\\t\\t\\t\\t\\n<div id=\"mFeature\" class=\"feture_main feture_top\">\\n\\t<h2 class=\"screen_out\">PRPMOTION</h2>\\n\\t<div class=\"swiper-container\">\\n\\t\\t<div class=\"swiper-wrapper main_slide\">\\n\\t\\t\\t\\t<div class=\"swiper-slide scene_slide  init_slide\" style=\"background-image:url(https://img1.daumcdn.net/thumb/R1920x0/?scode=mtistory2&fname=https%3A%2F%2Ft1.daumcdn.net%2Fsection%2Foc%2Fa076c43fd54d49af81bfe68606ec6106)\">\\n\\t\\t\\t\\t\\t<div class=\"dimm_g_type2\"></div>\\n\\t\\t\\t\\t\\t<div class=\"scene_content\">\\n\\t\\t\\t\\t\\t\\t<div class=\"inner_scene\">\\n\\t\\t\\t\\t\\t\\t\\t<div class=\"scene_tistory scene_tistory_type2\">\\n\\t\\t\\t\\t\\t\\t\\t\\t\\t<strong class=\"tit_scene\"><b>‘응원하기’</b>로 소통하며<br>추가 수익을 올리세요.</strong>\\n\\t\\t\\t\\t\\t\\t\\t\\t\\t<p class=\"desc_scene\">창작 활동을 직접적으로 지원하는 새로운 수익 프로그램이 시작됩니다. </p>\\n\\t\\t\\t\\t\\t\\t\\t\\t\\t<div class=\"wrap_btn\"><a href=\"https://notice.tistory.com/2652?t_src=tistory_pc_topbanner\" class=\"btn_tistory btn_tistory_type5\">자세히보기</a></div>\\n\\t\\t\\t\\t\\t\\t\\t</div>\\n\\t\\t\\t\\t\\t\\t</div>\\n\\t\\t\\t\\t\\t</div>\\n\\t\\t\\t\\t</div>\\n\\t\\t\\t\\t<div class=\"swiper-slide scene_slide  \" style=\"background-image:url(https://img1.daumcdn.net/thumb/R1920x0/?scode=mtistory2&fname=https%3A%2F%2Ft1.daumcdn.net%2Fsection%2Foc%2Ffd708e84887d4dff9da3cf2a4374e50e)\">\\n\\t\\t\\t\\t\\t<div class=\"dimm_g_type2\"></div>\\n\\t\\t\\t\\t\\t<div class=\"scene_content\">\\n\\t\\t\\t\\t\\t\\t<div class=\"inner_scene\">\\n\\t\\t\\t\\t\\t\\t\\t<div class=\"scene_tistory scene_tistory_type2\">\\n\\t\\t\\t\\t\\t\\t\\t\\t\\t<strong class=\"tit_scene\"><b>\\'스토리 크리에이터\\'</b><br> 제도를 소개합니다.</strong>\\n\\t\\t\\t\\t\\t\\t\\t\\t\\t<p class=\"desc_scene\">스토리에서 특정 분야에 전문성 있는 창작자를 지원해 드려요.</p>\\n\\t\\t\\t\\t\\t\\t\\t\\t\\t<div class=\"wrap_btn\"><a href=\"https://storyhome.kakao.com/storycreator/?t_src=tistory_pc_topbanner\" class=\"btn_tistory btn_tistory_type5\">자세히보기</a></div>\\n\\t\\t\\t\\t\\t\\t\\t</div>\\n\\t\\t\\t\\t\\t\\t</div>\\n\\t\\t\\t\\t\\t</div>\\n\\t\\t\\t\\t</div>\\n\\t\\t\\t\\t<div class=\"swiper-slide scene_slide  \" style=\"background-image:url(https://img1.daumcdn.net/thumb/R1920x0/?scode=mtistory2&fname=https%3A%2F%2Ft1.daumcdn.net%2Fsection%2Foc%2F3b837b34cc814c7b9b3a12f772e2441f)\">\\n\\t\\t\\t\\t\\t<div class=\"dimm_g_type2\"></div>\\n\\t\\t\\t\\t\\t<div class=\"scene_content\">\\n\\t\\t\\t\\t\\t\\t<div class=\"inner_scene\">\\n\\t\\t\\t\\t\\t\\t\\t<div class=\"scene_tistory scene_tistory_type2\">\\n\\t\\t\\t\\t\\t\\t\\t\\t\\t<strong class=\"tit_scene\"><b>Story로 뭉쳐</b><br>\\n더 넓고 깊어집니다</strong>\\n\\t\\t\\t\\t\\t\\t\\t\\t\\t<p class=\"desc_scene\">티스토리가 브런치스토리, 카카오스토리와 함께<br>\\nStory로 새롭게 출발합니다.</p>\\n\\t\\t\\t\\t\\t\\t\\t\\t\\t<div class=\"wrap_btn\"><a href=\"https://notice.tistory.com/2637\" class=\"btn_tistory btn_tistory_type5\">자세히보기</a></div>\\n\\t\\t\\t\\t\\t\\t\\t</div>\\n\\t\\t\\t\\t\\t\\t</div>\\n\\t\\t\\t\\t\\t</div>\\n\\t\\t\\t\\t</div>\\n\\t\\t\\t\\t<div class=\"swiper-slide scene_slide  \" style=\"background-image:url(https://img1.daumcdn.net/thumb/R1920x0/?scode=mtistory2&fname=https%3A%2F%2Ft1.daumcdn.net%2Fsection%2Foc%2Ff7ba106243774ba6a8cd65419b3f6d17)\">\\n\\t\\t\\t\\t\\t<div class=\"dimm_g_type2\"></div>\\n\\t\\t\\t\\t\\t<div class=\"scene_content\">\\n\\t\\t\\t\\t\\t\\t<div class=\"inner_scene\">\\n\\t\\t\\t\\t\\t\\t\\t<div class=\"scene_tistory scene_tistory_type2\">\\n\\t\\t\\t\\t\\t\\t\\t\\t\\t<strong class=\"tit_scene\"><b>티스토리 모바일홈</b>이<br>\\n새로워졌어요</strong>\\n\\t\\t\\t\\t\\t\\t\\t\\t\\t<p class=\"desc_scene\">\\'오늘의 이슈\\'부터 \\'주목받는 블로그\\'까지<br>\\n새로운 모바일홈에서 살펴보세요.</p>\\n\\t\\t\\t\\t\\t\\t\\t\\t\\t<div class=\"wrap_btn\"><a href=\"https://notice.tistory.com/2635\" class=\"btn_tistory btn_tistory_type5\">자세히보기</a></div>\\n\\t\\t\\t\\t\\t\\t\\t</div>\\n\\t\\t\\t\\t\\t\\t</div>\\n\\t\\t\\t\\t\\t</div>\\n\\t\\t\\t\\t</div>\\n\\t\\t\\t\\t<div class=\"swiper-slide scene_slide white \" style=\"background-image:url(https://img1.daumcdn.net/thumb/R1920x0/?scode=mtistory2&fname=https%3A%2F%2Ft1.daumcdn.net%2Fsection%2Foc%2Feaa6512fa207497e8a88e6d70fd5aa1b)\">\\n\\t\\t\\t\\t\\t<div class=\"dimm_g_type2\"></div>\\n\\t\\t\\t\\t\\t<div class=\"scene_content\">\\n\\t\\t\\t\\t\\t\\t<div class=\"inner_scene\">\\n\\t\\t\\t\\t\\t\\t\\t<div class=\"scene_tistory scene_tistory_type2\">\\n\\t\\t\\t\\t\\t\\t\\t\\t\\t<strong class=\"tit_scene\">당신의 이야기가<br>\\n<b>값진 수익이 됩니다.</b></strong>\\n\\t\\t\\t\\t\\t\\t\\t\\t\\t<p class=\"desc_scene\">심사부터 광고 설정, 수익 확인까지<br>티스토리에서 바로 할 수 있어요.</p>\\n\\t\\t\\t\\t\\t\\t\\t\\t\\t<div class=\"wrap_btn\"><a href=\"https://notice.tistory.com/2572\" class=\"btn_tistory \">자세히 보기</a></div>\\n\\t\\t\\t\\t\\t\\t\\t</div>\\n\\t\\t\\t\\t\\t\\t</div>\\n\\t\\t\\t\\t\\t</div>\\n\\t\\t\\t\\t</div>\\n\\t\\t\\t\\t<div class=\"swiper-slide scene_slide white \" style=\"background-image:url(https://img1.daumcdn.net/thumb/R1920x0/?scode=mtistory2&fname=https%3A%2F%2Ft1.daumcdn.net%2Fsection%2Foc%2F058ac743cf2640fb885bd1f9e9635ab2)\">\\n\\t\\t\\t\\t\\t<div class=\"dimm_g_type2\"></div>\\n\\t\\t\\t\\t\\t<div class=\"scene_content\">\\n\\t\\t\\t\\t\\t\\t<div class=\"inner_scene\">\\n\\t\\t\\t\\t\\t\\t\\t<div class=\"scene_tistory scene_tistory_type2\">\\n\\t\\t\\t\\t\\t\\t\\t\\t\\t<strong class=\"tit_scene\">이제부터 티스토리를<br>\\n<b>카카오계정</b>으로<br>\\n이용해주세요.</strong>\\n\\t\\t\\t\\t\\t\\t\\t\\t\\t<p class=\"desc_scene\"> </p>\\n\\t\\t\\t\\t\\t\\t\\t\\t\\t<div class=\"wrap_btn\"><a href=\"https://notice.tistory.com/2553\" class=\"btn_tistory \">자세히 보기</a></div>\\n\\t\\t\\t\\t\\t\\t\\t</div>\\n\\t\\t\\t\\t\\t\\t</div>\\n\\t\\t\\t\\t\\t</div>\\n\\t\\t\\t\\t</div>\\n\\t\\t\\t\\t<div class=\"swiper-slide scene_slide white \" style=\"background-image:url(https://img1.daumcdn.net/thumb/R1920x0/?scode=mtistory2&fname=https%3A%2F%2Ft1.daumcdn.net%2Fsection%2Foc%2F8532fb82eed84069a36fa0f05170557c)\">\\n\\t\\t\\t\\t\\t<div class=\"dimm_g_type2\"></div>\\n\\t\\t\\t\\t\\t<div class=\"scene_content\">\\n\\t\\t\\t\\t\\t\\t<div class=\"inner_scene\">\\n\\t\\t\\t\\t\\t\\t\\t<div class=\"scene_tistory scene_tistory_type2\">\\n\\t\\t\\t\\t\\t\\t\\t\\t\\t<strong class=\"tit_scene\">티스토리 앱 2.0<br>\\n<b>업데이트</b></strong>\\n\\t\\t\\t\\t\\t\\t\\t\\t\\t<p class=\"desc_scene\">모바일에서도 편리한 블로그 관리를 위해<br>티스토리 앱이 새 옷을 입었습니다.</p>\\n\\t\\t\\t\\t\\t\\t\\t\\t\\t<div class=\"wrap_btn\"><a href=\"https://notice.tistory.com/2523\" class=\"btn_tistory \">자세히 보기</a></div>\\n\\t\\t\\t\\t\\t\\t\\t</div>\\n\\t\\t\\t\\t\\t\\t</div>\\n\\t\\t\\t\\t\\t</div>\\n\\t\\t\\t\\t</div>\\n\\t\\t</div>\\n\\t\\t<button type=\"button\" class=\"btn_scene btn_prev\">\\n\\t\\t\\t<span class=\"img_top ico_prev ico_prev_type1\">이전</span>\\n\\t\\t\\t<span class=\"img_top ico_prev ico_prev_type2\"></span>\\n\\t\\t</button>\\n\\t\\t<button type=\"button\" class=\"btn_scene btn_next\">\\n\\t\\t\\t<span class=\"img_top ico_next ico_next_type1\">다음</span>\\n\\t\\t\\t<span class=\"img_top ico_next ico_next_type2\"></span>\\n\\t\\t</button>\\n\\t</div>\\n</div>\\n<div id=\"mArticle\">\\n\\t<div class=\"section_content section_showcase\">\\n\\t\\t<h2 class=\"screen_out\">SHOWCASE</h2>\\n\\t\\t<div class=\"wrap_tit\">\\n\\t\\t\\t<strong class=\"tit_section\">이 놀라운 사이트들이<br><em>모두 <span class=\"txt_da\">다</span>티스토리</em>라는 사실</strong>\\n\\t\\t\\t<p class=\"desc_section\">티스토리는 그저 공간일 뿐이에요. 그 공간에 무슨일이 일어날지는 아무도 상상할 수 없죠.</p>\\n\\t\\t</div>\\n\\t\\t<div class=\"case_list\">\\n\\t\\t\\t<div class=\"inner_case\">\\n\\t\\t\\t\\t<div class=\"slide_case\" style=\"width:50000px\">\\n\\t\\t\\t\\t\\t\\t<a class=\"site_exam\" href=\"http://leeheehoon.tistory.com/\" target=\"_blank\">\\n\\t\\t\\t\\t\\t\\t\\t<div class=\"wrap_thumb\">\\n\\t\\t\\t\\t\\t\\t\\t\\t<img width=\"528\" height=\"396\" src=\"https://img1.daumcdn.net/thumb/C1200x900/?scode=mtistory2&fname=https%3A%2F%2Ft1.daumcdn.net%2Ftistory_admin%2Fassets%2Fpromotions%2F72a26c24396048fa9fb668442021a18b\" class=\"thumb_g\" alt=\"\" />\\n\\t\\t\\t\\t\\t\\t\\t</div>\\n\\t\\t\\t\\t\\t\\t\\t<div class=\"info_exam\">\\n\\t\\t\\t\\t\\t\\t\\t\\t<strong class=\"tit_exam\">Beyond Perspective</strong>\\n\\t\\t\\t\\t\\t\\t\\t\\t<p class=\"txt_exam\">Lee Heehoon,<br> photographer for ohmynews Seoul S.Korea</p>\\n\\t\\t\\t\\t\\t\\t\\t\\t<span class=\"link_exam\">http://leeheehoon.tistory.com/<span class=\"img_top ico_view\"></span></span>\\n\\t\\t\\t\\t\\t\\t\\t</div>\\n\\t\\t\\t\\t\\t\\t</a>\\n\\t\\t\\t\\t\\t\\t<a class=\"site_exam\" href=\"https://hygphoto.tistory.com/\" target=\"_blank\">\\n\\t\\t\\t\\t\\t\\t\\t<div class=\"wrap_thumb\">\\n\\t\\t\\t\\t\\t\\t\\t\\t<img width=\"528\" height=\"396\" src=\"https://img1.daumcdn.net/thumb/C1200x900/?scode=mtistory2&fname=http%3A%2F%2Fcfile2.uf.tistory.com%2Fimage%2F99D6CF405BB2C6B824A969\" class=\"thumb_g\" alt=\"\" />\\n\\t\\t\\t\\t\\t\\t\\t</div>\\n\\t\\t\\t\\t\\t\\t\\t<div class=\"info_exam\">\\n\\t\\t\\t\\t\\t\\t\\t\\t<strong class=\"tit_exam\">HYGPHOTO</strong>\\n\\t\\t\\t\\t\\t\\t\\t\\t<p class=\"txt_exam\">아름다운 일상의 한 컷</p>\\n\\t\\t\\t\\t\\t\\t\\t\\t<span class=\"link_exam\">https://hygphoto.tistory.com/<span class=\"img_top ico_view\"></span></span>\\n\\t\\t\\t\\t\\t\\t\\t</div>\\n\\t\\t\\t\\t\\t\\t</a>\\n\\t\\t\\t\\t\\t\\t<a class=\"site_exam\" href=\"http://mistyfriday.kr/\" target=\"_blank\">\\n\\t\\t\\t\\t\\t\\t\\t<div class=\"wrap_thumb\">\\n\\t\\t\\t\\t\\t\\t\\t\\t<img width=\"528\" height=\"396\" src=\"https://img1.daumcdn.net/thumb/C1200x900/?scode=mtistory2&fname=http%3A%2F%2Fcfile2.uf.tistory.com%2Fimage%2F996CC03C5BB2C66823DA6C\" class=\"thumb_g\" alt=\"\" />\\n\\t\\t\\t\\t\\t\\t\\t</div>\\n\\t\\t\\t\\t\\t\\t\\t<div class=\"info_exam\">\\n\\t\\t\\t\\t\\t\\t\\t\\t<strong class=\"tit_exam\">빛으로 쓴 편지</strong>\\n\\t\\t\\t\\t\\t\\t\\t\\t<p class=\"txt_exam\">여행하고 글을 씁니다.</p>\\n\\t\\t\\t\\t\\t\\t\\t\\t<span class=\"link_exam\">http://mistyfriday.kr/<span class=\"img_top ico_view\"></span></span>\\n\\t\\t\\t\\t\\t\\t\\t</div>\\n\\t\\t\\t\\t\\t\\t</a>\\n\\t\\t\\t\\t\\t\\t<a class=\"site_exam\" href=\"http://so-oh.tistory.com/category\" target=\"_blank\">\\n\\t\\t\\t\\t\\t\\t\\t<div class=\"wrap_thumb\">\\n\\t\\t\\t\\t\\t\\t\\t\\t<img width=\"528\" height=\"396\" src=\"https://img1.daumcdn.net/thumb/C1200x900/?scode=mtistory2&fname=http%3A%2F%2Fcfile1.uf.tistory.com%2Fimage%2F99368F335BB2C64F29335D\" class=\"thumb_g\" alt=\"\" />\\n\\t\\t\\t\\t\\t\\t\\t</div>\\n\\t\\t\\t\\t\\t\\t\\t<div class=\"info_exam\">\\n\\t\\t\\t\\t\\t\\t\\t\\t<strong class=\"tit_exam\">yunscent</strong>\\n\\t\\t\\t\\t\\t\\t\\t\\t<p class=\"txt_exam\">사진이 그림이 됩니다.</p>\\n\\t\\t\\t\\t\\t\\t\\t\\t<span class=\"link_exam\">http://so-oh.tistory.com/category<span class=\"img_top ico_view\"></span></span>\\n\\t\\t\\t\\t\\t\\t\\t</div>\\n\\t\\t\\t\\t\\t\\t</a>\\n\\t\\t\\t\\t\\t\\t<a class=\"site_exam\" href=\"http://hotel990.com\" target=\"_blank\">\\n\\t\\t\\t\\t\\t\\t\\t<div class=\"wrap_thumb\">\\n\\t\\t\\t\\t\\t\\t\\t\\t<img width=\"528\" height=\"396\" src=\"https://img1.daumcdn.net/thumb/C1200x900/?scode=mtistory2&fname=http%3A%2F%2Fcfile10.uf.tistory.com%2Fimage%2F99A81B3C5BB2C6EF2C9883\" class=\"thumb_g\" alt=\"\" />\\n\\t\\t\\t\\t\\t\\t\\t</div>\\n\\t\\t\\t\\t\\t\\t\\t<div class=\"info_exam\">\\n\\t\\t\\t\\t\\t\\t\\t\\t<strong class=\"tit_exam\">HOTEL 990</strong>\\n\\t\\t\\t\\t\\t\\t\\t\\t<p class=\"txt_exam\"> WELCOME TO THE HOTEL990</p>\\n\\t\\t\\t\\t\\t\\t\\t\\t<span class=\"link_exam\">http://hotel990.com<span class=\"img_top ico_view\"></span></span>\\n\\t\\t\\t\\t\\t\\t\\t</div>\\n\\t\\t\\t\\t\\t\\t</a>\\n\\t\\t\\t\\t</div>\\n\\t\\t\\t</div>\\n\\t\\t\\t<div class=\"area_btn area_prev\">\\n\\t\\t\\t\\t<button type=\"button\" class=\"btn_tistory_type4 btn_prev slick-arrow\" style=\"\"><span class=\"img_top ico_prev\">이전</span></button>\\n\\t\\t\\t</div>\\n\\t\\t\\t<div class=\"area_btn area_next\">\\n\\t\\t\\t\\t<button type=\"button\" class=\"btn_tistory_type4 btn_next slick-arrow\" style=\"\"><span class=\"img_top ico_next\">다음</span></button>\\n\\t\\t\\t</div>\\n\\t\\t</div>\\n\\t\\t<div class=\"relative_list\">\\n\\t\\t\\t\\t<a class=\"wrap_logo\" style=\"background-image:url(https://img1.daumcdn.net/thumb/R300x100/?scode=mtistory2&fname=http%3A%2F%2Fcfile24.uf.tistory.com%2Fimage%2F9950223C5BB2C57B2225FF)\" target=\"_blank\" href=\"http://blog.ibk.co.kr\">IBK 기업은행 블로그</a>\\n\\t\\t\\t\\t<a class=\"wrap_logo\" style=\"background-image:url(https://img1.daumcdn.net/thumb/R300x100/?scode=mtistory2&fname=http%3A%2F%2Fcfile29.uf.tistory.com%2Fimage%2F9988F0395BB2C5B11F8B83)\" target=\"_blank\" href=\"http://blog.paradise.co.kr\">파라다이스 블로그</a>\\n\\t\\t\\t\\t<a class=\"wrap_logo\" style=\"background-image:url(https://img1.daumcdn.net/thumb/R300x100/?scode=mtistory2&fname=http%3A%2F%2Fcfile21.uf.tistory.com%2Fimage%2F995901365BB2C53C27D162)\" target=\"_blank\" href=\"http://if-blog.tistory.com\">교육부 공식 블로그</a>\\n\\t\\t\\t\\t<a class=\"wrap_logo\" style=\"background-image:url(https://img1.daumcdn.net/thumb/R300x100/?scode=mtistory2&fname=http%3A%2F%2Fcfile23.uf.tistory.com%2Fimage%2F991B033C5BB2C59024121E)\" target=\"_blank\" href=\"http://www.witheverland.com\">withEverland</a>\\n\\t\\t\\t\\t<a class=\"wrap_logo\" style=\"background-image:url(https://img1.daumcdn.net/thumb/R300x100/?scode=mtistory2&fname=http%3A%2F%2Fcfile27.uf.tistory.com%2Fimage%2F9989ED3B5BB2C5D3287867)\" target=\"_blank\" href=\"http://blogdegalleria.tistory.com\">갤러리아 공식블로그 \\'BLOG DE GALLERIA\\'</a>\\n\\t\\t\\t\\t<a class=\"wrap_logo\" style=\"background-image:url(https://img1.daumcdn.net/thumb/R300x100/?scode=mtistory2&fname=http%3A%2F%2Fcfile27.uf.tistory.com%2Fimage%2F99A6963C5BB2C5C32AB7FC)\" target=\"_blank\" href=\"http://thehyundaiblog.com\">현대백화점 공식블로그</a>\\n\\t\\t</div>\\n\\t</div>\\n\\t<div class=\"section_content section_skin\">\\n\\t\\t<h2 class=\"screen_out\">스킨고르기</h2>\\n\\t\\t<div class=\"wrap_tit wrap_tit_type1\">\\n\\t\\t\\t<strong class=\"tit_section\">마음에 드는<em><span class=\"img_square\">스킨</span>고르기</em>부터 시작해보세요</strong>\\n\\t\\t\\t<p class=\"desc_section\">티스토리는 얼굴이 없어요. <br>당신이 얼굴을 직접 제작할 수 있도록 다양한 스킨을 제공할 뿐이에요.</p>\\n\\t\\t</div>\\n\\t\\t<div class=\"icon_tistory icon_expression\"></div>\\n\\t\\t<div class=\"wrap_tit\">\\n\\t\\t\\t<strong class=\"tit_section tit_section_type2\">마음대로<br><em>조립하는</em><br>내 콘텐츠</strong>\\n\\t\\t\\t<p class=\"desc_section\">내 마음대로 위치를 바꿔<br>하나의 커버로도 전혀 다른 스킨을<br> 만들 수 있어요.</p>\\n\\t\\t</div>\\n\\t\\t<div class=\"box_skin\">\\n\\t\\t\\t<div class=\"wrap_thumb_skin_01\">\\n\\t\\t\\t\\t<span class=\"\" style=\"background-image:url(//t1.daumcdn.net/tistory_admin/static/top/pc/thumb_skin1_1.jpg);\"></span>\\n\\t\\t\\t\\t<span class=\"\" style=\"background-image:url(//t1.daumcdn.net/tistory_admin/static/top/pc/thumb_skin1_2.jpg);\"></span>\\n\\t\\t\\t\\t<span class=\"\" style=\"background-image:url(//t1.daumcdn.net/tistory_admin/static/top/pc/thumb_skin1_3.jpg);\"></span>\\n\\t\\t\\t\\t<span class=\"\" style=\"background-image:url(//t1.daumcdn.net/tistory_admin/static/top/pc/thumb_skin1_1.jpg);\"></span>\\n\\t\\t\\t\\t<span class=\"\" style=\"background-image:url(//t1.daumcdn.net/tistory_admin/static/top/pc/thumb_skin1_2.jpg);\"></span>\\n\\t\\t\\t\\t<span class=\"\" style=\"background-image:url(//t1.daumcdn.net/tistory_admin/static/top/pc/thumb_skin1_3.jpg);\"></span>\\n\\t\\t\\t</div>\\n\\t\\t\\t<div class=\"wrap_thumb_skin_02\">\\n\\t\\t\\t\\t<div class=\"inner_thumb\">\\n\\t\\t\\t\\t\\t<span class=\" _left\" style=\"background-image:url(//t1.daumcdn.net/tistory_admin/static/top/pc/thumb_skin2_1.jpg);height:140px\" data-index=\"1\"></span>\\n\\t\\t\\t\\t\\t<span class=\" _left\" style=\"background-image:url(//t1.daumcdn.net/tistory_admin/static/top/pc/thumb_skin2_2.jpg);height:150px\" data-index=\"2\"></span>\\n\\t\\t\\t\\t\\t<span class=\" _left\" style=\"background-image:url(//t1.daumcdn.net/tistory_admin/static/top/pc/thumb_skin2_3.jpg);height:432px\" data-index=\"3\"></span>\\n\\t\\t\\t\\t\\t<span class=\" _right\" style=\"background-image:url(//t1.daumcdn.net/tistory_admin/static/top/pc/thumb_skin2_3.jpg);height:432px\" data-index=\"1\"></span>\\n\\t\\t\\t\\t\\t<span class=\" _right\" style=\"background-image:url(//t1.daumcdn.net/tistory_admin/static/top/pc/thumb_skin2_2.jpg);height:150px\" data-index=\"2\"></span>\\n\\t\\t\\t\\t\\t<span class=\" _right\" style=\"background-image:url(//t1.daumcdn.net/tistory_admin/static/top/pc/thumb_skin2_1.jpg);height:140px\" data-index=\"3\"></span>\\n\\t\\t\\t\\t</div>\\n\\t\\t\\t</div>\\n\\t\\t</div>\\n\\t\\t<a href=\"/skin/pg_Poster\" class=\"link_section\">\\n\\t\\t\\t<strong class=\"tit_link\">Poster</strong>\\n\\t\\t\\t<span class=\"desc_link\">스킨 보기</span>\\n\\t\\t\\t<span class=\"img_top ico_link_arrow\"></span>\\n\\t\\t</a>\\n\\t</div>\\n\\t<div class=\"section_content section_photo\">\\n\\t\\t<h2 class=\"screen_out\">사진변경</h2>\\n\\t\\t<div class=\"wrap_tit\">\\n\\t\\t\\t<strong class=\"tit_section tit_section_type2\"><em>사진만 바꾸어도</em><br>다른 분위기</strong>\\n\\t\\t\\t<p class=\"desc_section\">스킨은 그저 캔버스일 뿐입니다.<br>스킨 속 같은 커버라도 이미지에 따라<br>전혀 다른 분위기를 연출할 수 있어요. </p>\\n\\t\\t</div>\\n\\t\\t<div class=\"wrap_photo_skin\">\\n\\t\\t\\t<div class=\"photo_skin\">\\n\\t\\t\\t\\t<div class=\"skin_move\">\\n\\t\\t\\t\\t\\t<span class=\"bg_img\" style=\"background-image:url(//t1.daumcdn.net/tistory_admin/static/top/pc/photo_skin01.jpg);\"></span>\\n\\t\\t\\t\\t\\t<span class=\"bg_img\" style=\"background-image:url(//t1.daumcdn.net/tistory_admin/static/top/pc/photo_skin03.jpg);\"></span>\\n\\t\\t\\t\\t</div>\\n\\t\\t\\t\\t<div class=\"box_img_skin\">\\n\\t\\t\\t\\t\\t<div class=\"wrap_skin\">\\n\\t\\t\\t\\t\\t\\t<div class=\"skin_move\">\\n\\t\\t\\t\\t\\t\\t\\t<span class=\"bg_img_sm\" style=\"background-image:url(//t1.daumcdn.net/tistory_admin/static/top/pcrtn/photo_skin01_sm.jpg);\"></span>\\n\\t\\t\\t\\t\\t\\t\\t<span class=\"bg_img_sm\" style=\"background-image:url(//t1.daumcdn.net/tistory_admin/static/top/pcrtn/photo_skin03_sm.jpg);\"></span>\\n\\t\\t\\t\\t\\t\\t</div>\\n\\t\\t\\t\\t\\t</div>\\n\\t\\t\\t\\t\\t<div class=\"wrap_skin\">\\n\\t\\t\\t\\t\\t\\t<div class=\"txt_img_skin\" style=\"background-image:url(//t1.daumcdn.net/tistory_admin/static/top/pcrtn/photo_skin_txt02.png);\"></div>\\n\\t\\t\\t\\t\\t\\t<div class=\"txt_img_skin\" style=\"background-image:url(//t1.daumcdn.net/tistory_admin/static/top/pcrtn/photo_skin_txt04.png);\"></div>\\n\\t\\t\\t\\t\\t</div>\\n\\t\\t\\t\\t</div>\\n\\t\\t\\t</div>\\n\\t\\t\\t<div class=\"photo_skin\">\\n\\t\\t\\t\\t<div class=\"skin_move\">\\n\\t\\t\\t\\t\\t<span class=\"bg_img\" style=\"background-image:url(//t1.daumcdn.net/tistory_admin/static/top/pc/photo_skin02.jpg);\"></span>\\n\\t\\t\\t\\t\\t<span class=\"bg_img\" style=\"background-image:url(//t1.daumcdn.net/tistory_admin/static/top/pc/photo_skin04.jpg);\"></span>\\n\\t\\t\\t\\t</div>\\n\\t\\t\\t\\t<div class=\"box_img_skin\">\\n\\t\\t\\t\\t\\t<div class=\"wrap_skin\" >\\n\\t\\t\\t\\t\\t\\t<div class=\"txt_img_skin\" style=\"background-image:url(//t1.daumcdn.net/tistory_admin/static/top/pcrtn/photo_skin_txt01.png);\"></div>\\n\\t\\t\\t\\t\\t\\t<div class=\"txt_img_skin\" style=\"background-image:url(//t1.daumcdn.net/tistory_admin/static/top/pcrtn/photo_skin_txt03.png);\"></div>\\n\\t\\t\\t\\t\\t</div>\\n\\t\\t\\t\\t\\t<div class=\"wrap_skin\">\\n\\t\\t\\t\\t\\t\\t<div class=\"skin_move\">\\n\\t\\t\\t\\t\\t\\t\\t<span class=\"bg_img_sm\" style=\"background-image:url(//t1.daumcdn.net/tistory_admin/static/top/pcrtn/photo_skin02_sm.jpg);\"></span>\\n\\t\\t\\t\\t\\t\\t\\t<span class=\"bg_img_sm\" style=\"background-image:url(//t1.daumcdn.net/tistory_admin/static/top/pcrtn/photo_skin04_sm.jpg);\"></span>\\n\\t\\t\\t\\t\\t\\t</div>\\n\\t\\t\\t\\t\\t</div>\\n\\t\\t\\t\\t</div>\\n\\t\\t\\t</div>\\n\\t\\t</div>\\n\\t\\t<a href=\"/skin/pg_Whatever\" class=\"link_section\">\\n\\t\\t\\t<strong class=\"tit_link\">Whatever</strong>\\n\\t\\t\\t<span class=\"desc_link\">스킨 보기</span>\\n\\t\\t\\t<span class=\"img_top ico_link_arrow\"></span>\\n\\t\\t</a>\\n\\t</div>\\n\\t<div class=\"section_content section_magazine\"><!-- 모션 진행시 \\'rolling_up\\' 클래스 추가 -->\\n\\t\\t<h2 class=\"screen_out\">블로그와 매거진처럼 </h2>\\n\\t\\t<div class=\"wrap_tit\">\\n\\t\\t\\t<strong class=\"tit_section tit_section_type2\">때로는 <em>블로그</em>처럼,<br>때로는 <em>매거진</em>처럼</strong>\\n\\t\\t\\t<p class=\"desc_section\">복잡하지 않으면서 깔끔한 스킨 커버로<br>콘텐츠에 힘을 실어 줄 수 있습니다.</p>\\n\\t\\t</div>\\n\\t\\t<div class=\"bg_magazine\" style=\"background-image:url(//t1.daumcdn.net/tistory_admin/static/top/pc/magazin_01.jpg);\">\\n\\t\\t\\t<div class=\"bg_magazine inner_bg\" style=\"background-image:url(//t1.daumcdn.net/tistory_admin/static/top/pc/magazin_02.jpg);\"></div>\\n\\t\\t</div>\\n\\t\\t<div class=\"box_magazine\" style=\"background-image:url(//t1.daumcdn.net/tistory_admin/static/top/pcrtn/magazine_header.jpg\">\\n\\t\\t\\t<div class=\"inner_box\">\\n\\t\\t\\t\\t<img src=\"//t1.daumcdn.net/tistory_admin/static/top/pc/magazine_sm.jpg\" class=\"thumb_magazine\" width=\"540\" alt=\"\">\\n\\t\\t\\t</div>\\n\\t\\t</div>\\n\\t\\t<a href=\"/skin/xf_Letter\" class=\"link_section\">\\n\\t\\t\\t<strong class=\"tit_link\">Letter</strong>\\n\\t\\t\\t<span class=\"desc_link\">스킨 보기</span>\\n\\t\\t\\t<span class=\"img_top ico_link_arrow\"></span>\\n\\t\\t</a>\\n\\t</div>\\n\\t<div class=\"section_content section_guide\">\\n\\t\\t<h2 class=\"screen_out\">이용 가이드</h2>\\n\\t\\t<div class=\"inner_section\">\\n\\t\\t\\t<strong class=\"tit_guide\">더 잘 쓰고 싶어요?</strong>\\n\\t\\t\\t<div class=\"info_guide\">\\n\\t\\t\\t\\t    <a href=\"https://notice.tistory.com/1797\" target=\"_blank\" class=\"link_guide\">당신의 티스토리에 다양한 <em>플러그인</em>을 <br>사용할 수 있어요.</a>\\n\\t\\t\\t\\t    <a href=\"https://notice.tistory.com/2444\" target=\"_blank\" class=\"link_guide\">사이트 보안을 위해 더 안전한\\xa0<br><em>암호화 접속</em>을 사용해보세요.</a>\\n\\t\\t\\t\\t    <a href=\"https://notice.tistory.com/2400\" target=\"_blank\" class=\"link_guide\">콘텐츠를 고정된 메뉴로 유지하고 싶다면 <br><em>페이지</em>를 이용해보세요.</a>\\n\\t\\t\\t\\t    <a href=\"https://notice.tistory.com/1784\" target=\"_blank\" class=\"link_guide\">나만의 <em>도메인</em>을 연결해보세요.<br>당신의 티스토리에 엣지가 생길거예요.</a>\\n\\t\\t\\t\\t    <a href=\"https://notice.tistory.com/2384\" target=\"_blank\" class=\"link_guide\"><em>로그인 보안</em>기능으로 당신의 정보와<br>콘텐츠를 안전하게 지키세요!\\xa0</a>\\n\\t\\t\\t</div>\\n\\t\\t</div>\\n\\t</div>\\n</div>\\n\\n\\t\\t\\t\\t\\n\\t\\t\\t\\t</div>\\n\\t\\t\\t</div>\\n\\t\\t\\t<hr class=\"hide\">\\n<div id=\"daumFoot\" class=\"footer_comm\">\\n\\t<div class=\"inner_foot\">\\n    <div class=\"cont_tistory\">\\n      <div class=\"wrap_desc\"> <strong class=\"img_common_tistory txt_tistory\">TISTORY</strong>\\n        <p class=\"desc_footer\">\\n          <span class=\"txt_footer\">티스토리는 카카오에서 <em>♥</em>을 담아 만듭니다.<br></span>\\n          <span class=\"txt_company\">© Kakao Corp.</span>\\n        </p>\\n      </div>\\n\\t\\t\\t<div class=\"corp_info\">\\n\\t\\t\\t\\t<div class=\"box_info\"> <span class=\"txt_info\">대표 홍은택</span> <span class=\"txt_info\">주소 제주특별자치도 제주시 첨단로 242(영평동)</span> </div>\\n\\t\\t\\t\\t<div class=\"box_info\"> <span class=\"txt_info\">사업자 등록 번호 120-81-47521</span> <span class=\"txt_info\">호스팅사업자 (주)카카오</span> </div>\\n\\t\\t\\t\\t<div class=\"box_info\"> <span class=\"txt_info\">통신판매업신고 <a href=\"https://www.ftc.go.kr/bizCommPop.do?wrkr_no=1208147521\" class=\"link_footer\" target=\"_blank\" rel=\"noreferrer\">제2015-제주아라-0032호</a></span> <span class=\"txt_info\">고객센터 1577-3754</span> </div>\\n\\t\\t\\t\\t<div class=\"box_info\"> <span class=\"txt_info\">이메일 <a href=\"mailto:help.notice@kakaocorp.com\" class=\"link_footer\">help.notice@kakaocorp.com</a></span> </div>\\n\\t\\t\\t</div>\\n      <div class=\"search_tistory\">\\n        <h2 class=\"screen_out\">검색</h2>\\n\\t\\t\\t\\t<form action=\"//search.daum.net/search\" target=\"_blank\" role=\"search\" method=\"get\">\\n\\t\\t\\t\\t\\t<fieldset>\\n\\t\\t\\t\\t\\t\\t<legend class=\"screen_out\">티스토리 검색</legend>\\n\\t\\t\\t\\t\\t\\t<input type=\"hidden\" name=\"w\" value=\"blog\">\\n\\t\\t\\t\\t\\t\\t<input type=\"hidden\" name=\"f\" value=\"section\">\\n\\t\\t\\t\\t\\t\\t<input type=\"hidden\" name=\"SA\" value=\"tistory\">\\n\\t\\t\\t\\t\\t\\t<input type=\"hidden\" name=\"lpp\" value=\"10\">\\n\\t\\t\\t\\t\\t\\t<input type=\"hidden\" name=\"nil_profile\" value=\"vsearch\">\\n\\t\\t\\t\\t\\t\\t<input type=\"hidden\" name=\"nil_src\" value=\"tistory\">\\n\\t\\t\\t\\t\\t\\t<div class=\"inp_text\">\\n\\t\\t\\t\\t\\t\\t\\t<input type=\"text\" id=\"footerSearchInput\" placeholder=\"검색어입력\" title=\"검색\" name=\"q\">\\n\\t\\t\\t\\t\\t\\t</div>\\n\\t\\t\\t\\t\\t\\t<button type=\"submit\" class=\"img_common_tistory btn_search\">검색</button>\\n\\t\\t\\t\\t\\t</fieldset>\\n\\t\\t\\t\\t</form>\\n      </div>\\n    </div>\\n\\t\\t<div class=\"question_tistory\">\\n\\t\\t\\t<h2 class=\"screen_out\">문의목록</h2>\\n\\t\\t\\t<div class=\"wrap_question\">\\n\\t\\t\\t\\t<span class=\"tit_question\">메뉴가 궁금할 땐</span>\\n\\t\\t\\t\\t<ul class=\"list_question\">\\n\\t\\t\\t\\t\\t<li><a href=\"/skin\" class=\"link_txt\">스킨</a></li>\\n\\t\\t\\t\\t\\t<li><a href=\"/community/forum\" class=\"link_txt\">포럼</a></li>\\n\\t\\t\\t\\t\\t<li><a href=\"/category\" class=\"link_txt\">스토리</a></li>\\n\\t\\t\\t\\t</ul>\\n\\t\\t\\t</div>\\n\\t\\t\\t<div class=\"wrap_question\">\\n\\t\\t\\t\\t<span class=\"tit_question\">사용하다 궁금할 땐</span>\\n\\t\\t\\t\\t<ul class=\"list_question\">\\n\\t\\t\\t\\t\\t<li><a href=\"/guide/api/manage/register\" class=\"link_txt\">오픈 API</a></li>\\n\\t\\t\\t\\t\\t<li><a href=\"https://tistory.github.io/document-tistory-skin/\" class=\"link_txt\" target=\"_blank\">스킨가이드</a></li>\\n\\t\\t\\t\\t\\t<li><a href=\"https://cs.kakao.com/requests?service=175&locale=ko\" class=\"link_txt\" target=\"_blank\">고객센터</a></li>\\n\\t\\t\\t\\t</ul>\\n\\t\\t\\t</div>\\n\\t\\t\\t<div class=\"wrap_question\">\\n\\t\\t\\t\\t<span class=\"tit_question\">정책이 궁금할 땐</span>\\n\\t\\t\\t\\t<ul class=\"list_question\">\\n\\t\\t\\t\\t\\t<li><a href=\"/info/contract\" class=\"link_txt\">이용약관</a></li>\\n\\t\\t\\t\\t\\t<li><a href=\"https://www.kakao.com/policy/privacy?lang=ko\" class=\"link_txt\"><em>카카오 개인정보처리방침</em></a></li>\\n\\t\\t\\t\\t\\t<li><a href=\"https://www.kakao.com/policy/safeguard\" class=\"link_txt\">청소년보호정책</a></li>\\n\\t\\t\\t\\t\\t<li><a href=\"/info/openApi\" class=\"link_txt\">오픈API 이용약관</a></li>\\n\\t\\t\\t\\t\\t<li><a href=\"/info/emailPolicy\" class=\"link_txt\">Email 수집거부정책</a></li>\\n\\t\\t\\t\\t</ul>\\n\\t\\t\\t</div>\\n\\t\\t\\t<div class=\"wrap_question\">\\n\\t\\t\\t\\t<span class=\"tit_question\">도움이 필요할 땐</span>\\n\\t\\t\\t\\t<ul class=\"list_question\">\\n\\t\\t\\t\\t\\t<li><a href=\"https://www.kakao.com/policy/right\" class=\"link_txt\" target=\"_blank\">권리침해신고</a></li>\\n\\t\\t\\t\\t\\t<li><a href=\"https://cs.kakao.com/conflict\" class=\"link_txt\" target=\"_blank\">상거래 피해 구제신청</a></li>\\n\\t\\t\\t\\t</ul>\\n\\t\\t\\t</div>\\n\\t\\t</div>\\n\\t</div>\\n</div>\\n\\t\\t</div>\\n\\n\\n\\t<script type=\"text/javascript\" src=\"//t1.daumcdn.net/tistory_admin/assets/tistory-web-top/1702273660/static/js/ext/underscore-1.9.0.min.js\"></script>\\n\\n<script src=\"//t1.daumcdn.net/tistory_admin/assets/tistory-web-top/1702273660/static/js/ext/swiper.min.js\"></script>\\n<script src=\"//t1.daumcdn.net/tistory_admin/assets/tistory-web-top/1702273660/static/js/T.js\"></script>\\n<script src=\"//t1.daumcdn.net/tistory_admin/assets/tistory-web-top/1702273660/static/js/T.util.js\"></script>\\n<script src=\"//t1.daumcdn.net/tistory_admin/assets/tistory-web-top/1702273660/static/js/T.auth.js\"></script>\\n<script src=\"//t1.daumcdn.net/tistory_admin/assets/tistory-web-top/1702273660/static/js/pc/T.p.top.js\"></script>\\n\\n\\n<script type=\"text/javascript\" src=\"//t1.daumcdn.net/tiara/js/v1/tiara.min.js\"></script>\\n<script type=\"text/javascript\">\\n    window.addEventListener(\\'load\\', function (){\\n        TiaraTracker.getInstance()\\n            .setSvcDomain(\\'user.tistory.com\\')\\n            .trackPage(\\'user\\')\\n            .setSection(\\'top\\')\\n            .setPage(\\'user\\')\\n\\t\\t\\t.setKakaoAppKey(\\'3e6ddd834b023f24221217e370daed18\\')\\n\\t\\t\\t.setAppUserId(\\'\\')\\n\\t\\t\\t.setAutoClick(true)\\n\\t\\t\\t.setDisableSendLegacy(true)\\n            .track();\\n    });\\n</script>\\n<script type=\"text/javascript\">\\n\\tvar Config = {\\n\\t\\tproduction: true,\\n\\t\\tservice: \\'tistory\\',\\n\\t\\tuseWriteButton: false,\\n\\t\\tuseBlogList: true\\n\\t};\\n\\n\\tvar appInfo = {\\n\\t\\tdomain: \\'tistory.com\\',\\n\\t\\ttopUrl: \\'https://www.tistory.com\\',\\n\\t\\tloginUrl: \\'https://www.tistory.com/auth/login\\',\\n\\t\\tlogoutUrl: \\'https://www.tistory.com/auth/logout\\',\\n\\t\\tmemberUrl: \\'https://www.tistory.com/member\\',\\n\\t\\tgnbBaseUrl: \\'https://www.tistory.com/accio\\',\\n\\t\\tthumbnailBaseUrl: \\'https://i1.daumcdn.net/thumb\\',\\n\\t\\tkakaoAccountUrl: \\'https://accounts.kakao.com/weblogin/account/info\\'\\n\\t};\\n\\n\\tvar initData = {\\n\\t};\\n\\n\\tvar production = true;\\n</script>\\n\\n    <script src=\"https://t1.daumcdn.net/tistory_admin/assets/tistory-gnb/3.3.3/gnb.min.js\"></script>\\n\\n\\t<script src=\"//t1.daumcdn.net/tistory_admin/assets/tistory-web-top/1702273660/static/js/pc/T.p.top.home.js\"></script>\\n\\n\\t<!-- IE9 이하에서 영상 슬라이드 제거 위한 조건부 스크립트 적용 -->\\n\\t<!--[if lte IE9]>\\n\\t<script type=\"text/javascript\">\\n\\t\\t(function($) {\\n\\t\\t\\tvar slideNum = $(\\'.scene_slide\\').length,\\n\\t\\t\\t\\tisVideo = $(\\'.scene_slide\\').children(\"video\").length,\\n\\t\\t\\t\\tvideoItemSlide = $(\"video\").parent(),\\n\\t\\t\\t\\tvideoItem = $(\\'video\\');\\n\\n\\t\\t\\tif(slideNum == 1){\\n\\t\\t\\t\\tif(isVideo == 1){\\n\\t\\t\\t\\t\\tvideoItem.remove();\\n\\t\\t\\t\\t}\\n\\t\\t\\t}else{\\n\\t\\t\\t\\tif(isVideo == 1){\\n\\t\\t\\t\\t\\tvideoItemSlide.remove();\\n\\t\\t\\t\\t}\\n\\t\\t\\t}\\n\\t\\t})(jQuery);\\n\\t</script>\\n\\t<![endif]-->\\n\\t\\n\\t</body>\\n\\t</html>\\n'"
      ]
     },
     "execution_count": 5,
     "metadata": {},
     "output_type": "execute_result"
    }
   ],
   "source": [
    "# 요청에 의해 전달된 코드 확인\n",
    "# 응답객체.text 속성을 통해 확인\n",
    "response.text\n",
    "# 브라우저가 사이트에 요청해서 받은 결과 코드랑 동일한 코드가 문자열 형태로 반환됨"
   ]
  },
  {
   "cell_type": "code",
   "execution_count": 6,
   "metadata": {},
   "outputs": [
    {
     "data": {
      "text/plain": [
       "'<!doctype html><html itemscope=\"\" itemtype=\"http://schema.org/WebPage\" lang=\"ko\"><head><meta content'"
      ]
     },
     "execution_count": 6,
     "metadata": {},
     "output_type": "execute_result"
    }
   ],
   "source": [
    "r = requests.get(\"https://google.co.kr\")\n",
    "r\n",
    "r.text\n",
    "len(r.text)\n",
    "r.text[0:100]"
   ]
  },
  {
   "cell_type": "code",
   "execution_count": 7,
   "metadata": {},
   "outputs": [
    {
     "data": {
      "text/plain": [
       "198773"
      ]
     },
     "execution_count": 7,
     "metadata": {},
     "output_type": "execute_result"
    }
   ],
   "source": [
    "# 네이버 메인 페이지 확인\n",
    "url = \"http://www.naver.com\"\n",
    "r = requests.get(url)\n",
    "r.status_code\n",
    "r.text\n",
    "len(r.text)"
   ]
  },
  {
   "cell_type": "markdown",
   "metadata": {},
   "source": [
    "#### 파라미터 전달 방법\n",
    "- 파라미터란? : 사이트의 문서를 요청할 때 서버로 전달되는 정보\n",
    "- 함수의 파라미터 처럼 문서를 찾기위한 정보나 명령을 수행하기 위한 정보를 같이 전달하게 되는데 그 정보를 파라미터라고 함 \n",
    "- 서버에 파라미터 전송방법\n",
    "    - 파라미터 전송 방법은 url에 ? 뒤에 파라미터=값&파라미터2=값 으로 전송\n",
    "        - 사이트에 따라서 잘못된 접속으로 인지하고 에러처리할 수 있음\n",
    "    - 파라미터를 dict로 구성해서 get(params=dict)\n",
    "\n",
    "\n",
    "- https://sports.news.naver.com/news?oid=477&aid=0000312064\n",
    "- params = {'param1': 'value1', 'param2': 'value2'}\n",
    "- res = requests.get(URL, params=params)"
   ]
  },
  {
   "cell_type": "code",
   "execution_count": 8,
   "metadata": {},
   "outputs": [],
   "source": [
    "base_url = \"https://sports.news.naver.com/news\" # 기본 url\n",
    "'https://sports.news.naver.com/news?oid=065&aid=0000255145'\n",
    "param_url =\"https://sports.news.naver.com/news?oid=477&aid=0000312064\"  \n",
    "# 파라미터가 포함된 url"
   ]
  },
  {
   "cell_type": "code",
   "execution_count": 9,
   "metadata": {},
   "outputs": [
    {
     "data": {
      "text/plain": [
       "200"
      ]
     },
     "execution_count": 9,
     "metadata": {},
     "output_type": "execute_result"
    }
   ],
   "source": [
    "# 파라미터 전달 방식 1 : get방식 - url에 파라미터 포함\n",
    "# site에 따라 접근 거부할 수도 있음\n",
    "res1 = requests.get(param_url)\n",
    "res1.status_code"
   ]
  },
  {
   "cell_type": "code",
   "execution_count": 10,
   "metadata": {},
   "outputs": [
    {
     "data": {
      "text/plain": [
       "200"
      ]
     },
     "execution_count": 10,
     "metadata": {},
     "output_type": "execute_result"
    }
   ],
   "source": [
    "# 파라미터 전달 방식 2 : get 방식 : params= dict사용\n",
    "# oid=477&aid=0000312064\n",
    "param = {'oid':477, 'aid':'0000312064'}\n",
    "res2=requests.get(base_url,params=param)\n",
    "res2.status_code"
   ]
  },
  {
   "cell_type": "markdown",
   "metadata": {},
   "source": [
    "#### urllib 패키지 사용한 소스 추출"
   ]
  },
  {
   "cell_type": "code",
   "execution_count": 11,
   "metadata": {},
   "outputs": [],
   "source": [
    "from urllib.request import urlopen # 사이트에 요청 신호를 보내는 함수"
   ]
  },
  {
   "cell_type": "code",
   "execution_count": 12,
   "metadata": {},
   "outputs": [
    {
     "data": {
      "text/plain": [
       "<http.client.HTTPResponse at 0xffff88fc0bb0>"
      ]
     },
     "execution_count": 12,
     "metadata": {},
     "output_type": "execute_result"
    }
   ],
   "source": [
    "url = \"https://www.nate.com\"\n",
    "html = urlopen(url)\n",
    "html\n",
    "#<http.client.HTTPResponse at 0x2a60cc87c70> : 상태코드와 소스코드가 있습니다."
   ]
  },
  {
   "cell_type": "code",
   "execution_count": 13,
   "metadata": {},
   "outputs": [],
   "source": [
    "# 응답객체에서 소스코드 읽어오기 \n",
    "# - 응답객체.read() - 한번 읽어오면 그 후에는 읽어도 빈 문자열이 나옴\n",
    "rawtext = html.read()"
   ]
  },
  {
   "cell_type": "code",
   "execution_count": 14,
   "metadata": {},
   "outputs": [
    {
     "data": {
      "text/plain": [
       "bytes"
      ]
     },
     "execution_count": 14,
     "metadata": {},
     "output_type": "execute_result"
    }
   ],
   "source": [
    "type(rawtext)"
   ]
  },
  {
   "cell_type": "markdown",
   "metadata": {},
   "source": [
    "타입을 보니 바이트다."
   ]
  },
  {
   "cell_type": "code",
   "execution_count": 15,
   "metadata": {},
   "outputs": [],
   "source": [
    "# bytes(rawtext)"
   ]
  },
  {
   "cell_type": "markdown",
   "metadata": {},
   "source": [
    "바이트함수써준다(이러면 무슨 효과인지 찾아볼것)"
   ]
  },
  {
   "cell_type": "code",
   "execution_count": 1,
   "metadata": {},
   "outputs": [],
   "source": [
    "# rawtext.decode('utf8')"
   ]
  },
  {
   "cell_type": "markdown",
   "metadata": {},
   "source": [
    "아무튼 다시 한국어로 디코딩해준다"
   ]
  },
  {
   "cell_type": "markdown",
   "metadata": {},
   "source": [
    "#### 문서에서 원하는 내용 추출하기(파싱)  \n",
    "- html 문서(코드를 통해서 변수에 저장되어 있음)에서 원하는 내용 추출\n",
    "    - 필요한 내용만 추출\n",
    "    - BeautifulSoup 라이브러리 사용\n",
    "        - 태그 형식으로 된 text를 파싱할 때 사용\n",
    "    - find() / findAll() 등 함수 사용\n",
    "\n"
   ]
  },
  {
   "cell_type": "markdown",
   "metadata": {},
   "source": [
    "#### BeautifulSoup\n",
    "- import bs4\n",
    "- 데이터를 추출하는데 필요한 기능이 들어 있는 라이브러리 (파싱 라이브러리)\n",
    "- 외부 라이브러리 : 설치해야 함\n",
    "- 주피터는 기본 패키지임(설치하지 않아도 됨)\n",
    "- 파이참 설치방법\n",
    "    - File/Settings\n",
    "    - Project Interpreter에서 bs4 검색\n",
    "    - [Install Package]\n"
   ]
  },
  {
   "cell_type": "code",
   "execution_count": 17,
   "metadata": {},
   "outputs": [],
   "source": [
    "import bs4"
   ]
  },
  {
   "cell_type": "code",
   "execution_count": 18,
   "metadata": {},
   "outputs": [
    {
     "data": {
      "text/plain": [
       "<http.client.HTTPResponse at 0xffff886f1520>"
      ]
     },
     "execution_count": 18,
     "metadata": {},
     "output_type": "execute_result"
    }
   ],
   "source": [
    "url = 'https://www.nate.com'\n",
    "html = urlopen(url)\n",
    "html"
   ]
  },
  {
   "cell_type": "markdown",
   "metadata": {},
   "source": [
    "- HTTPResponse는 응답객체"
   ]
  },
  {
   "cell_type": "markdown",
   "metadata": {},
   "source": [
    "- urlopen으로 소스코드 전달받은 경우에는 \n",
    "- bs4에 response객체를 그대로 전달해도 파싱이 가능"
   ]
  },
  {
   "cell_type": "code",
   "execution_count": 19,
   "metadata": {},
   "outputs": [
    {
     "data": {
      "text/plain": [
       "bs4.BeautifulSoup"
      ]
     },
     "execution_count": 19,
     "metadata": {},
     "output_type": "execute_result"
    }
   ],
   "source": [
    "#######\n",
    "# 응답객체인 html을 BeautifulSoup(응답객체, 파서기) 함수에 전달\n",
    "# bs4  파싱객체를 반환\n",
    "bs_obj = bs4.BeautifulSoup(html,'html.parser') # html이라는 객체를 html파서로 맞출 것이다.\n",
    "# bs_obj 변수에는 소스코드와 파서기가 있고 bs4의 모듈을 사용할 수 있는 객체\n",
    "type(bs_obj)"
   ]
  },
  {
   "cell_type": "code",
   "execution_count": 20,
   "metadata": {},
   "outputs": [],
   "source": [
    "# # bs4.BeautifulSoup\n",
    "# print(bs_obj.prettify())\n",
    "# # html 소스코드를 들여쓰기 하여 계층적인 구조로 표현 (가독성이 높다)"
   ]
  },
  {
   "cell_type": "markdown",
   "metadata": {},
   "source": [
    "- 이렇게 얻어온 데이터에서 내가 원하는 부분을 구하기 위해 파싱함수를 사용가능"
   ]
  },
  {
   "cell_type": "markdown",
   "metadata": {},
   "source": [
    "#### BeautifulSoup 패키지의 파싱 함수\n",
    "- find(태그,[{속성명:속성값}])\n",
    "    - 지정한 태그 중 첫번째 만나는 태그만 추출 또는 지정한 태그 중 해당 속성과 속상값을 갖고있는 태그의 첫번째 태그\n",
    "- findAll(태그,[{속성명:속성값}])\n",
    "    - 지정한 태그 모두 찾아서 추출\n",
    "    - 첫번째 이외의 태그를 추출할 때 사용\n",
    "    - list 형태로 반환\n",
    "- find_all(태그,[{속성명:속성값}])\n",
    "    - findAll 함수와 동일"
   ]
  },
  {
   "cell_type": "code",
   "execution_count": 21,
   "metadata": {},
   "outputs": [
    {
     "name": "stdout",
     "output_type": "stream",
     "text": [
      "<class 'bs4.BeautifulSoup'>\n"
     ]
    },
    {
     "data": {
      "text/plain": [
       "<html><div>hello</div></html>"
      ]
     },
     "execution_count": 21,
     "metadata": {},
     "output_type": "execute_result"
    }
   ],
   "source": [
    "# test html간단한 예제\n",
    "html_str = \"<html><div>hello</div></html>\"\n",
    "\n",
    "# html코드를 파싱 객체로 변환\n",
    "bs_obj = bs4.BeautifulSoup(html_str, \"html.parser\")\n",
    "#<class 'bs4.BeautifulSoup'> bs4 객체 - 관련함수 사용 가능한 상태가 되는것임.\n",
    "print(type(bs_obj))\n",
    "# html 태그로 추출\n",
    "bs_obj\n",
    "\n"
   ]
  },
  {
   "cell_type": "code",
   "execution_count": 22,
   "metadata": {},
   "outputs": [
    {
     "data": {
      "text/plain": [
       "'hello'"
      ]
     },
     "execution_count": 22,
     "metadata": {},
     "output_type": "execute_result"
    }
   ],
   "source": [
    "bs_obj.find('div')\n",
    "# <div>hello</div> : 여는 div 태그부터 닫는 div 태그까지\n",
    "bs_obj.find('div').text\n",
    "# html코드에서 첫번째 만나는 div태그의 내부 문자열 반환\n",
    "bs_obj.find('html').text"
   ]
  },
  {
   "cell_type": "markdown",
   "metadata": {},
   "source": [
    "- 결론:외부태그는 내부에 있는 모든 내부 문자열을 인식한다."
   ]
  },
  {
   "cell_type": "markdown",
   "metadata": {},
   "source": [
    "#### 조금 복잡한 예제"
   ]
  },
  {
   "cell_type": "code",
   "execution_count": 23,
   "metadata": {},
   "outputs": [],
   "source": [
    "html_str = \"\"\"\n",
    "<html>\n",
    "    <body>\n",
    "        <ul>\n",
    "            <li>hello</li>\n",
    "            <li>bye</li>\n",
    "            <li>welcome</li>\n",
    "        </ul>\n",
    "    </body>\n",
    "</html>\n",
    "\"\"\""
   ]
  },
  {
   "cell_type": "code",
   "execution_count": 24,
   "metadata": {},
   "outputs": [
    {
     "data": {
      "text/plain": [
       "'\\nhello\\nbye\\nwelcome\\n'"
      ]
     },
     "execution_count": 24,
     "metadata": {},
     "output_type": "execute_result"
    }
   ],
   "source": [
    "# html코드를 파싱 객체로 변환\n",
    "bs_obj = bs4.BeautifulSoup(html_str, \"html.parser\")\n",
    "\n",
    "bs_obj.find('ul').text"
   ]
  },
  {
   "cell_type": "markdown",
   "metadata": {},
   "source": [
    "- 이렇게 하거나 아니면 변수에 넣어서"
   ]
  },
  {
   "cell_type": "code",
   "execution_count": 25,
   "metadata": {},
   "outputs": [
    {
     "data": {
      "text/plain": [
       "bs4.element.Tag"
      ]
     },
     "execution_count": 25,
     "metadata": {},
     "output_type": "execute_result"
    }
   ],
   "source": [
    "uls = bs_obj.find('ul')\n",
    "type(uls) #아직 객체상태, 문자열x, -> 한번 더 함수사용가능"
   ]
  },
  {
   "cell_type": "code",
   "execution_count": 26,
   "metadata": {},
   "outputs": [
    {
     "data": {
      "text/plain": [
       "[<li>hello</li>, <li>bye</li>, <li>welcome</li>]"
      ]
     },
     "execution_count": 26,
     "metadata": {},
     "output_type": "execute_result"
    }
   ],
   "source": [
    "uls.find('li') #find는 찾은 첫번째를 보여줌\n",
    "uls.find_all('li') #\b여러개를 리스트로 반환 = findAll() 같은거"
   ]
  },
  {
   "cell_type": "code",
   "execution_count": 27,
   "metadata": {},
   "outputs": [
    {
     "data": {
      "text/plain": [
       "'bye'"
      ]
     },
     "execution_count": 27,
     "metadata": {},
     "output_type": "execute_result"
    }
   ],
   "source": [
    "lis = uls.findAll('li')\n",
    "lis[1].text"
   ]
  },
  {
   "cell_type": "markdown",
   "metadata": {},
   "source": [
    "- 또는 반복으로 다 가져오기"
   ]
  },
  {
   "cell_type": "code",
   "execution_count": 28,
   "metadata": {},
   "outputs": [
    {
     "name": "stdout",
     "output_type": "stream",
     "text": [
      "\n",
      "\n",
      "hello\n",
      "\n",
      "\n",
      "bye\n",
      "\n",
      "\n",
      "welcome\n",
      "\n",
      "\n"
     ]
    }
   ],
   "source": [
    "for li in uls:\n",
    "    print(li.text)"
   ]
  },
  {
   "cell_type": "code",
   "execution_count": 29,
   "metadata": {},
   "outputs": [
    {
     "data": {
      "text/plain": [
       "['', 'hello', 'bye', 'welcome', '']"
      ]
     },
     "execution_count": 29,
     "metadata": {},
     "output_type": "execute_result"
    }
   ],
   "source": [
    "uls.text.split('\\n') #이렇게 추출할수도 있다."
   ]
  },
  {
   "cell_type": "code",
   "execution_count": 30,
   "metadata": {},
   "outputs": [],
   "source": [
    "# 특정 태그를 가져오기 위해 class 사용. class는 값이 중복될 수 있다. \n",
    "\n",
    "\n",
    "html_str = \"\"\"\n",
    "<html>\n",
    "    <body>\n",
    "        <ul class=\"greet\">\n",
    "            <li>hello</li>\n",
    "            <li>bye</li>\n",
    "            <li>welcome</li>\n",
    "        </ul>\n",
    "        <ul class=\"reply\">\n",
    "            <li>ok</li>\n",
    "            <li>no</li>\n",
    "            <li>sure</li>\n",
    "        </ul>\n",
    "    </body>\n",
    "</html>\n",
    "\"\"\""
   ]
  },
  {
   "cell_type": "code",
   "execution_count": 31,
   "metadata": {},
   "outputs": [],
   "source": [
    "bs_obj = bs4.BeautifulSoup(html_str, \"html.parser\")\n"
   ]
  },
  {
   "cell_type": "code",
   "execution_count": 32,
   "metadata": {},
   "outputs": [
    {
     "data": {
      "text/plain": [
       "<ul class=\"greet\">\n",
       "<li>hello</li>\n",
       "<li>bye</li>\n",
       "<li>welcome</li>\n",
       "</ul>"
      ]
     },
     "execution_count": 32,
     "metadata": {},
     "output_type": "execute_result"
    }
   ],
   "source": [
    "bs_obj.find('ul')"
   ]
  },
  {
   "cell_type": "code",
   "execution_count": 33,
   "metadata": {},
   "outputs": [
    {
     "data": {
      "text/plain": [
       "<ul class=\"reply\">\n",
       "<li>ok</li>\n",
       "<li>no</li>\n",
       "<li>sure</li>\n",
       "</ul>"
      ]
     },
     "execution_count": 33,
     "metadata": {},
     "output_type": "execute_result"
    }
   ],
   "source": [
    "# 태그중에 특정 속성을 갖고 있는 태그를 추출\n",
    "# ul 태그중 class 속성값이 greet인 태그를 추출\n",
    "bs_obj.findAll('ul')[1]"
   ]
  },
  {
   "cell_type": "code",
   "execution_count": 34,
   "metadata": {},
   "outputs": [
    {
     "data": {
      "text/plain": [
       "[<ul class=\"reply\">\n",
       " <li>ok</li>\n",
       " <li>no</li>\n",
       " <li>sure</li>\n",
       " </ul>]"
      ]
     },
     "execution_count": 34,
     "metadata": {},
     "output_type": "execute_result"
    }
   ],
   "source": [
    "# ul 태그중 class 속성값이 reply인 태그를 추출\n",
    "# 속성값은 {속성명:속성값} - 모두 문자열로 줘야함\n",
    "bs_obj.find('ul',{'class':'reply'})\n",
    "# ul 태그중에 class 속성값이 reply인 첫번째 ul태그 반환\n",
    "\n",
    "# ul 태그중에 class 속성값이 reply인 모든 ul태그 반환\n",
    "bs_obj.find_all('ul',{'class':'reply'})\n",
    "\n",
    "# 해당 ul태그가 여러개면 모두 반환"
   ]
  },
  {
   "cell_type": "code",
   "execution_count": 35,
   "metadata": {},
   "outputs": [
    {
     "data": {
      "text/plain": [
       "[<li>hello</li>,\n",
       " <li>bye</li>,\n",
       " <li>welcome</li>,\n",
       " <li>ok</li>,\n",
       " <li>no</li>,\n",
       " <li>sure</li>]"
      ]
     },
     "execution_count": 35,
     "metadata": {},
     "output_type": "execute_result"
    }
   ],
   "source": [
    "# bs_obj 객체의 모든 li태그 추출\n",
    "bs_obj.findAll('li')\n",
    "# 여기서 bs_dbj는 스푸객체"
   ]
  },
  {
   "cell_type": "code",
   "execution_count": 36,
   "metadata": {},
   "outputs": [
    {
     "data": {
      "text/plain": [
       "[<li>hello</li>, <li>bye</li>, <li>welcome</li>]"
      ]
     },
     "execution_count": 36,
     "metadata": {},
     "output_type": "execute_result"
    }
   ],
   "source": [
    "#  class속성값이 greet 인 ul 태그 내의 모든 li 태그 추출\n",
    "bs_obj.find('ul',{'class':'greet'}).findAll('li')\n",
    "# 여기서 bs_dbj는 element"
   ]
  },
  {
   "cell_type": "code",
   "execution_count": 37,
   "metadata": {},
   "outputs": [
    {
     "data": {
      "text/plain": [
       "<li>ok</li>"
      ]
     },
     "execution_count": 37,
     "metadata": {},
     "output_type": "execute_result"
    }
   ],
   "source": [
    "#  class속성값이 reply 인 ul 태그 내의 첫번째 li 태그 추출\n",
    "bs_obj.find('ul', {'class':'reply'}).find('li')"
   ]
  },
  {
   "cell_type": "markdown",
   "metadata": {},
   "source": [
    "- id속성을 추출하는방법에 대해 알아보자\n",
    "- id는 원칙적으로 한개만 있으니까 find를 사용하는 것이 일반적이다."
   ]
  },
  {
   "cell_type": "code",
   "execution_count": 38,
   "metadata": {},
   "outputs": [],
   "source": [
    "html_str = \"\"\"\n",
    "<html>\n",
    "    <body>\n",
    "        <h1 id='title'>Hello Python</h1>\n",
    "        <p id=\"crawling\">웹 크롤링</p>\n",
    "        <p id=\"parsing\">파싱</p>\n",
    "    </body>\n",
    "</html>\"\"\""
   ]
  },
  {
   "cell_type": "code",
   "execution_count": 39,
   "metadata": {},
   "outputs": [
    {
     "data": {
      "text/plain": [
       "\n",
       "<html>\n",
       "<body>\n",
       "<h1 id=\"title\">Hello Python</h1>\n",
       "<p id=\"crawling\">웹 크롤링</p>\n",
       "<p id=\"parsing\">파싱</p>\n",
       "</body>\n",
       "</html>"
      ]
     },
     "execution_count": 39,
     "metadata": {},
     "output_type": "execute_result"
    }
   ],
   "source": [
    "bs_obj = bs4.BeautifulSoup(html_str, 'html.parser')\n",
    "bs_obj"
   ]
  },
  {
   "cell_type": "code",
   "execution_count": 40,
   "metadata": {},
   "outputs": [
    {
     "data": {
      "text/plain": [
       "<h1 id=\"title\">Hello Python</h1>"
      ]
     },
     "execution_count": 40,
     "metadata": {},
     "output_type": "execute_result"
    }
   ],
   "source": [
    "# h1 태그 중 id가 title인 태그 추출\n",
    "bs_obj.find('h1', {'id':'title'})"
   ]
  },
  {
   "cell_type": "code",
   "execution_count": 41,
   "metadata": {},
   "outputs": [
    {
     "data": {
      "text/plain": [
       "<p id=\"parsing\">파싱</p>"
      ]
     },
     "execution_count": 41,
     "metadata": {},
     "output_type": "execute_result"
    }
   ],
   "source": [
    "# p태그 중 id가 qarsing 인 태그\n",
    "bs_obj.find('p', {'id':'parsing'})"
   ]
  },
  {
   "cell_type": "markdown",
   "metadata": {},
   "source": [
    "#### bs4 형제 노드 찾기"
   ]
  },
  {
   "cell_type": "code",
   "execution_count": 42,
   "metadata": {},
   "outputs": [],
   "source": [
    "# html 태그는 계층형(포함관계)이다\n",
    "# 아래코드에서 body태그는 h1, 두개의 p태그를 포함하고 있음.\n",
    "# 그렇기에 어떤 한 태그에 대해서 해당 태그를 포함하고 있는 모든 태그는 조상태그, 한 계층 상위 부모태그\n",
    "# 해당 태그와 같은 계층이면 형제태그\n",
    "# 해당태그 하위 태그는 자손태그, 한계층 하위 태그는 자식태그\n",
    "# Ex) 아래 첫번째 p태그입장에서\n",
    "# 형제태그: h1, 나머지 p태그\n",
    "# 부모태그: body\n",
    "# 조상태그: body, html\n",
    "# 자식태그: -없\n",
    "html_str = \"\"\"\n",
    "<html>\n",
    "    <body>\n",
    "        <h1>파이썬 프로그래밍</h1><p>웹 페이지 분석</p><p>크롤링</p><p>파싱</p>        \n",
    "    </body>\n",
    "</html>\n",
    "\"\"\""
   ]
  },
  {
   "cell_type": "code",
   "execution_count": 43,
   "metadata": {},
   "outputs": [],
   "source": [
    "bs_obj = bs4.BeautifulSoup(html_str, 'html.parser')"
   ]
  },
  {
   "cell_type": "code",
   "execution_count": 44,
   "metadata": {},
   "outputs": [
    {
     "data": {
      "text/plain": [
       "<p>웹 페이지 분석</p>"
      ]
     },
     "execution_count": 44,
     "metadata": {},
     "output_type": "execute_result"
    }
   ],
   "source": [
    "# html문서에서 첫번째 나타나는 p 태그\n",
    "bs_obj.find('p')"
   ]
  },
  {
   "cell_type": "code",
   "execution_count": 45,
   "metadata": {},
   "outputs": [
    {
     "data": {
      "text/plain": [
       "[<p>웹 페이지 분석</p>, <p>크롤링</p>, <p>파싱</p>]"
      ]
     },
     "execution_count": 45,
     "metadata": {},
     "output_type": "execute_result"
    }
   ],
   "source": [
    "# html문서에서 나타나는 모든 p 태그\n",
    "bs_obj.findAll('p')"
   ]
  },
  {
   "cell_type": "code",
   "execution_count": 46,
   "metadata": {},
   "outputs": [
    {
     "data": {
      "text/plain": [
       "<p>크롤링</p>"
      ]
     },
     "execution_count": 46,
     "metadata": {},
     "output_type": "execute_result"
    }
   ],
   "source": [
    "# 첫번째 p태그를 기준으로 다음 p태그를 반환\n",
    "bs_obj.find('p').next_sibling"
   ]
  },
  {
   "cell_type": "code",
   "execution_count": 47,
   "metadata": {},
   "outputs": [
    {
     "data": {
      "text/plain": [
       "<p>파싱</p>"
      ]
     },
     "execution_count": 47,
     "metadata": {},
     "output_type": "execute_result"
    }
   ],
   "source": [
    "# 첫번째 p태그를 기준으로 다음 다음 p태그를 반환\n",
    "bs_obj.find('p').next_sibling.next_sibling"
   ]
  },
  {
   "cell_type": "markdown",
   "metadata": {},
   "source": [
    "####  속성값 추출하기\n",
    "#### a 태그의 href 속성"
   ]
  },
  {
   "cell_type": "code",
   "execution_count": 48,
   "metadata": {},
   "outputs": [],
   "source": [
    "html_str = \"\"\"\n",
    "<html>\n",
    "    <body>\n",
    "        <ul class=\"ko\">\n",
    "            <li><a href=\"https://www.naver.com/\">네이버</a></li>\n",
    "            <li><a href=\"https://www.daum.net/\">다음</a></li>\n",
    "        </ul>\n",
    "        <ul class=\"sns\">\n",
    "            <li><a href=\"https://www.goole.com/\">구글</a></li>\n",
    "            <li><a href=\"https://www.facebook.net/\">페이스북</a></li>\n",
    "        </ul>\n",
    "    </body>\n",
    "</html>\n",
    "\"\"\""
   ]
  },
  {
   "cell_type": "code",
   "execution_count": 49,
   "metadata": {},
   "outputs": [],
   "source": [
    "bs_obj = bs4.BeautifulSoup(html_str, 'html.parser')"
   ]
  },
  {
   "cell_type": "code",
   "execution_count": 50,
   "metadata": {},
   "outputs": [
    {
     "data": {
      "text/plain": [
       "<a href=\"https://www.naver.com/\">네이버</a>"
      ]
     },
     "execution_count": 50,
     "metadata": {},
     "output_type": "execute_result"
    }
   ],
   "source": [
    "bs_obj.find('li').find('a')"
   ]
  },
  {
   "cell_type": "code",
   "execution_count": 51,
   "metadata": {},
   "outputs": [
    {
     "data": {
      "text/plain": [
       "[<a href=\"https://www.naver.com/\">네이버</a>,\n",
       " <a href=\"https://www.daum.net/\">다음</a>,\n",
       " <a href=\"https://www.goole.com/\">구글</a>,\n",
       " <a href=\"https://www.facebook.net/\">페이스북</a>]"
      ]
     },
     "execution_count": 51,
     "metadata": {},
     "output_type": "execute_result"
    }
   ],
   "source": [
    "bs_obj.findAll('a')"
   ]
  },
  {
   "cell_type": "code",
   "execution_count": 52,
   "metadata": {},
   "outputs": [
    {
     "data": {
      "text/plain": [
       "'https://www.naver.com/'"
      ]
     },
     "execution_count": 52,
     "metadata": {},
     "output_type": "execute_result"
    }
   ],
   "source": [
    "# 태그의 속성값을 추출\n",
    "# 태그객체['속성명']\n",
    "bs_obj.findAll('a')[0]['href']"
   ]
  },
  {
   "cell_type": "code",
   "execution_count": 53,
   "metadata": {},
   "outputs": [
    {
     "data": {
      "text/plain": [
       "'네이버'"
      ]
     },
     "execution_count": 53,
     "metadata": {},
     "output_type": "execute_result"
    }
   ],
   "source": [
    "bs_obj.findAll('a')[0].text"
   ]
  },
  {
   "cell_type": "code",
   "execution_count": 54,
   "metadata": {},
   "outputs": [
    {
     "name": "stdout",
     "output_type": "stream",
     "text": [
      "['https://www.naver.com/', 'https://www.daum.net/', 'https://www.goole.com/', 'https://www.facebook.net/']\n"
     ]
    }
   ],
   "source": [
    "hrefs=[]\n",
    "for a in bs_obj.findAll('a'):\n",
    "    hrefs.append(a['href'])\n",
    "print(hrefs)"
   ]
  },
  {
   "cell_type": "code",
   "execution_count": 55,
   "metadata": {},
   "outputs": [
    {
     "name": "stdout",
     "output_type": "stream",
     "text": [
      "['https://www.naver.com/', 'https://www.daum.net/', 'https://www.goole.com/', 'https://www.facebook.net/']\n",
      "['네이버', '다음', '구글', '페이스북']\n"
     ]
    }
   ],
   "source": [
    "hrefs=[]\n",
    "name = []\n",
    "for a in bs_obj.findAll('a'):\n",
    "    hrefs.append(a['href'])\n",
    "    name.append(a.text)\n",
    "print(hrefs)\n",
    "print(name)\n"
   ]
  },
  {
   "cell_type": "markdown",
   "metadata": {},
   "source": [
    "- 데이터프레임으로 만들어보자"
   ]
  },
  {
   "cell_type": "code",
   "execution_count": 56,
   "metadata": {},
   "outputs": [
    {
     "data": {
      "text/html": [
       "<div>\n",
       "<style scoped>\n",
       "    .dataframe tbody tr th:only-of-type {\n",
       "        vertical-align: middle;\n",
       "    }\n",
       "\n",
       "    .dataframe tbody tr th {\n",
       "        vertical-align: top;\n",
       "    }\n",
       "\n",
       "    .dataframe thead th {\n",
       "        text-align: right;\n",
       "    }\n",
       "</style>\n",
       "<table border=\"1\" class=\"dataframe\">\n",
       "  <thead>\n",
       "    <tr style=\"text-align: right;\">\n",
       "      <th></th>\n",
       "      <th>site명</th>\n",
       "      <th>site URL</th>\n",
       "    </tr>\n",
       "  </thead>\n",
       "  <tbody>\n",
       "    <tr>\n",
       "      <th>0</th>\n",
       "      <td>네이버</td>\n",
       "      <td>https://www.naver.com/</td>\n",
       "    </tr>\n",
       "    <tr>\n",
       "      <th>1</th>\n",
       "      <td>다음</td>\n",
       "      <td>https://www.daum.net/</td>\n",
       "    </tr>\n",
       "    <tr>\n",
       "      <th>2</th>\n",
       "      <td>구글</td>\n",
       "      <td>https://www.goole.com/</td>\n",
       "    </tr>\n",
       "    <tr>\n",
       "      <th>3</th>\n",
       "      <td>페이스북</td>\n",
       "      <td>https://www.facebook.net/</td>\n",
       "    </tr>\n",
       "  </tbody>\n",
       "</table>\n",
       "</div>"
      ],
      "text/plain": [
       "  site명                   site URL\n",
       "0   네이버     https://www.naver.com/\n",
       "1    다음      https://www.daum.net/\n",
       "2    구글     https://www.goole.com/\n",
       "3  페이스북  https://www.facebook.net/"
      ]
     },
     "execution_count": 56,
     "metadata": {},
     "output_type": "execute_result"
    }
   ],
   "source": [
    "hrefs\n",
    "name\n",
    "\n",
    "import pandas as pd\n",
    "pd.DataFrame({'site명':name, \n",
    "             'site URL':hrefs\n",
    "             })"
   ]
  },
  {
   "cell_type": "code",
   "execution_count": 57,
   "metadata": {},
   "outputs": [],
   "source": [
    "import bs4\n",
    "html_str = \"\"\"\n",
    "<html>\n",
    "   <body>\n",
    "    \t<div id=\"wrap\">\n",
    "        \t<div id=\"mainMenuBox\">                \t\n",
    "                <ul>  \n",
    "                    <li><a href=\"#\">패션잡화</a></li>    \n",
    "                    <li><a href=\"#\">주방용품</a></li>                     \t          \n",
    "                    <li><a href=\"#\">생활건강</a></li>\n",
    "                    <li><a href=\"#\">DIY가구</a></li>\n",
    "                </ul>\n",
    "            </div>\n",
    "        \t<div>\n",
    "            \t<table>\n",
    "                \t<tr><td><img src=\"shoes1.jpg\"></td>\n",
    "                    \t  <td><img src=\"shoes2.jpg\"></td>\n",
    "                    \t  <td><img src=\"shoes3.jpg\"></td></tr>\n",
    "                    <tr id=\"prdName\"><td>솔로이스트<br>걸리쉬 리본단화</td>\n",
    "                    \t  <td>맥컬린<br>그레이가보시스트랩 펌프스</td>\n",
    "                          <td>맥컬린<br>섹슈얼인사이드펌프스</td></tr>\n",
    "                    <tr id=\"price\"><td>100,000원</td><td>200,000원</td><td>120,000원</td></tr>\n",
    "                </table>\n",
    "            </div>\n",
    "            <div id=\"out_box\">\n",
    "            \t<div class=\"box\">\n",
    "                \t<h4>공지사항</h4>\n",
    "                    <hr>\n",
    "                    <a href=\"#\">[배송] : 무표배송 변경 안내 18.10.20</a><br>\n",
    "                    <a href=\"#\">[전시] : DIY 가구 전시 안내 18.10.31</a><br>\n",
    "                    <a href=\"#\">[판매] : 11월 특가 상품 안내 18.11.05</a>                               \n",
    "                </div>\n",
    "                <div class=\"box\">\n",
    "                \t<h4>커뮤니티</h4>\n",
    "                    <hr>\n",
    "                    <a href=\"#\">[레시피] : 살 안찌는 야식 만들기</a><br>\n",
    "                    <a href=\"#\">[가구] : 헌집 새집 베스트 가구</a><br>\n",
    "                    <a href=\"#\">[후기] : 배송이 잘못 됐어요 ㅠㅠ</a><br>\n",
    "                 </div>\n",
    "            </div>            \n",
    "        </div>\n",
    "    </body>\n",
    "</html>\"\"\""
   ]
  },
  {
   "cell_type": "code",
   "execution_count": 58,
   "metadata": {},
   "outputs": [],
   "source": [
    "# bs 객체 생성\n",
    "bs_obj = bs4.BeautifulSoup(html_str, 'html.parser')"
   ]
  },
  {
   "cell_type": "code",
   "execution_count": 59,
   "metadata": {},
   "outputs": [
    {
     "data": {
      "text/plain": [
       "[<a href=\"#\">패션잡화</a>,\n",
       " <a href=\"#\">주방용품</a>,\n",
       " <a href=\"#\">생활건강</a>,\n",
       " <a href=\"#\">DIY가구</a>,\n",
       " <a href=\"#\">[배송] : 무표배송 변경 안내 18.10.20</a>,\n",
       " <a href=\"#\">[전시] : DIY 가구 전시 안내 18.10.31</a>,\n",
       " <a href=\"#\">[판매] : 11월 특가 상품 안내 18.11.05</a>,\n",
       " <a href=\"#\">[레시피] : 살 안찌는 야식 만들기</a>,\n",
       " <a href=\"#\">[가구] : 헌집 새집 베스트 가구</a>,\n",
       " <a href=\"#\">[후기] : 배송이 잘못 됐어요 ㅠㅠ</a>]"
      ]
     },
     "execution_count": 59,
     "metadata": {},
     "output_type": "execute_result"
    }
   ],
   "source": [
    "# 모든 a 태그\n",
    "bs_obj.findAll('a')"
   ]
  },
  {
   "cell_type": "markdown",
   "metadata": {},
   "source": [
    "- select함수"
   ]
  },
  {
   "cell_type": "code",
   "execution_count": 60,
   "metadata": {},
   "outputs": [
    {
     "data": {
      "text/plain": [
       "[<a href=\"#\">패션잡화</a>,\n",
       " <a href=\"#\">주방용품</a>,\n",
       " <a href=\"#\">생활건강</a>,\n",
       " <a href=\"#\">DIY가구</a>,\n",
       " <a href=\"#\">[배송] : 무표배송 변경 안내 18.10.20</a>,\n",
       " <a href=\"#\">[전시] : DIY 가구 전시 안내 18.10.31</a>,\n",
       " <a href=\"#\">[판매] : 11월 특가 상품 안내 18.11.05</a>,\n",
       " <a href=\"#\">[레시피] : 살 안찌는 야식 만들기</a>,\n",
       " <a href=\"#\">[가구] : 헌집 새집 베스트 가구</a>,\n",
       " <a href=\"#\">[후기] : 배송이 잘못 됐어요 ㅠㅠ</a>]"
      ]
     },
     "execution_count": 60,
     "metadata": {},
     "output_type": "execute_result"
    }
   ],
   "source": [
    "# selector : select(태그) 함수에 인수로 전달\n",
    "# 해당 태그를 모두 찾아서 list로 반환\n",
    "bs_obj.select('a')"
   ]
  },
  {
   "cell_type": "code",
   "execution_count": 61,
   "metadata": {},
   "outputs": [
    {
     "data": {
      "text/plain": [
       "'\\n            <div id=\"mainMenuBox\">               \\n                <ul>  \\n                    <li><a href=\"#\">패션잡화</a></li>    \\n                    <li><a href=\"#\">주방용품</a></li>                             \\n                    <li><a href=\"#\">생활건강</a></li>\\n                    <li><a href=\"#\">DIY가구</a></li>\\n                </ul>\\n            </div>\\n'"
      ]
     },
     "execution_count": 61,
     "metadata": {},
     "output_type": "execute_result"
    }
   ],
   "source": [
    "'''\n",
    "            <div id=\"mainMenuBox\">               \n",
    "                <ul>  \n",
    "                    <li><a href=\"#\">패션잡화</a></li>    \n",
    "                    <li><a href=\"#\">주방용품</a></li>                             \n",
    "                    <li><a href=\"#\">생활건강</a></li>\n",
    "                    <li><a href=\"#\">DIY가구</a></li>\n",
    "                </ul>\n",
    "            </div>\n",
    "'''"
   ]
  },
  {
   "cell_type": "code",
   "execution_count": 62,
   "metadata": {},
   "outputs": [
    {
     "data": {
      "text/plain": [
       "[<div id=\"wrap\">\n",
       " <div id=\"mainMenuBox\">\n",
       " <ul>\n",
       " <li><a href=\"#\">패션잡화</a></li>\n",
       " <li><a href=\"#\">주방용품</a></li>\n",
       " <li><a href=\"#\">생활건강</a></li>\n",
       " <li><a href=\"#\">DIY가구</a></li>\n",
       " </ul>\n",
       " </div>\n",
       " <div>\n",
       " <table>\n",
       " <tr><td><img src=\"shoes1.jpg\"/></td>\n",
       " <td><img src=\"shoes2.jpg\"/></td>\n",
       " <td><img src=\"shoes3.jpg\"/></td></tr>\n",
       " <tr id=\"prdName\"><td>솔로이스트<br/>걸리쉬 리본단화</td>\n",
       " <td>맥컬린<br/>그레이가보시스트랩 펌프스</td>\n",
       " <td>맥컬린<br/>섹슈얼인사이드펌프스</td></tr>\n",
       " <tr id=\"price\"><td>100,000원</td><td>200,000원</td><td>120,000원</td></tr>\n",
       " </table>\n",
       " </div>\n",
       " <div id=\"out_box\">\n",
       " <div class=\"box\">\n",
       " <h4>공지사항</h4>\n",
       " <hr/>\n",
       " <a href=\"#\">[배송] : 무표배송 변경 안내 18.10.20</a><br/>\n",
       " <a href=\"#\">[전시] : DIY 가구 전시 안내 18.10.31</a><br/>\n",
       " <a href=\"#\">[판매] : 11월 특가 상품 안내 18.11.05</a>\n",
       " </div>\n",
       " <div class=\"box\">\n",
       " <h4>커뮤니티</h4>\n",
       " <hr/>\n",
       " <a href=\"#\">[레시피] : 살 안찌는 야식 만들기</a><br/>\n",
       " <a href=\"#\">[가구] : 헌집 새집 베스트 가구</a><br/>\n",
       " <a href=\"#\">[후기] : 배송이 잘못 됐어요 ㅠㅠ</a><br/>\n",
       " </div>\n",
       " </div>\n",
       " </div>,\n",
       " <div id=\"mainMenuBox\">\n",
       " <ul>\n",
       " <li><a href=\"#\">패션잡화</a></li>\n",
       " <li><a href=\"#\">주방용품</a></li>\n",
       " <li><a href=\"#\">생활건강</a></li>\n",
       " <li><a href=\"#\">DIY가구</a></li>\n",
       " </ul>\n",
       " </div>,\n",
       " <div>\n",
       " <table>\n",
       " <tr><td><img src=\"shoes1.jpg\"/></td>\n",
       " <td><img src=\"shoes2.jpg\"/></td>\n",
       " <td><img src=\"shoes3.jpg\"/></td></tr>\n",
       " <tr id=\"prdName\"><td>솔로이스트<br/>걸리쉬 리본단화</td>\n",
       " <td>맥컬린<br/>그레이가보시스트랩 펌프스</td>\n",
       " <td>맥컬린<br/>섹슈얼인사이드펌프스</td></tr>\n",
       " <tr id=\"price\"><td>100,000원</td><td>200,000원</td><td>120,000원</td></tr>\n",
       " </table>\n",
       " </div>,\n",
       " <div id=\"out_box\">\n",
       " <div class=\"box\">\n",
       " <h4>공지사항</h4>\n",
       " <hr/>\n",
       " <a href=\"#\">[배송] : 무표배송 변경 안내 18.10.20</a><br/>\n",
       " <a href=\"#\">[전시] : DIY 가구 전시 안내 18.10.31</a><br/>\n",
       " <a href=\"#\">[판매] : 11월 특가 상품 안내 18.11.05</a>\n",
       " </div>\n",
       " <div class=\"box\">\n",
       " <h4>커뮤니티</h4>\n",
       " <hr/>\n",
       " <a href=\"#\">[레시피] : 살 안찌는 야식 만들기</a><br/>\n",
       " <a href=\"#\">[가구] : 헌집 새집 베스트 가구</a><br/>\n",
       " <a href=\"#\">[후기] : 배송이 잘못 됐어요 ㅠㅠ</a><br/>\n",
       " </div>\n",
       " </div>,\n",
       " <div class=\"box\">\n",
       " <h4>공지사항</h4>\n",
       " <hr/>\n",
       " <a href=\"#\">[배송] : 무표배송 변경 안내 18.10.20</a><br/>\n",
       " <a href=\"#\">[전시] : DIY 가구 전시 안내 18.10.31</a><br/>\n",
       " <a href=\"#\">[판매] : 11월 특가 상품 안내 18.11.05</a>\n",
       " </div>,\n",
       " <div class=\"box\">\n",
       " <h4>커뮤니티</h4>\n",
       " <hr/>\n",
       " <a href=\"#\">[레시피] : 살 안찌는 야식 만들기</a><br/>\n",
       " <a href=\"#\">[가구] : 헌집 새집 베스트 가구</a><br/>\n",
       " <a href=\"#\">[후기] : 배송이 잘못 됐어요 ㅠㅠ</a><br/>\n",
       " </div>]"
      ]
     },
     "execution_count": 62,
     "metadata": {},
     "output_type": "execute_result"
    }
   ],
   "source": [
    "bs_obj.select('div')"
   ]
  },
  {
   "cell_type": "markdown",
   "metadata": {},
   "source": [
    "- select는 순회하면서 계속 해당 태그를 모두 가져온다. 안에들어있는 태그도 모두 중첩으로 가져온다."
   ]
  },
  {
   "cell_type": "code",
   "execution_count": 63,
   "metadata": {},
   "outputs": [
    {
     "data": {
      "text/plain": [
       "[<div id=\"mainMenuBox\">\n",
       " <ul>\n",
       " <li><a href=\"#\">패션잡화</a></li>\n",
       " <li><a href=\"#\">주방용품</a></li>\n",
       " <li><a href=\"#\">생활건강</a></li>\n",
       " <li><a href=\"#\">DIY가구</a></li>\n",
       " </ul>\n",
       " </div>]"
      ]
     },
     "execution_count": 63,
     "metadata": {},
     "output_type": "execute_result"
    }
   ],
   "source": [
    "# 태그가 예시로 <div id=\"mainMenuBox\">일떄 find로는 다음과 같이 찾는다.\n",
    "bs_obj.find('div',{'id':'mainMenuBox'})\n",
    "# select를 사용할 경우는 어떻게 할까? \n",
    "# id 선택자 : #을 활용\n",
    "# select를 쓰는 이유: 실제 웹에서 소스코드를 복붙해서 쓸때 그 값이 #으로 붙어서 오기 때문이다.\n",
    "bs_obj.select('div #mainMenuBox')\n",
    "# id는 유일 하기 때문에 굳이 태그 안써도 찾아준다.\n",
    "bs_obj.select('#mainMenuBox')"
   ]
  },
  {
   "cell_type": "code",
   "execution_count": 64,
   "metadata": {},
   "outputs": [
    {
     "data": {
      "text/plain": [
       "<ul>\n",
       "<li><a href=\"#\">패션잡화</a></li>\n",
       "<li><a href=\"#\">주방용품</a></li>\n",
       "<li><a href=\"#\">생활건강</a></li>\n",
       "<li><a href=\"#\">DIY가구</a></li>\n",
       "</ul>"
      ]
     },
     "execution_count": 64,
     "metadata": {},
     "output_type": "execute_result"
    }
   ],
   "source": [
    "bs_obj.select('#mainMenuBox')[0].find('ul')"
   ]
  },
  {
   "cell_type": "markdown",
   "metadata": {},
   "source": [
    "### css 선택자\n",
    "- 태그 선택자 : 태그명\n",
    "- id 선택자 : #id값\n",
    "  - ex. id가 best인 p태그를 선택: p #id\n",
    "- class 선택자: .클래스 값\n",
    "  - ex. class가 first인 div태그를 선택: div .first\n",
    "- 자식 선택자 : >\n",
    "  - ex. class가 first인 div태그의 자식 태그 ul선택 : div.first > ul\n",
    "- 자손 선택자 : 공백문자\n",
    "  - ex. class가 firts인 div태그의 자손 태그 ul 선택 : div.first ul"
   ]
  },
  {
   "cell_type": "code",
   "execution_count": 65,
   "metadata": {},
   "outputs": [
    {
     "data": {
      "text/plain": [
       "[<ul>\n",
       " <li><a href=\"#\">패션잡화</a></li>\n",
       " <li><a href=\"#\">주방용품</a></li>\n",
       " <li><a href=\"#\">생활건강</a></li>\n",
       " <li><a href=\"#\">DIY가구</a></li>\n",
       " </ul>]"
      ]
     },
     "execution_count": 65,
     "metadata": {},
     "output_type": "execute_result"
    }
   ],
   "source": [
    "bs_obj.select('#mainMenuBox > ul') #자식태그\n",
    "bs_obj.select('#mainMenuBox ul') #자손태그\n",
    "# 결과는 동일"
   ]
  },
  {
   "cell_type": "code",
   "execution_count": 66,
   "metadata": {},
   "outputs": [
    {
     "data": {
      "text/plain": [
       "[]"
      ]
     },
     "execution_count": 66,
     "metadata": {},
     "output_type": "execute_result"
    }
   ],
   "source": [
    "bs_obj.select('#mainMenuBox > li') #자식태그\n",
    "# vid바로 밑에는 ul이기 때문에 li인자식 가져오라그러면 자식은 바로 한 단계 밑이니까 "
   ]
  },
  {
   "cell_type": "code",
   "execution_count": 67,
   "metadata": {},
   "outputs": [
    {
     "data": {
      "text/plain": [
       "[<li><a href=\"#\">패션잡화</a></li>,\n",
       " <li><a href=\"#\">주방용품</a></li>,\n",
       " <li><a href=\"#\">생활건강</a></li>,\n",
       " <li><a href=\"#\">DIY가구</a></li>]"
      ]
     },
     "execution_count": 67,
     "metadata": {},
     "output_type": "execute_result"
    }
   ],
   "source": [
    "bs_obj.select('#mainMenuBox li') #자손태그"
   ]
  },
  {
   "cell_type": "code",
   "execution_count": 68,
   "metadata": {},
   "outputs": [
    {
     "data": {
      "text/plain": [
       "3"
      ]
     },
     "execution_count": 68,
     "metadata": {},
     "output_type": "execute_result"
    }
   ],
   "source": [
    "# id가 wrap인 태그의 모든 자식 div 태그\n",
    "bs_obj.select('#wrap>div')\n",
    "len(bs_obj.select('#wrap>div'))"
   ]
  },
  {
   "cell_type": "code",
   "execution_count": 69,
   "metadata": {},
   "outputs": [
    {
     "data": {
      "text/plain": [
       "5"
      ]
     },
     "execution_count": 69,
     "metadata": {},
     "output_type": "execute_result"
    }
   ],
   "source": [
    "# id가 wrap인 태그의 모든 자손 div 태그\n",
    "bs_obj.select('#wrap div')\n",
    "len(bs_obj.select('#wrap div'))"
   ]
  },
  {
   "cell_type": "code",
   "execution_count": 70,
   "metadata": {},
   "outputs": [
    {
     "data": {
      "text/plain": [
       "[<div class=\"box\">\n",
       " <h4>공지사항</h4>\n",
       " <hr/>\n",
       " <a href=\"#\">[배송] : 무표배송 변경 안내 18.10.20</a><br/>\n",
       " <a href=\"#\">[전시] : DIY 가구 전시 안내 18.10.31</a><br/>\n",
       " <a href=\"#\">[판매] : 11월 특가 상품 안내 18.11.05</a>\n",
       " </div>,\n",
       " <div class=\"box\">\n",
       " <h4>커뮤니티</h4>\n",
       " <hr/>\n",
       " <a href=\"#\">[레시피] : 살 안찌는 야식 만들기</a><br/>\n",
       " <a href=\"#\">[가구] : 헌집 새집 베스트 가구</a><br/>\n",
       " <a href=\"#\">[후기] : 배송이 잘못 됐어요 ㅠㅠ</a><br/>\n",
       " </div>]"
      ]
     },
     "execution_count": 70,
     "metadata": {},
     "output_type": "execute_result"
    }
   ],
   "source": [
    "# 클래스 선택자(.클래스명)를 이용\n",
    "# 클래스 속성값은 중복될 수 있음\n",
    "bs_obj.select('.box')"
   ]
  },
  {
   "cell_type": "code",
   "execution_count": 71,
   "metadata": {},
   "outputs": [
    {
     "data": {
      "text/plain": [
       "<a href=\"#\">[레시피] : 살 안찌는 야식 만들기</a>"
      ]
     },
     "execution_count": 71,
     "metadata": {},
     "output_type": "execute_result"
    }
   ],
   "source": [
    "\n",
    "# 클래스 속성값이 box인 태그 중 두번째 태그안의 모든 a태그\n",
    "bs_obj.select('.box')[1].select('a')\n",
    "# 클래스 속성값이 box인 태그 중 두번째 태그안의 모든 a태그중 첫번째 태그\n",
    "bs_obj.select('.box')[1].select('a')[0]\n"
   ]
  },
  {
   "cell_type": "code",
   "execution_count": 72,
   "metadata": {},
   "outputs": [
    {
     "data": {
      "text/plain": [
       "'[배송] : 무표배송 변경 안내 18.10.20'"
      ]
     },
     "execution_count": 72,
     "metadata": {},
     "output_type": "execute_result"
    }
   ],
   "source": [
    "# '[배송] : 무표배송 변경 안내 18.10.20' 뽑아와보기\n",
    "bs_obj.select('.box')[0].select('a')[0].text"
   ]
  },
  {
   "cell_type": "markdown",
   "metadata": {},
   "source": [
    "#### 웹 크롤링 시 주의 사항\n",
    "    - 웹 사이트는 언제든지 변경 될 수 있기 때문에 지금 실행하는 코드가 실행되지 않을 수 있다"
   ]
  },
  {
   "cell_type": "code",
   "execution_count": null,
   "metadata": {
    "collapsed": true,
    "jupyter": {
     "outputs_hidden": true
    }
   },
   "outputs": [],
   "source": []
  },
  {
   "cell_type": "code",
   "execution_count": null,
   "metadata": {
    "collapsed": true,
    "jupyter": {
     "outputs_hidden": true
    }
   },
   "outputs": [],
   "source": []
  }
 ],
 "metadata": {
  "kernelspec": {
   "display_name": "Python 3 (ipykernel)",
   "language": "python",
   "name": "python3"
  },
  "language_info": {
   "codemirror_mode": {
    "name": "ipython",
    "version": 3
   },
   "file_extension": ".py",
   "mimetype": "text/x-python",
   "name": "python",
   "nbconvert_exporter": "python",
   "pygments_lexer": "ipython3",
   "version": "3.8.10"
  }
 },
 "nbformat": 4,
 "nbformat_minor": 4
}
