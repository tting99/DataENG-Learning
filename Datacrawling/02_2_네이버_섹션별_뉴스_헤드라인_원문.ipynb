{
 "cells": [
  {
   "cell_type": "markdown",
   "id": "07e67f60-1a7b-4c9a-85c6-03d95928d495",
   "metadata": {},
   "source": [
    "### 네이버 뉴스 섹션별 headline 원문 기사 크롤링\n",
    "- 기사제목, 상세보기, url, 신문사, 작성 날짜 등"
   ]
  },
  {
   "cell_type": "code",
   "execution_count": 13,
   "id": "be87611e-ad3d-4917-aca5-6e5e5e4d34f0",
   "metadata": {},
   "outputs": [],
   "source": [
    "import bs4\n",
    "from bs4 import BeautifulSoup\n",
    "import warnings\n",
    "import requests\n",
    "import pandas as pd\n",
    "from urllib.request import urlopen\n",
    "warnings.filterwarnings(action='ignore')\n",
    "# 중간출력 모두 출력\n",
    "from IPython.core.interactiveshell import InteractiveShell\n",
    "InteractiveShell.ast_node_interactivity=\"all\""
   ]
  },
  {
   "cell_type": "code",
   "execution_count": 8,
   "id": "0b1304aa-cf84-497c-ae5c-b0f80eec431e",
   "metadata": {},
   "outputs": [
    {
     "data": {
      "text/html": [
       "<div>\n",
       "<style scoped>\n",
       "    .dataframe tbody tr th:only-of-type {\n",
       "        vertical-align: middle;\n",
       "    }\n",
       "\n",
       "    .dataframe tbody tr th {\n",
       "        vertical-align: top;\n",
       "    }\n",
       "\n",
       "    .dataframe thead th {\n",
       "        text-align: right;\n",
       "    }\n",
       "</style>\n",
       "<table border=\"1\" class=\"dataframe\">\n",
       "  <thead>\n",
       "    <tr style=\"text-align: right;\">\n",
       "      <th></th>\n",
       "      <th>head_line</th>\n",
       "      <th>news_link</th>\n",
       "      <th>section</th>\n",
       "    </tr>\n",
       "  </thead>\n",
       "  <tbody>\n",
       "    <tr>\n",
       "      <th>47</th>\n",
       "      <td>모나리자 보려면 3만원…한해 900만명 찾는 루브르 입장료 오른다</td>\n",
       "      <td>https://n.news.naver.com/mnews/article/025/000...</td>\n",
       "      <td>세계</td>\n",
       "    </tr>\n",
       "    <tr>\n",
       "      <th>48</th>\n",
       "      <td>WP “이스라엘군이 10월 레바논에서 쓴 백린탄, 美 공급”…美 “확인할 것”</td>\n",
       "      <td>https://n.news.naver.com/mnews/article/081/000...</td>\n",
       "      <td>세계</td>\n",
       "    </tr>\n",
       "    <tr>\n",
       "      <th>49</th>\n",
       "      <td>일본 총리 큰일 났네…日국민 10명 중 9명이 내뱉은 충격적인 한마디</td>\n",
       "      <td>https://n.news.naver.com/mnews/article/009/000...</td>\n",
       "      <td>세계</td>\n",
       "    </tr>\n",
       "    <tr>\n",
       "      <th>50</th>\n",
       "      <td>\"이스라엘-하마스 인질협상 조만간 재개 가능성\"</td>\n",
       "      <td>https://n.news.naver.com/mnews/article/001/001...</td>\n",
       "      <td>세계</td>\n",
       "    </tr>\n",
       "    <tr>\n",
       "      <th>51</th>\n",
       "      <td>구글의 올해 검색어 레시피 1위는?...한국의 '비빔밥' [앵커리포트]</td>\n",
       "      <td>https://n.news.naver.com/mnews/article/052/000...</td>\n",
       "      <td>세계</td>\n",
       "    </tr>\n",
       "  </tbody>\n",
       "</table>\n",
       "</div>"
      ],
      "text/plain": [
       "                                      head_line  \\\n",
       "47         모나리자 보려면 3만원…한해 900만명 찾는 루브르 입장료 오른다   \n",
       "48  WP “이스라엘군이 10월 레바논에서 쓴 백린탄, 美 공급”…美 “확인할 것”   \n",
       "49       일본 총리 큰일 났네…日국민 10명 중 9명이 내뱉은 충격적인 한마디   \n",
       "50                   \"이스라엘-하마스 인질협상 조만간 재개 가능성\"   \n",
       "51      구글의 올해 검색어 레시피 1위는?...한국의 '비빔밥' [앵커리포트]   \n",
       "\n",
       "                                            news_link section  \n",
       "47  https://n.news.naver.com/mnews/article/025/000...      세계  \n",
       "48  https://n.news.naver.com/mnews/article/081/000...      세계  \n",
       "49  https://n.news.naver.com/mnews/article/009/000...      세계  \n",
       "50  https://n.news.naver.com/mnews/article/001/001...      세계  \n",
       "51  https://n.news.naver.com/mnews/article/052/000...      세계  "
      ]
     },
     "execution_count": 8,
     "metadata": {},
     "output_type": "execute_result"
    }
   ],
   "source": [
    "# 수집할 기사의 url \n",
    "head_L_df = pd.read_csv('./crawl_data/naver_news_headline.csv', index_col=0)\n",
    "head_L_df.tail()"
   ]
  },
  {
   "cell_type": "markdown",
   "id": "8a39b442-8abc-4b6d-b692-6ba13794045f",
   "metadata": {},
   "source": [
    "### 예시 코드 작성"
   ]
  },
  {
   "cell_type": "code",
   "execution_count": 9,
   "id": "b7bbee75-bfc0-4fe6-8fe9-c3dc42050014",
   "metadata": {},
   "outputs": [
    {
     "data": {
      "text/plain": [
       "'https://n.news.naver.com/mnews/article/001/0014386075?sid=104'"
      ]
     },
     "execution_count": 9,
     "metadata": {},
     "output_type": "execute_result"
    }
   ],
   "source": [
    "url = head_L_df['news_link'][50]\n",
    "url"
   ]
  },
  {
   "cell_type": "code",
   "execution_count": 14,
   "id": "bacab2e1-71e3-4444-a71a-8d882787147c",
   "metadata": {},
   "outputs": [],
   "source": [
    "# 뉴스에 대한 소스 요청\n",
    "headers = {'User-Agent':'Mozilla/5.0 (Macintosh; Intel Mac OS X 10_15_7) AppleWebKit/537.36 (KHTML, like Gecko) Chrome/119.0.0.0 Safari/537.36'}\n",
    "res = requests.get(url, headers=headers)\n",
    "html = res.text\n",
    "bs_obj = BeautifulSoup(html, 'html.parser')"
   ]
  },
  {
   "cell_type": "code",
   "execution_count": 26,
   "id": "c9ced034-94db-41a5-8c5d-231d83217b1e",
   "metadata": {},
   "outputs": [],
   "source": [
    "# 추출하려고 하는 뉴스 기사 영역 한정\n",
    "content = bs_obj.find(\"div\",{'id':'ct'})\n",
    "# 기사 작성 신문사\n",
    "news_com = content.a.img['alt']\n",
    "# 기사 작성자 및 입력날짜. \n",
    "info = content.select('#ct > div.media_end_head.go_trans > div.media_end_head_info.nv_notrans')"
   ]
  },
  {
   "cell_type": "code",
   "execution_count": null,
   "id": "148b9f14-a73a-4eea-a80c-5c412795685f",
   "metadata": {},
   "outputs": [],
   "source": [
    "# 복붙해왔을때 가장 끝에있는건 뺴야한다. 여기서는 기사정보 전체를 포함하는것을 info로 일단 불러오고 싶기때문에 그거는 특정 부분의 코드이니까 전체를 포함하고싶기때문\n",
    "# 뭔말인지 알거임.\n",
    "#ct > div.media_end_head.go_trans > div.media_end_head_info.nv_notrans > div.media_end_head_info_datestamp"
   ]
  },
  {
   "cell_type": "code",
   "execution_count": null,
   "id": "32ab1f25-8c4a-448b-8e66-c87febd45094",
   "metadata": {},
   "outputs": [],
   "source": []
  },
  {
   "cell_type": "code",
   "execution_count": null,
   "id": "b53c0070-aee7-410b-9c4f-eced0aaa970c",
   "metadata": {},
   "outputs": [],
   "source": [
    "media_end_head_info_variety_left"
   ]
  },
  {
   "cell_type": "code",
   "execution_count": null,
   "id": "10d7b002-fe1f-4161-a31d-b986da9fca42",
   "metadata": {},
   "outputs": [],
   "source": []
  },
  {
   "cell_type": "code",
   "execution_count": null,
   "id": "11f5e103-a478-4a11-a819-d0f196bf52dc",
   "metadata": {},
   "outputs": [],
   "source": [
    "# 기사 입력 및 수정시간/작성기자/좋아요 수/댓글 수\n",
    "css = '#ct > div.media_end_head.go_trans > div.media_end_head_info.nv_notrans > div.media_end_head_info_datestamp'\n",
    "#AtributeError: ResultSet object has no attribute 'select' : select() 모듈 사용 불가\n",
    "#info는 resultset 객체 임(원 소스에서 추출된 data) : select 사용 불가(list 형태)\n",
    "info1 = info[0].select(css)\n",
    "info2 = info[0].select('.media_end_head_info_datestamp')\n",
    "date_all = info2[0].findAll('div',{'class':'media_end_head_info_datestamp_bunch'})\n",
    "for date in date_all  :\n",
    "    print(date.text)\n",
    "ori_date = date_all[0].text.replace('\\n','')[2:] \n",
    "corr_date = date_all[1].text.replace('\\n','')[2:]"
   ]
  },
  {
   "cell_type": "code",
   "execution_count": 27,
   "id": "b87fe4bd-0451-4736-a9ee-64a11bc50771",
   "metadata": {},
   "outputs": [],
   "source": [
    "# 추천수 복붙해온거는 아래와 같다. 하지만 여기서 마지막 클래스 카운트는 뺴야한다. 이거 가지고 놀아보기.\n",
    "# 클래스 떼면 무슨일이 있는지? 전과 후 비교 해보기.\n",
    "#commentFontGroup > div.media_end_head_info_variety_likeit._LIKE_HIDE.as_likeit_improve > div > a > span.u_likeit_text._count.num"
   ]
  },
  {
   "cell_type": "code",
   "execution_count": null,
   "id": "89000560-d1c8-4d35-ba28-3b749cb37ec8",
   "metadata": {},
   "outputs": [],
   "source": []
  },
  {
   "cell_type": "code",
   "execution_count": null,
   "id": "9f0a240f-fbee-47f1-b9e9-5b2001e9e26b",
   "metadata": {},
   "outputs": [],
   "source": []
  },
  {
   "cell_type": "code",
   "execution_count": null,
   "id": "f405a0ed-f498-463a-ae3d-9987080d0768",
   "metadata": {},
   "outputs": [],
   "source": []
  },
  {
   "cell_type": "code",
   "execution_count": null,
   "id": "912a191f-7614-4b49-a382-5ceb31b9c704",
   "metadata": {},
   "outputs": [],
   "source": []
  }
 ],
 "metadata": {
  "kernelspec": {
   "display_name": "Python 3 (ipykernel)",
   "language": "python",
   "name": "python3"
  },
  "language_info": {
   "codemirror_mode": {
    "name": "ipython",
    "version": 3
   },
   "file_extension": ".py",
   "mimetype": "text/x-python",
   "name": "python",
   "nbconvert_exporter": "python",
   "pygments_lexer": "ipython3",
   "version": "3.8.10"
  }
 },
 "nbformat": 4,
 "nbformat_minor": 5
}
