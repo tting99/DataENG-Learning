{
 "cells": [
  {
   "cell_type": "markdown",
   "id": "0ba7fcb2-6216-48dc-9c1d-f7539259b757",
   "metadata": {},
   "source": [
    "### 네이버 뉴스의 섹션별 headline 뉴스의 제목/요약/세부link\n",
    "- 정치/경제/사회/생활,문화/IT,과학,세계"
   ]
  },
  {
   "cell_type": "code",
   "execution_count": 1,
   "id": "c864a4a8-1dbd-4ff4-8e9b-847b5b56c090",
   "metadata": {},
   "outputs": [],
   "source": [
    "import bs4\n",
    "import warnings\n",
    "import requests\n",
    "import pandas as pd\n",
    "from urllib.request import urlopen\n",
    "warnings.filterwarnings(action='ignore')\n",
    "# 중간출력 모두 출력\n",
    "from IPython.core.interactiveshell import InteractiveShell\n",
    "InteractiveShell.ast_node_interactivity=\"all\""
   ]
  },
  {
   "cell_type": "code",
   "execution_count": 2,
   "id": "6252a58c-b63e-4472-9a14-8453d278131b",
   "metadata": {},
   "outputs": [],
   "source": [
    "df_menu = pd.read_csv('./crawl_data/naver_news_section.csv', index_col=0)"
   ]
  },
  {
   "cell_type": "code",
   "execution_count": 3,
   "id": "98ce6166-e0b3-4a59-85ef-3128d27ffd40",
   "metadata": {},
   "outputs": [
    {
     "data": {
      "text/html": [
       "<div>\n",
       "<style scoped>\n",
       "    .dataframe tbody tr th:only-of-type {\n",
       "        vertical-align: middle;\n",
       "    }\n",
       "\n",
       "    .dataframe tbody tr th {\n",
       "        vertical-align: top;\n",
       "    }\n",
       "\n",
       "    .dataframe thead th {\n",
       "        text-align: right;\n",
       "    }\n",
       "</style>\n",
       "<table border=\"1\" class=\"dataframe\">\n",
       "  <thead>\n",
       "    <tr style=\"text-align: right;\">\n",
       "      <th></th>\n",
       "      <th>section</th>\n",
       "      <th>link</th>\n",
       "    </tr>\n",
       "  </thead>\n",
       "  <tbody>\n",
       "    <tr>\n",
       "      <th>0</th>\n",
       "      <td>언론사별</td>\n",
       "      <td>https://news.naver.com/?viewType=pc</td>\n",
       "    </tr>\n",
       "    <tr>\n",
       "      <th>1</th>\n",
       "      <td>정치</td>\n",
       "      <td>https://news.naver.com/main/main.naver?mode=LS...</td>\n",
       "    </tr>\n",
       "    <tr>\n",
       "      <th>2</th>\n",
       "      <td>경제</td>\n",
       "      <td>https://news.naver.com/main/main.naver?mode=LS...</td>\n",
       "    </tr>\n",
       "    <tr>\n",
       "      <th>3</th>\n",
       "      <td>사회</td>\n",
       "      <td>https://news.naver.com/main/main.naver?mode=LS...</td>\n",
       "    </tr>\n",
       "    <tr>\n",
       "      <th>4</th>\n",
       "      <td>생활/문화</td>\n",
       "      <td>https://news.naver.com/main/main.naver?mode=LS...</td>\n",
       "    </tr>\n",
       "    <tr>\n",
       "      <th>5</th>\n",
       "      <td>IT/과학</td>\n",
       "      <td>https://news.naver.com/main/main.naver?mode=LS...</td>\n",
       "    </tr>\n",
       "    <tr>\n",
       "      <th>6</th>\n",
       "      <td>세계</td>\n",
       "      <td>https://news.naver.com/main/main.naver?mode=LS...</td>\n",
       "    </tr>\n",
       "    <tr>\n",
       "      <th>7</th>\n",
       "      <td>랭킹</td>\n",
       "      <td>https://news.naver.com/main/ranking/popularDay...</td>\n",
       "    </tr>\n",
       "    <tr>\n",
       "      <th>8</th>\n",
       "      <td>신문보기</td>\n",
       "      <td>https://news.naver.com/newspaper/home?viewType=pc</td>\n",
       "    </tr>\n",
       "    <tr>\n",
       "      <th>9</th>\n",
       "      <td>오피니언</td>\n",
       "      <td>https://news.naver.com/opinion/home</td>\n",
       "    </tr>\n",
       "    <tr>\n",
       "      <th>10</th>\n",
       "      <td>TV</td>\n",
       "      <td>https://news.naver.com/main/tv/index.naver?mid...</td>\n",
       "    </tr>\n",
       "    <tr>\n",
       "      <th>11</th>\n",
       "      <td>팩트체크</td>\n",
       "      <td>https://news.naver.com/factcheck/main</td>\n",
       "    </tr>\n",
       "    <tr>\n",
       "      <th>12</th>\n",
       "      <td>알고리즘 안내</td>\n",
       "      <td>https://media.naver.com/algorithm</td>\n",
       "    </tr>\n",
       "    <tr>\n",
       "      <th>13</th>\n",
       "      <td>정정보도 모음</td>\n",
       "      <td>https://news.naver.com/main/ombudsman/errorArt...</td>\n",
       "    </tr>\n",
       "  </tbody>\n",
       "</table>\n",
       "</div>"
      ],
      "text/plain": [
       "    section                                               link\n",
       "0      언론사별                https://news.naver.com/?viewType=pc\n",
       "1        정치  https://news.naver.com/main/main.naver?mode=LS...\n",
       "2        경제  https://news.naver.com/main/main.naver?mode=LS...\n",
       "3        사회  https://news.naver.com/main/main.naver?mode=LS...\n",
       "4     생활/문화  https://news.naver.com/main/main.naver?mode=LS...\n",
       "5     IT/과학  https://news.naver.com/main/main.naver?mode=LS...\n",
       "6        세계  https://news.naver.com/main/main.naver?mode=LS...\n",
       "7        랭킹  https://news.naver.com/main/ranking/popularDay...\n",
       "8      신문보기  https://news.naver.com/newspaper/home?viewType=pc\n",
       "9      오피니언                https://news.naver.com/opinion/home\n",
       "10       TV  https://news.naver.com/main/tv/index.naver?mid...\n",
       "11     팩트체크              https://news.naver.com/factcheck/main\n",
       "12  알고리즘 안내                  https://media.naver.com/algorithm\n",
       "13  정정보도 모음  https://news.naver.com/main/ombudsman/errorArt..."
      ]
     },
     "execution_count": 3,
     "metadata": {},
     "output_type": "execute_result"
    }
   ],
   "source": [
    "df_menu"
   ]
  },
  {
   "cell_type": "markdown",
   "id": "b49503f8-46f9-4abb-993f-69ab3599882c",
   "metadata": {},
   "source": [
    "# 경제 섹션을 예시 코드로 작성"
   ]
  },
  {
   "cell_type": "code",
   "execution_count": 3,
   "id": "aa220a96-3fab-40ce-940d-3e817ab17f2d",
   "metadata": {},
   "outputs": [
    {
     "ename": "NameError",
     "evalue": "name 'df_menu' is not defined",
     "output_type": "error",
     "traceback": [
      "\u001b[0;31m---------------------------------------------------------------------------\u001b[0m",
      "\u001b[0;31mNameError\u001b[0m                                 Traceback (most recent call last)",
      "Cell \u001b[0;32mIn[3], line 2\u001b[0m\n\u001b[1;32m      1\u001b[0m \u001b[38;5;66;03m# 경제 섹션 url추출\u001b[39;00m\n\u001b[0;32m----> 2\u001b[0m url \u001b[38;5;241m=\u001b[39m \u001b[43mdf_menu\u001b[49m[\u001b[38;5;124m'\u001b[39m\u001b[38;5;124mlink\u001b[39m\u001b[38;5;124m'\u001b[39m][\u001b[38;5;241m2\u001b[39m]\n\u001b[1;32m      3\u001b[0m res \u001b[38;5;241m=\u001b[39m urlopen(url)\n\u001b[1;32m      4\u001b[0m html \u001b[38;5;241m=\u001b[39m res\u001b[38;5;241m.\u001b[39mread()\n",
      "\u001b[0;31mNameError\u001b[0m: name 'df_menu' is not defined"
     ]
    }
   ],
   "source": [
    "# 경제 섹션 url추출\n",
    "url = df_menu['link'][2]\n",
    "res = urlopen(url)\n",
    "html = res.read()"
   ]
  },
  {
   "cell_type": "markdown",
   "id": "b3e67eec-1b17-4592-bc18-d98528d1b27a",
   "metadata": {},
   "source": [
    "- 보통의 경우 여기서 에러난다. 만약 자동화봇으로 보고 연결 끊는경우 해결방법\n",
    "    - 통신 규칙상 웹으로 요청은 브라우저를 통해서 요청하는 것이 약속\n",
    "    - 소스코드로 요청하면 서버측에서는 공격으로 인지 할 수 있음: 공격으로 인지되면 해당 서버는 연결을 끊어버림\n",
    "    - 서버에 요청시 header를 추가해서 bot이 아님을 증명해야함\n",
    "      - header에 브라우저의 종류를 추가해서 요청해야 함 (User-Agent 추가)\n",
    "      - 현재 사용중인 브라우저의 정보를 열어와서 header에 추가\n",
    "        - 크롬 개발자 도구로 확인가능\n",
    "        - 개발자도구->네트워크->맨 처음에 나오는 url형식 클릭->header->맨아래 User-Agent값 복사해오기"
   ]
  },
  {
   "cell_type": "markdown",
   "id": "532f0d87-c79a-442b-b18f-21841c30f527",
   "metadata": {},
   "source": [
    "### 헤더포함 방법"
   ]
  },
  {
   "cell_type": "code",
   "execution_count": 2,
   "id": "4e1d5c90-6ed5-41ed-8a5f-550e0f566b96",
   "metadata": {},
   "outputs": [
    {
     "ename": "NameError",
     "evalue": "name 'url' is not defined",
     "output_type": "error",
     "traceback": [
      "\u001b[0;31m---------------------------------------------------------------------------\u001b[0m",
      "\u001b[0;31mNameError\u001b[0m                                 Traceback (most recent call last)",
      "Cell \u001b[0;32mIn[2], line 4\u001b[0m\n\u001b[1;32m      1\u001b[0m \u001b[38;5;66;03m# requests.get()함수 사용.\u001b[39;00m\n\u001b[1;32m      2\u001b[0m \u001b[38;5;66;03m# header을 포함한 요청\u001b[39;00m\n\u001b[1;32m      3\u001b[0m headers \u001b[38;5;241m=\u001b[39m {\u001b[38;5;124m'\u001b[39m\u001b[38;5;124mUser-Agent\u001b[39m\u001b[38;5;124m'\u001b[39m : \u001b[38;5;124m'\u001b[39m\u001b[38;5;124mMozilla/5.0 (Macintosh; Intel Mac OS X 10_15_7) AppleWebKit/537.36 (KHTML, like Gecko) Chrome/119.0.0.0 Safari/537.36\u001b[39m\u001b[38;5;124m'\u001b[39m}\n\u001b[0;32m----> 4\u001b[0m res \u001b[38;5;241m=\u001b[39m requests\u001b[38;5;241m.\u001b[39mget(\u001b[43murl\u001b[49m, headers\u001b[38;5;241m=\u001b[39mheaders)\n\u001b[1;32m      5\u001b[0m html\u001b[38;5;241m=\u001b[39mres\u001b[38;5;241m.\u001b[39mtext\n\u001b[1;32m      6\u001b[0m bs_obj \u001b[38;5;241m=\u001b[39m bs4\u001b[38;5;241m.\u001b[39mBeautifulSoup(html, \u001b[38;5;124m'\u001b[39m\u001b[38;5;124mhtml.parser\u001b[39m\u001b[38;5;124m'\u001b[39m)\n",
      "\u001b[0;31mNameError\u001b[0m: name 'url' is not defined"
     ]
    }
   ],
   "source": [
    "# requests.get()함수 사용.\n",
    "# header을 포함한 요청\n",
    "headers = {'User-Agent' : 'Mozilla/5.0 (Macintosh; Intel Mac OS X 10_15_7) AppleWebKit/537.36 (KHTML, like Gecko) Chrome/119.0.0.0 Safari/537.36'}\n",
    "res = requests.get(url, headers=headers)\n",
    "html=res.text\n",
    "bs_obj = bs4.BeautifulSoup(html, 'html.parser')"
   ]
  },
  {
   "cell_type": "code",
   "execution_count": 7,
   "id": "4bb05e95-27ac-4dc8-8de7-6fc9f8ddf2f2",
   "metadata": {},
   "outputs": [
    {
     "data": {
      "text/plain": [
       "10"
      ]
     },
     "execution_count": 7,
     "metadata": {},
     "output_type": "execute_result"
    },
    {
     "data": {
      "text/plain": [
       "'부동산PF 옥석 가린다…이복현 \"자기책임원칙 따른 진행 불가피\"'"
      ]
     },
     "execution_count": 7,
     "metadata": {},
     "output_type": "execute_result"
    },
    {
     "data": {
      "text/plain": [
       "'https://n.news.naver.com/mnews/article/001/0014385951?sid=101'"
      ]
     },
     "execution_count": 7,
     "metadata": {},
     "output_type": "execute_result"
    },
    {
     "data": {
      "text/plain": [
       "'연합뉴스'"
      ]
     },
     "execution_count": 7,
     "metadata": {},
     "output_type": "execute_result"
    }
   ],
   "source": [
    "headline = bs_obj.findAll('div', {'class':'sh_text'})\n",
    "len(headline)\n",
    "headline[0].a.text\n",
    "headline[0].a['href']\n",
    "headline[0].find('div', {'class':'sh_text_press'}).text"
   ]
  },
  {
   "cell_type": "code",
   "execution_count": 12,
   "id": "c558b75a-0273-48cf-875c-139c9aac623f",
   "metadata": {},
   "outputs": [
    {
     "data": {
      "text/plain": [
       "'부동산PF 옥석 가린다…이복현 \"자기책임원칙 따른 진행 불가피\"'"
      ]
     },
     "execution_count": 12,
     "metadata": {},
     "output_type": "execute_result"
    },
    {
     "data": {
      "text/plain": [
       "'https://n.news.naver.com/mnews/article/001/0014385951?sid=101'"
      ]
     },
     "execution_count": 12,
     "metadata": {},
     "output_type": "execute_result"
    },
    {
     "data": {
      "text/plain": [
       "'연합뉴스'"
      ]
     },
     "execution_count": 12,
     "metadata": {},
     "output_type": "execute_result"
    },
    {
     "data": {
      "text/plain": [
       "'추경호 \"유류세 인하 2개월 연장…국제유가 불확실성 여전\"'"
      ]
     },
     "execution_count": 12,
     "metadata": {},
     "output_type": "execute_result"
    },
    {
     "data": {
      "text/plain": [
       "'https://n.news.naver.com/mnews/article/003/0012262529?sid=101'"
      ]
     },
     "execution_count": 12,
     "metadata": {},
     "output_type": "execute_result"
    },
    {
     "data": {
      "text/plain": [
       "'뉴시스'"
      ]
     },
     "execution_count": 12,
     "metadata": {},
     "output_type": "execute_result"
    },
    {
     "data": {
      "text/plain": [
       "'일등석 시트가 뒷자석에…벤틀리 ‘더 뉴 벤테이가 EWB’, 韓 상륙'"
      ]
     },
     "execution_count": 12,
     "metadata": {},
     "output_type": "execute_result"
    },
    {
     "data": {
      "text/plain": [
       "'https://n.news.naver.com/mnews/article/119/0002778508?sid=101'"
      ]
     },
     "execution_count": 12,
     "metadata": {},
     "output_type": "execute_result"
    },
    {
     "data": {
      "text/plain": [
       "'데일리안'"
      ]
     },
     "execution_count": 12,
     "metadata": {},
     "output_type": "execute_result"
    },
    {
     "data": {
      "text/plain": [
       "'풀무원, 39년 만에 첫 연예인 광고, 모델은 이효리'"
      ]
     },
     "execution_count": 12,
     "metadata": {},
     "output_type": "execute_result"
    },
    {
     "data": {
      "text/plain": [
       "'https://n.news.naver.com/mnews/article/293/0000049645?sid=101'"
      ]
     },
     "execution_count": 12,
     "metadata": {},
     "output_type": "execute_result"
    },
    {
     "data": {
      "text/plain": [
       "'블로터'"
      ]
     },
     "execution_count": 12,
     "metadata": {},
     "output_type": "execute_result"
    },
    {
     "data": {
      "text/plain": [
       "'출사표 던진 \\'캐나다 빽다방\\' 팀홀튼 \"스벅 보다 싸게 \"'"
      ]
     },
     "execution_count": 12,
     "metadata": {},
     "output_type": "execute_result"
    },
    {
     "data": {
      "text/plain": [
       "'https://n.news.naver.com/mnews/article/648/0000021696?sid=101'"
      ]
     },
     "execution_count": 12,
     "metadata": {},
     "output_type": "execute_result"
    },
    {
     "data": {
      "text/plain": [
       "'비즈워치'"
      ]
     },
     "execution_count": 12,
     "metadata": {},
     "output_type": "execute_result"
    },
    {
     "data": {
      "text/plain": [
       "\"에이피알, 상장예심 통과…'내년 코스피 1호'\""
      ]
     },
     "execution_count": 12,
     "metadata": {},
     "output_type": "execute_result"
    },
    {
     "data": {
      "text/plain": [
       "'https://n.news.naver.com/mnews/article/011/0004273455?sid=101'"
      ]
     },
     "execution_count": 12,
     "metadata": {},
     "output_type": "execute_result"
    },
    {
     "data": {
      "text/plain": [
       "'서울경제'"
      ]
     },
     "execution_count": 12,
     "metadata": {},
     "output_type": "execute_result"
    },
    {
     "data": {
      "text/plain": [
       "'‘위믹스’, 코빗 이어 빗썸도 재상장'"
      ]
     },
     "execution_count": 12,
     "metadata": {},
     "output_type": "execute_result"
    },
    {
     "data": {
      "text/plain": [
       "'https://n.news.naver.com/mnews/article/009/0005228991?sid=101'"
      ]
     },
     "execution_count": 12,
     "metadata": {},
     "output_type": "execute_result"
    },
    {
     "data": {
      "text/plain": [
       "'매일경제'"
      ]
     },
     "execution_count": 12,
     "metadata": {},
     "output_type": "execute_result"
    },
    {
     "data": {
      "text/plain": [
       "'\"차량 단말기로 주차료 정산\" 현대차·기아, 현대백화점과 업무협약'"
      ]
     },
     "execution_count": 12,
     "metadata": {},
     "output_type": "execute_result"
    },
    {
     "data": {
      "text/plain": [
       "'https://n.news.naver.com/mnews/article/014/0005113632?sid=101'"
      ]
     },
     "execution_count": 12,
     "metadata": {},
     "output_type": "execute_result"
    },
    {
     "data": {
      "text/plain": [
       "'파이낸셜뉴스'"
      ]
     },
     "execution_count": 12,
     "metadata": {},
     "output_type": "execute_result"
    },
    {
     "data": {
      "text/plain": [
       "\"공정위, 여행사의 '주말·공휴일 취소불가' 등 불공정약관 시정\""
      ]
     },
     "execution_count": 12,
     "metadata": {},
     "output_type": "execute_result"
    },
    {
     "data": {
      "text/plain": [
       "'https://n.news.naver.com/mnews/article/374/0000362408?sid=101'"
      ]
     },
     "execution_count": 12,
     "metadata": {},
     "output_type": "execute_result"
    },
    {
     "data": {
      "text/plain": [
       "'SBS Biz'"
      ]
     },
     "execution_count": 12,
     "metadata": {},
     "output_type": "execute_result"
    },
    {
     "data": {
      "text/plain": [
       "'공공주택사업, 민간에 개방…“LH 독점 깬다”'"
      ]
     },
     "execution_count": 12,
     "metadata": {},
     "output_type": "execute_result"
    },
    {
     "data": {
      "text/plain": [
       "'https://n.news.naver.com/mnews/article/449/0000263577?sid=101'"
      ]
     },
     "execution_count": 12,
     "metadata": {},
     "output_type": "execute_result"
    },
    {
     "data": {
      "text/plain": [
       "'채널A'"
      ]
     },
     "execution_count": 12,
     "metadata": {},
     "output_type": "execute_result"
    }
   ],
   "source": [
    "for head in headline:\n",
    "    head.a.text\n",
    "    head.a['href']\n",
    "    head.find('div', {'class':'sh_text_press'}).text"
   ]
  },
  {
   "cell_type": "markdown",
   "id": "b74d4018-c49b-4641-b614-3b2d1b252a30",
   "metadata": {},
   "source": [
    "# 모든 섹션 적용 가능하도록 함수로 구성하기\n",
    "- 함수 구성시에는 파라미터로 넘겨받아야하는 값 결정/리턴값 결정\n",
    "- 6개의 섹션의 헤드라인 뉴스에 대한 뉴스제목, 각 뉴스의 link, 뉴스의 섹션을 df로 저장\n",
    "- 함수명 : get_headline(섹션별url, 섹션명)\n",
    "- 반환:섹션별 수집 데이터를 dict구성 후 반환"
   ]
  },
  {
   "cell_type": "code",
   "execution_count": 56,
   "id": "54d4a2d5-7f5d-4887-8c72-48fa553449a7",
   "metadata": {},
   "outputs": [],
   "source": [
    "def get_headline(url, section):\n",
    "    #수집한 데이터 저장할 딕\n",
    "    head_title = []\n",
    "    head_link = []\n",
    "    \n",
    "    #서버요청(많은요청이 일어나므로 거부할것 생각하기)\n",
    "    headers = {'User-Agent' : 'Mozilla/5.0 (Macintosh; Intel Mac OS X 10_15_7) AppleWebKit/537.36 (KHTML, like Gecko) Chrome/119.0.0.0 Safari/537.36'}\n",
    "    res = requests.get(url, headers = headers)\n",
    "    html = res.text\n",
    "    bs_obj = bs4.BeautifulSoup(html, 'html.parser')\n",
    "\n",
    "    headline = bs_obj.findAll('div', {'class':'sh_text'})\n",
    "    for head in headline:\n",
    "        head_title.append(head.a.text)\n",
    "        head_link.append(head.a['href'])\n",
    "\n",
    "    return({'head_line':head_title, 'news_link':head_link,'section':section})"
   ]
  },
  {
   "cell_type": "code",
   "execution_count": 51,
   "id": "0ee16eec-1707-461a-a944-8011f552befe",
   "metadata": {},
   "outputs": [
    {
     "name": "stdout",
     "output_type": "stream",
     "text": [
      "1 정치\n"
     ]
    },
    {
     "data": {
      "text/plain": [
       "{'head_line': ['\"윤석열 정부 심판\" 외친 부산 민주당 출마자들',\n",
       "  \"헌법재판관 청문회서 '탄핵 남발' vs '김여사특검 거부권' 공방\",\n",
       "  '한미, 15일 美워싱턴에서 2차 NCG 개최…“대북 핵 억제 강화 협의”',\n",
       "  '尹, 네덜란드 국빈 일정 시작…국왕과 공식환영식',\n",
       "  '‘음주운전·폭행 전과’ 해수부 장관 후보자, 이번엔 아내 위장전입 의혹',\n",
       "  '북한이 \\'인권 백서\\' 발간‥\"미국·서방이 무참히 인권 유린\"',\n",
       "  '임은정 검사 총선 불출마 표명… \"검찰에서 씩씩하게 계속 가보겠다\"',\n",
       "  '여야, 최우선 처리 법안 목록 10개씩 교환...협상 돌입',\n",
       "  '北 노동신문에 추미애 ‘김건희 특검’ 시위 사진 실려',\n",
       "  '이준석, 김기현 사퇴 압박에 \"용산에는 한 마디도 못하면서 김 대표 린치\"'],\n",
       " 'news_link': ['https://n.news.naver.com/mnews/article/047/0002415615?sid=100',\n",
       "  'https://n.news.naver.com/mnews/article/001/0014385823?sid=100',\n",
       "  'https://n.news.naver.com/mnews/article/016/0002237873?sid=100',\n",
       "  'https://n.news.naver.com/mnews/article/081/0003416043?sid=100',\n",
       "  'https://n.news.naver.com/mnews/article/009/0005229135?sid=100',\n",
       "  'https://n.news.naver.com/mnews/article/214/0001317715?sid=100',\n",
       "  'https://n.news.naver.com/mnews/article/437/0000370543?sid=100',\n",
       "  'https://n.news.naver.com/mnews/article/052/0001971710?sid=100',\n",
       "  'https://n.news.naver.com/mnews/article/081/0003415884?sid=100',\n",
       "  'https://n.news.naver.com/mnews/article/437/0000370532?sid=100'],\n",
       " 'section': '정치'}"
      ]
     },
     "execution_count": 51,
     "metadata": {},
     "output_type": "execute_result"
    },
    {
     "name": "stdout",
     "output_type": "stream",
     "text": [
      "2 경제\n"
     ]
    },
    {
     "data": {
      "text/plain": [
       "{'head_line': ['일등석 시트가 뒷자석에…벤틀리 ‘더 뉴 벤테이가 EWB’, 韓 상륙',\n",
       "  \"LS머트리얼즈, 올해 '2호 따따블' 달성…상장 첫날 300%↑[핫스탁](종합)\",\n",
       "  \"은행 CEO 모범 관행에 DGB금융 '난처'\",\n",
       "  '“주말 발권은 되면서 취소는 불가”…여행사 불공정 약관 시정',\n",
       "  \"세계2위 커피 브랜드 '팀홀튼' 국내 상륙…스타벅스보다 10% 이상 저렴\",\n",
       "  '유재석, 강남 논현동 땅 샀다…‘116억 전액’ 현금 매입',\n",
       "  '이복현 \"총선 이후 위기 없어...필요 시 \\'옥석가리기\\' \\'규제완화\\'도\"',\n",
       "  \"셀트리온헬스케어 '베그젤마' 美 벤테그라 처방집 등재\",\n",
       "  'HK이노엔 신약 `케이캡`, 차별화 임상 결과 연이어 공개',\n",
       "  \"세 집 건너 한 집 '1인 가구'‥소득은 평균의 44%\"],\n",
       " 'news_link': ['https://n.news.naver.com/mnews/article/119/0002778508?sid=101',\n",
       "  'https://n.news.naver.com/mnews/article/003/0012262339?sid=101',\n",
       "  'https://n.news.naver.com/mnews/article/031/0000796067?sid=101',\n",
       "  'https://n.news.naver.com/mnews/article/028/0002668362?sid=101',\n",
       "  'https://n.news.naver.com/mnews/article/030/0003164907?sid=101',\n",
       "  'https://n.news.naver.com/mnews/article/005/0001658902?sid=101',\n",
       "  'https://n.news.naver.com/mnews/article/014/0005113533?sid=101',\n",
       "  'https://n.news.naver.com/mnews/article/215/0001138711?sid=101',\n",
       "  'https://n.news.naver.com/mnews/article/029/0002842704?sid=101',\n",
       "  'https://n.news.naver.com/mnews/article/214/0001317917?sid=101'],\n",
       " 'section': '경제'}"
      ]
     },
     "execution_count": 51,
     "metadata": {},
     "output_type": "execute_result"
    },
    {
     "name": "stdout",
     "output_type": "stream",
     "text": [
      "3 사회\n"
     ]
    },
    {
     "data": {
      "text/plain": [
       "{'head_line': [\"김하성, '상습 폭행' 주장 임혜동 명예훼손 추가 고소\",\n",
       "  \"검찰, 강용석 '도도맘 허위고소 종용' 1심 집행유예에 항소\",\n",
       "  '의붓어머니 기초연금 탐내 살해하고 암매장한 40대 구속기소',\n",
       "  '\\'SM 시세조종\\' 카카오 배재현, 첫 공판…\"정상 M&A에 무리한 잣대\"',\n",
       "  '“초등교사가 성범죄 피해 호소한 지인 성폭행 시도”…경찰, 조사 착수',\n",
       "  '사회보장·서비스 기본계획 수립‥중산층까지 대상 확대',\n",
       "  '\\'12·12 의로운 전사\\' 정선엽 병장 유족 \"떳떳한 죽음…반란군 사과를\"',\n",
       "  '\"죽고 또 죽는데 바뀐 게 없다\"…영풍석포제련소 \\'폐쇄하라\\'',\n",
       "  '‘난민 불인정 사유 추가’ 법무부 개정안에…자의적 남용 우려',\n",
       "  '북한 미사일·행정망 위협에 수도 방호대책은…서울시, 안보포럼 개최'],\n",
       " 'news_link': ['https://n.news.naver.com/mnews/article/052/0001971273?sid=102',\n",
       "  'https://n.news.naver.com/mnews/article/082/0001246313?sid=102',\n",
       "  'https://n.news.naver.com/mnews/article/052/0001971690?sid=102',\n",
       "  'https://n.news.naver.com/mnews/article/018/0005636544?sid=102',\n",
       "  'https://n.news.naver.com/mnews/article/056/0011620588?sid=102',\n",
       "  'https://n.news.naver.com/mnews/article/214/0001317944?sid=102',\n",
       "  'https://n.news.naver.com/mnews/article/003/0012261973?sid=102',\n",
       "  'https://n.news.naver.com/mnews/article/437/0000370512?sid=102',\n",
       "  'https://n.news.naver.com/mnews/article/028/0002668469?sid=102',\n",
       "  'https://n.news.naver.com/mnews/article/021/0002610378?sid=102'],\n",
       " 'section': '사회'}"
      ]
     },
     "execution_count": 51,
     "metadata": {},
     "output_type": "execute_result"
    },
    {
     "name": "stdout",
     "output_type": "stream",
     "text": [
      "4 생활/문화\n"
     ]
    },
    {
     "data": {
      "text/plain": [
       "{'head_line': [\" 내일 아침 '반짝 추위'…충청 · 남부 짙은 안개[날씨]\",\n",
       "  '\"댄스 대신 국군도수체조\"…BTS 전원 \\'아미\\' 된다',\n",
       "  \"'불멍' 외국인 17만명 찾았다…국립중앙박물관 연 400만 돌파\",\n",
       "  '배우 이영애, 한미동맹 단체에 5천만원 기부',\n",
       "  '30년 전 백제금동대향로 발굴 주역들 한자리…고유제 봉행'],\n",
       " 'news_link': ['https://n.news.naver.com/mnews/article/055/0001113800?sid=103',\n",
       "  'https://n.news.naver.com/mnews/article/057/0001786332?sid=103',\n",
       "  'https://n.news.naver.com/mnews/article/025/0003327866?sid=103',\n",
       "  'https://n.news.naver.com/mnews/article/079/0003842805?sid=103',\n",
       "  'https://n.news.naver.com/mnews/article/421/0007230852?sid=103'],\n",
       " 'section': '생활/문화'}"
      ]
     },
     "execution_count": 51,
     "metadata": {},
     "output_type": "execute_result"
    },
    {
     "name": "stdout",
     "output_type": "stream",
     "text": [
      "5 IT/과학\n"
     ]
    },
    {
     "data": {
      "text/plain": [
       "{'head_line': ['넷플릭스, 한국서도 9500원 기본요금제 중단…스트림플레이션 가속화',\n",
       "  'JYP·방시혁도 산타 변신…출시 일주일 만 3만명 몰린 AI앱 뭐길래',\n",
       "  '과기정통부 \"R&D 예타 통과·탈락 이분법 탈피\"',\n",
       "  '전남개발공사, 공정채용우수기관 3년 연속 인증 획득',\n",
       "  'AI가 수면 생체신호 분석해 ‘꿀잠’ 포인트 찾는다',\n",
       "  'SKT ‘채팅플러스’ 모바일 채팅 PC서도 그대로',\n",
       "  '구글, 에픽게임즈 제기 반독점 소송 패소',\n",
       "  '카카오 김범수 “경영진 교체 여부 이달 중 답변”'],\n",
       " 'news_link': ['https://n.news.naver.com/mnews/article/081/0003416028?sid=105',\n",
       "  'https://n.news.naver.com/mnews/article/277/0005353596?sid=105',\n",
       "  'https://n.news.naver.com/mnews/article/421/0007230398?sid=105',\n",
       "  'https://n.news.naver.com/mnews/article/005/0001658734?sid=105',\n",
       "  'https://n.news.naver.com/mnews/article/366/0000954325?sid=105',\n",
       "  'https://n.news.naver.com/mnews/article/014/0005113759?sid=105',\n",
       "  'https://n.news.naver.com/mnews/article/029/0002842756?sid=105',\n",
       "  'https://n.news.naver.com/mnews/article/366/0000954461?sid=105'],\n",
       " 'section': 'IT/과학'}"
      ]
     },
     "execution_count": 51,
     "metadata": {},
     "output_type": "execute_result"
    },
    {
     "name": "stdout",
     "output_type": "stream",
     "text": [
      "6 세계\n"
     ]
    },
    {
     "data": {
      "text/plain": [
       "{'head_line': ['유엔사무총장 \"화석연료 단계적 퇴출 합의해야\"',\n",
       "  '푸틴 \\'정적\\' 나발니 행방 묘연…美 \"즉시 석방돼야\"(종합)',\n",
       "  '日, 3자녀 이상 가구 대학 무상교육...고교생까지 아동수당',\n",
       "  '파리 루브르 박물관 내년부터 입장료 3만원대로 인상',\n",
       "  \"'비자금 스캔들'에 퇴진 위기 몰린 기시다...한일관계, 과거로 회귀?[뉴스킹]\",\n",
       "  '전세계 누리꾼이 올해 가장 많이 검색한 요리법은?',\n",
       "  '이스라엘 국방 \"하마스 마지막 거점 포위…부대 해체 직전\"',\n",
       "  '\\'세 번째 방미\\' 젤렌스키... \"지원 지연되는 건 푸틴 소망\" 미국 의회 압박',\n",
       "  '美상무 \"中화웨이에 강력한 조치 취할 것\"'],\n",
       " 'news_link': ['https://n.news.naver.com/mnews/article/277/0005353395?sid=104',\n",
       "  'https://n.news.naver.com/mnews/article/001/0014384649?sid=104',\n",
       "  'https://n.news.naver.com/mnews/article/052/0001971427?sid=104',\n",
       "  'https://n.news.naver.com/mnews/article/001/0014386453?sid=104',\n",
       "  'https://n.news.naver.com/mnews/article/052/0001971439?sid=104',\n",
       "  'https://n.news.naver.com/mnews/article/005/0001659023?sid=104',\n",
       "  'https://n.news.naver.com/mnews/article/421/0007228675?sid=104',\n",
       "  'https://n.news.naver.com/mnews/article/469/0000774817?sid=104',\n",
       "  'https://n.news.naver.com/mnews/article/015/0004924563?sid=104'],\n",
       " 'section': '세계'}"
      ]
     },
     "execution_count": 51,
     "metadata": {},
     "output_type": "execute_result"
    }
   ],
   "source": [
    "for _ in range(1,7):\n",
    "    print(_, df_menu['section'][_])\n",
    "    get_headline(df_menu['link'][_], df_menu['section'][_])"
   ]
  },
  {
   "cell_type": "code",
   "execution_count": 38,
   "id": "a2df4cf8-451c-49d2-9984-025457a8d6e2",
   "metadata": {},
   "outputs": [],
   "source": [
    "# 컬럼명은 함수에서 반환되는 dict의 key와 동일해야 한다."
   ]
  },
  {
   "cell_type": "code",
   "execution_count": 57,
   "id": "e6b0541f-79b3-40f7-9149-c556c76d5c8c",
   "metadata": {},
   "outputs": [
    {
     "data": {
      "text/html": [
       "<div>\n",
       "<style scoped>\n",
       "    .dataframe tbody tr th:only-of-type {\n",
       "        vertical-align: middle;\n",
       "    }\n",
       "\n",
       "    .dataframe tbody tr th {\n",
       "        vertical-align: top;\n",
       "    }\n",
       "\n",
       "    .dataframe thead th {\n",
       "        text-align: right;\n",
       "    }\n",
       "</style>\n",
       "<table border=\"1\" class=\"dataframe\">\n",
       "  <thead>\n",
       "    <tr style=\"text-align: right;\">\n",
       "      <th></th>\n",
       "      <th>head_line</th>\n",
       "      <th>news_link</th>\n",
       "      <th>section</th>\n",
       "    </tr>\n",
       "  </thead>\n",
       "  <tbody>\n",
       "  </tbody>\n",
       "</table>\n",
       "</div>"
      ],
      "text/plain": [
       "Empty DataFrame\n",
       "Columns: [head_line, news_link, section]\n",
       "Index: []"
      ]
     },
     "execution_count": 57,
     "metadata": {},
     "output_type": "execute_result"
    }
   ],
   "source": [
    "head_df = pd.DataFrame({'head_line':[], 'news_link':[], 'section':[]})\n",
    "head_df"
   ]
  },
  {
   "cell_type": "code",
   "execution_count": 58,
   "id": "639609f8-6e6d-40a5-973d-6a7777b1f228",
   "metadata": {},
   "outputs": [
    {
     "data": {
      "text/html": [
       "<div>\n",
       "<style scoped>\n",
       "    .dataframe tbody tr th:only-of-type {\n",
       "        vertical-align: middle;\n",
       "    }\n",
       "\n",
       "    .dataframe tbody tr th {\n",
       "        vertical-align: top;\n",
       "    }\n",
       "\n",
       "    .dataframe thead th {\n",
       "        text-align: right;\n",
       "    }\n",
       "</style>\n",
       "<table border=\"1\" class=\"dataframe\">\n",
       "  <thead>\n",
       "    <tr style=\"text-align: right;\">\n",
       "      <th></th>\n",
       "      <th>head_line</th>\n",
       "      <th>news_link</th>\n",
       "      <th>section</th>\n",
       "    </tr>\n",
       "  </thead>\n",
       "  <tbody>\n",
       "    <tr>\n",
       "      <th>0</th>\n",
       "      <td>홍준표 \"장제원보다 책임질 사람들 눈 감고 뭉개…판 뒤엎으면 대안 보여\"</td>\n",
       "      <td>https://n.news.naver.com/mnews/article/437/000...</td>\n",
       "      <td>정치</td>\n",
       "    </tr>\n",
       "    <tr>\n",
       "      <th>1</th>\n",
       "      <td>정의당, '새로운 선택' 신당 선언 류호정에 탈당 촉구</td>\n",
       "      <td>https://n.news.naver.com/mnews/article/214/000...</td>\n",
       "      <td>정치</td>\n",
       "    </tr>\n",
       "    <tr>\n",
       "      <th>2</th>\n",
       "      <td>북한 기관지에 등장한 추미애 전 법무부 장관</td>\n",
       "      <td>https://n.news.naver.com/mnews/article/057/000...</td>\n",
       "      <td>정치</td>\n",
       "    </tr>\n",
       "    <tr>\n",
       "      <th>3</th>\n",
       "      <td>[단독]北, 노동자 수백명 러 연해주 추가 파견… 유엔 제재에도 밀착 가속</td>\n",
       "      <td>https://n.news.naver.com/mnews/article/020/000...</td>\n",
       "      <td>정치</td>\n",
       "    </tr>\n",
       "    <tr>\n",
       "      <th>4</th>\n",
       "      <td>尹 “韓-네덜란드 반도체 협력, ‘반도체 동맹’으로 격상될 것”…네덜란드 전투기 호위비행</td>\n",
       "      <td>https://n.news.naver.com/mnews/article/020/000...</td>\n",
       "      <td>정치</td>\n",
       "    </tr>\n",
       "    <tr>\n",
       "      <th>...</th>\n",
       "      <td>...</td>\n",
       "      <td>...</td>\n",
       "      <td>...</td>\n",
       "    </tr>\n",
       "    <tr>\n",
       "      <th>47</th>\n",
       "      <td>모나리자 보려면 3만원…한해 900만명 찾는 루브르 입장료 오른다</td>\n",
       "      <td>https://n.news.naver.com/mnews/article/025/000...</td>\n",
       "      <td>세계</td>\n",
       "    </tr>\n",
       "    <tr>\n",
       "      <th>48</th>\n",
       "      <td>WP “이스라엘군이 10월 레바논에서 쓴 백린탄, 美 공급”…美 “확인할 것”</td>\n",
       "      <td>https://n.news.naver.com/mnews/article/081/000...</td>\n",
       "      <td>세계</td>\n",
       "    </tr>\n",
       "    <tr>\n",
       "      <th>49</th>\n",
       "      <td>일본 총리 큰일 났네…日국민 10명 중 9명이 내뱉은 충격적인 한마디</td>\n",
       "      <td>https://n.news.naver.com/mnews/article/009/000...</td>\n",
       "      <td>세계</td>\n",
       "    </tr>\n",
       "    <tr>\n",
       "      <th>50</th>\n",
       "      <td>\"이스라엘-하마스 인질협상 조만간 재개 가능성\"</td>\n",
       "      <td>https://n.news.naver.com/mnews/article/001/001...</td>\n",
       "      <td>세계</td>\n",
       "    </tr>\n",
       "    <tr>\n",
       "      <th>51</th>\n",
       "      <td>구글의 올해 검색어 레시피 1위는?...한국의 '비빔밥' [앵커리포트]</td>\n",
       "      <td>https://n.news.naver.com/mnews/article/052/000...</td>\n",
       "      <td>세계</td>\n",
       "    </tr>\n",
       "  </tbody>\n",
       "</table>\n",
       "<p>52 rows × 3 columns</p>\n",
       "</div>"
      ],
      "text/plain": [
       "                                            head_line  \\\n",
       "0            홍준표 \"장제원보다 책임질 사람들 눈 감고 뭉개…판 뒤엎으면 대안 보여\"   \n",
       "1                      정의당, '새로운 선택' 신당 선언 류호정에 탈당 촉구   \n",
       "2                            북한 기관지에 등장한 추미애 전 법무부 장관   \n",
       "3           [단독]北, 노동자 수백명 러 연해주 추가 파견… 유엔 제재에도 밀착 가속   \n",
       "4   尹 “韓-네덜란드 반도체 협력, ‘반도체 동맹’으로 격상될 것”…네덜란드 전투기 호위비행   \n",
       "..                                                ...   \n",
       "47               모나리자 보려면 3만원…한해 900만명 찾는 루브르 입장료 오른다   \n",
       "48        WP “이스라엘군이 10월 레바논에서 쓴 백린탄, 美 공급”…美 “확인할 것”   \n",
       "49             일본 총리 큰일 났네…日국민 10명 중 9명이 내뱉은 충격적인 한마디   \n",
       "50                         \"이스라엘-하마스 인질협상 조만간 재개 가능성\"   \n",
       "51            구글의 올해 검색어 레시피 1위는?...한국의 '비빔밥' [앵커리포트]   \n",
       "\n",
       "                                            news_link section  \n",
       "0   https://n.news.naver.com/mnews/article/437/000...      정치  \n",
       "1   https://n.news.naver.com/mnews/article/214/000...      정치  \n",
       "2   https://n.news.naver.com/mnews/article/057/000...      정치  \n",
       "3   https://n.news.naver.com/mnews/article/020/000...      정치  \n",
       "4   https://n.news.naver.com/mnews/article/020/000...      정치  \n",
       "..                                                ...     ...  \n",
       "47  https://n.news.naver.com/mnews/article/025/000...      세계  \n",
       "48  https://n.news.naver.com/mnews/article/081/000...      세계  \n",
       "49  https://n.news.naver.com/mnews/article/009/000...      세계  \n",
       "50  https://n.news.naver.com/mnews/article/001/001...      세계  \n",
       "51  https://n.news.naver.com/mnews/article/052/000...      세계  \n",
       "\n",
       "[52 rows x 3 columns]"
      ]
     },
     "execution_count": 58,
     "metadata": {},
     "output_type": "execute_result"
    }
   ],
   "source": [
    "for _ in range(1,7):\n",
    "    temp = pd.DataFrame(get_headline(df_menu['link'][_], df_menu['section'][_]))\n",
    "    head_df = pd.concat([head_df, temp], axis=0, ignore_index=True) # 컬럼은 동일하게 두고 위아래로 붙여야 하기때문에\n",
    "\n",
    "head_df"
   ]
  },
  {
   "cell_type": "code",
   "execution_count": null,
   "id": "1f0fa6a4-3826-4c77-abe8-30a4621853c7",
   "metadata": {},
   "outputs": [],
   "source": []
  },
  {
   "cell_type": "code",
   "execution_count": null,
   "id": "af04b841-21b2-4523-b18d-568b937a6f84",
   "metadata": {},
   "outputs": [],
   "source": []
  },
  {
   "cell_type": "code",
   "execution_count": null,
   "id": "7dc84b65-10cc-462c-9668-78c92ad8ed1d",
   "metadata": {},
   "outputs": [],
   "source": []
  },
  {
   "cell_type": "code",
   "execution_count": null,
   "id": "929523bb-5738-46cd-b493-a321fb848143",
   "metadata": {},
   "outputs": [],
   "source": []
  }
 ],
 "metadata": {
  "kernelspec": {
   "display_name": "Python 3 (ipykernel)",
   "language": "python",
   "name": "python3"
  },
  "language_info": {
   "codemirror_mode": {
    "name": "ipython",
    "version": 3
   },
   "file_extension": ".py",
   "mimetype": "text/x-python",
   "name": "python",
   "nbconvert_exporter": "python",
   "pygments_lexer": "ipython3",
   "version": "3.8.10"
  }
 },
 "nbformat": 4,
 "nbformat_minor": 5
}
