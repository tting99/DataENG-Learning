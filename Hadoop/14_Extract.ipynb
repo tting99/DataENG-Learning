{
 "cells": [
  {
   "cell_type": "code",
   "execution_count": 1,
   "id": "b50d6624",
   "metadata": {},
   "outputs": [],
   "source": [
    "# !pip install hdfs\n",
    "# ref : https://hdfscli.readthedocs.io/en/latest/quickstart.html#python-bindings"
   ]
  },
  {
   "cell_type": "code",
   "execution_count": 2,
   "id": "96d45deb",
   "metadata": {},
   "outputs": [],
   "source": [
    "from hdfs import InsecureClient # 하둡 서버와 연결하는 클라리언트 객체 모듈\n",
    "# InsecureClient라는 것이 하둡서버와 연결하는 클라리언트 객체 모듈\n",
    "# 이 용도는 hdfs접근에만 한함\n",
    "\n",
    "import requests\n",
    "# 웹 api를 사용하기 위해\n",
    "\n",
    "import json #제이슨기능사용을 위해\n",
    "import datetime as dt"
   ]
  },
  {
   "cell_type": "markdown",
   "id": "d9ab96cc-7385-4dd3-b957-c78ca68d9025",
   "metadata": {},
   "source": [
    "## 코로나 data Pipleline\n",
    "1. 데이터 수집 후 dw인 hdfs에 저장 : 현재 note에서 프로그래밍\n",
    "2. dw에 있는 data를 가공 처리해서 dw db에 저장 : 15번, 16 노트에서 진행\n",
    "3. dw db에 있는 data를 가공 처리 해서 dm db에 저장 : 15, 17번 노트"
   ]
  },
  {
   "cell_type": "markdown",
   "id": "e85aa344-57a6-4c62-86f9-314d6d24e175",
   "metadata": {},
   "source": [
    "### DataW에 DataL(web으로 간주)의 필요 data를 이동 저장 단계\r\n",
    "- Lake에서 HDFS로 이동 저장\r\n",
    "1. corona 발생현환(일간데이터) : api 수집\r\n",
    "2. corona 예방접종현황(일간데이터) : web 페이지 크롤링\r\n",
    "3. 인구 사회 데이터 : 파일 데이터\r\n",
    "- 1,2 번 데이터는 Json 형식으로 변환 후 hdfs에 저장\r\n",
    "- 3번 데이터는 파일 그대로 hdfs에 저장"
   ]
  },
  {
   "cell_type": "markdown",
   "id": "3510a91b-32c1-45a6-950a-faa12c3a1c23",
   "metadata": {},
   "source": [
    "## HDFS handle\n",
    "- hdfs의 node들의 관리 서버는 localhost:9800이다.\n",
    "- http 연결 웹 이용 서버 연결은 http://localhost:9870(이게 기본값임)"
   ]
  },
  {
   "cell_type": "code",
   "execution_count": 3,
   "id": "773810cc-a76d-47c3-b9e6-daa0231b2462",
   "metadata": {},
   "outputs": [],
   "source": [
    "## hdfs client 연결 객체 생성\n",
    "# InsecureClient(연결할 hdfs 서버 주소:포트, user = 사용자계정)\n",
    "client = InsecureClient('http://localhost:9870', user = 'root')"
   ]
  },
  {
   "cell_type": "markdown",
   "id": "b712a763",
   "metadata": {},
   "source": [
    "## hdfs로 부터 읽기"
   ]
  },
  {
   "cell_type": "code",
   "execution_count": 4,
   "id": "288a6f6e-beb8-407c-bf0d-fc3ca74a0687",
   "metadata": {},
   "outputs": [],
   "source": [
    "# client 객체 사용 file 읽어오기\n",
    "# hdfsclient.read(파일명) : 해당파일에 대해 읽기위한연결을 생성\n",
    "# 생성객체.read() # byte코드로 읽어온다.\n",
    "with client.read('/rdd/score.txt') as reader :\n",
    "    score = reader.read()"
   ]
  },
  {
   "cell_type": "code",
   "execution_count": 5,
   "id": "8f1e464f-b081-4507-a1d9-ee9c359107b5",
   "metadata": {},
   "outputs": [
    {
     "data": {
      "text/plain": [
       "b'\\xea\\xb9\\x80\\xec\\xb2\\xa0\\xec\\x88\\x98 \\xec\\x8a\\xa4\\xed\\x8c\\x8c\\xed\\x81\\xac 50\\r\\n\\xed\\x99\\x8d\\xea\\xb8\\xb8\\xeb\\x8f\\x99 \\xec\\x8a\\xa4\\xed\\x8c\\x8c\\xed\\x81\\xac 80\\r\\n\\xec\\x9e\\x84\\xea\\xba\\xbd\\xec\\xa0\\x95 \\xec\\x8a\\xa4\\xed\\x8c\\x8c\\xed\\x81\\xac 60\\r\\n\\xec\\x9e\\x84\\xec\\x9a\\x94\\xed\\x99\\x98 \\xed\\x85\\x90\\xec\\x84\\x9c\\xed\\x94\\x8c\\xeb\\xa1\\x9c\\xec\\x9a\\xb0 100\\r\\n\\xed\\x99\\x8d\\xec\\xa7\\x84\\xed\\x98\\xb8 \\xed\\x85\\x90\\xec\\x84\\x9c\\xed\\x94\\x8c\\xeb\\xa1\\x9c\\xec\\x9a\\xb0 22\\r\\n\\xed\\x99\\x8d\\xec\\xa7\\x84\\xed\\x98\\xb8 \\xed\\x85\\x90\\xec\\x84\\x9c\\xed\\x94\\x8c\\xeb\\xa1\\x9c\\xec\\x9a\\xb0 22\\r\\n\\xec\\x9d\\xb4\\xec\\x9c\\xa4\\xec\\x97\\xb4 \\xed\\x85\\x90\\xec\\x84\\x9c\\xed\\x94\\x8c\\xeb\\xa1\\x9c\\xec\\x9a\\xb0 90\\r\\n\\xec\\xb5\\x9c\\xec\\x97\\xb0\\xec\\x84\\xb1 \\xec\\x9e\\xa5\\xea\\xb3\\xa0 100'"
      ]
     },
     "execution_count": 5,
     "metadata": {},
     "output_type": "execute_result"
    }
   ],
   "source": [
    "score"
   ]
  },
  {
   "cell_type": "code",
   "execution_count": 6,
   "id": "890bb35b",
   "metadata": {},
   "outputs": [
    {
     "name": "stdout",
     "output_type": "stream",
     "text": [
      "김철수 스파크 50\n",
      "홍길동 스파크 80\n",
      "임꺽정 스파크 60\n",
      "임요환 텐서플로우 100\n",
      "홍진호 텐서플로우 22\n",
      "홍진호 텐서플로우 22\n",
      "이윤열 텐서플로우 90\n",
      "최연성 장고 100\n"
     ]
    }
   ],
   "source": [
    "# 바이트코드 변환 가이드:\n",
    "# -> https://docs.python.org/ko/3/library/stdtypes.html#bytes-and-bytearray-operations\n",
    "\n",
    "score_data = bytes.decode(score)\n",
    "print(score_data)\n"
   ]
  },
  {
   "cell_type": "markdown",
   "id": "82ef087e",
   "metadata": {},
   "source": [
    "## hdfs에 쓰기"
   ]
  },
  {
   "cell_type": "markdown",
   "id": "207cff28-99c6-4586-abe0-cc973591f866",
   "metadata": {},
   "source": [
    "- hdd(note 디렉터리)에 있는 data를 hdfs로 이동\n",
    "- 1. 로컬 데이터 파일을 열기\n",
    "- 2. hdfs client 통해서 쓰기 모듈 사용 등록\n",
    "- 3. 로컬 파일의 내용을 한줄씩 읽어서 -> hdfs에 쓰기\n",
    "\n",
    "- open('./data/corona_data/sido_area.csv',encoding='CP949') <- 얘는 로컬에 연결되어 있는것.\n",
    "-  client.write('/corona_data/sido_area_tmp.csv') as writer: <- 얘는 하둡 hdfs에 연결되어 있는것.\n"
   ]
  },
  {
   "cell_type": "code",
   "execution_count": 9,
   "id": "3a03a563-71cc-4d4c-9a62-dcb9c4ca8167",
   "metadata": {},
   "outputs": [],
   "source": [
    "# 이것 실행해야함\n",
    "# with open('./data/corona_data/sido_area.csv',encoding='CP949') as reader, client.write('/corona_data/sido_area_tmp.csv') as writer:\n",
    "#     for line in reader :\n",
    "#         writer.write(line.encode('CP949'))"
   ]
  },
  {
   "cell_type": "code",
   "execution_count": 8,
   "id": "d7a45228",
   "metadata": {},
   "outputs": [],
   "source": [
    "# # 폴더 째로 전송 - hdfs.upload(저장할곳, 원본)\n",
    "# client.upload('/corona_data/loc', './data/corona_data')"
   ]
  },
  {
   "cell_type": "code",
   "execution_count": 7,
   "id": "f6b7dc99-586a-4857-92ea-f3c12f4a07e1",
   "metadata": {},
   "outputs": [],
   "source": [
    "# 폴더를 옮기는것도 했었음.\n",
    "# 옮길 주체 폴더 안으로 들어와서 옮길 위치로 보낸다.\n",
    "# 옮길폴더 안에서 진행\n",
    "# hdfs dfs -copyFromLocal . /corona_data"
   ]
  },
  {
   "cell_type": "markdown",
   "id": "2925af9e",
   "metadata": {},
   "source": [
    "## hdfs에 수정하기\r\n",
    "- hdfs.client.write(파일명,'수정내용', append=True)"
   ]
  },
  {
   "cell_type": "code",
   "execution_count": 10,
   "id": "0f64f640",
   "metadata": {},
   "outputs": [],
   "source": [
    "# client.write('/rdd/score.txt','최연성 장고 100'.encode('UTF-8'),append=True)"
   ]
  },
  {
   "cell_type": "code",
   "execution_count": 11,
   "id": "d083aaa9-572a-4012-b075-d261e70c4599",
   "metadata": {},
   "outputs": [
    {
     "name": "stdout",
     "output_type": "stream",
     "text": [
      "김철수 스파크 50\n",
      "홍길동 스파크 80\n",
      "임꺽정 스파크 60\n",
      "임요환 텐서플로우 100\n",
      "홍진호 텐서플로우 22\n",
      "홍진호 텐서플로우 22\n",
      "이윤열 텐서플로우 90\n",
      "최연성 장고 100\n"
     ]
    }
   ],
   "source": [
    "# 추가되었나 확인\n",
    "\n",
    "with client.read('/rdd/score.txt') as reader :\n",
    "    score = reader.read()\n",
    "score_data = bytes.decode(score)\n",
    "print(score_data)\n"
   ]
  },
  {
   "cell_type": "markdown",
   "id": "eb095c70",
   "metadata": {},
   "source": [
    "## hdfs 권한 수정"
   ]
  },
  {
   "cell_type": "code",
   "execution_count": 12,
   "id": "9826da16",
   "metadata": {},
   "outputs": [],
   "source": [
    "# client.set_permission('/corona_data/loc','777')"
   ]
  },
  {
   "cell_type": "markdown",
   "id": "6a1672dc",
   "metadata": {},
   "source": [
    "## hdfs 삭제"
   ]
  },
  {
   "cell_type": "code",
   "execution_count": 13,
   "id": "c8cd2e28",
   "metadata": {
    "scrolled": true
   },
   "outputs": [],
   "source": [
    "# client.delete('/corona_data/loc/sido_area.xlsx')"
   ]
  },
  {
   "cell_type": "markdown",
   "id": "bebebcb2-8e90-4361-9797-babd84e4644f",
   "metadata": {},
   "source": [
    "## 코로나 발생현황 데이터와 코로나 백신 형황 데이터 수집 및 dw에 저장"
   ]
  },
  {
   "cell_type": "markdown",
   "id": "cef63c2e-e1a1-4668-b7f9-93da1fce38ed",
   "metadata": {},
   "source": [
    "### 공공데이터 REST_API 통해서 데이터 수집 후 hdfs에 저장\n",
    "1. 일간 코로나 발생 데이터(전국)"
   ]
  },
  {
   "cell_type": "markdown",
   "id": "1a63d843",
   "metadata": {},
   "source": [
    "## REST_API로 데이터를 호출해 HDFS에 저장\n",
    "- restapi 연결을 위한 객체 생성 : request모듈 사용할것\n",
    "  - 함수로 구성할것\n",
    "- 일간 데이터이기 때문에 어느시점 데이터를 다운받을 것인지\n",
    "  - 시점생성 함수를 만들것이다"
   ]
  },
  {
   "cell_type": "code",
   "execution_count": 14,
   "id": "58f6aa36",
   "metadata": {},
   "outputs": [],
   "source": [
    "def executeRestApi(method, url, headers, params):  \n",
    "    \n",
    "    # raise Exception('응답코드 : 500')  # 예외 테스트\n",
    "    # err_num = 10/0 # 예외 테스트\n",
    "    if method == \"get\":\n",
    "        res = requests.get(url, params=params, headers=headers)\n",
    "    else:\n",
    "        res = requests.post(url, data=params, headers=headers)\n",
    "\n",
    "    if res == None or res.status_code != 200:\n",
    "        raise Exception('응답코드 : ' + str(res.status_code))\n",
    "       \n",
    "    return res.text\n",
    "\n"
   ]
  },
  {
   "cell_type": "markdown",
   "id": "ffc3de26",
   "metadata": {},
   "source": [
    "### 기준일자 함수"
   ]
  },
  {
   "cell_type": "code",
   "execution_count": 15,
   "id": "32ba1811",
   "metadata": {},
   "outputs": [],
   "source": [
    "# 현재 날짜로부터 befor_day 만큼 이전의 날짜를 생성해주는 함수\n",
    "def cal_std_day(befor_day):   \n",
    "    x = dt.datetime.now() - dt.timedelta(befor_day) # 현재보다 며칠 떨어진..\n",
    "    year = x.year\n",
    "    month = x.month if x.month >= 10 else '0'+ str(x.month)\n",
    "    day = x.day if x.day >= 10 else '0'+ str(x.day)  \n",
    "    return str(year)+ '-' +str(month)+ '-' +str(day)"
   ]
  },
  {
   "cell_type": "code",
   "execution_count": 16,
   "id": "b961e60b-1111-41a1-ac99-fff24dc44471",
   "metadata": {},
   "outputs": [
    {
     "data": {
      "text/plain": [
       "'2023-06-10'"
      ]
     },
     "execution_count": 16,
     "metadata": {},
     "output_type": "execute_result"
    }
   ],
   "source": [
    "cal_std_day(200)"
   ]
  },
  {
   "cell_type": "markdown",
   "id": "d496c812",
   "metadata": {},
   "source": [
    "### logger 사용\r\n",
    "- log를 기록해주는 객체(관련 패키지 존재 : logging)\r\n",
    "- 외부 연결 시 오류상태 확인 위해서 사용자 정의 log 사용 가능해야 함\r\n",
    "- restapi는 외부 서버 연결이므로 log 기록\r\n",
    "- 로그 관련 디렉터리 필요\r\n",
    "    1. 로그 관련 패키지 import (import logging)\r\n",
    "    2. 로그 관리 객체 logger 생성 (logging.getLogger('로거이름'))\r\n",
    "    3. 로그 파일 핸들러 생성 (logging.FileHandler('로그파일명.log'))\r\n",
    "    4. 로거에 파일핸들러 추가(logger.addHandler(파일핸들러객체명))"
   ]
  },
  {
   "cell_type": "code",
   "execution_count": 17,
   "id": "1da09d80-a5e6-4a43-a66c-de9f51a2a35e",
   "metadata": {},
   "outputs": [],
   "source": [
    "# 해당 디렉토리에 log, rest_api 폴더 만들기"
   ]
  },
  {
   "cell_type": "code",
   "execution_count": 19,
   "id": "ba9ddc6a",
   "metadata": {},
   "outputs": [],
   "source": [
    "import logging"
   ]
  },
  {
   "cell_type": "markdown",
   "id": "d48ad983-f758-4fb1-b261-3e43efc0894b",
   "metadata": {},
   "source": [
    "- 아래 log 만드는 코드 프로젝트나 자동화 진행시에는 함수로 생성하는게 일반적\n",
    "  "
   ]
  },
  {
   "cell_type": "code",
   "execution_count": 20,
   "id": "71f31a75-7878-4940-919d-7f5ca30addd1",
   "metadata": {},
   "outputs": [],
   "source": [
    "co_logger = logging.getLogger('corona_api')\n",
    "f_handler = logging.FileHandler('./log/rest_api/'+cal_std_day(0)+'.log')\n",
    "co_logger.addHandler(f_handler)"
   ]
  },
  {
   "cell_type": "code",
   "execution_count": 21,
   "id": "a6e7b30c",
   "metadata": {},
   "outputs": [],
   "source": [
    "# # 이렇게 문자열로 찍을 수도 있음\n",
    "# # json양식으로 log를 저장하면 다음에 읽어와서 처리하기도 편하다.\n",
    "# # 에러 내보자\n",
    "# co_logger.error('corona_patient_'+cal_std_day(0)+'.json 다운로드 실패')"
   ]
  },
  {
   "cell_type": "markdown",
   "id": "edb76a15-df42-4a98-977d-ec1482de95f1",
   "metadata": {},
   "source": [
    "- 위에서 강제 발생시킨 에러에 대한 log는 ./log/rest_api/'+cal_std_day(0)+'.log 로그 파일에서 확인해야 함"
   ]
  },
  {
   "cell_type": "markdown",
   "id": "7a4dda89",
   "metadata": {},
   "source": [
    "### api 호출"
   ]
  },
  {
   "cell_type": "code",
   "execution_count": 22,
   "id": "04dee724-85d0-448c-a0e1-e2b05fb960bc",
   "metadata": {},
   "outputs": [],
   "source": [
    "# api 호출을 위해 url, 서비스키, 파일dir을 등록해줘야 한다."
   ]
  },
  {
   "attachments": {
    "e0d6e752-7d73-48c3-852a-e08e99066bf5.png": {
     "image/png": "[encoded data removed]"
    }
   },
   "cell_type": "markdown",
   "id": "8d8a173a-b84c-4bca-a876-4c46c509a240",
   "metadata": {},
   "source": [
    "![image.png](attachment:e0d6e752-7d73-48c3-852a-e08e99066bf5.png)"
   ]
  },
  {
   "cell_type": "code",
   "execution_count": 23,
   "id": "22ce26ed",
   "metadata": {},
   "outputs": [],
   "source": [
    "url = 'http://apis.data.go.kr/1352000/ODMS_COVID_04/callCovid04Api'\n",
    "service_key = 'VqJLPgDfOUAcrj39LVDIRFBxHaVxxHH5evGi8h5tzgWfKHTfGzpiiASojBp23VlHpqvH%2B8RfCeylzXeIxwLEyA%3D%3D'\n",
    "file_dir = '/corona_data/patient/' # 지금 api로 가져오는 데이터를 여기에 밀어넣을것이다."
   ]
  },
  {
   "attachments": {
    "dfd68407-f3ea-456b-9afc-62f8695c6a2c.png": {
     "image/png": "[encoded data removed]"
    }
   },
   "cell_type": "markdown",
   "id": "e3900fd7-77e9-4dbc-b4ff-c943d4d66942",
   "metadata": {},
   "source": [
    "![image.png](attachment:dfd68407-f3ea-456b-9afc-62f8695c6a2c.png)"
   ]
  },
  {
   "cell_type": "code",
   "execution_count": 24,
   "id": "8972fd62-3381-4ef2-82ac-243af60c9480",
   "metadata": {},
   "outputs": [],
   "source": [
    "# std_day : 오늘부터 얼마나 이전 데이터인지 나타냄, 0 : 당일 / 1 : 어제 / 365 : 1년전\n",
    "def create_param(std_day) : \n",
    "    return {'serviceKey' : service_key\n",
    "            ,'pageNo' : 1\n",
    "            ,'numOfRows' : '500'\n",
    "            ,'apiType' : 'JSON'\n",
    "            ,'std_day' : cal_std_day(std_day)}"
   ]
  },
  {
   "cell_type": "code",
   "execution_count": 25,
   "id": "80277133-5f27-4832-99ca-1554d12f4a4d",
   "metadata": {},
   "outputs": [
    {
     "data": {
      "text/plain": [
       "{'serviceKey': 'VqJLPgDfOUAcrj39LVDIRFBxHaVxxHH5evGi8h5tzgWfKHTfGzpiiASojBp23VlHpqvH%2B8RfCeylzXeIxwLEyA%3D%3D',\n",
       " 'pageNo': 1,\n",
       " 'numOfRows': '500',\n",
       " 'apiType': 'JSON',\n",
       " 'std_day': '2022-12-27'}"
      ]
     },
     "execution_count": 25,
     "metadata": {},
     "output_type": "execute_result"
    }
   ],
   "source": [
    "create_param(365)"
   ]
  },
  {
   "cell_type": "markdown",
   "id": "13c7f676-0385-4d32-bc19-3c1c39d0d0b8",
   "metadata": {},
   "source": [
    "### 수집관련 코드\n",
    "- 얘들도 함수로 구성이 필요하다"
   ]
  },
  {
   "cell_type": "code",
   "execution_count": 26,
   "id": "f7da4be8-df18-45d1-a5cb-602d4eb7420c",
   "metadata": {},
   "outputs": [],
   "source": [
    "# for i in range(365,367) : # 이틀치 가져오기\n",
    "#     params = create_param(i) # api 요청 파라미터 생성\n",
    "#     log_dict={\n",
    "#         \"is_sucess\":\"Fail\"\n",
    "#        ,\"type\":\"corona_patient\"\n",
    "#        ,\"std_day\":params['std_day']\n",
    "#        ,\"params\" :params\n",
    "#     }\n",
    "#     try:\n",
    "#         res = executeRestApi('get', url,{}, params) # 공공데이터 api에서 data 추출\n",
    "#         file_name='corona_patient_'+cal_std_day(i)+'.json' # 저장 파일명 생성\n",
    "#         client.write(file_dir+file_name,res,encoding='utf=8') # hdfs에 저장\n",
    "#     except Exception as e :\n",
    "#         log_dict['err_msg']= e.__str__() # Exception객체 내 에러메시지를 반환해서 로그에추가\n",
    "#         log_json = json.dumps(log_dict, ensure_ascill=False) # json형태로 기록\n",
    "#         co_logger.error(log_json) # 파라미터에 들어온 문자열을 로그에 기록하는 함수\n",
    "        "
   ]
  },
  {
   "cell_type": "markdown",
   "id": "d2aa6da9-83ae-4aa3-bd08-7c6f59d559ad",
   "metadata": {},
   "source": [
    "## 코로나 백신 접종 현황 데이터\n",
    "#### 보건 복지부 제공 웹페이지 통해서 데이터 수집 후 hdfs에 저장\n",
    "1. 일간 코로나 발생 데이터(전국)\n",
    "- 매일 업로드되고 있기때문에 가능"
   ]
  },
  {
   "cell_type": "markdown",
   "id": "1c03b62d",
   "metadata": {},
   "source": [
    "## 웹크롤링 hdfs 저장\n",
    "- 예방접종 현황(백신 접종 현황)\n",
    "- JSON 형태로 구성 후 HDFS에 저장"
   ]
  },
  {
   "cell_type": "code",
   "execution_count": 29,
   "id": "aaa536d8-d47c-46bc-b078-d32b1a6afc2c",
   "metadata": {},
   "outputs": [],
   "source": [
    "# pip install BeautifulSoup4\n",
    "from bs4 import BeautifulSoup"
   ]
  },
  {
   "cell_type": "code",
   "execution_count": 30,
   "id": "cb02c77d-b710-4e82-b0c5-f6c2091e64eb",
   "metadata": {},
   "outputs": [],
   "source": [
    "url = 'https://ncv.kdca.go.kr/mainStatus.es?mid=a11702000000'"
   ]
  },
  {
   "cell_type": "code",
   "execution_count": 31,
   "id": "cf9b3f2b-4a19-4898-8576-4fc3e2880cc8",
   "metadata": {},
   "outputs": [
    {
     "data": {
      "text/plain": [
       "'\\r\\n\\r\\n\\r\\n\\r\\n\\r\\n\\r\\n\\r\\n\\r\\n\\r\\n\\r\\n\\r\\n\\r\\n\\r\\n\\r\\n\\r\\n    <!DOCTYPE html>\\r\\n\\r\\n\\r\\n\\r\\n\\r\\n<html lang=\"ko\">\\r\\n<head>\\r\\n<title>질병관리청 코로나19 백신 및 예방접종 : National Center for Mental Health</title>\\r\\n<meta charset=\"UTF-8\" />\\r\\n<meta http-equiv=\"X-UA-Compatible\" content=\"IE=edge\" />\\r\\n<meta name=\"referrer\" content=\"strict-origin-when-cross-origin\"/>\\r\\n<!-- https를 사용하여 웹사이트가 같을 때는 전체주소, 다를 때는 도메인 주소만 남긴다.\\r\\nhttp를 사용하는 웹사이트에는 주소를 남기지 않는다. -->\\r\\n<meta name=\"viewport\" content=\"width=device-width,initial-scale=1.0,minimum-scale=1.0,user-scalable=yes\" />\\r\\n\\r\\n\\t<meta name=\"author\" content=\"코로나19 백신 및 예방접종\">\\r\\n\\t<meta name=\"keywords\" content=\"코로나19 백신 및 예방접종, 백신, 접종, 백신접종, 백신허가, 예방접종, 코로나백신, 코로나-19백신, 코로나접종, 코로나예방접종, 질병청, 질병관리청\">\\r\\n\\t<meta name=\"description\" content=\"질병관리청 코로나19 백신 및 예방접종 정보안내\" >\\r\\n\\t<meta name=\"copyright\" content=\"질병관리청 코로나19 백신 및 예방접종 : National Center for Mental Health\">\\r\\n\\r\\n\\t<meta property=\"og:url\" content=\"http://ncv.kdca.go.kr\">\\r\\n\\t<meta property=\"og:image\" content=\"/kor/img/header/homeimg.png\">\\r\\n\\t<meta property=\"og:type\" content=\"website\">\\r\\n\\t<meta property=\"og:site_name\" content=\"코로나19 백신 및 예방접종\">\\r\\n\\t<meta property=\"og:locale\" content=\"ko\">\\r\\n\\t<meta property=\"og:title\" content=\"코로나19 백신 및 예방접종\">\\r\\n\\t<meta property=\"og:description\" content=\"질병관리청 코로나19 백신 및 예방접종 정보안내\" >\\r\\n\\t<meta property=\"og:country-name\" content=\"korea, south korea, republic of korea\">\\r\\n\\r\\n\\t<link rel=\"icon\" type=\"image/png\" sizes=\"64x64\" href=\"/kor/img/header/ROK.png\">\\r\\n\\r\\n\\r\\n<!-- 서브 CSS -->\\r\\n\\t<link rel=\"stylesheet\" href=\"/kor/css/ncv_common.css?ver=20211215\">\\r\\n\\t<link rel=\"stylesheet\" href=\"/kor/css/ncv_component.css?ver=20220725\">\\r\\n\\t<link rel=\"stylesheet\" href=\"/kor/css/ncv_content.css\">\\r\\n\\t<link rel=\"stylesheet\" href=\"/kor/css/lightslider.min.css\">\\r\\n\\t\\r\\n\\t\\r\\n\\r\\n<!-- 공통 JS -->\\r\\n\\t<script src=\"/kor/js/jquery-1.11.2.min.js\"></script>\\r\\n\\t<script src=\"/js/global.js\"></script>\\r\\n\\r\\n<!-- 서브 JS -->\\r\\n\\t<script src=\"/kor/js/lightslider.min.js\"></script>\\r\\n\\t<script src=\"/kor/js/ncv_common.js?ver=20211014\"></script>\\r\\n\\t\\r\\n<script src=\"/kor/js/lib/ScrollMagic.min.js\"></script>\\r\\n\\t<script src=\"/kor/js/lib/jquery.mCustomScrollbar.concat.min.js\"></script>\\r\\n\\t<script src=\"/ease_src/sEditor/js/HuskyEZCreator.js\" charset=\"UTF-8\"></script>\\r\\n\\r\\n\\t\\r\\n\\r\\n</head>\\r\\n<body>\\r\\n\\r\\n<div id=\"wrap\">\\r\\n\\r\\n\\t<ul class=\"top_skipmenu\">\\r\\n\\t\\t<li><a href=\"#content\">본문 바로가기</a></li>\\r\\n\\t</ul>\\r\\n\\r\\n\\t<div class=\"w_catch\">\\r\\n\\t\\t<div class=\"wc_p t_dp_n m_dp_n\"><span class=\"hdn\">너비 1180px 이상</span></div>\\r\\n\\t\\t<div class=\"wc_t p_dp_n m_dp_n\"><span class=\"hdn\">너비 768px - 1179px</span></div>\\r\\n\\t\\t<div class=\"wc_m p_dp_n t_dp_n\"><span class=\"hdn\">너비 767px 이하</span></div>\\r\\n\\t</div>\\r\\n\\r\\n\\t<header id=\"header\" class=\"header\">\\r\\n\\t\\t<div class=\"container\">\\r\\n\\t\\t\\t<div class=\"logo\">\\r\\n\\t\\t\\t<h1>\\r\\n\\t\\t\\t\\t<a href=\"/\">코로나19<span>예방접종</span></a>\\r\\n\\t\\t\\t</h1>\\r\\n\\t\\t\\t</div>\\r\\n\\t\\t\\t<div class=\"toplinkArea\">\\r\\n\\t\\t\\t\\t<ul class=\"shim\">\\r\\n\\t\\t\\t\\t\\t<li><a href=\"http://ncov.kdca.go.kr/\" target=\"_blank\" rel = \"noopener noreferrer\"  title=\"새창\">코로나바이러스감염증-19</a></li>\\r\\n\\t\\t\\t\\t\\t<li><a href=\"http://www.mohw.go.kr/\" target=\"_blank\" rel = \"noopener noreferrer\" title=\"새창\">중앙사고수습본부</a></li>\\r\\n\\t\\t\\t\\t\\t<li><a href=\"http://www.kdca.go.kr/\" target=\"_blank\" rel = \"noopener noreferrer\" title=\"새창\">중앙방역대책본부</a></li>\\r\\n\\t\\t\\t\\t</ul>\\r\\n\\t\\t\\t\\t<ul class=\"sns\">\\r\\n\\t\\t\\t\\t\\t<li class=\"facebook\"><a href=\"http://www.facebook.com/koreadca\" target=\"_blank\" rel = \"noopener noreferrer\" title=\"질병관리청 페이스북으로 새창\">페이스북</a></li>\\r\\n\\t\\t\\t\\t\\t<li class=\"youtube\"><a href=\"https://youtube.com/channel/UCa7-3Zvxg-5Rfxgu3RQY_gw\" target=\"_blank\" rel = \"noopener noreferrer\" title=\"질병관리청 유튜브 새창\">유튜브</a></li>\\r\\n\\t\\t\\t\\t\\t<li class=\"post\"><a href=\"https://post.naver.com/my.nhn?memberNo=20182790\" target=\"_blank\" rel = \"noopener noreferrer\" title=\"질병관리청 포스트 새창\">포스트</a></li>\\r\\n\\t\\t\\t\\t\\t<li class=\"twitter\"><a href=\"http://twitter.com/koreadca\" target=\"_blank\" rel = \"noopener noreferrer\" title=\"질병관리청 트위터 새창\">트위터</a></li>\\r\\n\\t\\t\\t\\t</ul>\\r\\n\\t\\t\\t\\t<ul class=\"lang\">\\r\\n\\t\\t\\t\\t\\t<li class=\"eng\"><a href=\"/eng\"><i class=\"xi-globus\"></i>ENG<span class=\"hdn\">영문 바로가기</span></a></li>\\r\\n\\t\\t\\t\\t</ul>\\r\\n\\r\\n\\t\\t\\t\\t<div class=\"search_wrap\">\\r\\n\\t\\t\\t\\t\\t<div class=\"search_area\">\\r\\n\\t\\t\\t\\t\\t\\t<label for=\"searchText\" class=\"hdn\">검색어</label>\\r\\n\\t\\t\\t\\t\\t\\t<input id=\"searchText\" type=\"text\" placeholder=\"검색어 입력\">\\r\\n\\t\\t\\t\\t\\t\\t<button id=\"searchBtn\" class=\"srch_btn\"><img src=\"/kor/img/common/search_icon_img.png\" alt=\"\"><span class=\"hdn\">검색</span></button>\\r\\n\\t\\t\\t\\t\\t</div>\\r\\n\\t\\t\\t\\t\\t<button class=\"srch_open\"><img src=\"/kor/img/common/search_icon_img2.png\" alt=\"\"><span class=\"hdn\">검색영역 열기</span></button>\\r\\n\\t\\t\\t\\t\\t<button class=\"srch_close\"><img src=\"/kor/img/common/close_icon.png\" alt=\"\"><span class=\"hdn\">검색영역 닫기</span></button>\\r\\n\\t\\t\\t\\t</div>\\r\\n\\t\\t\\t</div>\\r\\n\\r\\n\\t\\t\\t<div class=\"gnbArea\">\\r\\n\\r\\n\\t\\t\\t<div>\\r\\n\\t\\t\\t\\t<nav id=\"head_menu\" class=\"gnb\">\\r\\n\\t\\t\\t\\t\\t\\r\\n\\t\\t\\t\\t\\t\\n\\n<ul class=\"topmenu_all\">\\n\\t<li class=\"lnb1 mnfirst\">\\n\\t\\t<a href=\"/menu.es?mid=a10116000000\">바로알기</a>\\n\\t\\t<div class=\"submenu\">\\n\\t\\t\\t<ul class=\"sub01\">\\n\\t\\t\\t\\t<li class=\"sub16 subfirst\"><a href=\"/menu.es?mid=a10116010000\">코로나19 예방접종은 왜 해야 하나요?</a>\\n\\t\\t\\t\\t</li>\\n\\t\\t\\t\\t<li class=\"sub19\"><a href=\"/menu.es?mid=a10119000000\">우리나라에는 어떤 백신이 들어오나요?</a>\\n\\t\\t\\t\\t</li>\\n\\t\\t\\t\\t<li class=\"sub23\"><a href=\"/menu.es?mid=a10123000000\">코로나19 백신의 유통, 운송체계는 어떻게 되나요?</a>\\n\\t\\t\\t\\t</li>\\n\\t\\t\\t\\t<li class=\"sub17\"><a href=\"/menu.es?mid=a10117010000\">코로나19 예방접종, 언제 어디서 할 수 있나요?</a>\\n\\t\\t\\t\\t</li>\\n\\t\\t\\t\\t<li class=\"sub24 sublast\"><a href=\"/menu.es?mid=a10124010000\">소아·청소년 예방접종</a>\\n\\t\\t\\t\\t</li>\\n\\t\\t\\t</ul>\\n\\t\\t</div>\\n\\t</li>\\n\\t<li class=\"lnb3\">\\n\\t\\t<a href=\"/menu.es?mid=a11702000000\">예방접종 현황</a>\\n\\t\\t<div class=\"submenu\">\\n\\t\\t\\t<ul class=\"sub17\">\\n\\t\\t\\t\\t<li class=\"sub02 subfirst\"><a href=\"/menu.es?mid=a11702000000\">시도별 접종 현황</a>\\n\\t\\t\\t\\t</li>\\n\\t\\t\\t\\t<li class=\"sub18\"><a href=\"/menu.es?mid=a11718000000\">연령별 접종 현황</a>\\n\\t\\t\\t\\t</li>\\n\\t\\t\\t\\t<li class=\"sub09\"><a href=\"/menu.es?mid=a11709010000\">코로나19 예방접종 전화예약 운영 현황</a>\\n\\t\\t\\t\\t</li>\\n\\t\\t\\t\\t<li class=\"sub15\"><a href=\"/menu.es?mid=a11715000000\">소아·영유아용 코로나19 백신접종기관</a>\\n\\t\\t\\t\\t</li>\\n\\t\\t\\t\\t<li class=\"sub20 sublast\"><a href=\"/menu.es?mid=a11720000000\">코로나19 예방접종기관</a>\\n\\t\\t\\t\\t</li>\\n\\t\\t\\t</ul>\\n\\t\\t</div>\\n\\t</li>\\n\\t<li class=\"lnb4\">\\n\\t\\t<a href=\"/menu.es?mid=a12601030000\">이상반응</a>\\n\\t\\t<div class=\"submenu\">\\n\\t\\t\\t<ul class=\"sub26\">\\n\\t\\t\\t\\t<li class=\"sub01 subfirst\"><a href=\"/menu.es?mid=a12601010000\">예방접종 후 주요 이상반응</a>\\n\\t\\t\\t\\t</li>\\n\\t\\t\\t\\t<li class=\"sub04\"><a href=\"/menu.es?mid=a12604000000\">12~18세 예방접종의 안전성</a>\\n\\t\\t\\t\\t</li>\\n\\t\\t\\t\\t<li class=\"sub05\"><a href=\"/menu.es?mid=a12601030000\">심근염ㆍ심낭염 진단가능 의료기관</a>\\n\\t\\t\\t\\t</li>\\n\\t\\t\\t\\t<li class=\"sub07\"><a href=\"/menu.es?mid=a12607000000\">소아심장세부전문의 근무 병원</a>\\n\\t\\t\\t\\t</li>\\n\\t\\t\\t\\t<li class=\"sub06\"><a href=\"/menu.es?mid=a12208000000\">이상반응 Q&A</a>\\n\\t\\t\\t\\t</li>\\n\\t\\t\\t\\t<li class=\"sub09\"><a href=\"/menu.es?mid=a12609010000\">이상반응 발생동향</a>\\n\\t\\t\\t\\t</li>\\n\\t\\t\\t\\t<li class=\"sub02\"><a href=\"/menu.es?mid=a12602000000\">코로나19 예방접종피해 보상신청</a>\\n\\t\\t\\t\\t</li>\\n\\t\\t\\t\\t<li class=\"sub03 sublast\"><a href=\"/menu.es?mid=a12603000000\">코로나19 예방접종 후 인과성 불충분 지원사업</a>\\n\\t\\t\\t\\t</li>\\n\\t\\t\\t</ul>\\n\\t\\t</div>\\n\\t</li>\\n\\t<li class=\"lnb5\">\\n\\t\\t<a href=\"/menu.es?mid=a11802000000\">뉴스&팩트체크</a>\\n\\t\\t<div class=\"submenu\">\\n\\t\\t\\t<ul class=\"sub18\">\\n\\t\\t\\t\\t<li class=\"sub02 subfirst\"><a href=\"/menu.es?mid=a11802000000\">직접 알려드립니다</a>\\n\\t\\t\\t\\t</li>\\n\\t\\t\\t\\t<li class=\"sub01 sublast\"><a href=\"http://ncov.kdca.go.kr/tcmBoardList.do?brdId=3&brdGubun=\" target=\"_blank\" title=\"새창으로 이동\" rel=\"noopener noreferrer\" class=\"linkWindow\">보도자료</a>\\n\\t\\t\\t\\t</li>\\n\\t\\t\\t</ul>\\n\\t\\t</div>\\n\\t</li>\\n\\t<li class=\"lnb7\">\\n\\t\\t<a href=\"/menu.es?mid=a12901000000\">허위조작정보</a>\\n\\t\\t<div class=\"submenu\">\\n\\t\\t\\t<ul class=\"sub29\">\\n\\t\\t\\t\\t<li class=\"sub01 subfirst\"><a href=\"/menu.es?mid=a12901000000\">허위조작정보 사례</a>\\n\\t\\t\\t\\t</li>\\n\\t\\t\\t\\t<li class=\"sub02 sublast\"><a href=\"/menu.es?mid=a12902000000\">허위조작정보 신고</a>\\n\\t\\t\\t\\t</li>\\n\\t\\t\\t</ul>\\n\\t\\t</div>\\n\\t</li>\\n\\t<li class=\"lnb8\">\\n\\t\\t<a href=\"http://kdca.go.kr/gallery.es?mid=a20503010000&bid=0002&cg_code=C01\" target=\"_blank\" title=\"새창으로 이동\" rel=\"noopener noreferrer\" class=\"linkWindow\">홍보자료</a>\\n\\t\\t<div class=\"submenu\">\\n\\t\\t\\t<ul class=\"sub19\">\\n\\t\\t\\t\\t<li class=\"sub01 subfirst\"><a href=\"http://kdca.go.kr/gallery.es?mid=a20503010000&bid=0002&cg_code=C01\" target=\"_blank\" title=\"새창으로 이동\" rel=\"noopener noreferrer\" class=\"linkWindow\">카드뉴스</a>\\n\\t\\t\\t\\t</li>\\n\\t\\t\\t\\t<li class=\"sub02\"><a href=\"http://kdca.go.kr/gallery.es?mid=a20503020000&bid=0003&cg_code=C02\" target=\"_blank\" title=\"새창으로 이동\" rel=\"noopener noreferrer\" class=\"linkWindow\">홍보지</a>\\n\\t\\t\\t\\t</li>\\n\\t\\t\\t\\t<li class=\"sub03 sublast\"><a href=\"http://kdca.go.kr/gallery.es?mid=a20503030300&bid=0004&cg_code=C02\" target=\"_blank\" title=\"새창으로 이동\" rel=\"noopener noreferrer\" class=\"linkWindow\">영상자료</a>\\n\\t\\t\\t\\t</li>\\n\\t\\t\\t</ul>\\n\\t\\t</div>\\n\\t</li>\\n\\t<li class=\"lnb9\">\\n\\t\\t<a href=\"/menu.es?mid=a12217000000\">Q&A모음</a>\\n\\t\\t<div class=\"submenu\">\\n\\t\\t</div>\\n\\t</li>\\n\\t<li class=\"lnb10 mnlast\">\\n\\t\\t<a href=\"/menu.es?mid=a12101000000\">알림·서식</a>\\n\\t\\t<div class=\"submenu\">\\n\\t\\t\\t<ul class=\"sub21\">\\n\\t\\t\\t\\t<li class=\"sub01 subfirst\"><a href=\"/menu.es?mid=a12101000000\">지침</a>\\n\\t\\t\\t\\t</li>\\n\\t\\t\\t\\t<li class=\"sub03\"><a href=\"/menu.es?mid=a12103000000\">서식</a>\\n\\t\\t\\t\\t</li>\\n\\t\\t\\t\\t<li class=\"sub04\"><a href=\"/menu.es?mid=a12104000000\">예진표</a>\\n\\t\\t\\t\\t</li>\\n\\t\\t\\t\\t<li class=\"sub05 sublast\"><a href=\"/menu.es?mid=a12105000000\">안내문(외국어 등)</a>\\n\\t\\t\\t\\t</li>\\n\\t\\t\\t</ul>\\n\\t\\t</div>\\n\\t</li>\\n</ul>\\n\\n\\r\\n\\t\\t\\t\\t\\t\\r\\n\\r\\n\\t\\t\\t\\t</nav>\\r\\n\\t\\t\\t</div>\\r\\n\\t\\t\\t<div class=\"gnb_bg\"></div>\\r\\n\\t\\t\\t<div class=\"gnb_Allbg\"></div>\\r\\n\\r\\n\\t\\t</div>\\r\\n\\t\\t<button type=\"button\" class=\"gnbAllmenu\"><img src=\"/kor/img/common/bar_icon.png\" alt=\"\"><span class=\"hdn\">전체메뉴 열기</span></button>\\r\\n\\t\\t</div>\\r\\n\\r\\n\\r\\n\\r\\n\\t</header>\\r\\n\\t<div class=\"globalMenu\">\\r\\n\\t\\t<div>\\r\\n\\t\\t\\t<div class=\"gm_title\">\\r\\n\\t\\t\\t\\t<ul>\\r\\n\\t\\t\\t\\t\\t<li class=\"home\"><a href=\"/\"><i class=\"xi-home-o\"></i>홈</a></li>\\r\\n\\t\\t\\t\\t\\t<li class=\"lang_m\"><a href=\"/eng\"><i class=\"xi-globus\"></i>ENG</a></li>\\r\\n\\t\\t\\t\\t</ul>\\r\\n\\t\\t\\t\\t<button type=\"button\" class=\"btn_close\"><span class=\"hdn\">전체메뉴 닫기</span></button>\\r\\n\\t\\t\\t</div>\\r\\n\\t\\t\\t<div class=\"global_gnb\">\\r\\n\\t\\t\\t\\r\\n\\t\\t\\t\\n\\n<ul class=\"topmenu_all\">\\n\\t<li class=\"lnb1 mnfirst\">\\n\\t\\t<a href=\"/menu.es?mid=a10116000000\">바로알기</a>\\n\\t\\t<div class=\"submenu\">\\n\\t\\t\\t<ul class=\"sub01\">\\n\\t\\t\\t\\t<li class=\"sub16 subfirst\"><a href=\"/menu.es?mid=a10116010000\">코로나19 예방접종은 왜 해야 하나요?</a>\\n\\t\\t\\t\\t</li>\\n\\t\\t\\t\\t<li class=\"sub19\"><a href=\"/menu.es?mid=a10119000000\">우리나라에는 어떤 백신이 들어오나요?</a>\\n\\t\\t\\t\\t</li>\\n\\t\\t\\t\\t<li class=\"sub23\"><a href=\"/menu.es?mid=a10123000000\">코로나19 백신의 유통, 운송체계는 어떻게 되나요?</a>\\n\\t\\t\\t\\t</li>\\n\\t\\t\\t\\t<li class=\"sub17\"><a href=\"/menu.es?mid=a10117010000\">코로나19 예방접종, 언제 어디서 할 수 있나요?</a>\\n\\t\\t\\t\\t</li>\\n\\t\\t\\t\\t<li class=\"sub24 sublast\"><a href=\"/menu.es?mid=a10124010000\">소아·청소년 예방접종</a>\\n\\t\\t\\t\\t</li>\\n\\t\\t\\t</ul>\\n\\t\\t</div>\\n\\t</li>\\n\\t<li class=\"lnb3\">\\n\\t\\t<a href=\"/menu.es?mid=a11702000000\">예방접종 현황</a>\\n\\t\\t<div class=\"submenu\">\\n\\t\\t\\t<ul class=\"sub17\">\\n\\t\\t\\t\\t<li class=\"sub02 subfirst\"><a href=\"/menu.es?mid=a11702000000\">시도별 접종 현황</a>\\n\\t\\t\\t\\t</li>\\n\\t\\t\\t\\t<li class=\"sub18\"><a href=\"/menu.es?mid=a11718000000\">연령별 접종 현황</a>\\n\\t\\t\\t\\t</li>\\n\\t\\t\\t\\t<li class=\"sub09\"><a href=\"/menu.es?mid=a11709010000\">코로나19 예방접종 전화예약 운영 현황</a>\\n\\t\\t\\t\\t</li>\\n\\t\\t\\t\\t<li class=\"sub15\"><a href=\"/menu.es?mid=a11715000000\">소아·영유아용 코로나19 백신접종기관</a>\\n\\t\\t\\t\\t</li>\\n\\t\\t\\t\\t<li class=\"sub20 sublast\"><a href=\"/menu.es?mid=a11720000000\">코로나19 예방접종기관</a>\\n\\t\\t\\t\\t</li>\\n\\t\\t\\t</ul>\\n\\t\\t</div>\\n\\t</li>\\n\\t<li class=\"lnb4\">\\n\\t\\t<a href=\"/menu.es?mid=a12601030000\">이상반응</a>\\n\\t\\t<div class=\"submenu\">\\n\\t\\t\\t<ul class=\"sub26\">\\n\\t\\t\\t\\t<li class=\"sub01 subfirst\"><a href=\"/menu.es?mid=a12601010000\">예방접종 후 주요 이상반응</a>\\n\\t\\t\\t\\t</li>\\n\\t\\t\\t\\t<li class=\"sub04\"><a href=\"/menu.es?mid=a12604000000\">12~18세 예방접종의 안전성</a>\\n\\t\\t\\t\\t</li>\\n\\t\\t\\t\\t<li class=\"sub05\"><a href=\"/menu.es?mid=a12601030000\">심근염ㆍ심낭염 진단가능 의료기관</a>\\n\\t\\t\\t\\t</li>\\n\\t\\t\\t\\t<li class=\"sub07\"><a href=\"/menu.es?mid=a12607000000\">소아심장세부전문의 근무 병원</a>\\n\\t\\t\\t\\t</li>\\n\\t\\t\\t\\t<li class=\"sub06\"><a href=\"/menu.es?mid=a12208000000\">이상반응 Q&A</a>\\n\\t\\t\\t\\t</li>\\n\\t\\t\\t\\t<li class=\"sub09\"><a href=\"/menu.es?mid=a12609010000\">이상반응 발생동향</a>\\n\\t\\t\\t\\t</li>\\n\\t\\t\\t\\t<li class=\"sub02\"><a href=\"/menu.es?mid=a12602000000\">코로나19 예방접종피해 보상신청</a>\\n\\t\\t\\t\\t</li>\\n\\t\\t\\t\\t<li class=\"sub03 sublast\"><a href=\"/menu.es?mid=a12603000000\">코로나19 예방접종 후 인과성 불충분 지원사업</a>\\n\\t\\t\\t\\t</li>\\n\\t\\t\\t</ul>\\n\\t\\t</div>\\n\\t</li>\\n\\t<li class=\"lnb5\">\\n\\t\\t<a href=\"/menu.es?mid=a11802000000\">뉴스&팩트체크</a>\\n\\t\\t<div class=\"submenu\">\\n\\t\\t\\t<ul class=\"sub18\">\\n\\t\\t\\t\\t<li class=\"sub02 subfirst\"><a href=\"/menu.es?mid=a11802000000\">직접 알려드립니다</a>\\n\\t\\t\\t\\t</li>\\n\\t\\t\\t\\t<li class=\"sub01 sublast\"><a href=\"http://ncov.kdca.go.kr/tcmBoardList.do?brdId=3&brdGubun=\" target=\"_blank\" title=\"새창으로 이동\" rel=\"noopener noreferrer\" class=\"linkWindow\">보도자료</a>\\n\\t\\t\\t\\t</li>\\n\\t\\t\\t</ul>\\n\\t\\t</div>\\n\\t</li>\\n\\t<li class=\"lnb7\">\\n\\t\\t<a href=\"/menu.es?mid=a12901000000\">허위조작정보</a>\\n\\t\\t<div class=\"submenu\">\\n\\t\\t\\t<ul class=\"sub29\">\\n\\t\\t\\t\\t<li class=\"sub01 subfirst\"><a href=\"/menu.es?mid=a12901000000\">허위조작정보 사례</a>\\n\\t\\t\\t\\t</li>\\n\\t\\t\\t\\t<li class=\"sub02 sublast\"><a href=\"/menu.es?mid=a12902000000\">허위조작정보 신고</a>\\n\\t\\t\\t\\t</li>\\n\\t\\t\\t</ul>\\n\\t\\t</div>\\n\\t</li>\\n\\t<li class=\"lnb8\">\\n\\t\\t<a href=\"http://kdca.go.kr/gallery.es?mid=a20503010000&bid=0002&cg_code=C01\" target=\"_blank\" title=\"새창으로 이동\" rel=\"noopener noreferrer\" class=\"linkWindow\">홍보자료</a>\\n\\t\\t<div class=\"submenu\">\\n\\t\\t\\t<ul class=\"sub19\">\\n\\t\\t\\t\\t<li class=\"sub01 subfirst\"><a href=\"http://kdca.go.kr/gallery.es?mid=a20503010000&bid=0002&cg_code=C01\" target=\"_blank\" title=\"새창으로 이동\" rel=\"noopener noreferrer\" class=\"linkWindow\">카드뉴스</a>\\n\\t\\t\\t\\t</li>\\n\\t\\t\\t\\t<li class=\"sub02\"><a href=\"http://kdca.go.kr/gallery.es?mid=a20503020000&bid=0003&cg_code=C02\" target=\"_blank\" title=\"새창으로 이동\" rel=\"noopener noreferrer\" class=\"linkWindow\">홍보지</a>\\n\\t\\t\\t\\t</li>\\n\\t\\t\\t\\t<li class=\"sub03 sublast\"><a href=\"http://kdca.go.kr/gallery.es?mid=a20503030300&bid=0004&cg_code=C02\" target=\"_blank\" title=\"새창으로 이동\" rel=\"noopener noreferrer\" class=\"linkWindow\">영상자료</a>\\n\\t\\t\\t\\t</li>\\n\\t\\t\\t</ul>\\n\\t\\t</div>\\n\\t</li>\\n\\t<li class=\"lnb9\">\\n\\t\\t<a href=\"/menu.es?mid=a12217000000\">Q&A모음</a>\\n\\t\\t<div class=\"submenu\">\\n\\t\\t</div>\\n\\t</li>\\n\\t<li class=\"lnb10 mnlast\">\\n\\t\\t<a href=\"/menu.es?mid=a12101000000\">알림·서식</a>\\n\\t\\t<div class=\"submenu\">\\n\\t\\t\\t<ul class=\"sub21\">\\n\\t\\t\\t\\t<li class=\"sub01 subfirst\"><a href=\"/menu.es?mid=a12101000000\">지침</a>\\n\\t\\t\\t\\t</li>\\n\\t\\t\\t\\t<li class=\"sub03\"><a href=\"/menu.es?mid=a12103000000\">서식</a>\\n\\t\\t\\t\\t</li>\\n\\t\\t\\t\\t<li class=\"sub04\"><a href=\"/menu.es?mid=a12104000000\">예진표</a>\\n\\t\\t\\t\\t</li>\\n\\t\\t\\t\\t<li class=\"sub05 sublast\"><a href=\"/menu.es?mid=a12105000000\">안내문(외국어 등)</a>\\n\\t\\t\\t\\t</li>\\n\\t\\t\\t</ul>\\n\\t\\t</div>\\n\\t</li>\\n</ul>\\n\\n\\r\\n\\t\\t\\t\\r\\n\\t\\t\\t</div>\\r\\n\\t\\t</div>\\r\\n\\t</div>\\r\\n\\r\\n    \\r\\n\\r\\n\\r\\n\\r\\n\\r\\n\\r\\n\\r\\n\\r\\n<script>\\r\\n\\tvar mobile = (/sjwelfare/i.test(navigator.userAgent.toLowerCase()));\\r\\n\\tvar mobile_ios = (/sjwelfare ios/i.test(navigator.userAgent.toLowerCase()));\\r\\n\\t$(document).ready(function(){\\r\\n\\t\\tif(mobile){\\r\\n\\t\\t\\t$(\"#header\").hide();\\r\\n\\t\\t\\t$(\".content_info\").hide();\\r\\n\\t\\t\\t$(\".contentInfo\").hide();\\r\\n\\t\\t\\t$(\"#footer\").hide();\\r\\n\\t\\t\\t$(\"#section1\").css(\"margin-top\",0);\\r\\n\\t\\t\\t/*$(\"#section6 > a\").prop(\"href\",\"\");*/\\r\\n\\t\\t\\t$(\".sjwfwv\").hide();\\r\\n\\t\\t\\t$(\"#depth2_div\").hide();\\r\\n\\t\\t}\\r\\n\\t});\\r\\n\\r\\n\\t$(function(){\\r\\n\\t\\tif($(\"#depth2_div ul li\").length === 1){\\r\\n\\t\\t\\t$(\"#depth2_div ul\").remove();\\r\\n\\t\\t}\\r\\n\\t})\\r\\n\\r\\n</script>\\r\\n\\r\\n<!-- container -->\\r\\n<div class=\"container\">\\r\\n\\t<div id=\"content\">\\r\\n\\r\\n\\t\\t<div class=\"title_top\">\\r\\n\\t\\t\\t<div class=\"navi\">\\r\\n\\t\\t\\t\\t<ul>\\r\\n\\t\\t\\t\\t\\t<li><a href=\"/\"><span class=\"hdn\">홈으로 이동</span></a></li>\\r\\n\\t\\t\\t\\t\\t\\r\\n\\t\\t\\t\\t\\t\\t\\r\\n\\t\\t\\t\\t\\t\\t\\t\\r\\n\\t\\t\\t\\t\\t\\t\\t\\t<li><a href=\"/menu.es?mid=a11700000000\">예방접종 현황</a></li>\\r\\n\\t\\t\\t\\t\\t\\t\\t\\r\\n\\t\\t\\t\\t\\t\\t\\t\\t<li><a href=\"/menu.es?mid=a11702000000\" class=\"active\">시도별 접종 현황</a></li>\\r\\n\\t\\t\\t\\t\\t\\t\\t\\r\\n\\t\\t\\t\\t\\t\\t\\r\\n\\t\\t\\t\\t\\t\\r\\n\\t\\t\\t\\t</ul>\\r\\n\\t\\t\\t</div>\\r\\n\\t\\t\\t<h2 class=\"hdn\"><span>예방접종 현황></span></h2>\\r\\n\\t\\t\\t<h3 class=\"sub_title\"><span>시도별 접종 현황</span></h3>\\r\\n\\t\\t</div>\\r\\n\\r\\n\\r\\n\\t\\t\\t\\t\\r\\n\\t\\t\\t\\t\\r\\n\\r\\n\\r\\n\\r\\n\\t\\t\\t\\t\\t\\t\\t\\r\\n\\r\\n    <h4 class=\"s_title_0\">시도별 접종 현황<span class=\"t_date\">(<em> 12.26. 기준</em>)</span></h4>\\r\\n    <!-- <div class=\"data_table tbl_scrl_l\"> -->\\r\\n    <div class=\"data_table tbl_scrl_mini\">\\r\\n        <table class=\"dragTable\">\\r\\n            <caption><span class=\"hdn\">\\'23~\\'24절기 코로나19 예방접종 시도별 접종 현황표 - 합계 및 시도(서울, 부산, 대구, 인천, 광주, 대전, 울산, 세종, 경기, 강원, 충북, 충남, 전북, 전남, 경북, 경남, 제주) 신규, 누적, 접종률로 구성</span></caption>\\r\\n            <colgroup>\\r\\n                <col style=\"width:10%;\">\\r\\n                <col style=\"width:30%;\">\\r\\n                <col style=\"width:30%;\">\\r\\n                <col style=\"width:30%;\">\\r\\n            </colgroup>\\r\\n            <thead>\\r\\n            <tr>\\r\\n                <th scope=\"col\" rowspan=\"2\">구분</th>\\r\\n                <th scope=\"col\" colspan=\"3\">\\'23~\\'24절기 코로나19 예방접종<span class=\"ntc_descript\" style=\"display:inline; position:relative; top:-10px;\"></span></th>\\r\\n            </tr>\\r\\n            <tr>\\r\\n                <th scope=\"col\">신규</th>\\r\\n                <th scope=\"col\">누적</th>\\r\\n                <th scope=\"col\">접종률</th>\\r\\n            </tr>\\r\\n            </thead>\\r\\n            <tbody>\\r\\n            <tr>\\r\\n                <th scope=\"row\">전국</th>\\r\\n                <td class=\"ta_r\">8,100</td>\\r\\n                <td class=\"ta_r\">3,914,225</td>\\r\\n                <td class=\"ta_r\">40.1%</td>\\r\\n            </tr>\\r\\n            <tr>\\r\\n                <th scope=\"row\">서울</th>\\r\\n                <td class=\"ta_r\">1,622</td>\\r\\n                <td class=\"ta_r\">690,818</td>\\r\\n                <td class=\"ta_r\">39.8%</td>\\r\\n                <!-- <td class=\"ta_r\">0</td>\\r\\n                <td class=\"ta_r\">0</td>\\r\\n                <td class=\"ta_r\">39.8%</td>\\r\\n                <td class=\"ta_r\">0</td>\\r\\n                <td class=\"ta_r\">0</td>\\r\\n                <td class=\"ta_r\"></td> -->\\r\\n            </tr>\\r\\n            <tr>\\r\\n                <th scope=\"row\">부산</th>\\r\\n                <td class=\"ta_r\">536</td>\\r\\n                <td class=\"ta_r\">273,459</td>\\r\\n                <td class=\"ta_r\">36.5%</td>\\r\\n                <!--  <td class=\"ta_r\">0</td>\\r\\n                <td class=\"ta_r\">0</td>\\r\\n                <td class=\"ta_r\">36.5%</td>\\r\\n                <td class=\"ta_r\">0</td>\\r\\n                <td class=\"ta_r\">0</td>\\r\\n                <td class=\"ta_r\"></td> -->\\r\\n            </tr>\\r\\n            <tr>\\r\\n                <th scope=\"row\">대구</th>\\r\\n                <td class=\"ta_r\">386</td>\\r\\n                <td class=\"ta_r\">151,243</td>\\r\\n                <td class=\"ta_r\">32.2%</td>\\r\\n                <!-- <td class=\"ta_r\">0</td>\\r\\n                <td class=\"ta_r\">0</td>\\r\\n                <td class=\"ta_r\">32.2%</td>\\r\\n                <td class=\"ta_r\">0</td>\\r\\n                <td class=\"ta_r\">0</td>\\r\\n                <td class=\"ta_r\"></td>  -->\\r\\n            </tr>\\r\\n            <tr>\\r\\n                <th scope=\"row\">인천</th>\\r\\n                <td class=\"ta_r\">463</td>\\r\\n                <td class=\"ta_r\">199,451</td>\\r\\n                <td class=\"ta_r\">40%</td>\\r\\n                <!--<td class=\"ta_r\">0</td>\\r\\n                <td class=\"ta_r\">0</td>\\r\\n                <td class=\"ta_r\">40%</td>\\r\\n                 <td class=\"ta_r\">0</td>\\r\\n                <td class=\"ta_r\">0</td>\\r\\n                <td class=\"ta_r\"></td> -->\\r\\n            </tr>\\r\\n            <tr>\\r\\n                <th scope=\"row\">광주</th>\\r\\n                <td class=\"ta_r\">163</td>\\r\\n                <td class=\"ta_r\">109,960</td>\\r\\n                <td class=\"ta_r\">46.7%</td>\\r\\n                <!--<td class=\"ta_r\">0</td>\\r\\n                <td class=\"ta_r\">0</td>\\r\\n                <td class=\"ta_r\">46.7%</td>\\r\\n                 <td class=\"ta_r\">0</td>\\r\\n                <td class=\"ta_r\">0</td>\\r\\n                <td class=\"ta_r\"></td> -->\\r\\n            </tr>\\r\\n            <tr>\\r\\n                <th scope=\"row\">대전</th>\\r\\n                <td class=\"ta_r\">144</td>\\r\\n                <td class=\"ta_r\">104,022</td>\\r\\n                <td class=\"ta_r\">42.2%</td>\\r\\n                 <!--<td class=\"ta_r\">0</td>\\r\\n                <td class=\"ta_r\">0</td>\\r\\n                <td class=\"ta_r\">42.2%</td>\\r\\n                <td class=\"ta_r\">0</td>\\r\\n                <td class=\"ta_r\">0</td>\\r\\n                <td class=\"ta_r\"></td> -->\\r\\n            </tr>\\r\\n            <tr>\\r\\n                <th scope=\"row\">울산</th>\\r\\n                <td class=\"ta_r\">182</td>\\r\\n                <td class=\"ta_r\">66,403</td>\\r\\n                <td class=\"ta_r\">37.6%</td>\\r\\n                <!--<td class=\"ta_r\">0</td>\\r\\n                <td class=\"ta_r\">0</td>\\r\\n                <td class=\"ta_r\">37.6%</td>\\r\\n                 <td class=\"ta_r\">0</td>\\r\\n                <td class=\"ta_r\">0</td>\\r\\n                <td class=\"ta_r\"></td> -->\\r\\n            </tr>\\r\\n            <tr>\\r\\n                <th scope=\"row\">세종</th>\\r\\n                <td class=\"ta_r\">78</td>\\r\\n                <td class=\"ta_r\">18,426</td>\\r\\n                <td class=\"ta_r\">43.1%</td>\\r\\n               <!--  <td class=\"ta_r\">0</td>\\r\\n                <td class=\"ta_r\">0</td>\\r\\n                <td class=\"ta_r\">43.1%</td>\\r\\n                <td class=\"ta_r\">0</td>\\r\\n                <td class=\"ta_r\">0</td>\\r\\n                <td class=\"ta_r\"></td> -->\\r\\n            </tr>\\r\\n            <tr>\\r\\n                <th scope=\"row\">경기</th>\\r\\n                <td class=\"ta_r\">1,603</td>\\r\\n                <td class=\"ta_r\">865,601</td>\\r\\n                <td class=\"ta_r\">40.7%</td>\\r\\n                <!--<td class=\"ta_r\">0</td>\\r\\n                <td class=\"ta_r\">0</td>\\r\\n                <td class=\"ta_r\">40.7%</td>\\r\\n                 <td class=\"ta_r\">0</td>\\r\\n                <td class=\"ta_r\">0</td>\\r\\n                <td class=\"ta_r\"></td> -->\\r\\n            </tr>\\r\\n            <tr>\\r\\n                <th scope=\"row\">강원</th>\\r\\n                <td class=\"ta_r\">324</td>\\r\\n                <td class=\"ta_r\">142,146</td>\\r\\n                <td class=\"ta_r\">38.6%</td>\\r\\n                <!--<td class=\"ta_r\">0</td>\\r\\n                <td class=\"ta_r\">0</td>\\r\\n                <td class=\"ta_r\">38.6%</td>\\r\\n                 <td class=\"ta_r\">0</td>\\r\\n                <td class=\"ta_r\">0</td>\\r\\n                <td class=\"ta_r\"></td> -->\\r\\n            </tr>\\r\\n            <tr>\\r\\n                <th scope=\"row\">충북</th>\\r\\n                <td class=\"ta_r\">288</td>\\r\\n                <td class=\"ta_r\">142,923</td>\\r\\n                <td class=\"ta_r\">42.7%</td>\\r\\n                <!-- <td class=\"ta_r\">0</td>\\r\\n                <td class=\"ta_r\">0</td>\\r\\n                <td class=\"ta_r\">42.7%</td>\\r\\n                <td class=\"ta_r\">0</td>\\r\\n                <td class=\"ta_r\">0</td>\\r\\n                <td class=\"ta_r\"></td> -->\\r\\n            </tr>\\r\\n            <tr>\\r\\n                <th scope=\"row\">충남</th>\\r\\n                <td class=\"ta_r\">324</td>\\r\\n                <td class=\"ta_r\">190,390</td>\\r\\n                <td class=\"ta_r\">41.6%</td>\\r\\n                <!--<td class=\"ta_r\">0</td>\\r\\n                <td class=\"ta_r\">0</td>\\r\\n                <td class=\"ta_r\">41.6%</td>\\r\\n                 <td class=\"ta_r\">0</td>\\r\\n                <td class=\"ta_r\">0</td>\\r\\n                <td class=\"ta_r\"></td> -->\\r\\n            </tr>\\r\\n            <tr>\\r\\n                <th scope=\"row\">전북</th>\\r\\n                <td class=\"ta_r\">368</td>\\r\\n                <td class=\"ta_r\">197,658</td>\\r\\n                <td class=\"ta_r\">46.4%</td>\\r\\n                <!--<td class=\"ta_r\">0</td>\\r\\n                <td class=\"ta_r\">0</td>\\r\\n                <td class=\"ta_r\">46.4%</td>\\r\\n                 <td class=\"ta_r\">0</td>\\r\\n                <td class=\"ta_r\">0</td>\\r\\n                <td class=\"ta_r\"></td> -->\\r\\n            </tr>\\r\\n            <tr>\\r\\n                <th scope=\"row\">전남</th>\\r\\n                <td class=\"ta_r\">407</td>\\r\\n                <td class=\"ta_r\">228,923</td>\\r\\n                <td class=\"ta_r\">48.2%</td>\\r\\n                <!--<td class=\"ta_r\">0</td>\\r\\n                <td class=\"ta_r\">0</td>\\r\\n                <td class=\"ta_r\">48.2%</td>\\r\\n                 <td class=\"ta_r\">0</td>\\r\\n                <td class=\"ta_r\">0</td>\\r\\n                <td class=\"ta_r\"></td> -->\\r\\n            </tr>\\r\\n            <tr>\\r\\n                <th scope=\"row\">경북</th>\\r\\n                <td class=\"ta_r\">577</td>\\r\\n                <td class=\"ta_r\">238,169</td>\\r\\n                <td class=\"ta_r\">37.5%</td>\\r\\n               <!-- <td class=\"ta_r\">0</td>\\r\\n                <td class=\"ta_r\">0</td>\\r\\n                <td class=\"ta_r\">37.5%</td>\\r\\n                 <td class=\"ta_r\">0</td>\\r\\n                <td class=\"ta_r\">0</td>\\r\\n                <td class=\"ta_r\"></td> -->\\r\\n            </tr>\\r\\n            <tr>\\r\\n                <th scope=\"row\">경남</th>\\r\\n                <td class=\"ta_r\">532</td>\\r\\n                <td class=\"ta_r\">248,928</td>\\r\\n                <td class=\"ta_r\">36.9%</td>\\r\\n               <!-- <td class=\"ta_r\">0</td>\\r\\n                <td class=\"ta_r\">0</td>\\r\\n                <td class=\"ta_r\">36.9%</td>\\r\\n                 <td class=\"ta_r\">0</td>\\r\\n                <td class=\"ta_r\">0</td>\\r\\n                <td class=\"ta_r\"></td> -->\\r\\n            </tr>\\r\\n            <tr>\\r\\n                <th scope=\"row\">제주</th>\\r\\n                <td class=\"ta_r\">103</td>\\r\\n                <td class=\"ta_r\">45,705</td>\\r\\n                <td class=\"ta_r\">37.7%</td>\\r\\n                <!--<td class=\"ta_r\">0</td>\\r\\n                <td class=\"ta_r\">0</td>\\r\\n                <td class=\"ta_r\">37.7%</td>\\r\\n                 <td class=\"ta_r\">0</td>\\r\\n                <td class=\"ta_r\">0</td>\\r\\n                <td class=\"ta_r\"></td> -->\\r\\n            </tr>\\r\\n            </tbody>\\r\\n        </table>\\r\\n     \\r\\n        <p class=\"ntc_descript\">지역별 65세 이상 인구 접종 현황임</p>\\r\\n        <!--  <p class=\"ntc_descript\"><span class=\"hdn\">*</span> 예방접종통합관리시스템 등록인구현황(거주자불명자 및 재외국민 제외,출생·사망 신고 지연 및 전입신고 등으로 변동 가능)</p>-->\\r\\n\\r\\n    </div>\\r\\n<style type=\"text/css\">\\r\\n.data_table table tbody th{font-size:16px !important;}\\r\\n</style>\\r\\n<script>\\r\\n/*\\r\\n$(document).ready(function(){\\r\\n\\t$(\".dragTable\").draggable({axis:\"x\",stop:function(e){\\r\\n\\t\\tlet limitWd = $(this).parent().width() - $(this).width();\\r\\n\\t\\tif($(this).offset().left > 0){\\r\\n\\t\\t\\t$(this).css(\"left\",\"0\")\\r\\n\\t\\t}\\r\\n\\t\\tif($(this).offset().left < limitWd ){\\r\\n\\t\\t\\t$(this).css(\"left\",limitWd+\"px\")\\r\\n\\t\\t}\\r\\n\\t}});\\r\\n\\r\\n})\\r\\n\\t*/\\r\\n</script>\\r\\n    <div class=\"copykogl type1\">\\r\\n        <div class=\"copyimg\"><span class=\"hdn\">공공누리 제1유형</span></div>\\r\\n        <p class=\"copytext\">\\r\\n            코로나19 백신 및 예방접종이 창작한 <strong>\"예방접종현황\"</strong> 저작물은 공공누리의 <strong>제1유형 (출처표시, 상업적 이용가능, 변경 가능)</strong>조건에 따라 이용할 수 있습니다.\\r\\n        </p>\\r\\n    </div>\\r\\n    <!--콘텐츠 끝//-->\\r\\n\\r\\n\\r\\n    \\r\\n\\t</div>\\r\\n\\t\\t</div>\\r\\n\\t\\t\\t</div>\\r\\n\\t\\t\\t<div class=\"contentInfo\">\\r\\n\\t\\t\\t\\t\\r\\n\\t\\t\\t\\t\\r\\n\\t\\t\\t\\t\\r\\n\\t\\t\\t\\t\\r\\n\\t\\t\\t</div>\\r\\n\\r\\n    \\r\\n\\t\\t\\r\\n\\r\\n\\t<footer id=\"footer\" class=\"footer\">\\r\\n\\t\\t<div class=\"footWrap\">\\r\\n\\t\\t\\t\\r\\n<div class=\"f_top\">\\r\\n\\t<div>\\r\\n\\t\\t<div class=\"ft_left\">\\r\\n\\t\\t\\t<div class=\"info_link\">\\r\\n\\t\\t\\t\\t<a href=\"http://www.kdca.go.kr/contents.es?mid=a20810030000\" target=\"_blank\" rel = \"noopener noreferrer\" title=\"개인정보처리방침 새창으로 이동\">개인정보처리방침</a>\\r\\n\\t\\t\\t</div>\\r\\n\\t\\t</div>\\r\\n\\t\\t\\r\\n\\t</div>\\r\\n</div>\\r\\n<div class=\"f_bottom\">\\r\\n\\t<div>\\r\\n\\t\\t<div class=\"fb_left\">\\r\\n\\t\\t\\t<dl class=\"f_infodes\">\\r\\n\\t\\t\\t\\t<dt>상담안내 : </dt>\\r\\n\\t\\t\\t\\t<dd>\\r\\n\\t\\t\\t\\t\\t<span>보건소, </span>\\r\\n\\t\\t\\t\\t\\t<span data-telnumber=\"1339\" class=\"go_tel\">질병관리청 콜센터 <em>1339</em>,</span>\\r\\n\\t\\t\\t\\t\\t<span>지역번호 + 120 </span>\\r\\n\\t\\t\\t\\t</dd>\\r\\n\\t\\t\\t</dl>\\r\\n\\t\\t\\t<div class=\"f_copyright\">\\r\\n\\t\\t\\t\\t<p>Copyright ⓒ By KDCA. All Rights Reserved.</p>\\r\\n\\t\\t\\t</div>\\r\\n\\t\\t</div>\\r\\n\\t\\t<div class=\"fb_right\">\\r\\n\\t\\t\\t<ul class=\"f_sns\">\\r\\n\\t\\t\\t\\t<li class=\"facebook\"><a href=\"http://www.facebook.com/koreadca\" target=\"_blank\" rel = \"noopener noreferrer\" title=\"질병관리청 페이스북으로 새창\">페이스북</a></li>\\r\\n\\t\\t\\t\\t<li class=\"youtube\"><a href=\"https://youtube.com/channel/UCa7-3Zvxg-5Rfxgu3RQY_gw\" target=\"_blank\" rel = \"noopener noreferrer\" title=\"질병관리청 유튜브 새창\">유튜브</a></li>\\r\\n\\t\\t\\t\\t<li class=\"post\"><a href=\"https://post.naver.com/my.nhn?memberNo=20182790\" target=\"_blank\" rel = \"noopener noreferrer\" title=\"질병관리청 포스트 새창\">포스트</a></li>\\r\\n\\t\\t\\t\\t<li class=\"twitter\"><a href=\"http://twitter.com/koreadca\" target=\"_blank\" rel = \"noopener noreferrer\" title=\"질병관리청 트위터 새창\">트위터</a></li>\\r\\n\\t\\t\\t</ul>\\r\\n\\t\\t\\t<div class=\"f_web\">\\r\\n\\t\\t\\t\\t<a href=\"http://www.webwatch.or.kr/Situation/WA_Situation.html?MenuCD=110\" target=\"_blank\" rel = \"noopener noreferrer\" title=\"webwatch 사이트 이동 - 새창\">\\r\\n\\t\\t\\t\\t\\t<span>\\r\\n\\t\\t\\t\\t\\t\\t<img src=\"/kor/img/footer/web_accessibility_img.png\" alt=\"과학기술정보통신부 WEB ACCESSIBILITY 마크(웹접근성 품질인증 마크)\"/>\\r\\n\\t\\t\\t\\t\\t</span>\\r\\n\\t\\t\\t\\t</a>\\r\\n\\t\\t\\t</div>\\r\\n\\t\\t\\t<div class=\"f_open\">\\r\\n\\t\\t\\t\\t<a href=\"http://www.kogl.or.kr/\" target=\"_blank\" rel = \"noopener noreferrer\" title=\"OPEN 공공누리 공공저작물 자유이용허락 사이트 이동 - 새창\">\\r\\n\\t\\t\\t\\t\\t<span>\\r\\n\\t\\t\\t\\t\\t\\t<img src=\"/kor/img/footer/open_perm.png\" alt=\"OPEN 공공누리 공공저작물 자유이용허락\"/>\\r\\n\\t\\t\\t\\t\\t</span>\\r\\n\\t\\t\\t\\t</a>\\r\\n\\t\\t\\t</div>\\r\\n\\t\\t</div>\\r\\n\\t</div>\\r\\n</div>\\r\\n\\t\\t</div>\\r\\n\\t</footer>\\r\\n\\t<a href=\"#header\" class=\"btn_top\"><i class=\"xi-angle-up\"></i>TOP<span class=\"hdn\">상단으로 이동</span></a>\\r\\n\\t<div class=\"body_bg\"></div>\\r\\n\\r\\n<!--[if lt IE 9]><script src=\"/js/html5.js\"></script><![endif]-->\\r\\n<link rel=\"stylesheet\" href=\"/css/printArea.css\" media=\"print\" />\\r\\n<link rel=\"shortcut icon\" href=\"/favicon.ico\" type=\"image/x-icon\" />\\r\\n<link rel=\"apple-touch-icon-precomposed\" href=\"/favicon_m.png\" />\\r\\n\\r\\n<!-- 공통 JS -->\\r\\n\\t\\r\\n\\r\\n<!-- 서브 JS -->\\r\\n\\t\\r\\n\\t\\r\\n\\t<script src=\"/jquery/js/jquery.bxslider.min.js\"></script>\\r\\n\\t<script src=\"/jquery/js/ui.datepicker.js\"></script>\\r\\n\\t<script src=\"/jquery/js/jquery-ui.min.js\"></script>\\r\\n\\t\\r\\n\\r\\n\\t\\r\\n\\r\\n\\t\\r\\n<script>\\r\\n\\t//try { initNavigation(\\'17\\'); } catch (e) { console.log(\"\"); }\\t// 메인메뉴 활성화\\r\\n\\t//try { initNavigationMbl(\\'17\\'); } catch (e) { console.log(\"\"); }\\t// 모바일 메인메뉴 활성화\\r\\n\\t//try { initLeftMenuLI(\\'1702\\', \\'170200\\'); } catch (e) { console.log(\"\"); }\\t// 서브메뉴 활성화\\r\\n\\t//try { init3DepthMenu(\\'170200\\'); } catch (e) { console.log(\"\"); }\\r\\n\\t//try { init4DepthMenu(\\'17020000\\'); } catch (e) { console.log(\"\"); }\\r\\n\\t//try { init5DepthMenu(\\'1702000000\\'); } catch (e) { console.log(\"\"); }\\r\\n\\t//try { init1DepthComboMenu(\\'17\\'); } catch (e) { console.log(\"\"); }\\r\\n\\t//$.ajax({ url:\\'/logInsert.es?mid=a11702000000\\' });\\t\\t// 로그기록\\r\\n</script>\\r\\n\\t\\r\\n\\t\\r\\n\\r\\n\\r\\n<!-- Global site tag (gtag.js) - Google Analytics-->\\r\\n<script async src=\"https://www.googletagmanager.com/gtag/js?id=UA-188131303-1\"></script>\\r\\n<script>\\r\\n\\twindow.dataLayer = window.dataLayer || [];\\r\\n\\tfunction gtag(){dataLayer.push(arguments);}\\r\\n\\tgtag(\\'js\\', new Date());\\r\\n\\r\\n\\tgtag(\\'config\\', \\'UA-188131303-1\\');\\r\\n</script>\\r\\n<script type=\"text/javascript\">\\r\\n\\t(function(w, d, a){\\r\\n\\t\\tw.__beusablerumclient__ = {\\r\\n\\t\\t\\tload : function(src){\\r\\n\\t\\t\\t\\tvar b = d.createElement(\"script\");\\r\\n\\t\\t\\t\\tb.src = src; b.async=true; b.type = \"text/javascript\";\\r\\n\\t\\t\\t\\td.getElementsByTagName(\"head\")[0].appendChild(b);\\r\\n\\t\\t\\t}\\r\\n\\t\\t};w.__beusablerumclient__.load(a);\\r\\n\\t})(window, document, \"//rum.beusable.net/script/b210810e171819u419/b85656caa8\");\\r\\n</script>\\r\\n<!-- naver Analytics -->\\r\\n<script type=\"text/javascript\" src=\"https://wcs.naver.net/wcslog.js\"></script>\\r\\n<script type=\"text/javascript\">\\r\\nif(!wcs_add) var wcs_add = {};\\r\\nwcs_add[\"wa\"] = \"f9fd8277c34078\";\\r\\nif(window.wcs) {\\r\\n  wcs_do();\\r\\n}\\r\\n</script>\\r\\n</body>\\r\\n</html>\\r\\n\\r\\n\\r\\n'"
      ]
     },
     "execution_count": 31,
     "metadata": {},
     "output_type": "execute_result"
    }
   ],
   "source": [
    "response = executeRestApi('get', url,{},{})\n",
    "response"
   ]
  },
  {
   "cell_type": "code",
   "execution_count": 32,
   "id": "b0e5ca91-ddb5-4e2a-afe5-13242df2e59a",
   "metadata": {},
   "outputs": [],
   "source": [
    "soup=BeautifulSoup(response,'html.parser')"
   ]
  },
  {
   "cell_type": "code",
   "execution_count": 35,
   "id": "8af3a0a2-a9bf-4a96-b6ca-36d15d23ce96",
   "metadata": {},
   "outputs": [],
   "source": [
    "# 가져올 것 웹에서 우클복사(셀렉터)\n",
    "#content > div.data_table.tbl_scrl_mini > table > tbody > tr:nth-child(1)\n",
    "# 이중 모든 값 이니까 뒤에꺼 떼\n",
    "#content > div.data_table.tbl_scrl_mini > table > tbody > tr"
   ]
  },
  {
   "cell_type": "code",
   "execution_count": 36,
   "id": "d8c86f08-62cd-42e3-a59c-cbb62c5da29b",
   "metadata": {},
   "outputs": [],
   "source": [
    "trs=soup.select('#content > div.data_table.tbl_scrl_mini > table > tbody > tr')"
   ]
  },
  {
   "cell_type": "code",
   "execution_count": 37,
   "id": "e34a99a8",
   "metadata": {},
   "outputs": [
    {
     "data": {
      "text/plain": [
       "[<tr>\n",
       " <th scope=\"row\">전국</th>\n",
       " <td class=\"ta_r\">8,100</td>\n",
       " <td class=\"ta_r\">3,914,225</td>\n",
       " <td class=\"ta_r\">40.1%</td>\n",
       " </tr>,\n",
       " <tr>\n",
       " <th scope=\"row\">서울</th>\n",
       " <td class=\"ta_r\">1,622</td>\n",
       " <td class=\"ta_r\">690,818</td>\n",
       " <td class=\"ta_r\">39.8%</td>\n",
       " <!-- <td class=\"ta_r\">0</td>\n",
       "                 <td class=\"ta_r\">0</td>\n",
       "                 <td class=\"ta_r\">39.8%</td>\n",
       "                 <td class=\"ta_r\">0</td>\n",
       "                 <td class=\"ta_r\">0</td>\n",
       "                 <td class=\"ta_r\"></td> -->\n",
       " </tr>,\n",
       " <tr>\n",
       " <th scope=\"row\">부산</th>\n",
       " <td class=\"ta_r\">536</td>\n",
       " <td class=\"ta_r\">273,459</td>\n",
       " <td class=\"ta_r\">36.5%</td>\n",
       " <!--  <td class=\"ta_r\">0</td>\n",
       "                 <td class=\"ta_r\">0</td>\n",
       "                 <td class=\"ta_r\">36.5%</td>\n",
       "                 <td class=\"ta_r\">0</td>\n",
       "                 <td class=\"ta_r\">0</td>\n",
       "                 <td class=\"ta_r\"></td> -->\n",
       " </tr>,\n",
       " <tr>\n",
       " <th scope=\"row\">대구</th>\n",
       " <td class=\"ta_r\">386</td>\n",
       " <td class=\"ta_r\">151,243</td>\n",
       " <td class=\"ta_r\">32.2%</td>\n",
       " <!-- <td class=\"ta_r\">0</td>\n",
       "                 <td class=\"ta_r\">0</td>\n",
       "                 <td class=\"ta_r\">32.2%</td>\n",
       "                 <td class=\"ta_r\">0</td>\n",
       "                 <td class=\"ta_r\">0</td>\n",
       "                 <td class=\"ta_r\"></td>  -->\n",
       " </tr>,\n",
       " <tr>\n",
       " <th scope=\"row\">인천</th>\n",
       " <td class=\"ta_r\">463</td>\n",
       " <td class=\"ta_r\">199,451</td>\n",
       " <td class=\"ta_r\">40%</td>\n",
       " <!--<td class=\"ta_r\">0</td>\n",
       "                 <td class=\"ta_r\">0</td>\n",
       "                 <td class=\"ta_r\">40%</td>\n",
       "                  <td class=\"ta_r\">0</td>\n",
       "                 <td class=\"ta_r\">0</td>\n",
       "                 <td class=\"ta_r\"></td> -->\n",
       " </tr>,\n",
       " <tr>\n",
       " <th scope=\"row\">광주</th>\n",
       " <td class=\"ta_r\">163</td>\n",
       " <td class=\"ta_r\">109,960</td>\n",
       " <td class=\"ta_r\">46.7%</td>\n",
       " <!--<td class=\"ta_r\">0</td>\n",
       "                 <td class=\"ta_r\">0</td>\n",
       "                 <td class=\"ta_r\">46.7%</td>\n",
       "                  <td class=\"ta_r\">0</td>\n",
       "                 <td class=\"ta_r\">0</td>\n",
       "                 <td class=\"ta_r\"></td> -->\n",
       " </tr>,\n",
       " <tr>\n",
       " <th scope=\"row\">대전</th>\n",
       " <td class=\"ta_r\">144</td>\n",
       " <td class=\"ta_r\">104,022</td>\n",
       " <td class=\"ta_r\">42.2%</td>\n",
       " <!--<td class=\"ta_r\">0</td>\n",
       "                 <td class=\"ta_r\">0</td>\n",
       "                 <td class=\"ta_r\">42.2%</td>\n",
       "                 <td class=\"ta_r\">0</td>\n",
       "                 <td class=\"ta_r\">0</td>\n",
       "                 <td class=\"ta_r\"></td> -->\n",
       " </tr>,\n",
       " <tr>\n",
       " <th scope=\"row\">울산</th>\n",
       " <td class=\"ta_r\">182</td>\n",
       " <td class=\"ta_r\">66,403</td>\n",
       " <td class=\"ta_r\">37.6%</td>\n",
       " <!--<td class=\"ta_r\">0</td>\n",
       "                 <td class=\"ta_r\">0</td>\n",
       "                 <td class=\"ta_r\">37.6%</td>\n",
       "                  <td class=\"ta_r\">0</td>\n",
       "                 <td class=\"ta_r\">0</td>\n",
       "                 <td class=\"ta_r\"></td> -->\n",
       " </tr>,\n",
       " <tr>\n",
       " <th scope=\"row\">세종</th>\n",
       " <td class=\"ta_r\">78</td>\n",
       " <td class=\"ta_r\">18,426</td>\n",
       " <td class=\"ta_r\">43.1%</td>\n",
       " <!--  <td class=\"ta_r\">0</td>\n",
       "                 <td class=\"ta_r\">0</td>\n",
       "                 <td class=\"ta_r\">43.1%</td>\n",
       "                 <td class=\"ta_r\">0</td>\n",
       "                 <td class=\"ta_r\">0</td>\n",
       "                 <td class=\"ta_r\"></td> -->\n",
       " </tr>,\n",
       " <tr>\n",
       " <th scope=\"row\">경기</th>\n",
       " <td class=\"ta_r\">1,603</td>\n",
       " <td class=\"ta_r\">865,601</td>\n",
       " <td class=\"ta_r\">40.7%</td>\n",
       " <!--<td class=\"ta_r\">0</td>\n",
       "                 <td class=\"ta_r\">0</td>\n",
       "                 <td class=\"ta_r\">40.7%</td>\n",
       "                  <td class=\"ta_r\">0</td>\n",
       "                 <td class=\"ta_r\">0</td>\n",
       "                 <td class=\"ta_r\"></td> -->\n",
       " </tr>,\n",
       " <tr>\n",
       " <th scope=\"row\">강원</th>\n",
       " <td class=\"ta_r\">324</td>\n",
       " <td class=\"ta_r\">142,146</td>\n",
       " <td class=\"ta_r\">38.6%</td>\n",
       " <!--<td class=\"ta_r\">0</td>\n",
       "                 <td class=\"ta_r\">0</td>\n",
       "                 <td class=\"ta_r\">38.6%</td>\n",
       "                  <td class=\"ta_r\">0</td>\n",
       "                 <td class=\"ta_r\">0</td>\n",
       "                 <td class=\"ta_r\"></td> -->\n",
       " </tr>,\n",
       " <tr>\n",
       " <th scope=\"row\">충북</th>\n",
       " <td class=\"ta_r\">288</td>\n",
       " <td class=\"ta_r\">142,923</td>\n",
       " <td class=\"ta_r\">42.7%</td>\n",
       " <!-- <td class=\"ta_r\">0</td>\n",
       "                 <td class=\"ta_r\">0</td>\n",
       "                 <td class=\"ta_r\">42.7%</td>\n",
       "                 <td class=\"ta_r\">0</td>\n",
       "                 <td class=\"ta_r\">0</td>\n",
       "                 <td class=\"ta_r\"></td> -->\n",
       " </tr>,\n",
       " <tr>\n",
       " <th scope=\"row\">충남</th>\n",
       " <td class=\"ta_r\">324</td>\n",
       " <td class=\"ta_r\">190,390</td>\n",
       " <td class=\"ta_r\">41.6%</td>\n",
       " <!--<td class=\"ta_r\">0</td>\n",
       "                 <td class=\"ta_r\">0</td>\n",
       "                 <td class=\"ta_r\">41.6%</td>\n",
       "                  <td class=\"ta_r\">0</td>\n",
       "                 <td class=\"ta_r\">0</td>\n",
       "                 <td class=\"ta_r\"></td> -->\n",
       " </tr>,\n",
       " <tr>\n",
       " <th scope=\"row\">전북</th>\n",
       " <td class=\"ta_r\">368</td>\n",
       " <td class=\"ta_r\">197,658</td>\n",
       " <td class=\"ta_r\">46.4%</td>\n",
       " <!--<td class=\"ta_r\">0</td>\n",
       "                 <td class=\"ta_r\">0</td>\n",
       "                 <td class=\"ta_r\">46.4%</td>\n",
       "                  <td class=\"ta_r\">0</td>\n",
       "                 <td class=\"ta_r\">0</td>\n",
       "                 <td class=\"ta_r\"></td> -->\n",
       " </tr>,\n",
       " <tr>\n",
       " <th scope=\"row\">전남</th>\n",
       " <td class=\"ta_r\">407</td>\n",
       " <td class=\"ta_r\">228,923</td>\n",
       " <td class=\"ta_r\">48.2%</td>\n",
       " <!--<td class=\"ta_r\">0</td>\n",
       "                 <td class=\"ta_r\">0</td>\n",
       "                 <td class=\"ta_r\">48.2%</td>\n",
       "                  <td class=\"ta_r\">0</td>\n",
       "                 <td class=\"ta_r\">0</td>\n",
       "                 <td class=\"ta_r\"></td> -->\n",
       " </tr>,\n",
       " <tr>\n",
       " <th scope=\"row\">경북</th>\n",
       " <td class=\"ta_r\">577</td>\n",
       " <td class=\"ta_r\">238,169</td>\n",
       " <td class=\"ta_r\">37.5%</td>\n",
       " <!-- <td class=\"ta_r\">0</td>\n",
       "                 <td class=\"ta_r\">0</td>\n",
       "                 <td class=\"ta_r\">37.5%</td>\n",
       "                  <td class=\"ta_r\">0</td>\n",
       "                 <td class=\"ta_r\">0</td>\n",
       "                 <td class=\"ta_r\"></td> -->\n",
       " </tr>,\n",
       " <tr>\n",
       " <th scope=\"row\">경남</th>\n",
       " <td class=\"ta_r\">532</td>\n",
       " <td class=\"ta_r\">248,928</td>\n",
       " <td class=\"ta_r\">36.9%</td>\n",
       " <!-- <td class=\"ta_r\">0</td>\n",
       "                 <td class=\"ta_r\">0</td>\n",
       "                 <td class=\"ta_r\">36.9%</td>\n",
       "                  <td class=\"ta_r\">0</td>\n",
       "                 <td class=\"ta_r\">0</td>\n",
       "                 <td class=\"ta_r\"></td> -->\n",
       " </tr>,\n",
       " <tr>\n",
       " <th scope=\"row\">제주</th>\n",
       " <td class=\"ta_r\">103</td>\n",
       " <td class=\"ta_r\">45,705</td>\n",
       " <td class=\"ta_r\">37.7%</td>\n",
       " <!--<td class=\"ta_r\">0</td>\n",
       "                 <td class=\"ta_r\">0</td>\n",
       "                 <td class=\"ta_r\">37.7%</td>\n",
       "                  <td class=\"ta_r\">0</td>\n",
       "                 <td class=\"ta_r\">0</td>\n",
       "                 <td class=\"ta_r\"></td> -->\n",
       " </tr>]"
      ]
     },
     "execution_count": 37,
     "metadata": {},
     "output_type": "execute_result"
    }
   ],
   "source": [
    "len(trs)\n",
    "trs"
   ]
  },
  {
   "cell_type": "code",
   "execution_count": 39,
   "id": "5a9a1ced-2f56-41bd-9980-e2905392f6f6",
   "metadata": {},
   "outputs": [],
   "source": [
    "# 위에서 확인한 필요한 데이터\n",
    " # <th scope=\"row\">서울</th>\n",
    " # <td class=\"ta_r\">1,622</td> #신규\n",
    " # <td class=\"ta_r\">690,818</td> #누적\n",
    " # <td class=\"ta_r\">39.8%</td> # 접종률"
   ]
  },
  {
   "cell_type": "code",
   "execution_count": 40,
   "id": "6fa429d5-98b5-4cee-8f37-7a2d85e59eea",
   "metadata": {},
   "outputs": [],
   "source": [
    "cols=['loc','new','accumulate','rate']\n",
    "data=[]# 전국 데이터가 key-value dict으로 지정 "
   ]
  },
  {
   "cell_type": "code",
   "execution_count": 41,
   "id": "61252766-36df-417d-9e90-5f7772ac65d9",
   "metadata": {},
   "outputs": [],
   "source": [
    "for idx, tr in enumerate(trs) : \n",
    "    if idx==0 : \n",
    "        continue # idx 0번 데이터는 전국 데이터 제외해야 하므로 continue\n",
    "    tuple_t=[] # 한 지역 데이터 추출 후 저장\n",
    "    # 지역명\n",
    "    loc_th=tr.find('th')\n",
    "    # 접종관련 데이터들\n",
    "    tds = tr.select('td')\n",
    "    # 지역이름 추가\n",
    "    tuple_t.append(loc_th.text) # 지역\n",
    "    # 접종관련 데이터 추가\n",
    "    tuple_t.append(tds[0].text.replace(' ','').replace('\\r\\n','').replace(',',''))#신규접종\n",
    "    tuple_t.append(tds[1].text.replace(' ','').replace('\\r\\n','').replace(',',''))#누적접종\n",
    "    tuple_t.append(tds[2].text.replace(' ','').replace('\\r\\n','').replace(',',''))#접종률\n",
    "\n",
    "    data.append(dict(zip(cols,tuple_t))) # 위에서 만든 cols가 키가 되고 튜플에 \n",
    "#순서에 맞게 추가한 것들이 value가됨"
   ]
  },
  {
   "cell_type": "code",
   "execution_count": 42,
   "id": "41d97021-fd5d-4675-8c94-d7bfbada676b",
   "metadata": {},
   "outputs": [
    {
     "data": {
      "text/plain": [
       "[{'loc': '서울', 'new': '1622', 'accumulate': '690818', 'rate': '39.8%'},\n",
       " {'loc': '부산', 'new': '536', 'accumulate': '273459', 'rate': '36.5%'},\n",
       " {'loc': '대구', 'new': '386', 'accumulate': '151243', 'rate': '32.2%'},\n",
       " {'loc': '인천', 'new': '463', 'accumulate': '199451', 'rate': '40%'},\n",
       " {'loc': '광주', 'new': '163', 'accumulate': '109960', 'rate': '46.7%'},\n",
       " {'loc': '대전', 'new': '144', 'accumulate': '104022', 'rate': '42.2%'},\n",
       " {'loc': '울산', 'new': '182', 'accumulate': '66403', 'rate': '37.6%'},\n",
       " {'loc': '세종', 'new': '78', 'accumulate': '18426', 'rate': '43.1%'},\n",
       " {'loc': '경기', 'new': '1603', 'accumulate': '865601', 'rate': '40.7%'},\n",
       " {'loc': '강원', 'new': '324', 'accumulate': '142146', 'rate': '38.6%'},\n",
       " {'loc': '충북', 'new': '288', 'accumulate': '142923', 'rate': '42.7%'},\n",
       " {'loc': '충남', 'new': '324', 'accumulate': '190390', 'rate': '41.6%'},\n",
       " {'loc': '전북', 'new': '368', 'accumulate': '197658', 'rate': '46.4%'},\n",
       " {'loc': '전남', 'new': '407', 'accumulate': '228923', 'rate': '48.2%'},\n",
       " {'loc': '경북', 'new': '577', 'accumulate': '238169', 'rate': '37.5%'},\n",
       " {'loc': '경남', 'new': '532', 'accumulate': '248928', 'rate': '36.9%'},\n",
       " {'loc': '제주', 'new': '103', 'accumulate': '45705', 'rate': '37.7%'}]"
      ]
     },
     "execution_count": 42,
     "metadata": {},
     "output_type": "execute_result"
    }
   ],
   "source": [
    "# json으로 밀어넣기 위한 결과가 나오게 된다.\n",
    "data"
   ]
  },
  {
   "cell_type": "code",
   "execution_count": 44,
   "id": "47f9ef56-0d1c-46cd-a399-13ca5090ff58",
   "metadata": {},
   "outputs": [],
   "source": [
    "# json으로 밀어넣기위해 추가해야 할게 더 있다. (설명 등)"
   ]
  },
  {
   "cell_type": "code",
   "execution_count": 47,
   "id": "4d8ee59e-a57d-4bcd-8712-b0347615eba5",
   "metadata": {},
   "outputs": [
    {
     "data": {
      "text/plain": [
       "{'meta': {'desc': '지역별 코로나 예방접종 인구 현황',\n",
       "  'cols': {'loc': '지역', 'new': '신규접종', 'accumulate': '누적접종', 'rate': '접종률'},\n",
       "  'stdDay': '2023-12-21'},\n",
       " 'data': [{'loc': '서울',\n",
       "   'new': '1622',\n",
       "   'accumulate': '690818',\n",
       "   'rate': '39.8%'},\n",
       "  {'loc': '부산', 'new': '536', 'accumulate': '273459', 'rate': '36.5%'},\n",
       "  {'loc': '대구', 'new': '386', 'accumulate': '151243', 'rate': '32.2%'},\n",
       "  {'loc': '인천', 'new': '463', 'accumulate': '199451', 'rate': '40%'},\n",
       "  {'loc': '광주', 'new': '163', 'accumulate': '109960', 'rate': '46.7%'},\n",
       "  {'loc': '대전', 'new': '144', 'accumulate': '104022', 'rate': '42.2%'},\n",
       "  {'loc': '울산', 'new': '182', 'accumulate': '66403', 'rate': '37.6%'},\n",
       "  {'loc': '세종', 'new': '78', 'accumulate': '18426', 'rate': '43.1%'},\n",
       "  {'loc': '경기', 'new': '1603', 'accumulate': '865601', 'rate': '40.7%'},\n",
       "  {'loc': '강원', 'new': '324', 'accumulate': '142146', 'rate': '38.6%'},\n",
       "  {'loc': '충북', 'new': '288', 'accumulate': '142923', 'rate': '42.7%'},\n",
       "  {'loc': '충남', 'new': '324', 'accumulate': '190390', 'rate': '41.6%'},\n",
       "  {'loc': '전북', 'new': '368', 'accumulate': '197658', 'rate': '46.4%'},\n",
       "  {'loc': '전남', 'new': '407', 'accumulate': '228923', 'rate': '48.2%'},\n",
       "  {'loc': '경북', 'new': '577', 'accumulate': '238169', 'rate': '37.5%'},\n",
       "  {'loc': '경남', 'new': '532', 'accumulate': '248928', 'rate': '36.9%'},\n",
       "  {'loc': '제주', 'new': '103', 'accumulate': '45705', 'rate': '37.7%'}]}"
      ]
     },
     "execution_count": 47,
     "metadata": {},
     "output_type": "execute_result"
    }
   ],
   "source": [
    "# json에 포함시킬 meta data 구성\n",
    "res = {\n",
    "        'meta':{\n",
    "            'desc':'지역별 코로나 예방접종 인구 현황',\n",
    "            'cols':{\n",
    "                'loc':'지역'\n",
    "                ,'new':'신규접종'\n",
    "                ,'accumulate':'누적접종' \n",
    "               ,'rate' : '접종률'\n",
    "                  },\n",
    "            'stdDay':cal_std_day(6)\n",
    "        }, # meta데이터에 데이터에 대한 설명을 넣는다.\n",
    "        'data':data #value에 data를 통채로 넣는다. 리스트형태로 data라는 calue를 가지게됨\n",
    "}\n",
    "res"
   ]
  },
  {
   "cell_type": "code",
   "execution_count": 46,
   "id": "5298cc02-7bf6-473d-a3e3-57b9cf9b181c",
   "metadata": {},
   "outputs": [],
   "source": [
    "# # 밀어넣기 코드임 한번 실행해서 이미 파일 존재\n",
    "# file_dir='/corona_data/vaccine/'\n",
    "# file_name='corona_vaccine_'+cal_std_day(6)+'.json'\n",
    "# client.write(file_dir+file_name,json.dumps(res,ensure_ascii=False),encoding='utf=8')"
   ]
  },
  {
   "cell_type": "code",
   "execution_count": 48,
   "id": "a0674b0c-f27a-4dac-b52e-48ef486bba5d",
   "metadata": {},
   "outputs": [
    {
     "name": "stderr",
     "output_type": "stream",
     "text": [
      "                                                                                \r"
     ]
    },
    {
     "name": "stdout",
     "output_type": "stream",
     "text": [
      "+----------------------+------------------------------+\n",
      "|                  data|                          meta|\n",
      "+----------------------+------------------------------+\n",
      "|[{688448, 서울, 152...|{{누적접종, 지역, 신규접종,...|\n",
      "+----------------------+------------------------------+\n",
      "\n"
     ]
    }
   ],
   "source": [
    "# 밀어넣은것 확인해보기. read\n",
    "file_dir='/corona_data/vaccine/'\n",
    "file_name='corona_vaccine_'+cal_std_day(6)+'.json'\n",
    "vaccine=spark.read.json(file_dir+file_name)\n",
    "vaccine.show()"
   ]
  },
  {
   "cell_type": "markdown",
   "id": "b524fa53-543d-4cda-9484-b230d92c7485",
   "metadata": {},
   "source": [
    "### 위 크롤링된 데이터가 전 연령에 대한 백신 관련 데이터가 아니므로 다른 파일 사용"
   ]
  },
  {
   "cell_type": "code",
   "execution_count": 49,
   "id": "00e93f53-0b93-4982-87fc-e1c8297173d8",
   "metadata": {},
   "outputs": [],
   "source": [
    "import pandas as pd"
   ]
  },
  {
   "cell_type": "code",
   "execution_count": 50,
   "id": "245d79e3-87f2-44fe-8eb1-8fd0bf4c5745",
   "metadata": {},
   "outputs": [],
   "source": [
    "fin_vac = pd.read_csv('./data/corona_data/코로나백신접종완료_2022_12.csv',index_col=0)"
   ]
  },
  {
   "cell_type": "code",
   "execution_count": 56,
   "id": "08842f1c-851c-42fa-8563-2fbc10b5b175",
   "metadata": {},
   "outputs": [
    {
     "data": {
      "text/html": [
       "<div>\n",
       "<style scoped>\n",
       "    .dataframe tbody tr th:only-of-type {\n",
       "        vertical-align: middle;\n",
       "    }\n",
       "\n",
       "    .dataframe tbody tr th {\n",
       "        vertical-align: top;\n",
       "    }\n",
       "\n",
       "    .dataframe thead th {\n",
       "        text-align: right;\n",
       "    }\n",
       "</style>\n",
       "<table border=\"1\" class=\"dataframe\">\n",
       "  <thead>\n",
       "    <tr style=\"text-align: right;\">\n",
       "      <th></th>\n",
       "      <th>LOC</th>\n",
       "      <th>V1</th>\n",
       "      <th>V2</th>\n",
       "      <th>V3</th>\n",
       "    </tr>\n",
       "  </thead>\n",
       "  <tbody>\n",
       "    <tr>\n",
       "      <th>0</th>\n",
       "      <td>제주</td>\n",
       "      <td>591058</td>\n",
       "      <td>585437.0</td>\n",
       "      <td>439106.0</td>\n",
       "    </tr>\n",
       "    <tr>\n",
       "      <th>1</th>\n",
       "      <td>서울</td>\n",
       "      <td>8335298</td>\n",
       "      <td>8257768.0</td>\n",
       "      <td>6076429.0</td>\n",
       "    </tr>\n",
       "    <tr>\n",
       "      <th>2</th>\n",
       "      <td>부산</td>\n",
       "      <td>2879900</td>\n",
       "      <td>2851362.0</td>\n",
       "      <td>2140773.0</td>\n",
       "    </tr>\n",
       "    <tr>\n",
       "      <th>3</th>\n",
       "      <td>대구</td>\n",
       "      <td>2018604</td>\n",
       "      <td>1995783.0</td>\n",
       "      <td>1405163.0</td>\n",
       "    </tr>\n",
       "    <tr>\n",
       "      <th>4</th>\n",
       "      <td>광주</td>\n",
       "      <td>1261981</td>\n",
       "      <td>1250568.0</td>\n",
       "      <td>968947.0</td>\n",
       "    </tr>\n",
       "  </tbody>\n",
       "</table>\n",
       "</div>"
      ],
      "text/plain": [
       "  LOC       V1         V2         V3\n",
       "0  제주   591058   585437.0   439106.0\n",
       "1  서울  8335298  8257768.0  6076429.0\n",
       "2  부산  2879900  2851362.0  2140773.0\n",
       "3  대구  2018604  1995783.0  1405163.0\n",
       "4  광주  1261981  1250568.0   968947.0"
      ]
     },
     "execution_count": 56,
     "metadata": {},
     "output_type": "execute_result"
    }
   ],
   "source": [
    "fin_vac.head()"
   ]
  },
  {
   "cell_type": "code",
   "execution_count": 53,
   "id": "10dce885-ae39-4243-915e-3039aed610e7",
   "metadata": {},
   "outputs": [
    {
     "data": {
      "text/plain": [
       "LOC           광주\n",
       "V1       1261981\n",
       "V2     1250568.0\n",
       "V3      968947.0\n",
       "Name: 4, dtype: object"
      ]
     },
     "execution_count": 53,
     "metadata": {},
     "output_type": "execute_result"
    }
   ],
   "source": [
    "# row 예시\n",
    "tmp = fin_vac.loc[4]\n",
    "tmp"
   ]
  },
  {
   "cell_type": "code",
   "execution_count": 64,
   "id": "59e8b639-dc13-4af7-90c8-1e97421363dd",
   "metadata": {},
   "outputs": [],
   "source": [
    "cols=['loc','v1','v2','v3']\n",
    "data=[]      "
   ]
  },
  {
   "cell_type": "code",
   "execution_count": 57,
   "id": "7122d8b2-c6d5-4b6b-a3ec-de87da1bf9de",
   "metadata": {},
   "outputs": [
    {
     "data": {
      "text/plain": [
       "Index([0, 1, 2, 3, 4, 5, 6, 7, 8, 9, 10, 11, 12, 13, 14, 15, 16], dtype='int64')"
      ]
     },
     "execution_count": 57,
     "metadata": {},
     "output_type": "execute_result"
    }
   ],
   "source": [
    "fin_vac.index"
   ]
  },
  {
   "cell_type": "code",
   "execution_count": 58,
   "id": "1da77fd4-09cb-4fef-a0af-5cb922afb4ef",
   "metadata": {},
   "outputs": [],
   "source": [
    "for idx in fin_vac.index : \n",
    "    tuple_t = []\n",
    "    tmp = fin_vac.loc[idx]\n",
    "    tuple_t.append(str(tmp.LOC))\n",
    "    tuple_t.append(str(tmp.V1))\n",
    "    tuple_t.append(str(tmp.V2))\n",
    "    tuple_t.append(str(tmp.V3))\n",
    "    data.append(dict(zip(cols,tuple_t)))"
   ]
  },
  {
   "cell_type": "code",
   "execution_count": 59,
   "id": "ef9b937d-5ff9-4eae-8b19-75bb90778cbb",
   "metadata": {},
   "outputs": [
    {
     "data": {
      "text/plain": [
       "[{'loc': '서울', 'new': '1622', 'accumulate': '690818', 'rate': '39.8%'},\n",
       " {'loc': '부산', 'new': '536', 'accumulate': '273459', 'rate': '36.5%'},\n",
       " {'loc': '대구', 'new': '386', 'accumulate': '151243', 'rate': '32.2%'},\n",
       " {'loc': '인천', 'new': '463', 'accumulate': '199451', 'rate': '40%'},\n",
       " {'loc': '광주', 'new': '163', 'accumulate': '109960', 'rate': '46.7%'},\n",
       " {'loc': '대전', 'new': '144', 'accumulate': '104022', 'rate': '42.2%'},\n",
       " {'loc': '울산', 'new': '182', 'accumulate': '66403', 'rate': '37.6%'},\n",
       " {'loc': '세종', 'new': '78', 'accumulate': '18426', 'rate': '43.1%'},\n",
       " {'loc': '경기', 'new': '1603', 'accumulate': '865601', 'rate': '40.7%'},\n",
       " {'loc': '강원', 'new': '324', 'accumulate': '142146', 'rate': '38.6%'},\n",
       " {'loc': '충북', 'new': '288', 'accumulate': '142923', 'rate': '42.7%'},\n",
       " {'loc': '충남', 'new': '324', 'accumulate': '190390', 'rate': '41.6%'},\n",
       " {'loc': '전북', 'new': '368', 'accumulate': '197658', 'rate': '46.4%'},\n",
       " {'loc': '전남', 'new': '407', 'accumulate': '228923', 'rate': '48.2%'},\n",
       " {'loc': '경북', 'new': '577', 'accumulate': '238169', 'rate': '37.5%'},\n",
       " {'loc': '경남', 'new': '532', 'accumulate': '248928', 'rate': '36.9%'},\n",
       " {'loc': '제주', 'new': '103', 'accumulate': '45705', 'rate': '37.7%'},\n",
       " {'loc': '제주', 'new': '591058', 'accumulate': '585437.0', 'rate': '439106.0'},\n",
       " {'loc': '서울',\n",
       "  'new': '8335298',\n",
       "  'accumulate': '8257768.0',\n",
       "  'rate': '6076429.0'},\n",
       " {'loc': '부산',\n",
       "  'new': '2879900',\n",
       "  'accumulate': '2851362.0',\n",
       "  'rate': '2140773.0'},\n",
       " {'loc': '대구',\n",
       "  'new': '2018604',\n",
       "  'accumulate': '1995783.0',\n",
       "  'rate': '1405163.0'},\n",
       " {'loc': '광주',\n",
       "  'new': '1261981',\n",
       "  'accumulate': '1250568.0',\n",
       "  'rate': '968947.0'},\n",
       " {'loc': '인천',\n",
       "  'new': '2574233',\n",
       "  'accumulate': '2550081.0',\n",
       "  'rate': '1915266.0'},\n",
       " {'loc': '대전',\n",
       "  'new': '1245473',\n",
       "  'accumulate': '1233376.0',\n",
       "  'rate': '909102.0'},\n",
       " {'loc': '경기',\n",
       "  'new': '11837174',\n",
       "  'accumulate': '11723258.0',\n",
       "  'rate': '8707827.0'},\n",
       " {'loc': '세종', 'new': '300568', 'accumulate': '296859.0', 'rate': '211095.0'},\n",
       " {'loc': '경남',\n",
       "  'new': '2882823',\n",
       "  'accumulate': '2853755.0',\n",
       "  'rate': '2145652.0'},\n",
       " {'loc': '경북',\n",
       "  'new': '2293225',\n",
       "  'accumulate': '2269593.0',\n",
       "  'rate': '1727188.0'},\n",
       " {'loc': '전남',\n",
       "  'new': '1655633',\n",
       "  'accumulate': '1641348.0',\n",
       "  'rate': '1365245.0'},\n",
       " {'loc': '전북',\n",
       "  'new': '1593950',\n",
       "  'accumulate': '1581091.0',\n",
       "  'rate': '1285767.0'},\n",
       " {'loc': '충남',\n",
       "  'new': '1902008',\n",
       "  'accumulate': '1884584.0',\n",
       "  'rate': '1479736.0'},\n",
       " {'loc': '충북',\n",
       "  'new': '1430877',\n",
       "  'accumulate': '1418444.0',\n",
       "  'rate': '1108508.0'},\n",
       " {'loc': '강원',\n",
       "  'new': '1352085',\n",
       "  'accumulate': '1340870.0',\n",
       "  'rate': '1065143.0'},\n",
       " {'loc': '울산', 'new': '968160', 'accumulate': '958920.0', 'rate': '720521.0'}]"
      ]
     },
     "execution_count": 59,
     "metadata": {},
     "output_type": "execute_result"
    }
   ],
   "source": [
    "data"
   ]
  },
  {
   "cell_type": "code",
   "execution_count": 60,
   "id": "49cd73e1-b427-468e-a273-b6ed3891bb98",
   "metadata": {},
   "outputs": [
    {
     "data": {
      "text/plain": [
       "{'meta': {'desc': '지역별 코로나 예방접종 인구 현황',\n",
       "  'cols': {'loc': '지역', 'v1': '1차접종누적', 'v2': '2차접종누적', 'v3': '3차접종누적'},\n",
       "  'stdDay': '2022-12-27'},\n",
       " 'data': [{'loc': '서울',\n",
       "   'new': '1622',\n",
       "   'accumulate': '690818',\n",
       "   'rate': '39.8%'},\n",
       "  {'loc': '부산', 'new': '536', 'accumulate': '273459', 'rate': '36.5%'},\n",
       "  {'loc': '대구', 'new': '386', 'accumulate': '151243', 'rate': '32.2%'},\n",
       "  {'loc': '인천', 'new': '463', 'accumulate': '199451', 'rate': '40%'},\n",
       "  {'loc': '광주', 'new': '163', 'accumulate': '109960', 'rate': '46.7%'},\n",
       "  {'loc': '대전', 'new': '144', 'accumulate': '104022', 'rate': '42.2%'},\n",
       "  {'loc': '울산', 'new': '182', 'accumulate': '66403', 'rate': '37.6%'},\n",
       "  {'loc': '세종', 'new': '78', 'accumulate': '18426', 'rate': '43.1%'},\n",
       "  {'loc': '경기', 'new': '1603', 'accumulate': '865601', 'rate': '40.7%'},\n",
       "  {'loc': '강원', 'new': '324', 'accumulate': '142146', 'rate': '38.6%'},\n",
       "  {'loc': '충북', 'new': '288', 'accumulate': '142923', 'rate': '42.7%'},\n",
       "  {'loc': '충남', 'new': '324', 'accumulate': '190390', 'rate': '41.6%'},\n",
       "  {'loc': '전북', 'new': '368', 'accumulate': '197658', 'rate': '46.4%'},\n",
       "  {'loc': '전남', 'new': '407', 'accumulate': '228923', 'rate': '48.2%'},\n",
       "  {'loc': '경북', 'new': '577', 'accumulate': '238169', 'rate': '37.5%'},\n",
       "  {'loc': '경남', 'new': '532', 'accumulate': '248928', 'rate': '36.9%'},\n",
       "  {'loc': '제주', 'new': '103', 'accumulate': '45705', 'rate': '37.7%'},\n",
       "  {'loc': '제주', 'new': '591058', 'accumulate': '585437.0', 'rate': '439106.0'},\n",
       "  {'loc': '서울',\n",
       "   'new': '8335298',\n",
       "   'accumulate': '8257768.0',\n",
       "   'rate': '6076429.0'},\n",
       "  {'loc': '부산',\n",
       "   'new': '2879900',\n",
       "   'accumulate': '2851362.0',\n",
       "   'rate': '2140773.0'},\n",
       "  {'loc': '대구',\n",
       "   'new': '2018604',\n",
       "   'accumulate': '1995783.0',\n",
       "   'rate': '1405163.0'},\n",
       "  {'loc': '광주',\n",
       "   'new': '1261981',\n",
       "   'accumulate': '1250568.0',\n",
       "   'rate': '968947.0'},\n",
       "  {'loc': '인천',\n",
       "   'new': '2574233',\n",
       "   'accumulate': '2550081.0',\n",
       "   'rate': '1915266.0'},\n",
       "  {'loc': '대전',\n",
       "   'new': '1245473',\n",
       "   'accumulate': '1233376.0',\n",
       "   'rate': '909102.0'},\n",
       "  {'loc': '경기',\n",
       "   'new': '11837174',\n",
       "   'accumulate': '11723258.0',\n",
       "   'rate': '8707827.0'},\n",
       "  {'loc': '세종', 'new': '300568', 'accumulate': '296859.0', 'rate': '211095.0'},\n",
       "  {'loc': '경남',\n",
       "   'new': '2882823',\n",
       "   'accumulate': '2853755.0',\n",
       "   'rate': '2145652.0'},\n",
       "  {'loc': '경북',\n",
       "   'new': '2293225',\n",
       "   'accumulate': '2269593.0',\n",
       "   'rate': '1727188.0'},\n",
       "  {'loc': '전남',\n",
       "   'new': '1655633',\n",
       "   'accumulate': '1641348.0',\n",
       "   'rate': '1365245.0'},\n",
       "  {'loc': '전북',\n",
       "   'new': '1593950',\n",
       "   'accumulate': '1581091.0',\n",
       "   'rate': '1285767.0'},\n",
       "  {'loc': '충남',\n",
       "   'new': '1902008',\n",
       "   'accumulate': '1884584.0',\n",
       "   'rate': '1479736.0'},\n",
       "  {'loc': '충북',\n",
       "   'new': '1430877',\n",
       "   'accumulate': '1418444.0',\n",
       "   'rate': '1108508.0'},\n",
       "  {'loc': '강원',\n",
       "   'new': '1352085',\n",
       "   'accumulate': '1340870.0',\n",
       "   'rate': '1065143.0'},\n",
       "  {'loc': '울산',\n",
       "   'new': '968160',\n",
       "   'accumulate': '958920.0',\n",
       "   'rate': '720521.0'}]}"
      ]
     },
     "execution_count": 60,
     "metadata": {},
     "output_type": "execute_result"
    }
   ],
   "source": [
    "# json에 포함시킬 meta data 구성\n",
    "res = {\n",
    "        'meta':{\n",
    "            'desc':'지역별 코로나 예방접종 인구 현황',\n",
    "            'cols':{\n",
    "                'loc':'지역'\n",
    "                ,'v1':'1차접종누적'\n",
    "                ,'v2':'2차접종누적' \n",
    "               ,'v3' : '3차접종누적'\n",
    "                  },\n",
    "            'stdDay':cal_std_day(365)\n",
    "        },\n",
    "        'data':data\n",
    "}\n",
    "res"
   ]
  },
  {
   "cell_type": "code",
   "execution_count": 68,
   "id": "b848e3e6-41ab-4de7-8405-b3b0ed9d42e7",
   "metadata": {},
   "outputs": [],
   "source": [
    "# # 밀어넣기. 한번실행했음\n",
    "# file_dir='/corona_data/vaccine/'\n",
    "# file_name='corona_vaccine_'+cal_std_day(365)+'.json'\n",
    "# client.write(file_dir+file_name,json.dumps(res,ensure_ascii=False),encoding='utf=8')"
   ]
  },
  {
   "cell_type": "code",
   "execution_count": 62,
   "id": "a18b3f0d-890e-44e3-aa52-5efd2598437d",
   "metadata": {},
   "outputs": [
    {
     "name": "stdout",
     "output_type": "stream",
     "text": [
      "+----------------------+-----------------------------+\n",
      "|                  data|                         meta|\n",
      "+----------------------+-----------------------------+\n",
      "|[{제주, 591058, 585...|{{지역, 1차접종누적, 2차접...|\n",
      "+----------------------+-----------------------------+\n",
      "\n"
     ]
    }
   ],
   "source": [
    "# 읽어오기\n",
    "file_dir='/corona_data/vaccine/'\n",
    "file_name='corona_vaccine_'+cal_std_day(365)+'.json'\n",
    "vaccine=spark.read.json(file_dir+file_name)\n",
    "vaccine.show()"
   ]
  },
  {
   "cell_type": "markdown",
   "id": "ad23e4f7-4477-4038-8372-22d496803ccb",
   "metadata": {},
   "source": [
    "### 웹 데이터를 수집하고 json 형식으로 처리해서 HDFS에 저장하는 과정을 한 것이다."
   ]
  },
  {
   "cell_type": "code",
   "execution_count": null,
   "id": "6afdfbad-8596-4563-a022-77e4154df5c9",
   "metadata": {},
   "outputs": [],
   "source": []
  },
  {
   "cell_type": "code",
   "execution_count": null,
   "id": "f6df186c-5107-4d89-af65-27effa0fe0b0",
   "metadata": {},
   "outputs": [],
   "source": []
  },
  {
   "cell_type": "code",
   "execution_count": null,
   "id": "3df4add8-ad7a-4dea-a75c-ea07dfae2ca8",
   "metadata": {},
   "outputs": [],
   "source": []
  },
  {
   "cell_type": "code",
   "execution_count": null,
   "id": "3f1b660f-fe5d-4137-8eee-3d9f7f56b8e7",
   "metadata": {},
   "outputs": [],
   "source": []
  }
 ],
 "metadata": {
  "kernelspec": {
   "display_name": "Python 3 (ipykernel)",
   "language": "python",
   "name": "python3"
  },
  "language_info": {
   "codemirror_mode": {
    "name": "ipython",
    "version": 3
   },
   "file_extension": ".py",
   "mimetype": "text/x-python",
   "name": "python",
   "nbconvert_exporter": "python",
   "pygments_lexer": "ipython3",
   "version": "3.8.10"
  },
  "vscode": {
   "interpreter": {
    "hash": "916dbcbb3f70747c44a77c7bcd40155683ae19c65e1c03b4aa3499c5328201f1"
   }
  }
 },
 "nbformat": 4,
 "nbformat_minor": 5
}
