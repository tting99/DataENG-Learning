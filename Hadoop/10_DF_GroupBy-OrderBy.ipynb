{
 "cells": [
  {
   "cell_type": "markdown",
   "id": "adc872e2",
   "metadata": {},
   "source": [
    "## groupBy()"
   ]
  },
  {
   "cell_type": "markdown",
   "id": "d7c02403",
   "metadata": {},
   "source": [
    "- groupBy  : 집계함수를 가지고 있는 GroupData 객체를 반환한다.  \n",
    "\n",
    "- GrouopData객체의 집계함수들을 사용해 grouping 된 데이터들의 집계결과를 저장하고 있는 DataFrame을 반환 받을 수 있다."
   ]
  },
  {
   "cell_type": "code",
   "execution_count": 1,
   "id": "437aec40",
   "metadata": {},
   "outputs": [],
   "source": [
    "from IPython.core.interactiveshell import InteractiveShell\n",
    "InteractiveShell.ast_node_interactivity = \"all\""
   ]
  },
  {
   "cell_type": "code",
   "execution_count": 2,
   "id": "b94b8fc1",
   "metadata": {},
   "outputs": [],
   "source": [
    "from datetime import date, datetime\n",
    "from pyspark.sql import *\n",
    "from pyspark.sql.types import *\n",
    "from pyspark.sql.functions import *\n",
    "from pyspark.sql import functions as F"
   ]
  },
  {
   "cell_type": "code",
   "execution_count": null,
   "id": "9592eccb-818f-4179-a59a-c2a2f0352016",
   "metadata": {},
   "outputs": [],
   "source": []
  },
  {
   "cell_type": "code",
   "execution_count": 9,
   "id": "6c003818-bf76-4b08-b4f0-0a113b36e016",
   "metadata": {},
   "outputs": [],
   "source": [
    "# 지역별 교육타입별 학생 숫자를 구해보자.\n",
    "# cdf.groupby(cdf.loc, cdf.teaching_type).sum('class_std_cnt').show()\n",
    "# AnalysisException: \"class_std_cnt\" is not a numeric column.\n",
    "# class_std_cnt가 문자열이라 문제가 된다.\n",
    "# 스키마를 적용해서 해결 해보자"
   ]
  },
  {
   "cell_type": "code",
   "execution_count": 1,
   "id": "9eaaa261",
   "metadata": {},
   "outputs": [],
   "source": [
    "# 스키마 설정\n"
   ]
  },
  {
   "cell_type": "code",
   "execution_count": null,
   "id": "6310c316",
   "metadata": {
    "scrolled": true
   },
   "outputs": [],
   "source": []
  },
  {
   "cell_type": "code",
   "execution_count": 2,
   "id": "be1a5d94-a9bf-491c-8003-06eb011655c5",
   "metadata": {},
   "outputs": [],
   "source": [
    "# 지역별 교육타입별 학생 숫자를 구해보자.\n"
   ]
  },
  {
   "cell_type": "code",
   "execution_count": 3,
   "id": "17f177ea-5b8e-4d87-a403-9e0f110d80fc",
   "metadata": {},
   "outputs": [],
   "source": [
    "print('지역별 class 숫자를 계산해보자. 단 지역정보가 없는 데이터는 제외한다.')\n",
    "\n",
    "\n",
    "\n",
    "print('지역별 교육타입별 학생 숫자와 평균을 구해보자. 단 학생 숫자가 300미만인 데이터는 제외한다.')\n",
    "\n",
    "\n",
    "\n",
    "print('컬럼명이 sum(class_std_cnt) 이라니 너무 이상하다. 집계함수를 수행하고 별칭을 붙여보자')\n",
    "\n",
    "\n",
    "\n"
   ]
  },
  {
   "cell_type": "code",
   "execution_count": 14,
   "id": "715766e4",
   "metadata": {},
   "outputs": [
    {
     "name": "stdout",
     "output_type": "stream",
     "text": [
      "+---------------------+\n",
      "|(max(tot) - min(tot))|\n",
      "+---------------------+\n",
      "|                  368|\n",
      "+---------------------+\n",
      "\n"
     ]
    }
   ],
   "source": [
    "# 학교가 가장 많이 위치한 지역의 학생 수 총합과, 가장 적게 위치한 지역의 학생 수 총 합 간의 차이를 구해보자\n",
    "\n",
    "\n"
   ]
  },
  {
   "cell_type": "markdown",
   "id": "e6aa0937",
   "metadata": {},
   "source": [
    "#### sql"
   ]
  },
  {
   "cell_type": "code",
   "execution_count": 4,
   "id": "53e8a924",
   "metadata": {},
   "outputs": [],
   "source": [
    "# dataFrame을 테이블로 등록\n",
    "\n",
    "\n",
    "\n",
    "print('지역별 class 숫자를 계산해보자. 단 지역정보가 없는 데이터는 제외한다.')\n",
    "\n",
    "print('''지역내 교육타입별 학생 숫자와 평균을 구해보자. \n",
    "단  지역내 교육타입별 학생 숫자의 총 합이 300미만인 데이터는 제외한다.''')   \n",
    "\n",
    "\n",
    "print('컬럼명이 sum(class_std_cnt) 이라니 너무 이상하다. 집계함수를 수행하고 별칭을 붙여보자')\n"
   ]
  },
  {
   "cell_type": "markdown",
   "id": "63967ebe",
   "metadata": {},
   "source": [
    "## orderBy()"
   ]
  },
  {
   "cell_type": "code",
   "execution_count": 5,
   "id": "4df14c5f",
   "metadata": {},
   "outputs": [],
   "source": [
    "print('반 학생 숫자를 기준으로 내림차순 정렬하라')\n",
    "\n",
    "print('loc를 기준으로 오름차순 정렬하라, 이때 같은 지역끼리는 학교이름을 기준으로 내림차순 정렬하라')\n",
    "\n",
    "# 연습\n",
    "print('학교 종류를 기준으로 오름차순 정렬하라, 만약 school_type이 null인 행이 있다면 제일 위로 오게 하라')\n",
    "\n"
   ]
  },
  {
   "cell_type": "markdown",
   "id": "51d2e484",
   "metadata": {},
   "source": [
    "#### sql"
   ]
  },
  {
   "cell_type": "code",
   "execution_count": 6,
   "id": "d604f1c8",
   "metadata": {},
   "outputs": [],
   "source": [
    "print('반 학생 숫자를 기준으로 내림차순 정렬하라')\n",
    "\n",
    "\n",
    "\n",
    "print('loc를 기준으로 오름차순 정렬하라, 이때 같은 지역끼리는 학교이름을 기준으로 내림차순 정렬하라')\n",
    "\n",
    "\n",
    "\n",
    "# 연습\n",
    "print('학교 종류를 기준으로 오름차순 정렬하라, 만약 school_type이 null인 행이 있다면 제일 위로 오게 하라')\n"
   ]
  },
  {
   "cell_type": "code",
   "execution_count": null,
   "id": "2563e36c-afa1-4469-a3a5-0cfd6f973350",
   "metadata": {},
   "outputs": [],
   "source": []
  }
 ],
 "metadata": {
  "kernelspec": {
   "display_name": "Python 3 (ipykernel)",
   "language": "python",
   "name": "python3"
  },
  "language_info": {
   "codemirror_mode": {
    "name": "ipython",
    "version": 3
   },
   "file_extension": ".py",
   "mimetype": "text/x-python",
   "name": "python",
   "nbconvert_exporter": "python",
   "pygments_lexer": "ipython3",
   "version": "3.11.5"
  }
 },
 "nbformat": 4,
 "nbformat_minor": 5
}
