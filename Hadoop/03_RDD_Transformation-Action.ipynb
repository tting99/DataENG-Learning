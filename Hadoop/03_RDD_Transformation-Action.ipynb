{
 "cells": [
  {
   "cell_type": "markdown",
   "id": "89d4b587-2b8a-454d-947b-f11d09fd0d4f",
   "metadata": {},
   "source": [
    "### <span style=\"color: red\">현재 실습 환경의 스파크는 worker node의 기본 출력과 에러 결과는 root/hadoop/logs/userlog/container 안에 있다. </span>\n",
    "- 단 위 경로의 컨테이너 파일들은 spark shell이 실행되는 동안만 유지가 되고 shell이 종료되면 자동 삭제가 됨.\n",
    "- 전체 로그는 /root/hadoop/logs 안에 전체 로그가 기록이 되며 영구기록된다.\n",
    "- 로그관리는 일정기간 경과되면 로그파일은 삭제하던가 이동관리를 진행한다.\n",
    "- 현재 실습환경은 클러스터로 연결되어 있음.\n",
    "  - hadoop -> spark -> pyspark -> jupyter server\n",
    "  - 독립적인 pyspark sc하고는 다른 환경 : 독립적인 환경은 local에서 사용할 수 있다. server-client는 위처럼 해야함.\n",
    "  - 그렇기 때문에 spark context인 sc는 생성하지 않고 sparkshell이 제공하는 객체를 그냥 쓰면된다.\n",
    "  - spark shell이 sc 라는 객체 변수를 바로 사용가능하게 한다.\n",
    "  - 그리고 spark session은 spark라는 객체변수로 제공이 된다."
   ]
  },
  {
   "cell_type": "markdown",
   "id": "5c5324fd-9f64-4f9b-9691-d3c9dfb0dd77",
   "metadata": {},
   "source": [
    "- RDD는 데이터 마트 전까지에서 쓰인다. \n",
    "- 그 이후로는 판다스를 쓰는것이 유리하지만(기능이 다양하기 때문에) \n",
    "- 그 전까지는 빠른 속도와 복원가능성 때문에 RDD를 쓰는것이다."
   ]
  },
  {
   "cell_type": "markdown",
   "id": "a156a314",
   "metadata": {},
   "source": [
    "# Transformation - Action"
   ]
  },
  {
   "cell_type": "code",
   "execution_count": 2,
   "id": "fcfb904a-a660-4221-a189-05cefdef5f78",
   "metadata": {},
   "outputs": [],
   "source": [
    "from IPython.core.interactiveshell import InteractiveShell\n",
    "InteractiveShell.ast_node_interactivity = \"all\""
   ]
  },
  {
   "cell_type": "markdown",
   "id": "d86b0e57",
   "metadata": {},
   "source": [
    "# RDD Transformation\n",
    "\n",
    "-  데이터를 가공하기 위한 논리적 실행계획\n",
    "  - 계획이 확정될 때 까지(Action 함수가 적용될 때 까지) 지연연산(연산방법을 기록만 하고 연산은 진행하지않음)을 진행\n",
    "-  기존의 RDD에 연산이 반영된 새로운 RDD를 반환한다."
   ]
  },
  {
   "cell_type": "markdown",
   "id": "c107596f",
   "metadata": {},
   "source": [
    "# Transformation 메서드\n",
    "\n",
    "1. filter()\n",
    "2. map()\n",
    "3. flatMap()\n",
    "4. distinct()\n",
    "5. zip()\n",
    "6. join()\n",
    "6. reduceByKey()\n",
    "7. mapValues()\n",
    "8. flatMapValues()\n",
    "9. sortBy()\n",
    "10. groupByKey()"
   ]
  },
  {
   "cell_type": "markdown",
   "id": "07c2105b-c7ff-4451-a83f-ce4846513697",
   "metadata": {},
   "source": [
    "- 나는 스파크와 관련된 일을 하겠다를 파이썬에게 전달하기 위해 pyspark를 설치했고\n",
    "- 스파크명령어 sc를 이용했다."
   ]
  },
  {
   "cell_type": "code",
   "execution_count": 2,
   "id": "30ec6d9f-256a-42fc-bcf1-b751e6b4ba50",
   "metadata": {},
   "outputs": [],
   "source": [
    "# from pyspark import SparkContext, SparkConf"
   ]
  },
  {
   "cell_type": "code",
   "execution_count": 3,
   "id": "6552a475-de4b-4802-8022-4485ce1a2be3",
   "metadata": {},
   "outputs": [],
   "source": [
    "# sc.stop()"
   ]
  },
  {
   "cell_type": "code",
   "execution_count": 4,
   "id": "c3acf4a6-6bf8-46d3-856f-7661206f13cc",
   "metadata": {},
   "outputs": [],
   "source": [
    "# conf = SparkConf().setAppName('mysite').setMaster('local')\n",
    "# sc = SparkContext(conf=conf)"
   ]
  },
  {
   "cell_type": "markdown",
   "id": "6b3ec947",
   "metadata": {},
   "source": [
    "## Transformation - filter()"
   ]
  },
  {
   "cell_type": "code",
   "execution_count": 3,
   "id": "97972079-48d8-480e-8775-62e795c91b83",
   "metadata": {},
   "outputs": [
    {
     "name": "stderr",
     "output_type": "stream",
     "text": [
      "                                                                                \r"
     ]
    },
    {
     "data": {
      "text/plain": [
       "['김철수 스파크 50',\n",
       " '홍길동 스파크 80',\n",
       " '임꺽정 스파크 60',\n",
       " '임요환 텐서플로우 100',\n",
       " '홍진호 텐서플로우 22',\n",
       " '홍진호 텐서플로우 22',\n",
       " '이윤열 텐서플로우 90']"
      ]
     },
     "execution_count": 3,
     "metadata": {},
     "output_type": "execute_result"
    }
   ],
   "source": [
    "# jupyter로 pyspark 열면 없어도 됨\n",
    "# parallelize 메서드로 생성\n",
    "data = [1, 2, 3, 4, 5]\n",
    "# rdd로 만들 데이터, 파티셔닝 수\n",
    "rdd1 = sc.parallelize(data, 10)\n",
    "# 외부파일\n",
    "score_rdd = sc.textFile('/rdd/score.txt', 20)\n",
    "score_rdd.collect()\n",
    "rdd2 = sc.range(1, 10, 2, 3) # 3개의 파티션으로 생성"
   ]
  },
  {
   "cell_type": "code",
   "execution_count": 6,
   "id": "4e921add-3952-49c8-9a02-a49b2b7e42ca",
   "metadata": {},
   "outputs": [
    {
     "data": {
      "text/plain": [
       "ParallelCollectionRDD[0] at readRDDFromFile at PythonRDD.scala:274"
      ]
     },
     "execution_count": 6,
     "metadata": {},
     "output_type": "execute_result"
    },
    {
     "data": {
      "text/plain": [
       "/rdd/score.txt MapPartitionsRDD[2] at textFile at NativeMethodAccessorImpl.java:0"
      ]
     },
     "execution_count": 6,
     "metadata": {},
     "output_type": "execute_result"
    },
    {
     "data": {
      "text/plain": [
       "PythonRDD[4] at RDD at PythonRDD.scala:53"
      ]
     },
     "execution_count": 6,
     "metadata": {},
     "output_type": "execute_result"
    }
   ],
   "source": [
    "# 이것들이 지연연산인지 확인하는 방법...\n",
    "# -> 위에서 읽을 때 오타를 내서 에러를 내보자. 오타인데 에러가 나지 않는다면 지연연산이다.\n",
    "# 예시로 score_rdd = sc.textFile('/rdd/score.txt', 20)에서 경로에 오타를 내보자. 액션을 할 때 에러가 감지될것이다.\n",
    "rdd1\n",
    "score_rdd\n",
    "rdd2"
   ]
  },
  {
   "cell_type": "code",
   "execution_count": 23,
   "id": "2a456828",
   "metadata": {
    "scrolled": true
   },
   "outputs": [
    {
     "name": "stderr",
     "output_type": "stream",
     "text": [
      "                                                                                \r"
     ]
    },
    {
     "data": {
      "text/plain": [
       "['김철수 스파크 50', '홍길동 스파크 80', '임꺽정 스파크 60']"
      ]
     },
     "execution_count": 23,
     "metadata": {},
     "output_type": "execute_result"
    }
   ],
   "source": [
    "# filter()\n",
    "# 조건에 맞는 데이터만\n",
    "score_rdd.filter(lambda e : '스파크' in e).collect()"
   ]
  },
  {
   "cell_type": "markdown",
   "id": "46c1d771",
   "metadata": {},
   "source": [
    "## Transformation - map(함수)\n",
    "- 각 요소별로 적용한 결과를 합해서 rdd로 반환\n",
    "  "
   ]
  },
  {
   "cell_type": "code",
   "execution_count": 26,
   "id": "d54dd5e9",
   "metadata": {},
   "outputs": [
    {
     "data": {
      "text/plain": [
       "[2, 6, 10, 14, 18]"
      ]
     },
     "execution_count": 26,
     "metadata": {},
     "output_type": "execute_result"
    },
    {
     "data": {
      "text/plain": [
       "[1, 3, 5, 7, 9]"
      ]
     },
     "execution_count": 26,
     "metadata": {},
     "output_type": "execute_result"
    }
   ],
   "source": [
    "# map()\n",
    "# 각각의 요소에 적용\n",
    "rdd2.map(lambda e: e*2)\n",
    "rdd2.map(lambda e: e*2).collect() # 연산진행.\n",
    "rdd2.collect()"
   ]
  },
  {
   "cell_type": "markdown",
   "id": "2524f2ff",
   "metadata": {},
   "source": [
    "## Transformation - flatMap(함수)"
   ]
  },
  {
   "cell_type": "code",
   "execution_count": 34,
   "id": "522d2473",
   "metadata": {},
   "outputs": [
    {
     "data": {
      "text/plain": [
       "12"
      ]
     },
     "execution_count": 34,
     "metadata": {},
     "output_type": "execute_result"
    },
    {
     "data": {
      "text/plain": [
       "[1, 2, 3, 100, 4, 5, 6, 100, 7, 8, 9, 100]"
      ]
     },
     "execution_count": 34,
     "metadata": {},
     "output_type": "execute_result"
    }
   ],
   "source": [
    "# flatMap()\n",
    "# 각각의 요소에 함수를 적용한(여기까지는 map과 동일) 다음 평면화(flat) 시켜준다.\n",
    "# 복잡한 중첩구조의 데이터를 다루어야 할 때 편하게 다룰 수 있다.\n",
    "\n",
    "nlist = [[1, 2, 3], \n",
    "         [4, 5, 6], \n",
    "         [7, 8, 9]]\n",
    "flat_rdd = sc.parallelize(nlist) # rdd 객체 생성\n",
    "\n",
    "def append_data(e):\n",
    "    e.append(100)\n",
    "    return e\n",
    "\n",
    "res = flat_rdd.flatMap(lambda e : append_data(e)).collect()\n",
    "len(res) \n",
    "res"
   ]
  },
  {
   "cell_type": "code",
   "execution_count": 13,
   "id": "fb6df415",
   "metadata": {},
   "outputs": [],
   "source": [
    "# iterable이 아닌 요소가 RDD안에 존재한다면 flatMap은 사용할 수 없다.\n",
    "\n",
    "tmp = [[1, 2, 3,], 4, 5]\n",
    "# sc.parallelize(tmp).flatMap(lambda e : e).collect() #TypeError: 'int' object is not iterable"
   ]
  },
  {
   "cell_type": "code",
   "execution_count": 42,
   "id": "cef23278",
   "metadata": {},
   "outputs": [],
   "source": [
    "# flatMap()\n",
    "# 각각의 요소에 함수를 적용한 다음 평면화(flat) 시켜 준다,\n",
    "# 문자열도 문자들의 배열이기 때문에 각 문자로 분리해준다.\n",
    "# score_rdd.collect()\n",
    "# res = score_rdd.flatMap(lambda e : e+'점').collect()\n",
    "# res"
   ]
  },
  {
   "cell_type": "markdown",
   "id": "a1ba7db9",
   "metadata": {},
   "source": [
    "# 연습문제 : filter, map, flatMap \n",
    "\n",
    "nlist안의 요소들중 홀수인 요소만 추출하여 100을 곱하여 list로 반환하시오  \n",
    "\n",
    " - nlist = [[[1, 2], [3, 4, 5]],[[6, 7], [8, 9, 10, 11]],[[12,13,14,15], [16, 17]]]\n",
    "\n",
    " - 결과 : [100, 300, 500, 700, 900, 1100, 1300, 1500, 1700]"
   ]
  },
  {
   "cell_type": "code",
   "execution_count": 46,
   "id": "f7c63198",
   "metadata": {},
   "outputs": [
    {
     "data": {
      "text/plain": [
       "[[[1, 2], [3, 4, 5]], [[6, 7], [8, 9, 10, 11]], [[12, 13, 14, 15], [16, 17]]]"
      ]
     },
     "execution_count": 46,
     "metadata": {},
     "output_type": "execute_result"
    }
   ],
   "source": [
    "# 연습문제\n",
    "# nlist안의 요소들중 홀수인 요소만 추출하여 100을 곱하여 list로 반환하시오\n",
    "# 결과 : [100, 300, 500, 700, 900, 1100, 1300, 1500, 1700]\n",
    "\n",
    "nlist = [[[1, 2], [3, 4, 5]], \n",
    "         [[6, 7], [8, 9, 10, 11]], \n",
    "         [[12,13,14,15], [16, 17]]]\n",
    "\n",
    "flat_rdd3 = sc.parallelize(nlist)\n",
    "flat_rdd3.collect()"
   ]
  },
  {
   "cell_type": "code",
   "execution_count": 51,
   "id": "7dae22c0-4724-4ea4-98df-c802c4e6ed47",
   "metadata": {},
   "outputs": [
    {
     "data": {
      "text/plain": [
       "[100, 300, 500, 700, 900, 1100, 1300, 1500, 1700]"
      ]
     },
     "execution_count": 51,
     "metadata": {},
     "output_type": "execute_result"
    }
   ],
   "source": [
    "res = flat_rdd3.flatMap(lambda e : e ).flatMap(lambda e : e )\\\n",
    "        .filter(lambda e : e % 2 == 1)\\\n",
    "        .map(lambda e : e * 100)\n",
    "\n",
    "\n",
    "res.collect()\n"
   ]
  },
  {
   "cell_type": "markdown",
   "id": "b6a0e0f0",
   "metadata": {},
   "source": [
    "## Transformation - distinct()"
   ]
  },
  {
   "cell_type": "code",
   "execution_count": 9,
   "id": "3105f391",
   "metadata": {},
   "outputs": [
    {
     "data": {
      "text/plain": [
       "[1, 2, 3, 1, 2, 3, 1, 2, 3, 4, 5]"
      ]
     },
     "execution_count": 9,
     "metadata": {},
     "output_type": "execute_result"
    },
    {
     "data": {
      "text/plain": [
       "[2, 4, 3, 1, 5]"
      ]
     },
     "execution_count": 9,
     "metadata": {},
     "output_type": "execute_result"
    }
   ],
   "source": [
    "# distinct : 중복 제거\n",
    "\n",
    "nlist = [1, 2, 3, 1, 2, 3, 1, 2, 3 , 4, 5]\n",
    "dist_rdd = sc.parallelize(nlist)\n",
    "dist_rdd.collect()\n",
    "dist_rdd.distinct().collect()\n",
    "\n",
    "\n"
   ]
  },
  {
   "cell_type": "code",
   "execution_count": null,
   "id": "e38618bb-0c3c-472c-883a-749a2c9e7a96",
   "metadata": {},
   "outputs": [],
   "source": [
    "\n",
    "slist = ['안녕','반가워','hello','hello']"
   ]
  },
  {
   "cell_type": "markdown",
   "id": "dce0cca4",
   "metadata": {},
   "source": [
    "## Transformation - zip()\n",
    "- 두 개의 집합 객체를 전달 받아서 인덱스가 동일한 원소들 끼리 튜플로 묶어서 반환\n",
    "- 인덱스 번호가 같은 데이터끼리 튜플로 묶는다. "
   ]
  },
  {
   "cell_type": "code",
   "execution_count": 13,
   "id": "b45a04b6",
   "metadata": {},
   "outputs": [],
   "source": [
    "# zip() : 두 rdd를 결합해 하나의 key-value 형태의 하나의 rdd(Pair RDD)로 생성\n",
    "\n",
    "foods = ['파스타','스테이크', '불고기', '비빔밥', '김치']\n",
    "category = ['양식', '양식', '한식', '한식', '한식']\n",
    "\n",
    "food_rdd = sc.parallelize(foods)\n",
    "category_rdd = sc.parallelize(category)"
   ]
  },
  {
   "cell_type": "code",
   "execution_count": 18,
   "id": "a0722020-c515-421d-a4dc-b4d7a57db174",
   "metadata": {},
   "outputs": [
    {
     "data": {
      "text/plain": [
       "org.apache.spark.api.java.JavaPairRDD@62bbf51"
      ]
     },
     "execution_count": 18,
     "metadata": {},
     "output_type": "execute_result"
    },
    {
     "data": {
      "text/plain": [
       "[('양식', '파스타'), ('양식', '스테이크'), ('한식', '불고기'), ('한식', '비빔밥'), ('한식', '김치')]"
      ]
     },
     "execution_count": 18,
     "metadata": {},
     "output_type": "execute_result"
    }
   ],
   "source": [
    "# tuple의 0번인덱스가 key, 1번 인덱스가 value\n",
    "zip_rdd = category_rdd.zip(food_rdd)\n",
    "zip_rdd\n",
    "zip_rdd.collect()"
   ]
  },
  {
   "cell_type": "code",
   "execution_count": 11,
   "id": "6a875160",
   "metadata": {},
   "outputs": [],
   "source": [
    "# 길이가 2인  tuple로 이루어진 list는 key-value 형태의 rdd로 생성이 가능하다.\n",
    "\n",
    "foods = ['파스타','스테이크', '불고기', '비빔밥', '김치']\n",
    "category = ['양식', '양식', '한식', '한식', '한식']\n",
    "tmp = list(map(lambda(a,b : (a, b), category, foods))\n",
    "2강의 27분부터"
   ]
  },
  {
   "cell_type": "markdown",
   "id": "8c08dc0c",
   "metadata": {},
   "source": [
    "## Transformation - reduceByKey(), mapValues()"
   ]
  },
  {
   "cell_type": "code",
   "execution_count": null,
   "id": "62fbb2bf-0135-45d0-8a06-af079c74ddfc",
   "metadata": {},
   "outputs": [],
   "source": []
  },
  {
   "cell_type": "code",
   "execution_count": 19,
   "id": "a62f6f3a",
   "metadata": {},
   "outputs": [],
   "source": [
    "# reduceByKey, 키값을 기준으로 value값들을 연산\n",
    "# mapValues, Pair RDD의 value들에 대해 map연산\n",
    "# 키값을 기준으로 값들을 결합\n"
   ]
  },
  {
   "cell_type": "code",
   "execution_count": null,
   "id": "4e3a6e32",
   "metadata": {},
   "outputs": [],
   "source": []
  },
  {
   "cell_type": "code",
   "execution_count": 20,
   "id": "0b700b6d",
   "metadata": {},
   "outputs": [],
   "source": [
    "# 카테고리로 오름차순\n",
    "\n",
    "# 메뉴 가짓 수로 내림차순\n"
   ]
  },
  {
   "cell_type": "code",
   "execution_count": 21,
   "id": "c4be86a8-ec93-49bc-8cb0-11370c58ba1e",
   "metadata": {},
   "outputs": [],
   "source": [
    "foods = ['파스타','스테이크','호빵', '불고기', '비빔밥', '김치']\n",
    "category = ['양식', '양식', '한식','한식', '한식', '한식']\n",
    "\n"
   ]
  },
  {
   "cell_type": "code",
   "execution_count": null,
   "id": "81deeb52-e7e9-4bfc-a66a-c0409b1e5cfb",
   "metadata": {},
   "outputs": [],
   "source": []
  },
  {
   "cell_type": "markdown",
   "id": "6d1c492a",
   "metadata": {},
   "source": [
    "# 연습문제 : distinct, zip, reduceByKey, sortBy \n",
    " - hdfs의 /score.txt 파일을 읽어와 RDD로 생성하시오\n",
    " - 각 과목별 명단을 추출하시오\n",
    " - 각 과목별 평균점수를 추출하시오\n",
    " - 이때 중복으로 들어간 홍진호의 데이터는 한번만 적용되도록 합니다.  \n",
    " \n",
    " \n",
    " \n",
    " - 결과 :  \n",
    " [('스파크', {'명단': ['하명도', '홍길동', '임꺽정']}), ('텐서플로우', {'명단': ['임요환', '홍진호', '이윤열']})]       \n",
    "  \n",
    " [('스파크', {'평균점수': 63.333333333333336}), ('텐서플로우', {'평균점수': 70.66666666666667})]"
   ]
  },
  {
   "cell_type": "code",
   "execution_count": 20,
   "id": "d2bcbf53",
   "metadata": {},
   "outputs": [
    {
     "data": {
      "text/plain": [
       "['김철수 스파크 50',\n",
       " '홍길동 스파크 80',\n",
       " '임꺽정 스파크 60',\n",
       " '임요환 텐서플로우 100',\n",
       " '홍진호 텐서플로우 22',\n",
       " '홍진호 텐서플로우 22',\n",
       " '이윤열 텐서플로우 90']"
      ]
     },
     "execution_count": 20,
     "metadata": {},
     "output_type": "execute_result"
    }
   ],
   "source": [
    "# 지정한 DataSource에서 데이터를 읽어와 RDD를 생성\n",
    "# score_rdd = sc.textFile('/rdd/score.txt')\n",
    "score_rdd.collect()\n",
    "\n"
   ]
  },
  {
   "cell_type": "code",
   "execution_count": 39,
   "id": "3fdafba5-2d63-4428-91ad-503f6fdf4139",
   "metadata": {},
   "outputs": [],
   "source": [
    "# 각 과목별 명단을추출\n",
    "# 1. 중복데이터를 제거\n",
    "base = score_rdd.distinct()"
   ]
  },
  {
   "cell_type": "code",
   "execution_count": 28,
   "id": "a55704d8-ea1f-44b1-829c-f8b5f6bd855a",
   "metadata": {},
   "outputs": [
    {
     "data": {
      "text/plain": [
       "[('텐서플로우', '이윤열'),\n",
       " ('스파크', '홍길동'),\n",
       " ('스파크', '김철수'),\n",
       " ('스파크', '임꺽정'),\n",
       " ('텐서플로우', '임요환'),\n",
       " ('텐서플로우', '홍진호')]"
      ]
     },
     "execution_count": 28,
     "metadata": {},
     "output_type": "execute_result"
    }
   ],
   "source": [
    "base_pair = base.map(lambda e:e.split(' '))\\\n",
    "        .map(lambda e : (e[1], e[0]))\n",
    "base_pair.collect()"
   ]
  },
  {
   "cell_type": "code",
   "execution_count": 29,
   "id": "88b47430-91bb-4f3f-9817-c26d22c5a36c",
   "metadata": {},
   "outputs": [
    {
     "data": {
      "text/plain": [
       "[('스파크', '김철수임꺽정홍길동'), ('텐서플로우', '이윤열임요환홍진호')]"
      ]
     },
     "execution_count": 29,
     "metadata": {},
     "output_type": "execute_result"
    }
   ],
   "source": [
    "# 3. key를 기준으로 value들을 결합\n",
    "base_pair.reduceByKey(lambda a, b : a + b).collect()\n"
   ]
  },
  {
   "cell_type": "code",
   "execution_count": 30,
   "id": "03097cf0-ab55-4cc0-8c8b-2a9576c02ccf",
   "metadata": {},
   "outputs": [
    {
     "data": {
      "text/plain": [
       "[('스파크', {'명단': '홍길동'}),\n",
       " ('텐서플로우', {'명단': '이윤열'}),\n",
       " ('텐서플로우', {'명단': '홍진호'}),\n",
       " ('스파크', {'명단': '김철수'}),\n",
       " ('스파크', {'명단': '임꺽정'}),\n",
       " ('텐서플로우', {'명단': '임요환'})]"
      ]
     },
     "execution_count": 30,
     "metadata": {},
     "output_type": "execute_result"
    }
   ],
   "source": [
    "# 4. base_pair_reduce에 value에 명단 키 추가\n",
    "base_pair.mapValues(lambda e : {'명단' :e}).collect()"
   ]
  },
  {
   "cell_type": "code",
   "execution_count": 34,
   "id": "6f2f12cf-9204-47fb-92b0-f72bdf751de2",
   "metadata": {},
   "outputs": [
    {
     "data": {
      "text/plain": [
       "[('스파크', {'명단': ['홍길동', '김철수', '임꺽정']}),\n",
       " ('텐서플로우', {'명단': ['홍진호', '임요환', '이윤열']})]"
      ]
     },
     "execution_count": 34,
     "metadata": {},
     "output_type": "execute_result"
    }
   ],
   "source": [
    "# 체인으로 한꺼번에 해보기\n",
    " # 애초에 리스트로 만들어보기 e[0] -> [e[0]]\n",
    "std = score_rdd.distinct()\\\n",
    "    .map(lambda e : e.split(' '))\\\n",
    "    .map(lambda e : (e[1], [e[0]]))\\\n",
    "    .reduceByKey(lambda a, b : a + b)\\\n",
    "    .mapValues(lambda e : {'명단':e})\n",
    "std.collect()"
   ]
  },
  {
   "cell_type": "code",
   "execution_count": 40,
   "id": "7e8f4e11-a62c-46e0-89c0-8184c3fce04c",
   "metadata": {},
   "outputs": [
    {
     "data": {
      "text/plain": [
       "[['홍길동', '스파크', '80'],\n",
       " ['이윤열', '텐서플로우', '90'],\n",
       " ['홍진호', '텐서플로우', '22'],\n",
       " ['김철수', '스파크', '50'],\n",
       " ['임꺽정', '스파크', '60'],\n",
       " ['임요환', '텐서플로우', '100']]"
      ]
     },
     "execution_count": 40,
     "metadata": {},
     "output_type": "execute_result"
    }
   ],
   "source": [
    "# 과목별 평균\n",
    "# 1. 중복제거된 base RDD객체를 사용\n",
    "base = base.map(lambda e:e.split(' '))\n",
    "base.collect()"
   ]
  },
  {
   "cell_type": "code",
   "execution_count": 41,
   "id": "18ae8cda-f7d8-49e1-923d-d52f7ffd36e5",
   "metadata": {},
   "outputs": [
    {
     "data": {
      "text/plain": [
       "[('스파크', {'평균점수': 63.333333333333336}), ('텐서플로우', {'평균점수': 70.66666666666667})]"
      ]
     },
     "execution_count": 41,
     "metadata": {},
     "output_type": "execute_result"
    }
   ],
   "source": [
    "sub_avg = base.map(lambda e : (e[1], [int(e[2])]))\\\n",
    "        .reduceByKey(lambda a, b : a + b)\\\n",
    "        .mapValues(lambda e : {'평균점수': sum(e)/len(e)})\n",
    "sub_avg.collect()"
   ]
  },
  {
   "cell_type": "code",
   "execution_count": null,
   "id": "27958c07-4f26-470d-8e7b-aafa02fd1bdb",
   "metadata": {},
   "outputs": [],
   "source": []
  },
  {
   "cell_type": "markdown",
   "id": "e33aaf23",
   "metadata": {},
   "source": [
    "## Transformation - join()\n",
    "- RDD객체1.join(RDD객체2)\n",
    "- 두 RDD객체의 key를 기준으로 key값이 같은 요소들끼리 결합"
   ]
  },
  {
   "cell_type": "markdown",
   "id": "13b07497-92f4-4cb6-9d32-166b692326e4",
   "metadata": {},
   "source": [
    "- sutdent RDD = [('스파크', {'명단': ['홍길동', '김철수', '임꺽정']}),\n",
    " ('텐서플로우', {'명단': ['홍진호', '임요환', '이윤열']})]\n",
    "- sub_avg = [('스파크', {'평균점수': 63.333333333333336}), ('텐서플로우', {'평균점수': 70.66666666666667})]\n",
    "- 위 RDD 객체는 pair RDD고 key가 동일한 형태이다. 과목을 key로 갖고있음 - join 함수를 사용해서 과목 value를 결합"
   ]
  },
  {
   "cell_type": "code",
   "execution_count": 48,
   "id": "b652e952",
   "metadata": {},
   "outputs": [
    {
     "data": {
      "text/plain": [
       "[('스파크', ({'명단': ['홍길동', '김철수', '임꺽정']}, {'평균점수': 63.333333333333336})),\n",
       " ('텐서플로우', ({'명단': ['홍진호', '임요환', '이윤열']}, {'평균점수': 70.66666666666667}))]"
      ]
     },
     "execution_count": 48,
     "metadata": {},
     "output_type": "execute_result"
    }
   ],
   "source": [
    "# join : 키를 기준으로 두 RDD를 결합\n",
    "res = std.join(sub_avg)\n",
    "res.collect()"
   ]
  },
  {
   "cell_type": "code",
   "execution_count": 45,
   "id": "0584fbed-8783-4d91-a63a-487b206baa50",
   "metadata": {},
   "outputs": [
    {
     "data": {
      "text/plain": [
       "<dict_itemiterator at 0x7f94fdd4f720>"
      ]
     },
     "execution_count": 45,
     "metadata": {},
     "output_type": "execute_result"
    }
   ],
   "source": [
    "d = {'명단': ['홍길동', '김철수', '임꺽정']}\n",
    "iter(d.items())"
   ]
  },
  {
   "cell_type": "code",
   "execution_count": 24,
   "id": "ce6f228c",
   "metadata": {},
   "outputs": [],
   "source": [
    "# 미션! 키당 하나의 딕셔너리 객체만 나오게끔 작성해보기\n",
    "#[('스파크', {'명단': ['임꺽정', '하명도', '홍길동'], '평균점수': 63.333333333333336}),\n",
    "# ('텐서플로우', {'명단': ['이윤열', '홍진호', '임요환'], '평균점수': 70.66666666666667})]\n"
   ]
  },
  {
   "cell_type": "code",
   "execution_count": 52,
   "id": "9d246737-7047-4867-975c-a43e275765b1",
   "metadata": {},
   "outputs": [
    {
     "data": {
      "text/plain": [
       "[('스파크', [('명단', ['홍길동', '김철수', '임꺽정'])]),\n",
       " ('텐서플로우', [('명단', ['홍진호', '임요환', '이윤열'])])]"
      ]
     },
     "execution_count": 52,
     "metadata": {},
     "output_type": "execute_result"
    }
   ],
   "source": [
    "res.mapValues(lambda e : list(iter(e[0].items()))).collect()"
   ]
  },
  {
   "cell_type": "code",
   "execution_count": null,
   "id": "488c60bd-92cc-4062-bcdb-08daa37c4bca",
   "metadata": {},
   "outputs": [],
   "source": [
    "res = std.join(avg)\\\n",
    "        .mapValues(\n",
    "            \n",
    "        )"
   ]
  },
  {
   "cell_type": "markdown",
   "id": "3178148b",
   "metadata": {},
   "source": [
    "# Spark Shuffle"
   ]
  },
  {
   "cell_type": "markdown",
   "id": "59808a67",
   "metadata": {},
   "source": [
    "- 스파크에서 연산은 단일 파티션에서 작동된다.\n",
    "  - 연산을 진행하기 위해서는 data가 한곳에 모여 있어야 함.\n",
    "\n",
    "\n",
    "- reduceByKey와 같이 특정 키에 매핑된 모든 값에 대한 연산을 수행하기 위해서는   \n",
    "  파티션에 흩어진 특정키에 해당하는 값을 하나의 파티션으로 모아 줄 필요가 있음  \n",
    "- 모든 키에 대한 모든 값을 찾기 위해 모든 파티션을 탐색하고, 해당하는 값들을 하나의 파티션으로 옮겨오는 과정을 **셔플**이라고 부른다.  \n",
    "- shuffle은 특정 연산을 진행하기 위해 여러 파티션에 흩어져 있는 값들을 하나의 파티션으로 모으는 작업\n",
    "- 디스크 IO 또는 네트워크 IO가 발생함으로 비용이 매우 비싼 작업  (IO가 모꼬?)\n",
    "\n",
    "\n",
    "ex)   \n",
    "filter : 각 파티션에 있는 하나의 튜플에 대해 조건을 탐색하면 됨으로 셔플 발생 x  \n",
    "reduceByKey : 연산을 시작하기 위해서는 우선적으로 모든 파티션에 분산되어 있는 특정 키 값을 수집해야함으로 셔플 발생 \n",
    "- 셔플이 발생하는 함수들 :\n",
    " - subtractByKey\n",
    " - groupBy\n",
    " - foldByKey\n",
    " - reduceByKey\n",
    " - aggregateByKey\n",
    " - transformations of a join of any type\n",
    " - distinct\n",
    " - cogroup\n",
    "- 한번 모았을때 셔플있는 함수 다 적용해놔야 한다."
   ]
  },
  {
   "attachments": {
    "a12ae67a-ba50-4c15-a991-46c450a4bceb.png": {
     "image/png": "[encoded data removed]"
    }
   },
   "cell_type": "markdown",
   "id": "dc8f4d86",
   "metadata": {},
   "source": [
    "![image.png](attachment:a12ae67a-ba50-4c15-a991-46c450a4bceb.png)"
   ]
  },
  {
   "cell_type": "markdown",
   "id": "89f24263",
   "metadata": {},
   "source": [
    "# RDD Action\n",
    "\n",
    "- transformation 연산을 통해 생성한 논리적 실행계획을 최적화 하여 연산을 수행. 빠른 연산이 가능"
   ]
  },
  {
   "cell_type": "markdown",
   "id": "c264ef39",
   "metadata": {},
   "source": [
    "## Action Method\n",
    "\n",
    "1. collect()\n",
    "2. take()\n",
    "3. takeOrdered()\n",
    "4. top()\n",
    "5. countByValue()\n",
    "6. foreach()\n",
    "7. reduce()\n",
    "8. saveAsTextFile()\n",
    "9. max()\n",
    "10. min()\n",
    "11. mean()\n",
    "12. variance()\n",
    "13. stdev()\n",
    "14. stats()"
   ]
  },
  {
   "cell_type": "markdown",
   "id": "86ba5955",
   "metadata": {},
   "source": [
    "## Action - collect()"
   ]
  },
  {
   "cell_type": "code",
   "execution_count": 25,
   "id": "58128735",
   "metadata": {},
   "outputs": [],
   "source": [
    "# collect : RDD안의 모든 데이터를 리스트로 반환\n"
   ]
  },
  {
   "cell_type": "markdown",
   "id": "0b61c954",
   "metadata": {},
   "source": [
    "## Action - take()"
   ]
  },
  {
   "cell_type": "code",
   "execution_count": 26,
   "id": "ce8df93a",
   "metadata": {},
   "outputs": [],
   "source": [
    "# take : 인자로 받은 수량만큼 데이터를 리스트로 반환\n",
    "\n",
    "data = [1, 2, 3, 4, 5]\n",
    "data = [3, 5, 1, 4, 2]\n"
   ]
  },
  {
   "cell_type": "markdown",
   "id": "5a4dd878",
   "metadata": {},
   "source": [
    "## Action - takeOrdered()"
   ]
  },
  {
   "cell_type": "code",
   "execution_count": null,
   "id": "303bb46b-a91b-4d7f-b9b5-433d923a755b",
   "metadata": {},
   "outputs": [],
   "source": []
  },
  {
   "cell_type": "code",
   "execution_count": 27,
   "id": "1a64fc67",
   "metadata": {},
   "outputs": [],
   "source": [
    "# takeOrdered : 인자로 받은 수랑만큼 데이터를 오름차순으로 정렬하여 반환\n",
    "\n"
   ]
  },
  {
   "cell_type": "markdown",
   "id": "0d2cb51b",
   "metadata": {},
   "source": [
    "## Action - top()"
   ]
  },
  {
   "cell_type": "code",
   "execution_count": null,
   "id": "80af0807-b05f-42ef-b0c8-d145d5adaed6",
   "metadata": {},
   "outputs": [],
   "source": []
  },
  {
   "cell_type": "code",
   "execution_count": 28,
   "id": "927c5930",
   "metadata": {},
   "outputs": [],
   "source": [
    "# top : 인자로 받은 수랑만큼 데이터를 내림차순으로 정렬하여 반환\n"
   ]
  },
  {
   "cell_type": "markdown",
   "id": "454ebc51",
   "metadata": {},
   "source": [
    "## Action - countByValues()"
   ]
  },
  {
   "cell_type": "code",
   "execution_count": 32,
   "id": "8c200008",
   "metadata": {},
   "outputs": [],
   "source": [
    "chars = sc.parallelize(['a', 'a', 'b', 'b', 'b', 'c', 'c', 'd'])\n"
   ]
  },
  {
   "cell_type": "markdown",
   "id": "3ea11745",
   "metadata": {},
   "source": [
    "## Action - reduce()"
   ]
  },
  {
   "cell_type": "code",
   "execution_count": null,
   "id": "c284847b",
   "metadata": {},
   "outputs": [],
   "source": [
    "# reduce : 각 요소에 대해 주어진 함수를 실행하고 하나의 결과를 반환\n",
    "nums = sc.parallelize([1, 2, 3, 4, 5, 6, 7, 8, 9, 10])\n"
   ]
  },
  {
   "cell_type": "code",
   "execution_count": null,
   "id": "4521ccc1-260d-4447-9c27-cff17e6600fa",
   "metadata": {},
   "outputs": [],
   "source": [
    "# 원소를 줄여나감\n",
    "# 3, 7, 11, 15, 19\n",
    "# 10, 26, 19\n",
    "# 36, 19\n",
    "# 55"
   ]
  },
  {
   "cell_type": "markdown",
   "id": "623bd459",
   "metadata": {},
   "source": [
    "## Action - foreach()\n",
    "- 데이터 세트의 각 요소를 반복/루프하기 위해 RDD, DataFrame 및 Dataset에서 사용할 수 있는 작업\n",
    "- for고급 개념과 유사합\n",
    "- foreach()는 함수가 값을 반환하지 않고 RDD, DataFrame 및 Dataset의 각 요소에 대해 입력 함수를 실행\n",
    "- 즉 !\n",
    "    - Spark foreach()는 반환 유형이 없고\n",
    "    - 누산기를 조작하거나\n",
    "    - 외부 데이터 소스를 작성하는 데 사용되는 RDD, DataFrame, Dataset의 작업"
   ]
  },
  {
   "cell_type": "code",
   "execution_count": 31,
   "id": "a6687e4e",
   "metadata": {},
   "outputs": [],
   "source": [
    "nums = sc.parallelize([1, 2, 3, 4, 5, 6, 7, 8, 9, 10])\n"
   ]
  },
  {
   "cell_type": "markdown",
   "id": "2f47f23e",
   "metadata": {},
   "source": [
    "## Action - saveAsTextFile()"
   ]
  },
  {
   "cell_type": "code",
   "execution_count": 33,
   "id": "0414ec16-af63-455a-96f4-e91bc3cd5857",
   "metadata": {},
   "outputs": [],
   "source": [
    "# saveASTextFile : rdd를 텍스트 파일로 저장\n",
    "\n",
    "# 지정한 DataSource에서 데이터를 읽어와 RDD를 생성\n",
    "\n",
    "\n"
   ]
  },
  {
   "cell_type": "code",
   "execution_count": 66,
   "id": "6207cf0e-3c3c-43b1-98f1-cad929f30f5f",
   "metadata": {},
   "outputs": [
    {
     "data": {
      "text/plain": [
       "[('스파크', {'명단': ['하명도', '홍길동', '임꺽정']}),\n",
       " ('텐서플로우', {'명단': ['임요환', '홍진호', '이윤열']})]"
      ]
     },
     "execution_count": 66,
     "metadata": {},
     "output_type": "execute_result"
    }
   ],
   "source": []
  },
  {
   "cell_type": "code",
   "execution_count": 67,
   "id": "4ad188f5-5ce3-4f26-948f-ff4341017acb",
   "metadata": {},
   "outputs": [
    {
     "data": {
      "text/plain": [
       "[('스파크', {'평균점수': 63.333333333333336}), ('텐서플로우', {'평균점수': 70.66666666666667})]"
      ]
     },
     "execution_count": 67,
     "metadata": {},
     "output_type": "execute_result"
    }
   ],
   "source": []
  },
  {
   "cell_type": "code",
   "execution_count": 68,
   "id": "2d99a401-d04d-4647-bd5a-5f45fdbedeae",
   "metadata": {},
   "outputs": [
    {
     "data": {
      "text/plain": [
       "[('스파크', ({'명단': ['하명도', '홍길동', '임꺽정']}, {'평균점수': 63.333333333333336})),\n",
       " ('텐서플로우', ({'명단': ['임요환', '홍진호', '이윤열']}, {'평균점수': 70.66666666666667}))]"
      ]
     },
     "execution_count": 68,
     "metadata": {},
     "output_type": "execute_result"
    }
   ],
   "source": [
    "# join : 키를 기준으로 두 RDD를 결합\n"
   ]
  },
  {
   "cell_type": "code",
   "execution_count": 5,
   "id": "5bb9376e-eb7c-403e-b52c-025c324ee50c",
   "metadata": {},
   "outputs": [
    {
     "data": {
      "text/plain": [
       "{'평균점수': 63.333333333333336}"
      ]
     },
     "execution_count": 5,
     "metadata": {},
     "output_type": "execute_result"
    }
   ],
   "source": [
    "li = [('스파크', ({'명단': ['김철수', '홍길동', '임꺽정']}, {'평균점수': 63.333333333333336})),\n",
    " ('텐서플로우', ({'명단': ['임요환', '홍진호', '이윤열']}, {'평균점수': 70.66666666666667}))]\n"
   ]
  },
  {
   "cell_type": "code",
   "execution_count": 81,
   "id": "bfd543f4-872e-428d-8acf-5a1c41e68fb6",
   "metadata": {},
   "outputs": [
    {
     "data": {
      "text/plain": [
       "[('스파크', {'명단': ['하명도', '홍길동', '임꺽정'], '평균점수': 63.333333333333336}),\n",
       " ('텐서플로우', {'명단': ['임요환', '홍진호', '이윤열'], '평균점수': 70.66666666666667})]"
      ]
     },
     "execution_count": 81,
     "metadata": {},
     "output_type": "execute_result"
    }
   ],
   "source": [
    "# 미션! 키당 하나의 딕셔너리 객체만 나오게끔 작성해보기\n",
    "#[('스파크', {'명단': ['임꺽정', '하명도', '홍길동'], '평균점수': 63.333333333333336}),\n",
    "# ('텐서플로우', {'명단': ['이윤열', '홍진호', '임요환'], '평균점수': 70.66666666666667})]\n",
    "\n"
   ]
  },
  {
   "cell_type": "code",
   "execution_count": 70,
   "id": "89402f15-70b2-46ac-9271-e6832e3f09c2",
   "metadata": {},
   "outputs": [],
   "source": [
    "# 파티셔닝 되어 하둡에 디렉토리로 저장된 것을 확인 할 수 있다.\n"
   ]
  },
  {
   "attachments": {
    "0185c62e-1396-4686-9c4d-ce1a6cc7a54b.png": {
     "image/png": "[encoded data removed]"
    }
   },
   "cell_type": "markdown",
   "id": "30c4a389-2e42-4089-8716-7fc52df3ee9e",
   "metadata": {},
   "source": [
    "![image.png](attachment:0185c62e-1396-4686-9c4d-ce1a6cc7a54b.png)"
   ]
  },
  {
   "cell_type": "code",
   "execution_count": 71,
   "id": "1fbf045b",
   "metadata": {},
   "outputs": [
    {
     "data": {
      "text/plain": [
       "[\"('스파크', {'명단': ['하명도', '홍길동', '임꺽정'], '평균점수': 63.333333333333336})\",\n",
       " \"('텐서플로우', {'명단': ['임요환', '홍진호', '이윤열'], '평균점수': 70.66666666666667})\"]"
      ]
     },
     "execution_count": 71,
     "metadata": {},
     "output_type": "execute_result"
    }
   ],
   "source": []
  },
  {
   "cell_type": "markdown",
   "id": "a785b993",
   "metadata": {},
   "source": [
    "## Action - max, min, mean, variance, stdev, stats"
   ]
  },
  {
   "cell_type": "code",
   "execution_count": 34,
   "id": "f2c9d6af",
   "metadata": {},
   "outputs": [],
   "source": [
    "nums = sc.parallelize([1, 4, 2, 3, 7, 6, 5], 1)\n",
    "\n",
    "# max / min : 최대값 / 최소값\n",
    "\n",
    "\n",
    "# mean : 평균\n",
    "\n",
    "\n",
    "# variance : 분산\n",
    "\n",
    "\n",
    "# stdev : 표준편차\n",
    "\n",
    "\n",
    "# stats : count mean stdev max min\n",
    "\n"
   ]
  },
  {
   "cell_type": "code",
   "execution_count": null,
   "id": "b59e42db-a642-43ce-b1cf-d83b20ba7a9f",
   "metadata": {},
   "outputs": [],
   "source": []
  }
 ],
 "metadata": {
  "kernelspec": {
   "display_name": "Python 3 (ipykernel)",
   "language": "python",
   "name": "python3"
  },
  "language_info": {
   "codemirror_mode": {
    "name": "ipython",
    "version": 3
   },
   "file_extension": ".py",
   "mimetype": "text/x-python",
   "name": "python",
   "nbconvert_exporter": "python",
   "pygments_lexer": "ipython3",
   "version": "3.8.10"
  },
  "widgets": {
   "application/vnd.jupyter.widget-state+json": {
    "state": {},
    "version_major": 2,
    "version_minor": 0
   }
  }
 },
 "nbformat": 4,
 "nbformat_minor": 5
}
