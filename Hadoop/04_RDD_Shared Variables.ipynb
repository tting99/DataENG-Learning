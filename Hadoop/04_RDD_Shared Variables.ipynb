{
 "cells": [
  {
   "cell_type": "code",
   "execution_count": 49,
   "id": "9e054fb7",
   "metadata": {},
   "outputs": [],
   "source": [
    "from IPython.core.interactiveshell import InteractiveShell\n",
    "InteractiveShell.ast_node_interactivity = \"all\""
   ]
  },
  {
   "cell_type": "markdown",
   "id": "c564ce46",
   "metadata": {},
   "source": [
    "# Shared Variables"
   ]
  },
  {
   "cell_type": "markdown",
   "id": "ab721049",
   "metadata": {},
   "source": [
    "- 모든 노드에서 사용하기 위한 공유변수\n",
    "\n",
    "\n",
    "- 공유변수로 지정한 값은 모든 노드에 중복되어 캐시된다.\n",
    "\n",
    "\n",
    "- 반복적으로 사용해야하는 변수라면,  \n",
    "  스파크의 노드는 네트워크를 통해 통신 하기 때문에 모든 노드에 중복 캐시하는 시스템적 비용보다  \n",
    "  네트워크 과정에서 발생하는 오버헤드 비용이 더 많이 발생하게 된다."
   ]
  },
  {
   "cell_type": "markdown",
   "id": "fddb3590",
   "metadata": {},
   "source": [
    "## Broadcast Variables"
   ]
  },
  {
   "cell_type": "markdown",
   "id": "8b8f1695",
   "metadata": {},
   "source": [
    "- 각 노드에 공유되는 읽기 전용 변수"
   ]
  },
  {
   "cell_type": "code",
   "execution_count": 1,
   "id": "3b910ad9",
   "metadata": {},
   "outputs": [],
   "source": [
    "# 학생별 수업카테고리코드로 지정되어있는 값을 카테고리 전체이름으로 변경한다고 가정 해보자\n",
    "\n",
    "data = [(\"홍길동\",\"DE\"),\n",
    "    (\"이제동\",\"DS\"),\n",
    "    (\"김철수\",\"DE\"),\n",
    "    (\"변현재\",\"WD\")]\n",
    "\n",
    "\n",
    "    "
   ]
  },
  {
   "cell_type": "code",
   "execution_count": 2,
   "id": "fcbf31fb",
   "metadata": {},
   "outputs": [],
   "source": [
    "# Broadcast_variables 사용하기\n",
    "\n",
    "\n",
    "# 읽기전용 변수, 수정을 하면\n",
    "\n",
    "# 삭제를 해도\n",
    "\n",
    "# 아무일도 발생하지 않았다.\n",
    "# broadcast 함수를 사용해 생성하는 시점에 이미 SparkContext에 등록\n",
    "\n"
   ]
  },
  {
   "cell_type": "markdown",
   "id": "3957f291",
   "metadata": {},
   "source": [
    "## Accumulator"
   ]
  },
  {
   "cell_type": "markdown",
   "id": "2fcea8c2",
   "metadata": {},
   "source": [
    "- 각 노드에 공유되는 누산기 함수"
   ]
  },
  {
   "cell_type": "code",
   "execution_count": null,
   "id": "9177ba9b",
   "metadata": {
    "scrolled": true
   },
   "outputs": [],
   "source": []
  },
  {
   "cell_type": "code",
   "execution_count": 3,
   "id": "54dc9064",
   "metadata": {},
   "outputs": [],
   "source": [
    "# # accumulator를 사용하지 않는다면?\n",
    "# a = 0\n",
    "\n",
    "# # 모든 노드에서 발생하는 데이터 횟수를 확인해보자\n",
    "# def change_cate(e):\n",
    "#      a = a + 1\n",
    "#      return broadcastStates.value[e]\n",
    "    \n",
    "# students_rdd.mapValues(lambda e : change_cate(e)).collect()\n",
    "\n",
    "# # 횟수 확인\n",
    "# # local variable 'a' referenced before assignment 발생\n",
    "# a\n",
    "\n",
    "\n"
   ]
  },
  {
   "cell_type": "code",
   "execution_count": 4,
   "id": "beaedc73",
   "metadata": {},
   "outputs": [],
   "source": [
    "\n",
    "\n",
    "# 모든 노드에서 발생하는 데이터 횟수를 확인해보자\n",
    "\n",
    "\n",
    "# 횟수 확인\n",
    "# local variable 'a' referenced before assignment 발생\n"
   ]
  }
 ],
 "metadata": {
  "kernelspec": {
   "display_name": "Python 3 (ipykernel)",
   "language": "python",
   "name": "python3"
  },
  "language_info": {
   "codemirror_mode": {
    "name": "ipython",
    "version": 3
   },
   "file_extension": ".py",
   "mimetype": "text/x-python",
   "name": "python",
   "nbconvert_exporter": "python",
   "pygments_lexer": "ipython3",
   "version": "3.11.5"
  }
 },
 "nbformat": 4,
 "nbformat_minor": 5
}
