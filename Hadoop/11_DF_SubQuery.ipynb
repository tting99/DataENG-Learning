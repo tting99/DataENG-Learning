{
 "cells": [
  {
   "cell_type": "code",
   "execution_count": 1,
   "id": "145e9bce",
   "metadata": {},
   "outputs": [],
   "source": [
    "from IPython.core.interactiveshell import InteractiveShell\n",
    "InteractiveShell.ast_node_interactivity = \"all\""
   ]
  },
  {
   "cell_type": "code",
   "execution_count": 2,
   "id": "b629dd36",
   "metadata": {},
   "outputs": [],
   "source": [
    "from datetime import date, datetime\n",
    "from pyspark.sql import *\n",
    "from pyspark.sql.types import *\n",
    "from pyspark.sql.functions import *\n",
    "from pyspark.sql import functions as F"
   ]
  },
  {
   "cell_type": "code",
   "execution_count": 3,
   "id": "669e772e",
   "metadata": {
    "scrolled": true
   },
   "outputs": [
    {
     "name": "stderr",
     "output_type": "stream",
     "text": [
      "                                                                                \r"
     ]
    },
    {
     "name": "stdout",
     "output_type": "stream",
     "text": [
      "root\n",
      " |-- class_cd: string (nullable = true)\n",
      " |-- school: string (nullable = true)\n",
      " |-- class_std_cnt: string (nullable = true)\n",
      " |-- loc: string (nullable = true)\n",
      " |-- school_type: string (nullable = true)\n",
      " |-- teaching_type: string (nullable = true)\n",
      "\n",
      "+--------+------+-------------+--------+-----------+-------------+\n",
      "|class_cd|school|class_std_cnt|     loc|school_type|teaching_type|\n",
      "+--------+------+-------------+--------+-----------+-------------+\n",
      "|     6OL| ANKYI|           20|   Urban| Non-public|     Standard|\n",
      "|     ZNS| ANKYI|           21|   Urban| Non-public|     Standard|\n",
      "|     2B1| CCAAW|           18|Suburban| Non-public| Experimental|\n",
      "+--------+------+-------------+--------+-----------+-------------+\n",
      "only showing top 3 rows\n",
      "\n"
     ]
    }
   ],
   "source": [
    "cdf = spark.read.csv('/dataframe/a_class_info.csv', header=True)\n",
    "cdf.printSchema()\n",
    "cdf.show(3)"
   ]
  },
  {
   "cell_type": "markdown",
   "id": "226634b7",
   "metadata": {},
   "source": [
    "### 복잡한 연산도 해보자\n",
    "- 일반 select나 groupby 절만 이용해서는 불가능한 경우 사용\n",
    "- query내에 다른 query포함"
   ]
  },
  {
   "cell_type": "code",
   "execution_count": 8,
   "id": "539292e6-ed1b-4cc5-8784-2e60a34d8213",
   "metadata": {},
   "outputs": [
    {
     "name": "stdout",
     "output_type": "stream",
     "text": [
      "root\n",
      " |-- class_cd: string (nullable = true)\n",
      " |-- school: string (nullable = true)\n",
      " |-- class_std_cnt: integer (nullable = true)\n",
      " |-- loc: string (nullable = true)\n",
      " |-- school_type: string (nullable = true)\n",
      " |-- teaching_type: string (nullable = true)\n",
      "\n"
     ]
    }
   ],
   "source": [
    "schema = StructType([\n",
    "        StructField('class_cd',StringType()),\n",
    "        StructField('school',StringType()),\n",
    "        StructField('class_std_cnt',IntegerType()),    \n",
    "        StructField('loc',StringType()),\n",
    "        StructField('school_type',StringType()),\n",
    "        StructField('teaching_type',StringType())   \n",
    "])\n",
    "cdf = spark.read.csv('/dataframe/a_class_info.csv', header=True, schema=schema)\n",
    "cdf.printSchema()\n",
    "cdf.createOrReplaceTempView('class')"
   ]
  },
  {
   "cell_type": "markdown",
   "id": "5f5128c8",
   "metadata": {},
   "source": [
    "#### case 1. 소속된 반의 개수가 2개 이상인 학교들 중 학생 숫자가 가장 적은 학교를 구해보자"
   ]
  },
  {
   "cell_type": "code",
   "execution_count": 36,
   "id": "1479d879",
   "metadata": {},
   "outputs": [
    {
     "name": "stdout",
     "output_type": "stream",
     "text": [
      "+------------------+\n",
      "|min(class_std_cnt)|\n",
      "+------------------+\n",
      "|                10|\n",
      "+------------------+\n",
      "\n",
      "+------+------------------+\n",
      "|school|sum(class_std_cnt)|\n",
      "+------+------------------+\n",
      "| VHDHF|                51|\n",
      "| LAYPA|                57|\n",
      "| GOOBU|               158|\n",
      "| UUUQX|                84|\n",
      "|  null|                28|\n",
      "| CIMBB|                74|\n",
      "| UKPGS|               128|\n",
      "| UAGPU|                87|\n",
      "| CCAAW|               109|\n",
      "| FBUMG|                46|\n",
      "| ZOWMK|               117|\n",
      "| ZMNYA|                69|\n",
      "| QOQTS|               149|\n",
      "| CUQAM|               107|\n",
      "| OJOBU|                81|\n",
      "| GOKXL|                64|\n",
      "| KFZMY|                52|\n",
      "| ANKYI|                41|\n",
      "| GJJHK|               118|\n",
      "| KZKKE|               111|\n",
      "+------+------------------+\n",
      "only showing top 20 rows\n",
      "\n",
      "+------------+\n",
      "|min(std_cnt)|\n",
      "+------------+\n",
      "|          41|\n",
      "+------------+\n",
      "\n",
      "+------+---+\n",
      "|school|cnt|\n",
      "+------+---+\n",
      "| VHDHF| 51|\n",
      "| LAYPA| 57|\n",
      "| GOOBU|158|\n",
      "| UUUQX| 84|\n",
      "| CIMBB| 74|\n",
      "| UKPGS|128|\n",
      "| UAGPU| 87|\n",
      "| CCAAW|109|\n",
      "| FBUMG| 46|\n",
      "| ZOWMK|117|\n",
      "| ZMNYA| 69|\n",
      "| QOQTS|149|\n",
      "| CUQAM|107|\n",
      "| OJOBU| 81|\n",
      "| GOKXL| 64|\n",
      "| GJJHK|118|\n",
      "| KZKKE|111|\n",
      "| DNQDD|122|\n",
      "| VKWQH|100|\n",
      "| IDGFP| 94|\n",
      "+------+---+\n",
      "only showing top 20 rows\n",
      "\n",
      "+--------+\n",
      "|min(cnt)|\n",
      "+--------+\n",
      "|      46|\n",
      "+--------+\n",
      "\n",
      "+------+\n",
      "|school|\n",
      "+------+\n",
      "| FBUMG|\n",
      "+------+\n",
      "\n"
     ]
    }
   ],
   "source": [
    "#case 1. 소속된 반의 개수가 2개 이상인 학교들 중 학생 숫자가 가장 적은 학교를 구해보자\n",
    "# 학생숫자가 가장 작은 학교 구하고\n",
    "spark.sql('SELECT MIN(class_std_cnt) FROM class').show()\n",
    "\n",
    "spark.sql('SELECT school, SUM(class_std_cnt) FROM class GROUP BY school').show()\n",
    "# 이둘을 합쳐야함, 추가로 널도 빼줌\n",
    "spark.sql('''\n",
    "    SELECT MIN(std_cnt) FROM (SELECT school, SUM(class_std_cnt) AS std_cnt FROM class GROUP BY school HAVING school IS NOT NULL)\n",
    "''').show()\n",
    "# 만약 학교이름이 3중첩된 학교만 결과로 보고싶다?  서브 쿼리 전단계까지(3중첩된 학교리스트와 합).\n",
    "spark.sql('''\n",
    "    SELECT school, SUM(class_std_cnt) AS cnt FROM class \n",
    "    GROUP BY school HAVING school IS NOT NULL AND COUNT(school) >= 3\n",
    "''').show()\n",
    "\n",
    "# 서브쿼리 까지 해서 이중 최솟값 구해보자 그리고 그 한개의 학교 이름도 알고싶다면?\n",
    "\n",
    "# 1단계 위 결과에서 최솟값을 구한 것\n",
    "spark.sql('''\n",
    "    SELECT MIN(cnt) FROM (SELECT school, SUM(class_std_cnt) AS cnt FROM class \n",
    "    GROUP BY school HAVING school IS NOT NULL AND COUNT(school) >= 3)\n",
    "''').show(10)\n",
    "# 46으로 나온 결과를 다시 위 테이블에서 서치 후 이름가져오기\n",
    "spark.sql('''\n",
    "    select school\n",
    "    from (SELECT school, SUM(class_std_cnt) AS cnt FROM class \n",
    "    GROUP BY school HAVING school IS NOT NULL AND COUNT(school) >= 3)\n",
    "    where cnt == (SELECT MIN(cnt) FROM (SELECT school, SUM(class_std_cnt) AS cnt FROM class \n",
    "    GROUP BY school HAVING school IS NOT NULL AND COUNT(school) >= 3))\n",
    "''').show(10)\n"
   ]
  },
  {
   "cell_type": "markdown",
   "id": "f7de05cd",
   "metadata": {},
   "source": [
    "#### case2.학생수가 null이 아닌 데이터 중에서 아래 조건에 맞는 학교의 이름과 학생수를 추출하시오\n",
    "- 반별 학생수의 평균보다 반 학생수가 많은 데이터를 추출하시오"
   ]
  },
  {
   "cell_type": "code",
   "execution_count": 58,
   "id": "317202d0-2d88-4265-b79a-df1614599057",
   "metadata": {},
   "outputs": [],
   "source": [
    "# 내가 연습한것.\n",
    "# spark.sql('''\n",
    "#     SELECT class_cd, class_std_cnt FROM class WHERE class_std_cnt IS NOT NULL\n",
    "# ''').show(5)\n",
    "# spark.sql('''\n",
    "#     SELECT class_cd, SUM(class_std_cnt)  \n",
    "#     FROM(SELECT class_cd, class_std_cnt FROM class WHERE class_std_cnt IS NOT NULL)\n",
    "#     GROUP BY class_cd\n",
    "# ''').show(5)\n",
    "\n",
    "# spark.sql('''\n",
    "#     SELECT AVG(class_std_cnt) \n",
    "#     FROM(SELECT class_cd, SUM(class_std_cnt) \n",
    "#     FROM(SELECT class_cd, class_std_cnt FROM class WHERE class_std_cnt IS NOT NULL)\n",
    "#     GROUP BY class_cd)\n",
    "# ''').show(5)"
   ]
  },
  {
   "cell_type": "code",
   "execution_count": 67,
   "id": "e2d59718-ce35-4980-bdef-645ae95c2582",
   "metadata": {},
   "outputs": [
    {
     "name": "stdout",
     "output_type": "stream",
     "text": [
      "+------------------+\n",
      "|avg(class_std_cnt)|\n",
      "+------------------+\n",
      "|21.828282828282827|\n",
      "+------------------+\n",
      "\n"
     ]
    }
   ],
   "source": [
    "spark.sql('''\n",
    "    SELECT AVG(class_std_cnt) FROM class\n",
    "''').show(5)"
   ]
  },
  {
   "cell_type": "code",
   "execution_count": 59,
   "id": "2c658c5a-0dd6-4c8d-b26d-d080ef7c1cd3",
   "metadata": {},
   "outputs": [
    {
     "name": "stdout",
     "output_type": "stream",
     "text": [
      "+--------+------+-------------+--------+-----------+-------------+\n",
      "|class_cd|school|class_std_cnt|     loc|school_type|teaching_type|\n",
      "+--------+------+-------------+--------+-----------+-------------+\n",
      "|     1Q1| CUQAM|           28|   Urban|     Public|     Standard|\n",
      "|     BFY| CUQAM|           27|   Urban|     Public|     Standard|\n",
      "|     OMI| CUQAM|           28|   Urban|     Public|     Standard|\n",
      "|     X6Z| CUQAM|           24|   Urban|     Public| Experimental|\n",
      "|     2AP| DNQDD|           27|Suburban|     Public|     Standard|\n",
      "+--------+------+-------------+--------+-----------+-------------+\n",
      "only showing top 5 rows\n",
      "\n"
     ]
    }
   ],
   "source": [
    "spark.sql('''\n",
    "    SELECT (*)\n",
    "    FROM class\n",
    "    WHERE (class_std_cnt) > (SELECT AVG(class_std_cnt) FROM class) AND (class_std_cnt IS NOT NULL)\n",
    "''').show(5)"
   ]
  },
  {
   "cell_type": "markdown",
   "id": "269d3df3-5dcf-4906-8cc1-7caa036db0b5",
   "metadata": {
    "scrolled": true
   },
   "source": [
    "### case2. 소속된 반의 개수가 2개 이상인 학교들 중 학생 숫자가 가장 적은 학교보다\n",
    "# 학생이 많은 반의 데이터를 구하시오\n",
    "\n"
   ]
  },
  {
   "cell_type": "code",
   "execution_count": 4,
   "id": "e4589343",
   "metadata": {},
   "outputs": [],
   "source": [
    "# where절 subquery \n",
    "spark.sql('''\n",
    "    SELECT school FROM class\n",
    "    WHERE \n",
    "''').show(5)\n"
   ]
  },
  {
   "cell_type": "markdown",
   "id": "f4b33695",
   "metadata": {},
   "source": [
    "#### case 3. 소속된 반의 개수가 3개 미만인 학교들 중 학생 숫자가 가장 많은 학교보다, <br> 학생 숫자가 더 적으면서 소속된 반의 개수가 3개 이상인 학교를 구하시오"
   ]
  },
  {
   "cell_type": "code",
   "execution_count": 5,
   "id": "1b70f6d5",
   "metadata": {},
   "outputs": [],
   "source": [
    "# 소속된 반의 개수가 3개 미만인 학교들 중 학생 숫자가 가장 많은 학교보다\n",
    "# 학생 숫자가 더 적으면서 소속된 반의 개수가 3개 이상인 학교를 구하시오\n",
    "\n"
   ]
  },
  {
   "cell_type": "markdown",
   "id": "a193f251",
   "metadata": {},
   "source": [
    "#### sql"
   ]
  },
  {
   "cell_type": "code",
   "execution_count": 6,
   "id": "6aed7c17",
   "metadata": {},
   "outputs": [],
   "source": [
    "# having절 subquery \n",
    "# 소속된 반의 개수가 3개 미만인 학교들 중 학생 숫자가 가장 많은 학교보다\n",
    "# 학생 숫자가 더 적으면서 소속된 반의 개수가 3개 이상인 학교를 구하시오\n",
    "\n"
   ]
  },
  {
   "cell_type": "markdown",
   "id": "0a38d169",
   "metadata": {},
   "source": [
    "#### case 4. 도시 지역의 공립학교에서 일반 교육을 진행하는 반의 평균 인원수보다, <br>더 많은 학생이 소속된 교외 지역의 사립학교에서 특수 교육을 진행하는 반을 구하시오\n",
    "\n",
    "- 도시 지역의 공립학교에서 일반 교육을 진행하는 반의 평균 인원수는 올림처리 합니다.\n"
   ]
  },
  {
   "cell_type": "code",
   "execution_count": 7,
   "id": "56d1b4cd",
   "metadata": {},
   "outputs": [],
   "source": [
    "# 도시 지역의 공립학교에서 일반 교육을 진행하는 반의 평균 인원수보다 \n",
    "# 더 많은 학생이 소속된 교외 지역의 사립학교에서 특수 교육을 진행하는 반을 구하시오\n",
    "\n",
    "# 도시 지역의 공립학교에서 일반 교육을 진행하는 반의 평균 인원수는 올림처리 합니다.\n",
    "\n"
   ]
  },
  {
   "cell_type": "markdown",
   "id": "abbfa28d",
   "metadata": {},
   "source": [
    "#### case 4 sql"
   ]
  },
  {
   "cell_type": "code",
   "execution_count": 8,
   "id": "538b5837",
   "metadata": {
    "scrolled": true
   },
   "outputs": [],
   "source": [
    "# 도시 지역의 공립학교에서 일반 교육을 진행하는 반의 평균 인원수보다 \n",
    "# 더 많은 학생이 소속된 교외 지역의 사립학교에서 특수 교육을 진행하는 반을 구하시오\n",
    "\n",
    "# 도시 지역의 공립학교에서 일반 교육을 진행하는 반의 평균 인원수는 올림처리 합니다.\n",
    "\n"
   ]
  },
  {
   "cell_type": "code",
   "execution_count": null,
   "id": "f7229d95-f1cc-40f3-8e10-d0713e5cab32",
   "metadata": {},
   "outputs": [],
   "source": []
  }
 ],
 "metadata": {
  "kernelspec": {
   "display_name": "Python 3 (ipykernel)",
   "language": "python",
   "name": "python3"
  },
  "language_info": {
   "codemirror_mode": {
    "name": "ipython",
    "version": 3
   },
   "file_extension": ".py",
   "mimetype": "text/x-python",
   "name": "python",
   "nbconvert_exporter": "python",
   "pygments_lexer": "ipython3",
   "version": "3.8.10"
  }
 },
 "nbformat": 4,
 "nbformat_minor": 5
}
