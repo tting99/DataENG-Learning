{
 "cells": [
  {
   "cell_type": "code",
   "execution_count": 1,
   "id": "145e9bce",
   "metadata": {},
   "outputs": [],
   "source": [
    "from IPython.core.interactiveshell import InteractiveShell\n",
    "InteractiveShell.ast_node_interactivity = \"all\""
   ]
  },
  {
   "cell_type": "code",
   "execution_count": 2,
   "id": "b629dd36",
   "metadata": {},
   "outputs": [],
   "source": [
    "from datetime import date, datetime\n",
    "from pyspark.sql import *\n",
    "from pyspark.sql.types import *\n",
    "from pyspark.sql.functions import *\n",
    "from pyspark.sql import functions as F"
   ]
  },
  {
   "cell_type": "code",
   "execution_count": 3,
   "id": "669e772e",
   "metadata": {
    "scrolled": true
   },
   "outputs": [
    {
     "name": "stderr",
     "output_type": "stream",
     "text": [
      "                                                                                \r"
     ]
    },
    {
     "name": "stdout",
     "output_type": "stream",
     "text": [
      "root\n",
      " |-- class_cd: string (nullable = true)\n",
      " |-- school: string (nullable = true)\n",
      " |-- class_std_cnt: string (nullable = true)\n",
      " |-- loc: string (nullable = true)\n",
      " |-- school_type: string (nullable = true)\n",
      " |-- teaching_type: string (nullable = true)\n",
      "\n"
     ]
    },
    {
     "name": "stderr",
     "output_type": "stream",
     "text": [
      "[Stage 1:>                                                          (0 + 1) / 1]\r"
     ]
    },
    {
     "name": "stdout",
     "output_type": "stream",
     "text": [
      "+--------+------+-------------+--------+-----------+-------------+\n",
      "|class_cd|school|class_std_cnt|     loc|school_type|teaching_type|\n",
      "+--------+------+-------------+--------+-----------+-------------+\n",
      "|     6OL| ANKYI|           20|   Urban| Non-public|     Standard|\n",
      "|     ZNS| ANKYI|           21|   Urban| Non-public|     Standard|\n",
      "|     2B1| CCAAW|           18|Suburban| Non-public| Experimental|\n",
      "+--------+------+-------------+--------+-----------+-------------+\n",
      "only showing top 3 rows\n",
      "\n"
     ]
    },
    {
     "name": "stderr",
     "output_type": "stream",
     "text": [
      "                                                                                \r"
     ]
    }
   ],
   "source": [
    "cdf = spark.read.csv('/dataframe/a_class_info.csv', header=True)\n",
    "cdf.printSchema()\n",
    "cdf.show(3)"
   ]
  },
  {
   "cell_type": "markdown",
   "id": "226634b7",
   "metadata": {},
   "source": [
    "복잡한 연산도 해보자"
   ]
  },
  {
   "cell_type": "markdown",
   "id": "5f5128c8",
   "metadata": {},
   "source": [
    "#### case 1. 소속된 반의 개수가 2개 이상인 학교들 중 학생 숫자가 가장 적은 학교를 구해보자"
   ]
  },
  {
   "cell_type": "code",
   "execution_count": 1,
   "id": "1479d879",
   "metadata": {},
   "outputs": [],
   "source": [
    "#case 1. 소속된 반의 개수가 2개 이상인 학교들 중 학생 숫자가 가장 적은 학교를 구해보자\n",
    "\n"
   ]
  },
  {
   "cell_type": "code",
   "execution_count": 2,
   "id": "f62ed77f",
   "metadata": {},
   "outputs": [],
   "source": [
    "# from절 subquery : inline view\n",
    "\n"
   ]
  },
  {
   "cell_type": "markdown",
   "id": "f7de05cd",
   "metadata": {},
   "source": [
    "#### case2. 소속된 반의 개수가 2개 이상인 학교들 중 학생 숫자가 가장 적은 학교보다 학생이 많은 반의 데이터를 구하시오"
   ]
  },
  {
   "cell_type": "code",
   "execution_count": 3,
   "id": "123da354",
   "metadata": {
    "scrolled": true
   },
   "outputs": [],
   "source": [
    "# case2. 소속된 반의 개수가 2개 이상인 학교들 중 학생 숫자가 가장 적은 학교보다\n",
    "# 학생이 많은 반의 데이터를 구하시오\n",
    "\n"
   ]
  },
  {
   "cell_type": "code",
   "execution_count": 4,
   "id": "e4589343",
   "metadata": {},
   "outputs": [],
   "source": [
    "# where절 subquery \n",
    "\n"
   ]
  },
  {
   "cell_type": "markdown",
   "id": "f4b33695",
   "metadata": {},
   "source": [
    "#### case 3. 소속된 반의 개수가 3개 미만인 학교들 중 학생 숫자가 가장 많은 학교보다, <br> 학생 숫자가 더 적으면서 소속된 반의 개수가 3개 이상인 학교를 구하시오"
   ]
  },
  {
   "cell_type": "code",
   "execution_count": 5,
   "id": "1b70f6d5",
   "metadata": {},
   "outputs": [],
   "source": [
    "# 소속된 반의 개수가 3개 미만인 학교들 중 학생 숫자가 가장 많은 학교보다\n",
    "# 학생 숫자가 더 적으면서 소속된 반의 개수가 3개 이상인 학교를 구하시오\n",
    "\n"
   ]
  },
  {
   "cell_type": "markdown",
   "id": "a193f251",
   "metadata": {},
   "source": [
    "#### sql"
   ]
  },
  {
   "cell_type": "code",
   "execution_count": 6,
   "id": "6aed7c17",
   "metadata": {},
   "outputs": [],
   "source": [
    "# having절 subquery \n",
    "# 소속된 반의 개수가 3개 미만인 학교들 중 학생 숫자가 가장 많은 학교보다\n",
    "# 학생 숫자가 더 적으면서 소속된 반의 개수가 3개 이상인 학교를 구하시오\n",
    "\n"
   ]
  },
  {
   "cell_type": "markdown",
   "id": "0a38d169",
   "metadata": {},
   "source": [
    "#### case 4. 도시 지역의 공립학교에서 일반 교육을 진행하는 반의 평균 인원수보다, <br>더 많은 학생이 소속된 교외 지역의 사립학교에서 특수 교육을 진행하는 반을 구하시오\n",
    "\n",
    "- 도시 지역의 공립학교에서 일반 교육을 진행하는 반의 평균 인원수는 올림처리 합니다.\n"
   ]
  },
  {
   "cell_type": "code",
   "execution_count": 7,
   "id": "56d1b4cd",
   "metadata": {},
   "outputs": [],
   "source": [
    "# 도시 지역의 공립학교에서 일반 교육을 진행하는 반의 평균 인원수보다 \n",
    "# 더 많은 학생이 소속된 교외 지역의 사립학교에서 특수 교육을 진행하는 반을 구하시오\n",
    "\n",
    "# 도시 지역의 공립학교에서 일반 교육을 진행하는 반의 평균 인원수는 올림처리 합니다.\n",
    "\n"
   ]
  },
  {
   "cell_type": "markdown",
   "id": "abbfa28d",
   "metadata": {},
   "source": [
    "#### case 4 sql"
   ]
  },
  {
   "cell_type": "code",
   "execution_count": 8,
   "id": "538b5837",
   "metadata": {
    "scrolled": true
   },
   "outputs": [],
   "source": [
    "# 도시 지역의 공립학교에서 일반 교육을 진행하는 반의 평균 인원수보다 \n",
    "# 더 많은 학생이 소속된 교외 지역의 사립학교에서 특수 교육을 진행하는 반을 구하시오\n",
    "\n",
    "# 도시 지역의 공립학교에서 일반 교육을 진행하는 반의 평균 인원수는 올림처리 합니다.\n",
    "\n"
   ]
  },
  {
   "cell_type": "code",
   "execution_count": null,
   "id": "f7229d95-f1cc-40f3-8e10-d0713e5cab32",
   "metadata": {},
   "outputs": [],
   "source": []
  }
 ],
 "metadata": {
  "kernelspec": {
   "display_name": "Python 3 (ipykernel)",
   "language": "python",
   "name": "python3"
  },
  "language_info": {
   "codemirror_mode": {
    "name": "ipython",
    "version": 3
   },
   "file_extension": ".py",
   "mimetype": "text/x-python",
   "name": "python",
   "nbconvert_exporter": "python",
   "pygments_lexer": "ipython3",
   "version": "3.11.5"
  }
 },
 "nbformat": 4,
 "nbformat_minor": 5
}
