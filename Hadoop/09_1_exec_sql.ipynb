{
 "cells": [
  {
   "cell_type": "code",
   "execution_count": 1,
   "id": "9b5d5348-3b4e-4b7b-9e08-56b296306675",
   "metadata": {},
   "outputs": [],
   "source": [
    "stocks = [\n",
    "    ('Google', 'GOOGL', 'USA', 2984, 'USD'), \n",
    "    ('Netflix', 'NFLX', 'USA', 645, 'USD'),\n",
    "    ('Amazon', 'AMZN', 'USA', 3518, 'USD'),\n",
    "    ('Tesla', 'TSLA', 'USA', 1222, 'USD'),\n",
    "    ('Tencent', '0700', 'Hong Kong', 483, 'HKD'),\n",
    "    ('Toyota', '7203', 'Japan', 2006, 'JPY'),\n",
    "    ('Samsung', '005930', 'Korea', 70600, 'KRW'),\n",
    "    ('Kakao', '035720', 'Korea', 125000, 'KRW'),\n",
    "]\n",
    "stockSchema = [\"name\", \"ticker\", \"country\", \"price\", \"currency\"]\n",
    "df = spark.createDataFrame(data=stocks, schema=stockSchema)"
   ]
  },
  {
   "cell_type": "code",
   "execution_count": 2,
   "id": "9cf7f02b-7c9d-4f41-aafe-05fee1d87822",
   "metadata": {},
   "outputs": [
    {
     "name": "stderr",
     "output_type": "stream",
     "text": [
      "                                                                                \r"
     ]
    },
    {
     "name": "stdout",
     "output_type": "stream",
     "text": [
      "+-------+------+---------+------+--------+\n",
      "|   name|ticker|  country| price|currency|\n",
      "+-------+------+---------+------+--------+\n",
      "| Google| GOOGL|      USA|  2984|     USD|\n",
      "|Netflix|  NFLX|      USA|   645|     USD|\n",
      "| Amazon|  AMZN|      USA|  3518|     USD|\n",
      "|  Tesla|  TSLA|      USA|  1222|     USD|\n",
      "|Tencent|  0700|Hong Kong|   483|     HKD|\n",
      "| Toyota|  7203|    Japan|  2006|     JPY|\n",
      "|Samsung|005930|    Korea| 70600|     KRW|\n",
      "|  Kakao|035720|    Korea|125000|     KRW|\n",
      "+-------+------+---------+------+--------+\n",
      "\n"
     ]
    }
   ],
   "source": [
    "df.show()"
   ]
  },
  {
   "cell_type": "code",
   "execution_count": null,
   "id": "db0d7f21-279f-43b5-8161-7f2304af95d2",
   "metadata": {},
   "outputs": [],
   "source": [
    "# 1. df에서 name, ticker를 추출하시오"
   ]
  },
  {
   "cell_type": "code",
   "execution_count": 3,
   "id": "a2ac9b17-06a8-4c0a-bc06-7647395f8cb3",
   "metadata": {},
   "outputs": [
    {
     "name": "stdout",
     "output_type": "stream",
     "text": [
      "+-------+------+\n",
      "|   name|ticker|\n",
      "+-------+------+\n",
      "| Google| GOOGL|\n",
      "|Netflix|  NFLX|\n",
      "| Amazon|  AMZN|\n",
      "|  Tesla|  TSLA|\n",
      "|Tencent|  0700|\n",
      "| Toyota|  7203|\n",
      "|Samsung|005930|\n",
      "|  Kakao|035720|\n",
      "+-------+------+\n",
      "\n"
     ]
    }
   ],
   "source": []
  },
  {
   "cell_type": "code",
   "execution_count": null,
   "id": "30df5af5-4562-4ffc-8c63-7379984508ff",
   "metadata": {},
   "outputs": [],
   "source": [
    "# 2. df를 stocks 라는 view로 생성하시오"
   ]
  },
  {
   "cell_type": "code",
   "execution_count": 4,
   "id": "ddca07bd-7b18-4de3-b3ac-8c27473eaea0",
   "metadata": {},
   "outputs": [],
   "source": []
  },
  {
   "cell_type": "code",
   "execution_count": null,
   "id": "7d86ab06-823c-41ef-b887-3ebf7761158b",
   "metadata": {},
   "outputs": [],
   "source": [
    "# 3. view stocks를 사용하여 stocks view의 모든 컬럼을 추출하시오"
   ]
  },
  {
   "cell_type": "code",
   "execution_count": 5,
   "id": "308f3c41-c051-4057-b00b-75e8f6533b9a",
   "metadata": {},
   "outputs": [
    {
     "name": "stdout",
     "output_type": "stream",
     "text": [
      "+-------+------+---------+------+--------+\n",
      "|   name|ticker|  country| price|currency|\n",
      "+-------+------+---------+------+--------+\n",
      "| Google| GOOGL|      USA|  2984|     USD|\n",
      "|Netflix|  NFLX|      USA|   645|     USD|\n",
      "| Amazon|  AMZN|      USA|  3518|     USD|\n",
      "|  Tesla|  TSLA|      USA|  1222|     USD|\n",
      "|Tencent|  0700|Hong Kong|   483|     HKD|\n",
      "| Toyota|  7203|    Japan|  2006|     JPY|\n",
      "|Samsung|005930|    Korea| 70600|     KRW|\n",
      "|  Kakao|035720|    Korea|125000|     KRW|\n",
      "+-------+------+---------+------+--------+\n",
      "\n"
     ]
    }
   ],
   "source": []
  },
  {
   "cell_type": "code",
   "execution_count": null,
   "id": "6b991df1-ea4a-4b0b-a397-9dfe6a839234",
   "metadata": {},
   "outputs": [],
   "source": [
    "# 4. stocks view에서 country가 Korea인 data만 추출하시오"
   ]
  },
  {
   "cell_type": "code",
   "execution_count": 7,
   "id": "2f9ccb1d-53fe-4704-8149-cb6f5eba5767",
   "metadata": {},
   "outputs": [
    {
     "name": "stdout",
     "output_type": "stream",
     "text": [
      "+-------+------+-------+------+--------+\n",
      "|   name|ticker|country| price|currency|\n",
      "+-------+------+-------+------+--------+\n",
      "|Samsung|005930|  Korea| 70600|     KRW|\n",
      "|  Kakao|035720|  Korea|125000|     KRW|\n",
      "+-------+------+-------+------+--------+\n",
      "\n"
     ]
    }
   ],
   "source": []
  },
  {
   "cell_type": "code",
   "execution_count": null,
   "id": "e5114fdf-0648-4f06-9550-68e15dbcf62b",
   "metadata": {},
   "outputs": [],
   "source": [
    "# 5. df에서 country가 Korea인 data를 추출하시오"
   ]
  },
  {
   "cell_type": "code",
   "execution_count": 10,
   "id": "60c98e02-7899-4ef3-85f2-a74237976b39",
   "metadata": {},
   "outputs": [
    {
     "name": "stdout",
     "output_type": "stream",
     "text": [
      "+-------+------+-------+------+--------+\n",
      "|   name|ticker|country| price|currency|\n",
      "+-------+------+-------+------+--------+\n",
      "|Samsung|005930|  Korea| 70600|     KRW|\n",
      "|  Kakao|035720|  Korea|125000|     KRW|\n",
      "+-------+------+-------+------+--------+\n",
      "\n"
     ]
    }
   ],
   "source": []
  },
  {
   "cell_type": "code",
   "execution_count": null,
   "id": "94462fbb-0147-4844-8abf-1032b5cbd24c",
   "metadata": {},
   "outputs": [],
   "source": [
    "# 6. stocks view에서 price 갸 2000 초과하고 country가  USA인 데이터의 name과 price를 출력하시오"
   ]
  },
  {
   "cell_type": "code",
   "execution_count": 11,
   "id": "0ef56d25-0ea3-471e-a174-6786012e2d18",
   "metadata": {},
   "outputs": [
    {
     "name": "stdout",
     "output_type": "stream",
     "text": [
      "+------+-----+\n",
      "|  name|price|\n",
      "+------+-----+\n",
      "|Google| 2984|\n",
      "|Amazon| 3518|\n",
      "+------+-----+\n",
      "\n"
     ]
    }
   ],
   "source": []
  },
  {
   "cell_type": "code",
   "execution_count": 16,
   "id": "59a53c4a-e81b-41f2-a7ba-4d1e0642cddb",
   "metadata": {},
   "outputs": [
    {
     "name": "stdout",
     "output_type": "stream",
     "text": [
      "+------+-----+\n",
      "|  name|price|\n",
      "+------+-----+\n",
      "|Google| 2984|\n",
      "|Amazon| 3518|\n",
      "+------+-----+\n",
      "\n"
     ]
    }
   ],
   "source": [
    "# 7. df에서 price 가 2000 초과하고 country가  USA인 데이터의 name과 price를 출력하시오\n"
   ]
  },
  {
   "cell_type": "code",
   "execution_count": null,
   "id": "86ef499a-38a7-41e3-8898-4ac558a3b2bf",
   "metadata": {},
   "outputs": [],
   "source": [
    "# 8. sotocks view에서 country가 U로 시작하는 데이터의 name과 price를 추출하시오"
   ]
  },
  {
   "cell_type": "code",
   "execution_count": 21,
   "id": "d750a0d2-ec24-49c5-a947-8c93d5b3c0fd",
   "metadata": {},
   "outputs": [
    {
     "name": "stdout",
     "output_type": "stream",
     "text": [
      "+-------+-----+\n",
      "|   name|price|\n",
      "+-------+-----+\n",
      "| Google| 2984|\n",
      "|Netflix|  645|\n",
      "| Amazon| 3518|\n",
      "|  Tesla| 1222|\n",
      "+-------+-----+\n",
      "\n"
     ]
    }
   ],
   "source": []
  },
  {
   "cell_type": "code",
   "execution_count": null,
   "id": "4bd6bfd1-a74b-49d2-a296-5d6bf0e3023c",
   "metadata": {},
   "outputs": [],
   "source": [
    "# 9. df에서 country가 U로 시작하는 데이터의 name과 price를 추출하시오"
   ]
  },
  {
   "cell_type": "code",
   "execution_count": 23,
   "id": "0d4423a6-fcbc-41ec-ba0d-65285a23d8a4",
   "metadata": {},
   "outputs": [
    {
     "name": "stdout",
     "output_type": "stream",
     "text": [
      "+-------+-----+\n",
      "|   name|price|\n",
      "+-------+-----+\n",
      "| Google| 2984|\n",
      "|Netflix|  645|\n",
      "| Amazon| 3518|\n",
      "|  Tesla| 1222|\n",
      "+-------+-----+\n",
      "\n"
     ]
    }
   ],
   "source": []
  },
  {
   "cell_type": "code",
   "execution_count": 24,
   "id": "56cb2804-aebd-4b82-b621-31257af4b751",
   "metadata": {},
   "outputs": [
    {
     "name": "stdout",
     "output_type": "stream",
     "text": [
      "+-------+-----+\n",
      "|   name|price|\n",
      "+-------+-----+\n",
      "| Google| 2984|\n",
      "|Netflix|  645|\n",
      "| Amazon| 3518|\n",
      "|  Tesla| 1222|\n",
      "+-------+-----+\n",
      "\n"
     ]
    }
   ],
   "source": []
  },
  {
   "cell_type": "code",
   "execution_count": null,
   "id": "481abdd9-92a2-4f82-9616-b7cbe3802641",
   "metadata": {},
   "outputs": [],
   "source": [
    "# 10. stocks view에서 countr가 'U'로 시작하고 이름에 'e'가 포함되지 않은 데이터의 name과 price를 추출하시오."
   ]
  },
  {
   "cell_type": "code",
   "execution_count": 17,
   "id": "a673f5ae-7306-4bb7-abaa-fe55b0f65509",
   "metadata": {},
   "outputs": [
    {
     "name": "stdout",
     "output_type": "stream",
     "text": [
      "+------+-----+\n",
      "|  name|price|\n",
      "+------+-----+\n",
      "|Amazon| 3518|\n",
      "+------+-----+\n",
      "\n"
     ]
    }
   ],
   "source": []
  },
  {
   "cell_type": "code",
   "execution_count": null,
   "id": "6d5deabf-9589-46e8-ae63-ebf2dcb89b1d",
   "metadata": {},
   "outputs": [],
   "source": [
    "# 11. df에서 countr가 'U'로 시작하고 이름에 'e'가 포함되지 않은 데이터의 name과 price를 추출하시오."
   ]
  },
  {
   "cell_type": "code",
   "execution_count": 20,
   "id": "dec54625-5a52-4916-af61-127547271ada",
   "metadata": {},
   "outputs": [
    {
     "name": "stdout",
     "output_type": "stream",
     "text": [
      "+------+-----+\n",
      "|  name|price|\n",
      "+------+-----+\n",
      "|Amazon| 3518|\n",
      "+------+-----+\n",
      "\n"
     ]
    }
   ],
   "source": []
  },
  {
   "cell_type": "code",
   "execution_count": null,
   "id": "d1a5534e-b9c1-4fa7-a95b-8b3870802c74",
   "metadata": {},
   "outputs": [],
   "source": [
    "# 12. stocks view에서 price가 1000~10000인 데이터를 추출하시오"
   ]
  },
  {
   "cell_type": "code",
   "execution_count": 28,
   "id": "48dd443d-fc9f-4502-aaae-1dc4e92aad0d",
   "metadata": {},
   "outputs": [
    {
     "name": "stdout",
     "output_type": "stream",
     "text": [
      "+------+------+-------+-----+--------+\n",
      "|  name|ticker|country|price|currency|\n",
      "+------+------+-------+-----+--------+\n",
      "|Google| GOOGL|    USA| 2984|     USD|\n",
      "|Amazon|  AMZN|    USA| 3518|     USD|\n",
      "| Tesla|  TSLA|    USA| 1222|     USD|\n",
      "|Toyota|  7203|  Japan| 2006|     JPY|\n",
      "+------+------+-------+-----+--------+\n",
      "\n"
     ]
    }
   ],
   "source": []
  },
  {
   "cell_type": "code",
   "execution_count": null,
   "id": "81eb7d36-8332-431e-9321-6074bc85a1e2",
   "metadata": {},
   "outputs": [],
   "source": []
  }
 ],
 "metadata": {
  "kernelspec": {
   "display_name": "Python 3 (ipykernel)",
   "language": "python",
   "name": "python3"
  },
  "language_info": {
   "codemirror_mode": {
    "name": "ipython",
    "version": 3
   },
   "file_extension": ".py",
   "mimetype": "text/x-python",
   "name": "python",
   "nbconvert_exporter": "python",
   "pygments_lexer": "ipython3",
   "version": "3.11.5"
  }
 },
 "nbformat": 4,
 "nbformat_minor": 5
}
